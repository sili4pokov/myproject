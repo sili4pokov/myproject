{
 "cells": [
  {
   "cell_type": "markdown",
   "metadata": {},
   "source": [
    "#    Проект \"Определяющие успешность игры закономерности\""
   ]
  },
  {
   "cell_type": "markdown",
   "metadata": {},
   "source": [
    "# План\n",
    "1. Открыть файл с данными и изучить общую информацию.\n",
    "2. Предобработать данные.\n",
    "3. Провести исследовательский анализ данных.\n",
    "4. Составить портрет пользователя каждого региона.\n",
    "5. Проверить гипотезы.\n",
    "6. Общий вывод"
   ]
  },
  {
   "cell_type": "markdown",
   "metadata": {},
   "source": [
    "## Изучим общую информацию.\n"
   ]
  },
  {
   "cell_type": "code",
   "execution_count": 1,
   "metadata": {},
   "outputs": [],
   "source": [
    "import pandas as pd\n",
    "import matplotlib.pyplot as plt\n",
    "import numpy as np\n",
    "import seaborn as sns\n",
    "from scipy import stats as st    "
   ]
  },
  {
   "cell_type": "code",
   "execution_count": 2,
   "metadata": {},
   "outputs": [],
   "source": [
    "df = pd.read_csv('/datasets/games.csv')"
   ]
  },
  {
   "cell_type": "code",
   "execution_count": 3,
   "metadata": {},
   "outputs": [
    {
     "data": {
      "text/html": [
       "<div>\n",
       "<style scoped>\n",
       "    .dataframe tbody tr th:only-of-type {\n",
       "        vertical-align: middle;\n",
       "    }\n",
       "\n",
       "    .dataframe tbody tr th {\n",
       "        vertical-align: top;\n",
       "    }\n",
       "\n",
       "    .dataframe thead th {\n",
       "        text-align: right;\n",
       "    }\n",
       "</style>\n",
       "<table border=\"1\" class=\"dataframe\">\n",
       "  <thead>\n",
       "    <tr style=\"text-align: right;\">\n",
       "      <th></th>\n",
       "      <th>Name</th>\n",
       "      <th>Platform</th>\n",
       "      <th>Year_of_Release</th>\n",
       "      <th>Genre</th>\n",
       "      <th>NA_sales</th>\n",
       "      <th>EU_sales</th>\n",
       "      <th>JP_sales</th>\n",
       "      <th>Other_sales</th>\n",
       "      <th>Critic_Score</th>\n",
       "      <th>User_Score</th>\n",
       "      <th>Rating</th>\n",
       "    </tr>\n",
       "  </thead>\n",
       "  <tbody>\n",
       "    <tr>\n",
       "      <th>0</th>\n",
       "      <td>Wii Sports</td>\n",
       "      <td>Wii</td>\n",
       "      <td>2006.0</td>\n",
       "      <td>Sports</td>\n",
       "      <td>41.36</td>\n",
       "      <td>28.96</td>\n",
       "      <td>3.77</td>\n",
       "      <td>8.45</td>\n",
       "      <td>76.0</td>\n",
       "      <td>8</td>\n",
       "      <td>E</td>\n",
       "    </tr>\n",
       "    <tr>\n",
       "      <th>1</th>\n",
       "      <td>Super Mario Bros.</td>\n",
       "      <td>NES</td>\n",
       "      <td>1985.0</td>\n",
       "      <td>Platform</td>\n",
       "      <td>29.08</td>\n",
       "      <td>3.58</td>\n",
       "      <td>6.81</td>\n",
       "      <td>0.77</td>\n",
       "      <td>NaN</td>\n",
       "      <td>NaN</td>\n",
       "      <td>NaN</td>\n",
       "    </tr>\n",
       "    <tr>\n",
       "      <th>2</th>\n",
       "      <td>Mario Kart Wii</td>\n",
       "      <td>Wii</td>\n",
       "      <td>2008.0</td>\n",
       "      <td>Racing</td>\n",
       "      <td>15.68</td>\n",
       "      <td>12.76</td>\n",
       "      <td>3.79</td>\n",
       "      <td>3.29</td>\n",
       "      <td>82.0</td>\n",
       "      <td>8.3</td>\n",
       "      <td>E</td>\n",
       "    </tr>\n",
       "    <tr>\n",
       "      <th>3</th>\n",
       "      <td>Wii Sports Resort</td>\n",
       "      <td>Wii</td>\n",
       "      <td>2009.0</td>\n",
       "      <td>Sports</td>\n",
       "      <td>15.61</td>\n",
       "      <td>10.93</td>\n",
       "      <td>3.28</td>\n",
       "      <td>2.95</td>\n",
       "      <td>80.0</td>\n",
       "      <td>8</td>\n",
       "      <td>E</td>\n",
       "    </tr>\n",
       "    <tr>\n",
       "      <th>4</th>\n",
       "      <td>Pokemon Red/Pokemon Blue</td>\n",
       "      <td>GB</td>\n",
       "      <td>1996.0</td>\n",
       "      <td>Role-Playing</td>\n",
       "      <td>11.27</td>\n",
       "      <td>8.89</td>\n",
       "      <td>10.22</td>\n",
       "      <td>1.00</td>\n",
       "      <td>NaN</td>\n",
       "      <td>NaN</td>\n",
       "      <td>NaN</td>\n",
       "    </tr>\n",
       "  </tbody>\n",
       "</table>\n",
       "</div>"
      ],
      "text/plain": [
       "                       Name Platform  Year_of_Release         Genre  NA_sales  \\\n",
       "0                Wii Sports      Wii           2006.0        Sports     41.36   \n",
       "1         Super Mario Bros.      NES           1985.0      Platform     29.08   \n",
       "2            Mario Kart Wii      Wii           2008.0        Racing     15.68   \n",
       "3         Wii Sports Resort      Wii           2009.0        Sports     15.61   \n",
       "4  Pokemon Red/Pokemon Blue       GB           1996.0  Role-Playing     11.27   \n",
       "\n",
       "   EU_sales  JP_sales  Other_sales  Critic_Score User_Score Rating  \n",
       "0     28.96      3.77         8.45          76.0          8      E  \n",
       "1      3.58      6.81         0.77           NaN        NaN    NaN  \n",
       "2     12.76      3.79         3.29          82.0        8.3      E  \n",
       "3     10.93      3.28         2.95          80.0          8      E  \n",
       "4      8.89     10.22         1.00           NaN        NaN    NaN  "
      ]
     },
     "execution_count": 3,
     "metadata": {},
     "output_type": "execute_result"
    }
   ],
   "source": [
    "df.head()"
   ]
  },
  {
   "cell_type": "code",
   "execution_count": 4,
   "metadata": {},
   "outputs": [
    {
     "name": "stdout",
     "output_type": "stream",
     "text": [
      "<class 'pandas.core.frame.DataFrame'>\n",
      "RangeIndex: 16715 entries, 0 to 16714\n",
      "Data columns (total 11 columns):\n",
      " #   Column           Non-Null Count  Dtype  \n",
      "---  ------           --------------  -----  \n",
      " 0   Name             16713 non-null  object \n",
      " 1   Platform         16715 non-null  object \n",
      " 2   Year_of_Release  16446 non-null  float64\n",
      " 3   Genre            16713 non-null  object \n",
      " 4   NA_sales         16715 non-null  float64\n",
      " 5   EU_sales         16715 non-null  float64\n",
      " 6   JP_sales         16715 non-null  float64\n",
      " 7   Other_sales      16715 non-null  float64\n",
      " 8   Critic_Score     8137 non-null   float64\n",
      " 9   User_Score       10014 non-null  object \n",
      " 10  Rating           9949 non-null   object \n",
      "dtypes: float64(6), object(5)\n",
      "memory usage: 1.4+ MB\n"
     ]
    }
   ],
   "source": [
    "df.info()"
   ]
  },
  {
   "cell_type": "markdown",
   "metadata": {},
   "source": [
    "Столбец Year_of_Release нужно привести к типу int. User_Score привести к типу float. Critic_Score к int. \n",
    "Привести названия столбцов к  нижнему регистру.  \n",
    "Обработать пропуски"
   ]
  },
  {
   "cell_type": "markdown",
   "metadata": {},
   "source": [
    "## Предобработка"
   ]
  },
  {
   "cell_type": "code",
   "execution_count": 5,
   "metadata": {},
   "outputs": [],
   "source": [
    "df.columns = df.columns.str.lower()"
   ]
  },
  {
   "cell_type": "code",
   "execution_count": 6,
   "metadata": {},
   "outputs": [
    {
     "data": {
      "text/plain": [
       "Index(['name', 'platform', 'year_of_release', 'genre', 'na_sales', 'eu_sales',\n",
       "       'jp_sales', 'other_sales', 'critic_score', 'user_score', 'rating'],\n",
       "      dtype='object')"
      ]
     },
     "execution_count": 6,
     "metadata": {},
     "output_type": "execute_result"
    }
   ],
   "source": [
    "df.columns"
   ]
  },
  {
   "cell_type": "markdown",
   "metadata": {},
   "source": [
    "**Обработаем пропуски.**"
   ]
  },
  {
   "cell_type": "code",
   "execution_count": 7,
   "metadata": {},
   "outputs": [
    {
     "data": {
      "text/plain": [
       "name                  2\n",
       "platform              0\n",
       "year_of_release     269\n",
       "genre                 2\n",
       "na_sales              0\n",
       "eu_sales              0\n",
       "jp_sales              0\n",
       "other_sales           0\n",
       "critic_score       8578\n",
       "user_score         6701\n",
       "rating             6766\n",
       "dtype: int64"
      ]
     },
     "execution_count": 7,
     "metadata": {},
     "output_type": "execute_result"
    }
   ],
   "source": [
    "df.isna().sum()"
   ]
  },
  {
   "cell_type": "code",
   "execution_count": 8,
   "metadata": {},
   "outputs": [
    {
     "data": {
      "text/html": [
       "<div>\n",
       "<style scoped>\n",
       "    .dataframe tbody tr th:only-of-type {\n",
       "        vertical-align: middle;\n",
       "    }\n",
       "\n",
       "    .dataframe tbody tr th {\n",
       "        vertical-align: top;\n",
       "    }\n",
       "\n",
       "    .dataframe thead th {\n",
       "        text-align: right;\n",
       "    }\n",
       "</style>\n",
       "<table border=\"1\" class=\"dataframe\">\n",
       "  <thead>\n",
       "    <tr style=\"text-align: right;\">\n",
       "      <th></th>\n",
       "      <th>name</th>\n",
       "      <th>platform</th>\n",
       "      <th>year_of_release</th>\n",
       "      <th>genre</th>\n",
       "      <th>na_sales</th>\n",
       "      <th>eu_sales</th>\n",
       "      <th>jp_sales</th>\n",
       "      <th>other_sales</th>\n",
       "      <th>critic_score</th>\n",
       "      <th>user_score</th>\n",
       "      <th>rating</th>\n",
       "    </tr>\n",
       "  </thead>\n",
       "  <tbody>\n",
       "    <tr>\n",
       "      <th>659</th>\n",
       "      <td>NaN</td>\n",
       "      <td>GEN</td>\n",
       "      <td>1993.0</td>\n",
       "      <td>NaN</td>\n",
       "      <td>1.78</td>\n",
       "      <td>0.53</td>\n",
       "      <td>0.00</td>\n",
       "      <td>0.08</td>\n",
       "      <td>NaN</td>\n",
       "      <td>NaN</td>\n",
       "      <td>NaN</td>\n",
       "    </tr>\n",
       "    <tr>\n",
       "      <th>14244</th>\n",
       "      <td>NaN</td>\n",
       "      <td>GEN</td>\n",
       "      <td>1993.0</td>\n",
       "      <td>NaN</td>\n",
       "      <td>0.00</td>\n",
       "      <td>0.00</td>\n",
       "      <td>0.03</td>\n",
       "      <td>0.00</td>\n",
       "      <td>NaN</td>\n",
       "      <td>NaN</td>\n",
       "      <td>NaN</td>\n",
       "    </tr>\n",
       "  </tbody>\n",
       "</table>\n",
       "</div>"
      ],
      "text/plain": [
       "      name platform  year_of_release genre  na_sales  eu_sales  jp_sales  \\\n",
       "659    NaN      GEN           1993.0   NaN      1.78      0.53      0.00   \n",
       "14244  NaN      GEN           1993.0   NaN      0.00      0.00      0.03   \n",
       "\n",
       "       other_sales  critic_score user_score rating  \n",
       "659           0.08           NaN        NaN    NaN  \n",
       "14244         0.00           NaN        NaN    NaN  "
      ]
     },
     "execution_count": 8,
     "metadata": {},
     "output_type": "execute_result"
    }
   ],
   "source": [
    "df[df['name'].isna()]\n"
   ]
  },
  {
   "cell_type": "code",
   "execution_count": 9,
   "metadata": {},
   "outputs": [
    {
     "data": {
      "text/plain": [
       "0"
      ]
     },
     "execution_count": 9,
     "metadata": {},
     "output_type": "execute_result"
    }
   ],
   "source": [
    "# удалим две строки с множеством пропущенных значений\n",
    "df = df.dropna(subset=['name']).reset_index(drop=True)\n",
    "df['name'].isna().sum()"
   ]
  },
  {
   "cell_type": "code",
   "execution_count": 10,
   "metadata": {},
   "outputs": [
    {
     "data": {
      "text/html": [
       "<div>\n",
       "<style scoped>\n",
       "    .dataframe tbody tr th:only-of-type {\n",
       "        vertical-align: middle;\n",
       "    }\n",
       "\n",
       "    .dataframe tbody tr th {\n",
       "        vertical-align: top;\n",
       "    }\n",
       "\n",
       "    .dataframe thead th {\n",
       "        text-align: right;\n",
       "    }\n",
       "</style>\n",
       "<table border=\"1\" class=\"dataframe\">\n",
       "  <thead>\n",
       "    <tr style=\"text-align: right;\">\n",
       "      <th></th>\n",
       "      <th>name</th>\n",
       "      <th>platform</th>\n",
       "      <th>year_of_release</th>\n",
       "      <th>genre</th>\n",
       "      <th>na_sales</th>\n",
       "      <th>eu_sales</th>\n",
       "      <th>jp_sales</th>\n",
       "      <th>other_sales</th>\n",
       "      <th>critic_score</th>\n",
       "      <th>user_score</th>\n",
       "      <th>rating</th>\n",
       "    </tr>\n",
       "  </thead>\n",
       "  <tbody>\n",
       "    <tr>\n",
       "      <th>183</th>\n",
       "      <td>Madden NFL 2004</td>\n",
       "      <td>PS2</td>\n",
       "      <td>NaN</td>\n",
       "      <td>Sports</td>\n",
       "      <td>4.26</td>\n",
       "      <td>0.26</td>\n",
       "      <td>0.01</td>\n",
       "      <td>0.71</td>\n",
       "      <td>94.0</td>\n",
       "      <td>8.5</td>\n",
       "      <td>E</td>\n",
       "    </tr>\n",
       "    <tr>\n",
       "      <th>377</th>\n",
       "      <td>FIFA Soccer 2004</td>\n",
       "      <td>PS2</td>\n",
       "      <td>NaN</td>\n",
       "      <td>Sports</td>\n",
       "      <td>0.59</td>\n",
       "      <td>2.36</td>\n",
       "      <td>0.04</td>\n",
       "      <td>0.51</td>\n",
       "      <td>84.0</td>\n",
       "      <td>6.4</td>\n",
       "      <td>E</td>\n",
       "    </tr>\n",
       "    <tr>\n",
       "      <th>456</th>\n",
       "      <td>LEGO Batman: The Videogame</td>\n",
       "      <td>Wii</td>\n",
       "      <td>NaN</td>\n",
       "      <td>Action</td>\n",
       "      <td>1.80</td>\n",
       "      <td>0.97</td>\n",
       "      <td>0.00</td>\n",
       "      <td>0.29</td>\n",
       "      <td>74.0</td>\n",
       "      <td>7.9</td>\n",
       "      <td>E10+</td>\n",
       "    </tr>\n",
       "    <tr>\n",
       "      <th>475</th>\n",
       "      <td>wwe Smackdown vs. Raw 2006</td>\n",
       "      <td>PS2</td>\n",
       "      <td>NaN</td>\n",
       "      <td>Fighting</td>\n",
       "      <td>1.57</td>\n",
       "      <td>1.02</td>\n",
       "      <td>0.00</td>\n",
       "      <td>0.41</td>\n",
       "      <td>NaN</td>\n",
       "      <td>NaN</td>\n",
       "      <td>NaN</td>\n",
       "    </tr>\n",
       "    <tr>\n",
       "      <th>609</th>\n",
       "      <td>Space Invaders</td>\n",
       "      <td>2600</td>\n",
       "      <td>NaN</td>\n",
       "      <td>Shooter</td>\n",
       "      <td>2.36</td>\n",
       "      <td>0.14</td>\n",
       "      <td>0.00</td>\n",
       "      <td>0.03</td>\n",
       "      <td>NaN</td>\n",
       "      <td>NaN</td>\n",
       "      <td>NaN</td>\n",
       "    </tr>\n",
       "    <tr>\n",
       "      <th>...</th>\n",
       "      <td>...</td>\n",
       "      <td>...</td>\n",
       "      <td>...</td>\n",
       "      <td>...</td>\n",
       "      <td>...</td>\n",
       "      <td>...</td>\n",
       "      <td>...</td>\n",
       "      <td>...</td>\n",
       "      <td>...</td>\n",
       "      <td>...</td>\n",
       "      <td>...</td>\n",
       "    </tr>\n",
       "    <tr>\n",
       "      <th>16371</th>\n",
       "      <td>PDC World Championship Darts 2008</td>\n",
       "      <td>PSP</td>\n",
       "      <td>NaN</td>\n",
       "      <td>Sports</td>\n",
       "      <td>0.01</td>\n",
       "      <td>0.00</td>\n",
       "      <td>0.00</td>\n",
       "      <td>0.00</td>\n",
       "      <td>43.0</td>\n",
       "      <td>tbd</td>\n",
       "      <td>E10+</td>\n",
       "    </tr>\n",
       "    <tr>\n",
       "      <th>16403</th>\n",
       "      <td>Freaky Flyers</td>\n",
       "      <td>GC</td>\n",
       "      <td>NaN</td>\n",
       "      <td>Racing</td>\n",
       "      <td>0.01</td>\n",
       "      <td>0.00</td>\n",
       "      <td>0.00</td>\n",
       "      <td>0.00</td>\n",
       "      <td>69.0</td>\n",
       "      <td>6.5</td>\n",
       "      <td>T</td>\n",
       "    </tr>\n",
       "    <tr>\n",
       "      <th>16446</th>\n",
       "      <td>Inversion</td>\n",
       "      <td>PC</td>\n",
       "      <td>NaN</td>\n",
       "      <td>Shooter</td>\n",
       "      <td>0.01</td>\n",
       "      <td>0.00</td>\n",
       "      <td>0.00</td>\n",
       "      <td>0.00</td>\n",
       "      <td>59.0</td>\n",
       "      <td>6.7</td>\n",
       "      <td>M</td>\n",
       "    </tr>\n",
       "    <tr>\n",
       "      <th>16456</th>\n",
       "      <td>Hakuouki: Shinsengumi Kitan</td>\n",
       "      <td>PS3</td>\n",
       "      <td>NaN</td>\n",
       "      <td>Adventure</td>\n",
       "      <td>0.01</td>\n",
       "      <td>0.00</td>\n",
       "      <td>0.00</td>\n",
       "      <td>0.00</td>\n",
       "      <td>NaN</td>\n",
       "      <td>NaN</td>\n",
       "      <td>NaN</td>\n",
       "    </tr>\n",
       "    <tr>\n",
       "      <th>16520</th>\n",
       "      <td>Virtua Quest</td>\n",
       "      <td>GC</td>\n",
       "      <td>NaN</td>\n",
       "      <td>Role-Playing</td>\n",
       "      <td>0.01</td>\n",
       "      <td>0.00</td>\n",
       "      <td>0.00</td>\n",
       "      <td>0.00</td>\n",
       "      <td>55.0</td>\n",
       "      <td>5.5</td>\n",
       "      <td>T</td>\n",
       "    </tr>\n",
       "  </tbody>\n",
       "</table>\n",
       "<p>269 rows × 11 columns</p>\n",
       "</div>"
      ],
      "text/plain": [
       "                                    name platform  year_of_release  \\\n",
       "183                      Madden NFL 2004      PS2              NaN   \n",
       "377                     FIFA Soccer 2004      PS2              NaN   \n",
       "456           LEGO Batman: The Videogame      Wii              NaN   \n",
       "475           wwe Smackdown vs. Raw 2006      PS2              NaN   \n",
       "609                       Space Invaders     2600              NaN   \n",
       "...                                  ...      ...              ...   \n",
       "16371  PDC World Championship Darts 2008      PSP              NaN   \n",
       "16403                      Freaky Flyers       GC              NaN   \n",
       "16446                          Inversion       PC              NaN   \n",
       "16456        Hakuouki: Shinsengumi Kitan      PS3              NaN   \n",
       "16520                       Virtua Quest       GC              NaN   \n",
       "\n",
       "              genre  na_sales  eu_sales  jp_sales  other_sales  critic_score  \\\n",
       "183          Sports      4.26      0.26      0.01         0.71          94.0   \n",
       "377          Sports      0.59      2.36      0.04         0.51          84.0   \n",
       "456          Action      1.80      0.97      0.00         0.29          74.0   \n",
       "475        Fighting      1.57      1.02      0.00         0.41           NaN   \n",
       "609         Shooter      2.36      0.14      0.00         0.03           NaN   \n",
       "...             ...       ...       ...       ...          ...           ...   \n",
       "16371        Sports      0.01      0.00      0.00         0.00          43.0   \n",
       "16403        Racing      0.01      0.00      0.00         0.00          69.0   \n",
       "16446       Shooter      0.01      0.00      0.00         0.00          59.0   \n",
       "16456     Adventure      0.01      0.00      0.00         0.00           NaN   \n",
       "16520  Role-Playing      0.01      0.00      0.00         0.00          55.0   \n",
       "\n",
       "      user_score rating  \n",
       "183          8.5      E  \n",
       "377          6.4      E  \n",
       "456          7.9   E10+  \n",
       "475          NaN    NaN  \n",
       "609          NaN    NaN  \n",
       "...          ...    ...  \n",
       "16371        tbd   E10+  \n",
       "16403        6.5      T  \n",
       "16446        6.7      M  \n",
       "16456        NaN    NaN  \n",
       "16520        5.5      T  \n",
       "\n",
       "[269 rows x 11 columns]"
      ]
     },
     "execution_count": 10,
     "metadata": {},
     "output_type": "execute_result"
    }
   ],
   "source": [
    "df[df['year_of_release'].isna()]"
   ]
  },
  {
   "cell_type": "markdown",
   "metadata": {},
   "source": [
    "У некоторых игр в жанре sport/racing/fighting в названии есть год выпуска. Составим код, который заполнит пропуски исходя из названия."
   ]
  },
  {
   "cell_type": "code",
   "execution_count": 11,
   "metadata": {},
   "outputs": [],
   "source": [
    "def fill_year(row):\n",
    "    year = 0\n",
    "    last_word = ''\n",
    "    genre = row[3]\n",
    "    \n",
    "    # Поиск года в строке\n",
    "    for word in row[0].split():\n",
    "        if word.isdigit():\n",
    "            year = int(word)\n",
    "        last_word = word\n",
    "    \n",
    "    # Проверка жанра и условий\n",
    "    if genre in ('Sports', 'Racing', 'Fighting'):\n",
    "        if year > 2000 or last_word in ('2K6', '2K8'):\n",
    "            if genre == 'Sports':\n",
    "                year -= 1\n",
    "            if last_word == '2K6':\n",
    "                year = 2006\n",
    "            elif last_word == '2K8':\n",
    "                year = 2008\n",
    "            # Заполнение года, если значение NaN\n",
    "            if year < 2017 and pd.isna(row[2]):\n",
    "                row[2] = year\n",
    "    \n",
    "    return row\n",
    "df = df.apply(fill_year,axis=1)\n"
   ]
  },
  {
   "cell_type": "code",
   "execution_count": 12,
   "metadata": {},
   "outputs": [
    {
     "data": {
      "text/html": [
       "<div>\n",
       "<style scoped>\n",
       "    .dataframe tbody tr th:only-of-type {\n",
       "        vertical-align: middle;\n",
       "    }\n",
       "\n",
       "    .dataframe tbody tr th {\n",
       "        vertical-align: top;\n",
       "    }\n",
       "\n",
       "    .dataframe thead th {\n",
       "        text-align: right;\n",
       "    }\n",
       "</style>\n",
       "<table border=\"1\" class=\"dataframe\">\n",
       "  <thead>\n",
       "    <tr style=\"text-align: right;\">\n",
       "      <th></th>\n",
       "      <th>name</th>\n",
       "      <th>platform</th>\n",
       "      <th>year_of_release</th>\n",
       "      <th>genre</th>\n",
       "      <th>na_sales</th>\n",
       "      <th>eu_sales</th>\n",
       "      <th>jp_sales</th>\n",
       "      <th>other_sales</th>\n",
       "      <th>critic_score</th>\n",
       "      <th>user_score</th>\n",
       "      <th>rating</th>\n",
       "    </tr>\n",
       "  </thead>\n",
       "  <tbody>\n",
       "    <tr>\n",
       "      <th>456</th>\n",
       "      <td>LEGO Batman: The Videogame</td>\n",
       "      <td>Wii</td>\n",
       "      <td>NaN</td>\n",
       "      <td>Action</td>\n",
       "      <td>1.80</td>\n",
       "      <td>0.97</td>\n",
       "      <td>0.00</td>\n",
       "      <td>0.29</td>\n",
       "      <td>74.0</td>\n",
       "      <td>7.9</td>\n",
       "      <td>E10+</td>\n",
       "    </tr>\n",
       "    <tr>\n",
       "      <th>609</th>\n",
       "      <td>Space Invaders</td>\n",
       "      <td>2600</td>\n",
       "      <td>NaN</td>\n",
       "      <td>Shooter</td>\n",
       "      <td>2.36</td>\n",
       "      <td>0.14</td>\n",
       "      <td>0.00</td>\n",
       "      <td>0.03</td>\n",
       "      <td>NaN</td>\n",
       "      <td>NaN</td>\n",
       "      <td>NaN</td>\n",
       "    </tr>\n",
       "    <tr>\n",
       "      <th>627</th>\n",
       "      <td>Rock Band</td>\n",
       "      <td>X360</td>\n",
       "      <td>NaN</td>\n",
       "      <td>Misc</td>\n",
       "      <td>1.93</td>\n",
       "      <td>0.33</td>\n",
       "      <td>0.00</td>\n",
       "      <td>0.21</td>\n",
       "      <td>92.0</td>\n",
       "      <td>8.2</td>\n",
       "      <td>T</td>\n",
       "    </tr>\n",
       "    <tr>\n",
       "      <th>657</th>\n",
       "      <td>Frogger's Adventures: Temple of the Frog</td>\n",
       "      <td>GBA</td>\n",
       "      <td>NaN</td>\n",
       "      <td>Adventure</td>\n",
       "      <td>2.15</td>\n",
       "      <td>0.18</td>\n",
       "      <td>0.00</td>\n",
       "      <td>0.07</td>\n",
       "      <td>73.0</td>\n",
       "      <td>tbd</td>\n",
       "      <td>E</td>\n",
       "    </tr>\n",
       "    <tr>\n",
       "      <th>677</th>\n",
       "      <td>LEGO Indiana Jones: The Original Adventures</td>\n",
       "      <td>Wii</td>\n",
       "      <td>NaN</td>\n",
       "      <td>Action</td>\n",
       "      <td>1.51</td>\n",
       "      <td>0.61</td>\n",
       "      <td>0.00</td>\n",
       "      <td>0.21</td>\n",
       "      <td>78.0</td>\n",
       "      <td>6.6</td>\n",
       "      <td>E10+</td>\n",
       "    </tr>\n",
       "    <tr>\n",
       "      <th>...</th>\n",
       "      <td>...</td>\n",
       "      <td>...</td>\n",
       "      <td>...</td>\n",
       "      <td>...</td>\n",
       "      <td>...</td>\n",
       "      <td>...</td>\n",
       "      <td>...</td>\n",
       "      <td>...</td>\n",
       "      <td>...</td>\n",
       "      <td>...</td>\n",
       "      <td>...</td>\n",
       "    </tr>\n",
       "    <tr>\n",
       "      <th>16346</th>\n",
       "      <td>Agarest Senki: Re-appearance</td>\n",
       "      <td>PS3</td>\n",
       "      <td>NaN</td>\n",
       "      <td>Role-Playing</td>\n",
       "      <td>0.00</td>\n",
       "      <td>0.00</td>\n",
       "      <td>0.01</td>\n",
       "      <td>0.00</td>\n",
       "      <td>NaN</td>\n",
       "      <td>NaN</td>\n",
       "      <td>NaN</td>\n",
       "    </tr>\n",
       "    <tr>\n",
       "      <th>16403</th>\n",
       "      <td>Freaky Flyers</td>\n",
       "      <td>GC</td>\n",
       "      <td>NaN</td>\n",
       "      <td>Racing</td>\n",
       "      <td>0.01</td>\n",
       "      <td>0.00</td>\n",
       "      <td>0.00</td>\n",
       "      <td>0.00</td>\n",
       "      <td>69.0</td>\n",
       "      <td>6.5</td>\n",
       "      <td>T</td>\n",
       "    </tr>\n",
       "    <tr>\n",
       "      <th>16446</th>\n",
       "      <td>Inversion</td>\n",
       "      <td>PC</td>\n",
       "      <td>NaN</td>\n",
       "      <td>Shooter</td>\n",
       "      <td>0.01</td>\n",
       "      <td>0.00</td>\n",
       "      <td>0.00</td>\n",
       "      <td>0.00</td>\n",
       "      <td>59.0</td>\n",
       "      <td>6.7</td>\n",
       "      <td>M</td>\n",
       "    </tr>\n",
       "    <tr>\n",
       "      <th>16456</th>\n",
       "      <td>Hakuouki: Shinsengumi Kitan</td>\n",
       "      <td>PS3</td>\n",
       "      <td>NaN</td>\n",
       "      <td>Adventure</td>\n",
       "      <td>0.01</td>\n",
       "      <td>0.00</td>\n",
       "      <td>0.00</td>\n",
       "      <td>0.00</td>\n",
       "      <td>NaN</td>\n",
       "      <td>NaN</td>\n",
       "      <td>NaN</td>\n",
       "    </tr>\n",
       "    <tr>\n",
       "      <th>16520</th>\n",
       "      <td>Virtua Quest</td>\n",
       "      <td>GC</td>\n",
       "      <td>NaN</td>\n",
       "      <td>Role-Playing</td>\n",
       "      <td>0.01</td>\n",
       "      <td>0.00</td>\n",
       "      <td>0.00</td>\n",
       "      <td>0.00</td>\n",
       "      <td>55.0</td>\n",
       "      <td>5.5</td>\n",
       "      <td>T</td>\n",
       "    </tr>\n",
       "  </tbody>\n",
       "</table>\n",
       "<p>251 rows × 11 columns</p>\n",
       "</div>"
      ],
      "text/plain": [
       "                                              name platform  year_of_release  \\\n",
       "456                     LEGO Batman: The Videogame      Wii              NaN   \n",
       "609                                 Space Invaders     2600              NaN   \n",
       "627                                      Rock Band     X360              NaN   \n",
       "657       Frogger's Adventures: Temple of the Frog      GBA              NaN   \n",
       "677    LEGO Indiana Jones: The Original Adventures      Wii              NaN   \n",
       "...                                            ...      ...              ...   \n",
       "16346                 Agarest Senki: Re-appearance      PS3              NaN   \n",
       "16403                                Freaky Flyers       GC              NaN   \n",
       "16446                                    Inversion       PC              NaN   \n",
       "16456                  Hakuouki: Shinsengumi Kitan      PS3              NaN   \n",
       "16520                                 Virtua Quest       GC              NaN   \n",
       "\n",
       "              genre  na_sales  eu_sales  jp_sales  other_sales  critic_score  \\\n",
       "456          Action      1.80      0.97      0.00         0.29          74.0   \n",
       "609         Shooter      2.36      0.14      0.00         0.03           NaN   \n",
       "627            Misc      1.93      0.33      0.00         0.21          92.0   \n",
       "657       Adventure      2.15      0.18      0.00         0.07          73.0   \n",
       "677          Action      1.51      0.61      0.00         0.21          78.0   \n",
       "...             ...       ...       ...       ...          ...           ...   \n",
       "16346  Role-Playing      0.00      0.00      0.01         0.00           NaN   \n",
       "16403        Racing      0.01      0.00      0.00         0.00          69.0   \n",
       "16446       Shooter      0.01      0.00      0.00         0.00          59.0   \n",
       "16456     Adventure      0.01      0.00      0.00         0.00           NaN   \n",
       "16520  Role-Playing      0.01      0.00      0.00         0.00          55.0   \n",
       "\n",
       "      user_score rating  \n",
       "456          7.9   E10+  \n",
       "609          NaN    NaN  \n",
       "627          8.2      T  \n",
       "657          tbd      E  \n",
       "677          6.6   E10+  \n",
       "...          ...    ...  \n",
       "16346        NaN    NaN  \n",
       "16403        6.5      T  \n",
       "16446        6.7      M  \n",
       "16456        NaN    NaN  \n",
       "16520        5.5      T  \n",
       "\n",
       "[251 rows x 11 columns]"
      ]
     },
     "execution_count": 12,
     "metadata": {},
     "output_type": "execute_result"
    }
   ],
   "source": [
    "df[df['year_of_release'].isna()]"
   ]
  },
  {
   "cell_type": "code",
   "execution_count": 13,
   "metadata": {},
   "outputs": [
    {
     "data": {
      "text/plain": [
       "0"
      ]
     },
     "execution_count": 13,
     "metadata": {},
     "output_type": "execute_result"
    }
   ],
   "source": [
    "#удалось заполнить 18 строк, остальные может удалить\n",
    "df = df.dropna(subset=['year_of_release']).reset_index(drop=True)\n",
    "df['year_of_release'].isna().sum()"
   ]
  },
  {
   "cell_type": "code",
   "execution_count": 14,
   "metadata": {},
   "outputs": [
    {
     "data": {
      "text/html": [
       "<div>\n",
       "<style scoped>\n",
       "    .dataframe tbody tr th:only-of-type {\n",
       "        vertical-align: middle;\n",
       "    }\n",
       "\n",
       "    .dataframe tbody tr th {\n",
       "        vertical-align: top;\n",
       "    }\n",
       "\n",
       "    .dataframe thead th {\n",
       "        text-align: right;\n",
       "    }\n",
       "</style>\n",
       "<table border=\"1\" class=\"dataframe\">\n",
       "  <thead>\n",
       "    <tr style=\"text-align: right;\">\n",
       "      <th></th>\n",
       "      <th>name</th>\n",
       "      <th>platform</th>\n",
       "      <th>year_of_release</th>\n",
       "      <th>genre</th>\n",
       "      <th>na_sales</th>\n",
       "      <th>eu_sales</th>\n",
       "      <th>jp_sales</th>\n",
       "      <th>other_sales</th>\n",
       "      <th>critic_score</th>\n",
       "      <th>user_score</th>\n",
       "      <th>rating</th>\n",
       "    </tr>\n",
       "  </thead>\n",
       "  <tbody>\n",
       "    <tr>\n",
       "      <th>1</th>\n",
       "      <td>Super Mario Bros.</td>\n",
       "      <td>NES</td>\n",
       "      <td>1985.0</td>\n",
       "      <td>Platform</td>\n",
       "      <td>29.08</td>\n",
       "      <td>3.58</td>\n",
       "      <td>6.81</td>\n",
       "      <td>0.77</td>\n",
       "      <td>NaN</td>\n",
       "      <td>NaN</td>\n",
       "      <td>NaN</td>\n",
       "    </tr>\n",
       "    <tr>\n",
       "      <th>4</th>\n",
       "      <td>Pokemon Red/Pokemon Blue</td>\n",
       "      <td>GB</td>\n",
       "      <td>1996.0</td>\n",
       "      <td>Role-Playing</td>\n",
       "      <td>11.27</td>\n",
       "      <td>8.89</td>\n",
       "      <td>10.22</td>\n",
       "      <td>1.00</td>\n",
       "      <td>NaN</td>\n",
       "      <td>NaN</td>\n",
       "      <td>NaN</td>\n",
       "    </tr>\n",
       "    <tr>\n",
       "      <th>5</th>\n",
       "      <td>Tetris</td>\n",
       "      <td>GB</td>\n",
       "      <td>1989.0</td>\n",
       "      <td>Puzzle</td>\n",
       "      <td>23.20</td>\n",
       "      <td>2.26</td>\n",
       "      <td>4.22</td>\n",
       "      <td>0.58</td>\n",
       "      <td>NaN</td>\n",
       "      <td>NaN</td>\n",
       "      <td>NaN</td>\n",
       "    </tr>\n",
       "    <tr>\n",
       "      <th>9</th>\n",
       "      <td>Duck Hunt</td>\n",
       "      <td>NES</td>\n",
       "      <td>1984.0</td>\n",
       "      <td>Shooter</td>\n",
       "      <td>26.93</td>\n",
       "      <td>0.63</td>\n",
       "      <td>0.28</td>\n",
       "      <td>0.47</td>\n",
       "      <td>NaN</td>\n",
       "      <td>NaN</td>\n",
       "      <td>NaN</td>\n",
       "    </tr>\n",
       "    <tr>\n",
       "      <th>10</th>\n",
       "      <td>Nintendogs</td>\n",
       "      <td>DS</td>\n",
       "      <td>2005.0</td>\n",
       "      <td>Simulation</td>\n",
       "      <td>9.05</td>\n",
       "      <td>10.95</td>\n",
       "      <td>1.93</td>\n",
       "      <td>2.74</td>\n",
       "      <td>NaN</td>\n",
       "      <td>NaN</td>\n",
       "      <td>NaN</td>\n",
       "    </tr>\n",
       "    <tr>\n",
       "      <th>...</th>\n",
       "      <td>...</td>\n",
       "      <td>...</td>\n",
       "      <td>...</td>\n",
       "      <td>...</td>\n",
       "      <td>...</td>\n",
       "      <td>...</td>\n",
       "      <td>...</td>\n",
       "      <td>...</td>\n",
       "      <td>...</td>\n",
       "      <td>...</td>\n",
       "      <td>...</td>\n",
       "    </tr>\n",
       "    <tr>\n",
       "      <th>16457</th>\n",
       "      <td>Samurai Warriors: Sanada Maru</td>\n",
       "      <td>PS3</td>\n",
       "      <td>2016.0</td>\n",
       "      <td>Action</td>\n",
       "      <td>0.00</td>\n",
       "      <td>0.00</td>\n",
       "      <td>0.01</td>\n",
       "      <td>0.00</td>\n",
       "      <td>NaN</td>\n",
       "      <td>NaN</td>\n",
       "      <td>NaN</td>\n",
       "    </tr>\n",
       "    <tr>\n",
       "      <th>16458</th>\n",
       "      <td>LMA Manager 2007</td>\n",
       "      <td>X360</td>\n",
       "      <td>2006.0</td>\n",
       "      <td>Sports</td>\n",
       "      <td>0.00</td>\n",
       "      <td>0.01</td>\n",
       "      <td>0.00</td>\n",
       "      <td>0.00</td>\n",
       "      <td>NaN</td>\n",
       "      <td>NaN</td>\n",
       "      <td>NaN</td>\n",
       "    </tr>\n",
       "    <tr>\n",
       "      <th>16459</th>\n",
       "      <td>Haitaka no Psychedelica</td>\n",
       "      <td>PSV</td>\n",
       "      <td>2016.0</td>\n",
       "      <td>Adventure</td>\n",
       "      <td>0.00</td>\n",
       "      <td>0.00</td>\n",
       "      <td>0.01</td>\n",
       "      <td>0.00</td>\n",
       "      <td>NaN</td>\n",
       "      <td>NaN</td>\n",
       "      <td>NaN</td>\n",
       "    </tr>\n",
       "    <tr>\n",
       "      <th>16460</th>\n",
       "      <td>Spirits &amp; Spells</td>\n",
       "      <td>GBA</td>\n",
       "      <td>2003.0</td>\n",
       "      <td>Platform</td>\n",
       "      <td>0.01</td>\n",
       "      <td>0.00</td>\n",
       "      <td>0.00</td>\n",
       "      <td>0.00</td>\n",
       "      <td>NaN</td>\n",
       "      <td>NaN</td>\n",
       "      <td>NaN</td>\n",
       "    </tr>\n",
       "    <tr>\n",
       "      <th>16461</th>\n",
       "      <td>Winning Post 8 2016</td>\n",
       "      <td>PSV</td>\n",
       "      <td>2016.0</td>\n",
       "      <td>Simulation</td>\n",
       "      <td>0.00</td>\n",
       "      <td>0.00</td>\n",
       "      <td>0.01</td>\n",
       "      <td>0.00</td>\n",
       "      <td>NaN</td>\n",
       "      <td>NaN</td>\n",
       "      <td>NaN</td>\n",
       "    </tr>\n",
       "  </tbody>\n",
       "</table>\n",
       "<p>8465 rows × 11 columns</p>\n",
       "</div>"
      ],
      "text/plain": [
       "                                name platform  year_of_release         genre  \\\n",
       "1                  Super Mario Bros.      NES           1985.0      Platform   \n",
       "4           Pokemon Red/Pokemon Blue       GB           1996.0  Role-Playing   \n",
       "5                             Tetris       GB           1989.0        Puzzle   \n",
       "9                          Duck Hunt      NES           1984.0       Shooter   \n",
       "10                        Nintendogs       DS           2005.0    Simulation   \n",
       "...                              ...      ...              ...           ...   \n",
       "16457  Samurai Warriors: Sanada Maru      PS3           2016.0        Action   \n",
       "16458               LMA Manager 2007     X360           2006.0        Sports   \n",
       "16459        Haitaka no Psychedelica      PSV           2016.0     Adventure   \n",
       "16460               Spirits & Spells      GBA           2003.0      Platform   \n",
       "16461            Winning Post 8 2016      PSV           2016.0    Simulation   \n",
       "\n",
       "       na_sales  eu_sales  jp_sales  other_sales  critic_score user_score  \\\n",
       "1         29.08      3.58      6.81         0.77           NaN        NaN   \n",
       "4         11.27      8.89     10.22         1.00           NaN        NaN   \n",
       "5         23.20      2.26      4.22         0.58           NaN        NaN   \n",
       "9         26.93      0.63      0.28         0.47           NaN        NaN   \n",
       "10         9.05     10.95      1.93         2.74           NaN        NaN   \n",
       "...         ...       ...       ...          ...           ...        ...   \n",
       "16457      0.00      0.00      0.01         0.00           NaN        NaN   \n",
       "16458      0.00      0.01      0.00         0.00           NaN        NaN   \n",
       "16459      0.00      0.00      0.01         0.00           NaN        NaN   \n",
       "16460      0.01      0.00      0.00         0.00           NaN        NaN   \n",
       "16461      0.00      0.00      0.01         0.00           NaN        NaN   \n",
       "\n",
       "      rating  \n",
       "1        NaN  \n",
       "4        NaN  \n",
       "5        NaN  \n",
       "9        NaN  \n",
       "10       NaN  \n",
       "...      ...  \n",
       "16457    NaN  \n",
       "16458    NaN  \n",
       "16459    NaN  \n",
       "16460    NaN  \n",
       "16461    NaN  \n",
       "\n",
       "[8465 rows x 11 columns]"
      ]
     },
     "execution_count": 14,
     "metadata": {},
     "output_type": "execute_result"
    }
   ],
   "source": [
    "df[df['critic_score'].isna()]"
   ]
  },
  {
   "cell_type": "markdown",
   "metadata": {},
   "source": [
    "Пропуски в столбцах 'crilic_score' & 'user_score' это субъективное мнение об игре, нельзя заполнить медианой или средним значением.  \n",
    "Можно предположить, что пропуски появились из-за некорректной выгрузки данных.  \n",
    "Тяжело оценить возрастной рейтинг игры(rating) исходя из названия и жанра. Оставим пропуски."
   ]
  },
  {
   "cell_type": "markdown",
   "metadata": {},
   "source": [
    "**Изменим тип данных.**"
   ]
  },
  {
   "cell_type": "code",
   "execution_count": 15,
   "metadata": {},
   "outputs": [],
   "source": [
    "df['year_of_release'] = pd.to_numeric(df['year_of_release'],downcast='integer') # год выпуска это целое число\n",
    "df['user_score'] = df['user_score'].replace('tbd', np.NaN)\n",
    "df['user_score'] = pd.to_numeric(df['user_score'], downcast='float', errors ='coerce')# оценка пользователей этой число\n",
    "df['user_score'] = df['user_score'].round(1)\n",
    "df['critic_score'] = np.floor(pd.to_numeric(df['critic_score'], errors='coerce')).astype('Int64')# оценка критиков это целое число"
   ]
  },
  {
   "cell_type": "markdown",
   "metadata": {},
   "source": [
    "Значение 'tbd' означает, что сейчас идет оценивание и по факту оценки нет, поэтому все \"tbd\" можно заменить на NaN."
   ]
  },
  {
   "cell_type": "code",
   "execution_count": 16,
   "metadata": {},
   "outputs": [
    {
     "data": {
      "text/plain": [
       "name                object\n",
       "platform            object\n",
       "year_of_release      int16\n",
       "genre               object\n",
       "na_sales           float64\n",
       "eu_sales           float64\n",
       "jp_sales           float64\n",
       "other_sales        float64\n",
       "critic_score         Int64\n",
       "user_score         float32\n",
       "rating              object\n",
       "dtype: object"
      ]
     },
     "execution_count": 16,
     "metadata": {},
     "output_type": "execute_result"
    }
   ],
   "source": [
    "df.dtypes\n"
   ]
  },
  {
   "cell_type": "markdown",
   "metadata": {},
   "source": [
    "Добавим столбец суммарные продажи во всех регионах"
   ]
  },
  {
   "cell_type": "code",
   "execution_count": 17,
   "metadata": {},
   "outputs": [
    {
     "data": {
      "text/html": [
       "<div>\n",
       "<style scoped>\n",
       "    .dataframe tbody tr th:only-of-type {\n",
       "        vertical-align: middle;\n",
       "    }\n",
       "\n",
       "    .dataframe tbody tr th {\n",
       "        vertical-align: top;\n",
       "    }\n",
       "\n",
       "    .dataframe thead th {\n",
       "        text-align: right;\n",
       "    }\n",
       "</style>\n",
       "<table border=\"1\" class=\"dataframe\">\n",
       "  <thead>\n",
       "    <tr style=\"text-align: right;\">\n",
       "      <th></th>\n",
       "      <th>name</th>\n",
       "      <th>platform</th>\n",
       "      <th>year_of_release</th>\n",
       "      <th>genre</th>\n",
       "      <th>na_sales</th>\n",
       "      <th>eu_sales</th>\n",
       "      <th>jp_sales</th>\n",
       "      <th>other_sales</th>\n",
       "      <th>critic_score</th>\n",
       "      <th>user_score</th>\n",
       "      <th>rating</th>\n",
       "      <th>total_sales</th>\n",
       "    </tr>\n",
       "  </thead>\n",
       "  <tbody>\n",
       "    <tr>\n",
       "      <th>0</th>\n",
       "      <td>Wii Sports</td>\n",
       "      <td>Wii</td>\n",
       "      <td>2006</td>\n",
       "      <td>Sports</td>\n",
       "      <td>41.36</td>\n",
       "      <td>28.96</td>\n",
       "      <td>3.77</td>\n",
       "      <td>8.45</td>\n",
       "      <td>76</td>\n",
       "      <td>8.0</td>\n",
       "      <td>E</td>\n",
       "      <td>82.54</td>\n",
       "    </tr>\n",
       "    <tr>\n",
       "      <th>1</th>\n",
       "      <td>Super Mario Bros.</td>\n",
       "      <td>NES</td>\n",
       "      <td>1985</td>\n",
       "      <td>Platform</td>\n",
       "      <td>29.08</td>\n",
       "      <td>3.58</td>\n",
       "      <td>6.81</td>\n",
       "      <td>0.77</td>\n",
       "      <td>&lt;NA&gt;</td>\n",
       "      <td>NaN</td>\n",
       "      <td>NaN</td>\n",
       "      <td>40.24</td>\n",
       "    </tr>\n",
       "    <tr>\n",
       "      <th>2</th>\n",
       "      <td>Mario Kart Wii</td>\n",
       "      <td>Wii</td>\n",
       "      <td>2008</td>\n",
       "      <td>Racing</td>\n",
       "      <td>15.68</td>\n",
       "      <td>12.76</td>\n",
       "      <td>3.79</td>\n",
       "      <td>3.29</td>\n",
       "      <td>82</td>\n",
       "      <td>8.3</td>\n",
       "      <td>E</td>\n",
       "      <td>35.52</td>\n",
       "    </tr>\n",
       "    <tr>\n",
       "      <th>3</th>\n",
       "      <td>Wii Sports Resort</td>\n",
       "      <td>Wii</td>\n",
       "      <td>2009</td>\n",
       "      <td>Sports</td>\n",
       "      <td>15.61</td>\n",
       "      <td>10.93</td>\n",
       "      <td>3.28</td>\n",
       "      <td>2.95</td>\n",
       "      <td>80</td>\n",
       "      <td>8.0</td>\n",
       "      <td>E</td>\n",
       "      <td>32.77</td>\n",
       "    </tr>\n",
       "    <tr>\n",
       "      <th>4</th>\n",
       "      <td>Pokemon Red/Pokemon Blue</td>\n",
       "      <td>GB</td>\n",
       "      <td>1996</td>\n",
       "      <td>Role-Playing</td>\n",
       "      <td>11.27</td>\n",
       "      <td>8.89</td>\n",
       "      <td>10.22</td>\n",
       "      <td>1.00</td>\n",
       "      <td>&lt;NA&gt;</td>\n",
       "      <td>NaN</td>\n",
       "      <td>NaN</td>\n",
       "      <td>31.38</td>\n",
       "    </tr>\n",
       "  </tbody>\n",
       "</table>\n",
       "</div>"
      ],
      "text/plain": [
       "                       name platform  year_of_release         genre  na_sales  \\\n",
       "0                Wii Sports      Wii             2006        Sports     41.36   \n",
       "1         Super Mario Bros.      NES             1985      Platform     29.08   \n",
       "2            Mario Kart Wii      Wii             2008        Racing     15.68   \n",
       "3         Wii Sports Resort      Wii             2009        Sports     15.61   \n",
       "4  Pokemon Red/Pokemon Blue       GB             1996  Role-Playing     11.27   \n",
       "\n",
       "   eu_sales  jp_sales  other_sales  critic_score  user_score rating  \\\n",
       "0     28.96      3.77         8.45            76         8.0      E   \n",
       "1      3.58      6.81         0.77          <NA>         NaN    NaN   \n",
       "2     12.76      3.79         3.29            82         8.3      E   \n",
       "3     10.93      3.28         2.95            80         8.0      E   \n",
       "4      8.89     10.22         1.00          <NA>         NaN    NaN   \n",
       "\n",
       "   total_sales  \n",
       "0        82.54  \n",
       "1        40.24  \n",
       "2        35.52  \n",
       "3        32.77  \n",
       "4        31.38  "
      ]
     },
     "execution_count": 17,
     "metadata": {},
     "output_type": "execute_result"
    }
   ],
   "source": [
    "df['total_sales'] = df.loc[:,['na_sales','eu_sales', 'jp_sales', 'other_sales']].sum(axis=1)\n",
    "df.head()"
   ]
  },
  {
   "cell_type": "markdown",
   "metadata": {},
   "source": [
    "**Промежуточный вывод:**  \n",
    "- Привели названия столбцов к нижнему регистру\n",
    "- Восстановлены пропуски в строках\n",
    "- Удалены пустые строки\n",
    "- Добавили столбец суммарных продаж"
   ]
  },
  {
   "cell_type": "markdown",
   "metadata": {},
   "source": [
    "## Исследовательский анализ"
   ]
  },
  {
   "cell_type": "markdown",
   "metadata": {},
   "source": [
    "### *Cколько игр выпускалось в разные годы. Важны ли данные за все периоды?*"
   ]
  },
  {
   "cell_type": "code",
   "execution_count": 18,
   "metadata": {},
   "outputs": [
    {
     "data": {
      "text/html": [
       "<div>\n",
       "<style scoped>\n",
       "    .dataframe tbody tr th:only-of-type {\n",
       "        vertical-align: middle;\n",
       "    }\n",
       "\n",
       "    .dataframe tbody tr th {\n",
       "        vertical-align: top;\n",
       "    }\n",
       "\n",
       "    .dataframe thead th {\n",
       "        text-align: right;\n",
       "    }\n",
       "</style>\n",
       "<table border=\"1\" class=\"dataframe\">\n",
       "  <thead>\n",
       "    <tr style=\"text-align: right;\">\n",
       "      <th></th>\n",
       "      <th>games_count</th>\n",
       "    </tr>\n",
       "    <tr>\n",
       "      <th>year_of_release</th>\n",
       "      <th></th>\n",
       "    </tr>\n",
       "  </thead>\n",
       "  <tbody>\n",
       "    <tr>\n",
       "      <th>1980</th>\n",
       "      <td>9</td>\n",
       "    </tr>\n",
       "    <tr>\n",
       "      <th>1981</th>\n",
       "      <td>46</td>\n",
       "    </tr>\n",
       "    <tr>\n",
       "      <th>1982</th>\n",
       "      <td>36</td>\n",
       "    </tr>\n",
       "    <tr>\n",
       "      <th>1983</th>\n",
       "      <td>17</td>\n",
       "    </tr>\n",
       "    <tr>\n",
       "      <th>1984</th>\n",
       "      <td>14</td>\n",
       "    </tr>\n",
       "    <tr>\n",
       "      <th>1985</th>\n",
       "      <td>14</td>\n",
       "    </tr>\n",
       "    <tr>\n",
       "      <th>1986</th>\n",
       "      <td>21</td>\n",
       "    </tr>\n",
       "    <tr>\n",
       "      <th>1987</th>\n",
       "      <td>16</td>\n",
       "    </tr>\n",
       "    <tr>\n",
       "      <th>1988</th>\n",
       "      <td>15</td>\n",
       "    </tr>\n",
       "    <tr>\n",
       "      <th>1989</th>\n",
       "      <td>17</td>\n",
       "    </tr>\n",
       "    <tr>\n",
       "      <th>1990</th>\n",
       "      <td>16</td>\n",
       "    </tr>\n",
       "    <tr>\n",
       "      <th>1991</th>\n",
       "      <td>41</td>\n",
       "    </tr>\n",
       "    <tr>\n",
       "      <th>1992</th>\n",
       "      <td>43</td>\n",
       "    </tr>\n",
       "    <tr>\n",
       "      <th>1993</th>\n",
       "      <td>60</td>\n",
       "    </tr>\n",
       "    <tr>\n",
       "      <th>1994</th>\n",
       "      <td>121</td>\n",
       "    </tr>\n",
       "    <tr>\n",
       "      <th>1995</th>\n",
       "      <td>219</td>\n",
       "    </tr>\n",
       "    <tr>\n",
       "      <th>1996</th>\n",
       "      <td>263</td>\n",
       "    </tr>\n",
       "    <tr>\n",
       "      <th>1997</th>\n",
       "      <td>289</td>\n",
       "    </tr>\n",
       "    <tr>\n",
       "      <th>1998</th>\n",
       "      <td>379</td>\n",
       "    </tr>\n",
       "    <tr>\n",
       "      <th>1999</th>\n",
       "      <td>338</td>\n",
       "    </tr>\n",
       "    <tr>\n",
       "      <th>2000</th>\n",
       "      <td>350</td>\n",
       "    </tr>\n",
       "    <tr>\n",
       "      <th>2001</th>\n",
       "      <td>483</td>\n",
       "    </tr>\n",
       "    <tr>\n",
       "      <th>2002</th>\n",
       "      <td>832</td>\n",
       "    </tr>\n",
       "    <tr>\n",
       "      <th>2003</th>\n",
       "      <td>778</td>\n",
       "    </tr>\n",
       "    <tr>\n",
       "      <th>2004</th>\n",
       "      <td>764</td>\n",
       "    </tr>\n",
       "    <tr>\n",
       "      <th>2005</th>\n",
       "      <td>939</td>\n",
       "    </tr>\n",
       "    <tr>\n",
       "      <th>2006</th>\n",
       "      <td>1011</td>\n",
       "    </tr>\n",
       "    <tr>\n",
       "      <th>2007</th>\n",
       "      <td>1199</td>\n",
       "    </tr>\n",
       "    <tr>\n",
       "      <th>2008</th>\n",
       "      <td>1428</td>\n",
       "    </tr>\n",
       "    <tr>\n",
       "      <th>2009</th>\n",
       "      <td>1426</td>\n",
       "    </tr>\n",
       "    <tr>\n",
       "      <th>2010</th>\n",
       "      <td>1255</td>\n",
       "    </tr>\n",
       "    <tr>\n",
       "      <th>2011</th>\n",
       "      <td>1137</td>\n",
       "    </tr>\n",
       "    <tr>\n",
       "      <th>2012</th>\n",
       "      <td>653</td>\n",
       "    </tr>\n",
       "    <tr>\n",
       "      <th>2013</th>\n",
       "      <td>544</td>\n",
       "    </tr>\n",
       "    <tr>\n",
       "      <th>2014</th>\n",
       "      <td>581</td>\n",
       "    </tr>\n",
       "    <tr>\n",
       "      <th>2015</th>\n",
       "      <td>606</td>\n",
       "    </tr>\n",
       "    <tr>\n",
       "      <th>2016</th>\n",
       "      <td>502</td>\n",
       "    </tr>\n",
       "  </tbody>\n",
       "</table>\n",
       "</div>"
      ],
      "text/plain": [
       "                 games_count\n",
       "year_of_release             \n",
       "1980                       9\n",
       "1981                      46\n",
       "1982                      36\n",
       "1983                      17\n",
       "1984                      14\n",
       "1985                      14\n",
       "1986                      21\n",
       "1987                      16\n",
       "1988                      15\n",
       "1989                      17\n",
       "1990                      16\n",
       "1991                      41\n",
       "1992                      43\n",
       "1993                      60\n",
       "1994                     121\n",
       "1995                     219\n",
       "1996                     263\n",
       "1997                     289\n",
       "1998                     379\n",
       "1999                     338\n",
       "2000                     350\n",
       "2001                     483\n",
       "2002                     832\n",
       "2003                     778\n",
       "2004                     764\n",
       "2005                     939\n",
       "2006                    1011\n",
       "2007                    1199\n",
       "2008                    1428\n",
       "2009                    1426\n",
       "2010                    1255\n",
       "2011                    1137\n",
       "2012                     653\n",
       "2013                     544\n",
       "2014                     581\n",
       "2015                     606\n",
       "2016                     502"
      ]
     },
     "execution_count": 18,
     "metadata": {},
     "output_type": "execute_result"
    }
   ],
   "source": [
    "year_pivot = pd.pivot_table(df, index='year_of_release', values='name', aggfunc='count')\n",
    "year_pivot.columns = ['games_count']\n",
    "year_pivot"
   ]
  },
  {
   "cell_type": "code",
   "execution_count": 19,
   "metadata": {},
   "outputs": [
    {
     "data": {
      "image/png": "[encoded data removed]",
      "text/plain": [
       "<Figure size 720x432 with 1 Axes>"
      ]
     },
     "metadata": {
      "needs_background": "light"
     },
     "output_type": "display_data"
    }
   ],
   "source": [
    "plt.figure(figsize=(10,6))\n",
    "plt.plot(year_pivot.index, year_pivot['games_count'], marker='o')\n",
    "plt.title('Количество выпущенных игр по годам')\n",
    "plt.xlabel('Год выпуска')\n",
    "plt.ylabel('Количество игр')\n",
    "plt.grid(True)\n",
    "plt.show()"
   ]
  },
  {
   "cell_type": "markdown",
   "metadata": {},
   "source": [
    "Данные с 1980г. по 1994г не так важны.  \n",
    "В 2002г выпустили много игр. Рост числа выпуска игр приходится на 1995 год, с максимумом примерно в 2008 году после чего прослеживается спад.   \n",
    "С 2012 года объем выпуска игр стабилизировался и год от года отличается несильно."
   ]
  },
  {
   "cell_type": "markdown",
   "metadata": {},
   "source": [
    "### Как менялись продажи по платформам. Определить платформы с наибольшими суммарными продажами и построить распределение по годам. За какой характерный срок появляются новые и исчезают старые платформы?"
   ]
  },
  {
   "cell_type": "code",
   "execution_count": 20,
   "metadata": {},
   "outputs": [
    {
     "data": {
      "text/html": [
       "<div>\n",
       "<style scoped>\n",
       "    .dataframe tbody tr th:only-of-type {\n",
       "        vertical-align: middle;\n",
       "    }\n",
       "\n",
       "    .dataframe tbody tr th {\n",
       "        vertical-align: top;\n",
       "    }\n",
       "\n",
       "    .dataframe thead th {\n",
       "        text-align: right;\n",
       "    }\n",
       "</style>\n",
       "<table border=\"1\" class=\"dataframe\">\n",
       "  <thead>\n",
       "    <tr style=\"text-align: right;\">\n",
       "      <th></th>\n",
       "      <th>total_sales</th>\n",
       "    </tr>\n",
       "    <tr>\n",
       "      <th>platform</th>\n",
       "      <th></th>\n",
       "    </tr>\n",
       "  </thead>\n",
       "  <tbody>\n",
       "    <tr>\n",
       "      <th>PS2</th>\n",
       "      <td>1247.53</td>\n",
       "    </tr>\n",
       "    <tr>\n",
       "      <th>X360</th>\n",
       "      <td>961.30</td>\n",
       "    </tr>\n",
       "    <tr>\n",
       "      <th>PS3</th>\n",
       "      <td>931.34</td>\n",
       "    </tr>\n",
       "    <tr>\n",
       "      <th>Wii</th>\n",
       "      <td>891.18</td>\n",
       "    </tr>\n",
       "    <tr>\n",
       "      <th>DS</th>\n",
       "      <td>802.79</td>\n",
       "    </tr>\n",
       "    <tr>\n",
       "      <th>PS</th>\n",
       "      <td>727.58</td>\n",
       "    </tr>\n",
       "    <tr>\n",
       "      <th>PS4</th>\n",
       "      <td>314.14</td>\n",
       "    </tr>\n",
       "    <tr>\n",
       "      <th>GBA</th>\n",
       "      <td>312.88</td>\n",
       "    </tr>\n",
       "    <tr>\n",
       "      <th>PSP</th>\n",
       "      <td>289.69</td>\n",
       "    </tr>\n",
       "    <tr>\n",
       "      <th>3DS</th>\n",
       "      <td>257.81</td>\n",
       "    </tr>\n",
       "    <tr>\n",
       "      <th>PC</th>\n",
       "      <td>255.76</td>\n",
       "    </tr>\n",
       "    <tr>\n",
       "      <th>GB</th>\n",
       "      <td>254.43</td>\n",
       "    </tr>\n",
       "    <tr>\n",
       "      <th>XB</th>\n",
       "      <td>252.66</td>\n",
       "    </tr>\n",
       "    <tr>\n",
       "      <th>NES</th>\n",
       "      <td>251.05</td>\n",
       "    </tr>\n",
       "    <tr>\n",
       "      <th>N64</th>\n",
       "      <td>218.01</td>\n",
       "    </tr>\n",
       "    <tr>\n",
       "      <th>SNES</th>\n",
       "      <td>200.04</td>\n",
       "    </tr>\n",
       "    <tr>\n",
       "      <th>GC</th>\n",
       "      <td>197.03</td>\n",
       "    </tr>\n",
       "    <tr>\n",
       "      <th>XOne</th>\n",
       "      <td>159.32</td>\n",
       "    </tr>\n",
       "    <tr>\n",
       "      <th>2600</th>\n",
       "      <td>86.48</td>\n",
       "    </tr>\n",
       "    <tr>\n",
       "      <th>WiiU</th>\n",
       "      <td>82.19</td>\n",
       "    </tr>\n",
       "    <tr>\n",
       "      <th>PSV</th>\n",
       "      <td>53.81</td>\n",
       "    </tr>\n",
       "    <tr>\n",
       "      <th>SAT</th>\n",
       "      <td>33.59</td>\n",
       "    </tr>\n",
       "    <tr>\n",
       "      <th>GEN</th>\n",
       "      <td>28.35</td>\n",
       "    </tr>\n",
       "    <tr>\n",
       "      <th>DC</th>\n",
       "      <td>15.95</td>\n",
       "    </tr>\n",
       "    <tr>\n",
       "      <th>SCD</th>\n",
       "      <td>1.86</td>\n",
       "    </tr>\n",
       "    <tr>\n",
       "      <th>NG</th>\n",
       "      <td>1.44</td>\n",
       "    </tr>\n",
       "    <tr>\n",
       "      <th>WS</th>\n",
       "      <td>1.42</td>\n",
       "    </tr>\n",
       "    <tr>\n",
       "      <th>TG16</th>\n",
       "      <td>0.16</td>\n",
       "    </tr>\n",
       "    <tr>\n",
       "      <th>3DO</th>\n",
       "      <td>0.10</td>\n",
       "    </tr>\n",
       "    <tr>\n",
       "      <th>GG</th>\n",
       "      <td>0.04</td>\n",
       "    </tr>\n",
       "    <tr>\n",
       "      <th>PCFX</th>\n",
       "      <td>0.03</td>\n",
       "    </tr>\n",
       "  </tbody>\n",
       "</table>\n",
       "</div>"
      ],
      "text/plain": [
       "          total_sales\n",
       "platform             \n",
       "PS2           1247.53\n",
       "X360           961.30\n",
       "PS3            931.34\n",
       "Wii            891.18\n",
       "DS             802.79\n",
       "PS             727.58\n",
       "PS4            314.14\n",
       "GBA            312.88\n",
       "PSP            289.69\n",
       "3DS            257.81\n",
       "PC             255.76\n",
       "GB             254.43\n",
       "XB             252.66\n",
       "NES            251.05\n",
       "N64            218.01\n",
       "SNES           200.04\n",
       "GC             197.03\n",
       "XOne           159.32\n",
       "2600            86.48\n",
       "WiiU            82.19\n",
       "PSV             53.81\n",
       "SAT             33.59\n",
       "GEN             28.35\n",
       "DC              15.95\n",
       "SCD              1.86\n",
       "NG               1.44\n",
       "WS               1.42\n",
       "TG16             0.16\n",
       "3DO              0.10\n",
       "GG               0.04\n",
       "PCFX             0.03"
      ]
     },
     "metadata": {},
     "output_type": "display_data"
    },
    {
     "data": {
      "image/png": "[encoded data removed]",
      "text/plain": [
       "<Figure size 720x360 with 1 Axes>"
      ]
     },
     "metadata": {
      "needs_background": "light"
     },
     "output_type": "display_data"
    }
   ],
   "source": [
    "platform_pivot = (df.pivot_table(index=['platform'], values='total_sales', aggfunc='sum')\n",
    "                  .sort_values('total_sales',ascending=False))\n",
    "display(platform_pivot)\n",
    "platform_pivot.plot(kind='bar' , grid=True, figsize=(10, 5))\n",
    "plt.title('Количество суммарных продаж в зависимости от платформы')\n",
    "plt.xlabel('Платформа')\n",
    "plt.ylabel('Суммарные продажи')\n",
    "plt.show()\n",
    "                                "
   ]
  },
  {
   "cell_type": "markdown",
   "metadata": {},
   "source": [
    "Рассмотрим топ 6 платформ по продажам."
   ]
  },
  {
   "cell_type": "code",
   "execution_count": 21,
   "metadata": {},
   "outputs": [
    {
     "data": {
      "text/plain": [
       "['PS2', 'X360', 'PS3', 'Wii', 'DS', 'PS']"
      ]
     },
     "execution_count": 21,
     "metadata": {},
     "output_type": "execute_result"
    }
   ],
   "source": [
    "top_sales = list(platform_pivot.index[:6])\n",
    "top_sales"
   ]
  },
  {
   "cell_type": "code",
   "execution_count": 22,
   "metadata": {},
   "outputs": [
    {
     "name": "stdout",
     "output_type": "stream",
     "text": [
      "Платформа  PS2\n",
      "                          total_sales\n",
      "platform year_of_release             \n",
      "PS2      2000                   39.17\n",
      "         2001                  166.43\n",
      "         2002                  205.78\n",
      "         2003                  194.27\n",
      "         2004                  212.13\n",
      "         2005                  160.66\n",
      "         2006                  106.71\n",
      "         2007                   75.99\n",
      "         2008                   53.90\n",
      "         2009                   26.40\n",
      "         2010                    5.64\n",
      "         2011                    0.45\n",
      "\n",
      "Платформа  X360\n",
      "                          total_sales\n",
      "platform year_of_release             \n",
      "X360     2005                    8.25\n",
      "         2006                   51.63\n",
      "         2007                   95.41\n",
      "         2008                  135.26\n",
      "         2009                  120.29\n",
      "         2010                  170.03\n",
      "         2011                  143.89\n",
      "         2012                   99.74\n",
      "         2013                   88.58\n",
      "         2014                   34.74\n",
      "         2015                   11.96\n",
      "         2016                    1.52\n",
      "\n",
      "Платформа  PS3\n",
      "                          total_sales\n",
      "platform year_of_release             \n",
      "PS3      2006                   20.96\n",
      "         2007                   73.19\n",
      "         2008                  118.52\n",
      "         2009                  130.93\n",
      "         2010                  142.17\n",
      "         2011                  156.78\n",
      "         2012                  107.36\n",
      "         2013                  113.25\n",
      "         2014                   47.76\n",
      "         2015                   16.82\n",
      "         2016                    3.60\n",
      "\n",
      "Платформа  Wii\n",
      "                          total_sales\n",
      "platform year_of_release             \n",
      "Wii      2006                  137.15\n",
      "         2007                  152.77\n",
      "         2008                  171.32\n",
      "         2009                  206.97\n",
      "         2010                  127.95\n",
      "         2011                   59.65\n",
      "         2012                   21.71\n",
      "         2013                    8.59\n",
      "         2014                    3.75\n",
      "         2015                    1.14\n",
      "         2016                    0.18\n",
      "\n",
      "Платформа  DS\n",
      "                          total_sales\n",
      "platform year_of_release             \n",
      "DS       1985                    0.02\n",
      "         2004                   17.27\n",
      "         2005                  130.14\n",
      "         2006                  119.81\n",
      "         2007                  146.95\n",
      "         2008                  145.31\n",
      "         2009                  119.54\n",
      "         2010                   85.02\n",
      "         2011                   26.18\n",
      "         2012                   11.01\n",
      "         2013                    1.54\n",
      "\n",
      "Платформа  PS\n",
      "                          total_sales\n",
      "platform year_of_release             \n",
      "PS       1994                    6.03\n",
      "         1995                   35.96\n",
      "         1996                   94.70\n",
      "         1997                  136.17\n",
      "         1998                  169.49\n",
      "         1999                  144.53\n",
      "         2000                   96.37\n",
      "         2001                   35.59\n",
      "         2002                    6.67\n",
      "         2003                    2.07\n",
      "\n"
     ]
    }
   ],
   "source": [
    "for platform in top_sales:\n",
    "    print('Платформа ',platform)\n",
    "    top_sales_pivot = pd.pivot_table(df.query('platform == @platform'), index=['platform','year_of_release'], values='total_sales', aggfunc='sum')\n",
    "    print(top_sales_pivot)\n",
    "    print()"
   ]
  },
  {
   "cell_type": "code",
   "execution_count": 23,
   "metadata": {},
   "outputs": [
    {
     "name": "stdout",
     "output_type": "stream",
     "text": [
      "Платформа PS2\n"
     ]
    },
    {
     "data": {
      "image/png": "[encoded data removed]",
      "text/plain": [
       "<Figure size 720x360 with 1 Axes>"
      ]
     },
     "metadata": {
      "needs_background": "light"
     },
     "output_type": "display_data"
    },
    {
     "name": "stdout",
     "output_type": "stream",
     "text": [
      "Платформа X360\n"
     ]
    },
    {
     "data": {
      "image/png": "[encoded data removed]",
      "text/plain": [
       "<Figure size 720x360 with 1 Axes>"
      ]
     },
     "metadata": {
      "needs_background": "light"
     },
     "output_type": "display_data"
    },
    {
     "name": "stdout",
     "output_type": "stream",
     "text": [
      "Платформа PS3\n"
     ]
    },
    {
     "data": {
      "image/png": "[encoded data removed]",
      "text/plain": [
       "<Figure size 720x360 with 1 Axes>"
      ]
     },
     "metadata": {
      "needs_background": "light"
     },
     "output_type": "display_data"
    },
    {
     "name": "stdout",
     "output_type": "stream",
     "text": [
      "Платформа Wii\n"
     ]
    },
    {
     "data": {
      "image/png": "[encoded data removed]",
      "text/plain": [
       "<Figure size 720x360 with 1 Axes>"
      ]
     },
     "metadata": {
      "needs_background": "light"
     },
     "output_type": "display_data"
    },
    {
     "name": "stdout",
     "output_type": "stream",
     "text": [
      "Платформа DS\n"
     ]
    },
    {
     "data": {
      "image/png": "[encoded data removed]",
      "text/plain": [
       "<Figure size 720x360 with 1 Axes>"
      ]
     },
     "metadata": {
      "needs_background": "light"
     },
     "output_type": "display_data"
    },
    {
     "name": "stdout",
     "output_type": "stream",
     "text": [
      "Платформа PS\n"
     ]
    },
    {
     "data": {
      "image/png": "[encoded data removed]",
      "text/plain": [
       "<Figure size 720x360 with 1 Axes>"
      ]
     },
     "metadata": {
      "needs_background": "light"
     },
     "output_type": "display_data"
    }
   ],
   "source": [
    "for platform in top_sales:\n",
    "    print(f'Платформа {platform}')\n",
    "    top_sales_pivot = pd.pivot_table(df.query('platform == @platform'), \n",
    "                                     index='year_of_release', \n",
    "                                     values='total_sales', \n",
    "                                     aggfunc='sum')\n",
    "\n",
    "    plt.figure(figsize=(10, 5))\n",
    "    sns.lineplot(data=top_sales_pivot, x=top_sales_pivot.index, y='total_sales', marker='o')\n",
    "    \n",
    "    plt.title(f'Продажи по годам для платформы {platform}')\n",
    "    plt.xlabel('Год выпуска')\n",
    "    plt.ylabel('Общие продажи')\n",
    "    plt.grid(True)\n",
    "    plt.xticks(rotation=45)\n",
    "    \n",
    "    plt.show()"
   ]
  },
  {
   "cell_type": "code",
   "execution_count": 24,
   "metadata": {},
   "outputs": [
    {
     "data": {
      "text/plain": [
       "7.612903225806452"
      ]
     },
     "execution_count": 24,
     "metadata": {},
     "output_type": "execute_result"
    }
   ],
   "source": [
    "(df.groupby('platform')['year_of_release'].max() - df.groupby('platform')['year_of_release'].min()).mean()"
   ]
  },
  {
   "cell_type": "code",
   "execution_count": 25,
   "metadata": {},
   "outputs": [
    {
     "data": {
      "text/plain": [
       "6.0"
      ]
     },
     "execution_count": 25,
     "metadata": {},
     "output_type": "execute_result"
    }
   ],
   "source": [
    "(df.groupby('platform')['year_of_release'].max() - df.groupby('platform')['year_of_release'].min()).median()\n"
   ]
  },
  {
   "cell_type": "markdown",
   "metadata": {},
   "source": [
    "Средняя продолжительность жизни платформы 7.6 лет, а медианнная 6.0 лет."
   ]
  },
  {
   "cell_type": "markdown",
   "metadata": {},
   "source": [
    "### Возьмем данные за соответствующий актуальный период 2012-2016.\n"
   ]
  },
  {
   "cell_type": "code",
   "execution_count": 26,
   "metadata": {},
   "outputs": [
    {
     "data": {
      "text/plain": [
       "['PS4', 'PS3', 'X360', '3DS', 'XOne', 'WiiU', 'PC', 'PSV', 'Wii', 'DS']"
      ]
     },
     "execution_count": 26,
     "metadata": {},
     "output_type": "execute_result"
    }
   ],
   "source": [
    "actual_platforms = (df\n",
    "    .query('year_of_release > 2011')\n",
    "    .pivot_table(index='platform', values='total_sales', aggfunc='sum')\n",
    "    .sort_values(by='total_sales', ascending=False)\n",
    "    .reset_index().head(10)['platform'].tolist()\n",
    "    )                         \n",
    "actual_platforms"
   ]
  },
  {
   "cell_type": "code",
   "execution_count": 27,
   "metadata": {
    "scrolled": true
   },
   "outputs": [
    {
     "data": {
      "text/html": [
       "<div>\n",
       "<style scoped>\n",
       "    .dataframe tbody tr th:only-of-type {\n",
       "        vertical-align: middle;\n",
       "    }\n",
       "\n",
       "    .dataframe tbody tr th {\n",
       "        vertical-align: top;\n",
       "    }\n",
       "\n",
       "    .dataframe thead th {\n",
       "        text-align: right;\n",
       "    }\n",
       "</style>\n",
       "<table border=\"1\" class=\"dataframe\">\n",
       "  <thead>\n",
       "    <tr style=\"text-align: right;\">\n",
       "      <th></th>\n",
       "      <th>name</th>\n",
       "      <th>platform</th>\n",
       "      <th>year_of_release</th>\n",
       "      <th>genre</th>\n",
       "      <th>na_sales</th>\n",
       "      <th>eu_sales</th>\n",
       "      <th>jp_sales</th>\n",
       "      <th>other_sales</th>\n",
       "      <th>critic_score</th>\n",
       "      <th>user_score</th>\n",
       "      <th>rating</th>\n",
       "      <th>total_sales</th>\n",
       "    </tr>\n",
       "  </thead>\n",
       "  <tbody>\n",
       "    <tr>\n",
       "      <th>0</th>\n",
       "      <td>Grand Theft Auto V</td>\n",
       "      <td>PS3</td>\n",
       "      <td>2013</td>\n",
       "      <td>Action</td>\n",
       "      <td>7.02</td>\n",
       "      <td>9.09</td>\n",
       "      <td>0.98</td>\n",
       "      <td>3.96</td>\n",
       "      <td>97</td>\n",
       "      <td>8.2</td>\n",
       "      <td>M</td>\n",
       "      <td>21.05</td>\n",
       "    </tr>\n",
       "    <tr>\n",
       "      <th>1</th>\n",
       "      <td>Grand Theft Auto V</td>\n",
       "      <td>X360</td>\n",
       "      <td>2013</td>\n",
       "      <td>Action</td>\n",
       "      <td>9.66</td>\n",
       "      <td>5.14</td>\n",
       "      <td>0.06</td>\n",
       "      <td>1.41</td>\n",
       "      <td>97</td>\n",
       "      <td>8.1</td>\n",
       "      <td>M</td>\n",
       "      <td>16.27</td>\n",
       "    </tr>\n",
       "    <tr>\n",
       "      <th>2</th>\n",
       "      <td>Call of Duty: Black Ops 3</td>\n",
       "      <td>PS4</td>\n",
       "      <td>2015</td>\n",
       "      <td>Shooter</td>\n",
       "      <td>6.03</td>\n",
       "      <td>5.86</td>\n",
       "      <td>0.36</td>\n",
       "      <td>2.38</td>\n",
       "      <td>&lt;NA&gt;</td>\n",
       "      <td>NaN</td>\n",
       "      <td>NaN</td>\n",
       "      <td>14.63</td>\n",
       "    </tr>\n",
       "    <tr>\n",
       "      <th>3</th>\n",
       "      <td>Pokemon X/Pokemon Y</td>\n",
       "      <td>3DS</td>\n",
       "      <td>2013</td>\n",
       "      <td>Role-Playing</td>\n",
       "      <td>5.28</td>\n",
       "      <td>4.19</td>\n",
       "      <td>4.35</td>\n",
       "      <td>0.78</td>\n",
       "      <td>&lt;NA&gt;</td>\n",
       "      <td>NaN</td>\n",
       "      <td>NaN</td>\n",
       "      <td>14.60</td>\n",
       "    </tr>\n",
       "    <tr>\n",
       "      <th>4</th>\n",
       "      <td>Call of Duty: Black Ops II</td>\n",
       "      <td>PS3</td>\n",
       "      <td>2012</td>\n",
       "      <td>Shooter</td>\n",
       "      <td>4.99</td>\n",
       "      <td>5.73</td>\n",
       "      <td>0.65</td>\n",
       "      <td>2.42</td>\n",
       "      <td>83</td>\n",
       "      <td>5.3</td>\n",
       "      <td>M</td>\n",
       "      <td>13.79</td>\n",
       "    </tr>\n",
       "  </tbody>\n",
       "</table>\n",
       "</div>"
      ],
      "text/plain": [
       "                         name platform  year_of_release         genre  \\\n",
       "0          Grand Theft Auto V      PS3             2013        Action   \n",
       "1          Grand Theft Auto V     X360             2013        Action   \n",
       "2   Call of Duty: Black Ops 3      PS4             2015       Shooter   \n",
       "3         Pokemon X/Pokemon Y      3DS             2013  Role-Playing   \n",
       "4  Call of Duty: Black Ops II      PS3             2012       Shooter   \n",
       "\n",
       "   na_sales  eu_sales  jp_sales  other_sales  critic_score  user_score rating  \\\n",
       "0      7.02      9.09      0.98         3.96            97         8.2      M   \n",
       "1      9.66      5.14      0.06         1.41            97         8.1      M   \n",
       "2      6.03      5.86      0.36         2.38          <NA>         NaN    NaN   \n",
       "3      5.28      4.19      4.35         0.78          <NA>         NaN    NaN   \n",
       "4      4.99      5.73      0.65         2.42            83         5.3      M   \n",
       "\n",
       "   total_sales  \n",
       "0        21.05  \n",
       "1        16.27  \n",
       "2        14.63  \n",
       "3        14.60  \n",
       "4        13.79  "
      ]
     },
     "execution_count": 27,
     "metadata": {},
     "output_type": "execute_result"
    }
   ],
   "source": [
    "actual_df = df.query('year_of_release > 2011').copy().reset_index(drop= True)\n",
    "actual_df.head()"
   ]
  },
  {
   "cell_type": "code",
   "execution_count": 28,
   "metadata": {},
   "outputs": [
    {
     "data": {
      "text/html": [
       "<div>\n",
       "<style scoped>\n",
       "    .dataframe tbody tr th:only-of-type {\n",
       "        vertical-align: middle;\n",
       "    }\n",
       "\n",
       "    .dataframe tbody tr th {\n",
       "        vertical-align: top;\n",
       "    }\n",
       "\n",
       "    .dataframe thead th {\n",
       "        text-align: right;\n",
       "    }\n",
       "</style>\n",
       "<table border=\"1\" class=\"dataframe\">\n",
       "  <thead>\n",
       "    <tr style=\"text-align: right;\">\n",
       "      <th></th>\n",
       "      <th></th>\n",
       "      <th>total_sales</th>\n",
       "    </tr>\n",
       "    <tr>\n",
       "      <th>platform</th>\n",
       "      <th>year_of_release</th>\n",
       "      <th></th>\n",
       "    </tr>\n",
       "  </thead>\n",
       "  <tbody>\n",
       "    <tr>\n",
       "      <th rowspan=\"5\" valign=\"top\">3DS</th>\n",
       "      <th>2012</th>\n",
       "      <td>51.36</td>\n",
       "    </tr>\n",
       "    <tr>\n",
       "      <th>2013</th>\n",
       "      <td>56.57</td>\n",
       "    </tr>\n",
       "    <tr>\n",
       "      <th>2014</th>\n",
       "      <td>43.76</td>\n",
       "    </tr>\n",
       "    <tr>\n",
       "      <th>2015</th>\n",
       "      <td>27.78</td>\n",
       "    </tr>\n",
       "    <tr>\n",
       "      <th>2016</th>\n",
       "      <td>15.14</td>\n",
       "    </tr>\n",
       "    <tr>\n",
       "      <th rowspan=\"2\" valign=\"top\">DS</th>\n",
       "      <th>2012</th>\n",
       "      <td>11.01</td>\n",
       "    </tr>\n",
       "    <tr>\n",
       "      <th>2013</th>\n",
       "      <td>1.54</td>\n",
       "    </tr>\n",
       "    <tr>\n",
       "      <th rowspan=\"5\" valign=\"top\">PC</th>\n",
       "      <th>2012</th>\n",
       "      <td>23.22</td>\n",
       "    </tr>\n",
       "    <tr>\n",
       "      <th>2013</th>\n",
       "      <td>12.38</td>\n",
       "    </tr>\n",
       "    <tr>\n",
       "      <th>2014</th>\n",
       "      <td>13.28</td>\n",
       "    </tr>\n",
       "    <tr>\n",
       "      <th>2015</th>\n",
       "      <td>8.52</td>\n",
       "    </tr>\n",
       "    <tr>\n",
       "      <th>2016</th>\n",
       "      <td>5.25</td>\n",
       "    </tr>\n",
       "    <tr>\n",
       "      <th rowspan=\"5\" valign=\"top\">PS3</th>\n",
       "      <th>2012</th>\n",
       "      <td>107.36</td>\n",
       "    </tr>\n",
       "    <tr>\n",
       "      <th>2013</th>\n",
       "      <td>113.25</td>\n",
       "    </tr>\n",
       "    <tr>\n",
       "      <th>2014</th>\n",
       "      <td>47.76</td>\n",
       "    </tr>\n",
       "    <tr>\n",
       "      <th>2015</th>\n",
       "      <td>16.82</td>\n",
       "    </tr>\n",
       "    <tr>\n",
       "      <th>2016</th>\n",
       "      <td>3.60</td>\n",
       "    </tr>\n",
       "    <tr>\n",
       "      <th rowspan=\"4\" valign=\"top\">PS4</th>\n",
       "      <th>2013</th>\n",
       "      <td>25.99</td>\n",
       "    </tr>\n",
       "    <tr>\n",
       "      <th>2014</th>\n",
       "      <td>100.00</td>\n",
       "    </tr>\n",
       "    <tr>\n",
       "      <th>2015</th>\n",
       "      <td>118.90</td>\n",
       "    </tr>\n",
       "    <tr>\n",
       "      <th>2016</th>\n",
       "      <td>69.25</td>\n",
       "    </tr>\n",
       "    <tr>\n",
       "      <th rowspan=\"4\" valign=\"top\">PSP</th>\n",
       "      <th>2012</th>\n",
       "      <td>7.69</td>\n",
       "    </tr>\n",
       "    <tr>\n",
       "      <th>2013</th>\n",
       "      <td>3.14</td>\n",
       "    </tr>\n",
       "    <tr>\n",
       "      <th>2014</th>\n",
       "      <td>0.24</td>\n",
       "    </tr>\n",
       "    <tr>\n",
       "      <th>2015</th>\n",
       "      <td>0.12</td>\n",
       "    </tr>\n",
       "    <tr>\n",
       "      <th rowspan=\"5\" valign=\"top\">PSV</th>\n",
       "      <th>2012</th>\n",
       "      <td>16.19</td>\n",
       "    </tr>\n",
       "    <tr>\n",
       "      <th>2013</th>\n",
       "      <td>10.59</td>\n",
       "    </tr>\n",
       "    <tr>\n",
       "      <th>2014</th>\n",
       "      <td>11.90</td>\n",
       "    </tr>\n",
       "    <tr>\n",
       "      <th>2015</th>\n",
       "      <td>6.25</td>\n",
       "    </tr>\n",
       "    <tr>\n",
       "      <th>2016</th>\n",
       "      <td>4.25</td>\n",
       "    </tr>\n",
       "    <tr>\n",
       "      <th rowspan=\"5\" valign=\"top\">Wii</th>\n",
       "      <th>2012</th>\n",
       "      <td>21.71</td>\n",
       "    </tr>\n",
       "    <tr>\n",
       "      <th>2013</th>\n",
       "      <td>8.59</td>\n",
       "    </tr>\n",
       "    <tr>\n",
       "      <th>2014</th>\n",
       "      <td>3.75</td>\n",
       "    </tr>\n",
       "    <tr>\n",
       "      <th>2015</th>\n",
       "      <td>1.14</td>\n",
       "    </tr>\n",
       "    <tr>\n",
       "      <th>2016</th>\n",
       "      <td>0.18</td>\n",
       "    </tr>\n",
       "    <tr>\n",
       "      <th rowspan=\"5\" valign=\"top\">WiiU</th>\n",
       "      <th>2012</th>\n",
       "      <td>17.56</td>\n",
       "    </tr>\n",
       "    <tr>\n",
       "      <th>2013</th>\n",
       "      <td>21.65</td>\n",
       "    </tr>\n",
       "    <tr>\n",
       "      <th>2014</th>\n",
       "      <td>22.03</td>\n",
       "    </tr>\n",
       "    <tr>\n",
       "      <th>2015</th>\n",
       "      <td>16.35</td>\n",
       "    </tr>\n",
       "    <tr>\n",
       "      <th>2016</th>\n",
       "      <td>4.60</td>\n",
       "    </tr>\n",
       "    <tr>\n",
       "      <th rowspan=\"5\" valign=\"top\">X360</th>\n",
       "      <th>2012</th>\n",
       "      <td>99.74</td>\n",
       "    </tr>\n",
       "    <tr>\n",
       "      <th>2013</th>\n",
       "      <td>88.58</td>\n",
       "    </tr>\n",
       "    <tr>\n",
       "      <th>2014</th>\n",
       "      <td>34.74</td>\n",
       "    </tr>\n",
       "    <tr>\n",
       "      <th>2015</th>\n",
       "      <td>11.96</td>\n",
       "    </tr>\n",
       "    <tr>\n",
       "      <th>2016</th>\n",
       "      <td>1.52</td>\n",
       "    </tr>\n",
       "    <tr>\n",
       "      <th rowspan=\"4\" valign=\"top\">XOne</th>\n",
       "      <th>2013</th>\n",
       "      <td>18.96</td>\n",
       "    </tr>\n",
       "    <tr>\n",
       "      <th>2014</th>\n",
       "      <td>54.07</td>\n",
       "    </tr>\n",
       "    <tr>\n",
       "      <th>2015</th>\n",
       "      <td>60.14</td>\n",
       "    </tr>\n",
       "    <tr>\n",
       "      <th>2016</th>\n",
       "      <td>26.15</td>\n",
       "    </tr>\n",
       "  </tbody>\n",
       "</table>\n",
       "</div>"
      ],
      "text/plain": [
       "                          total_sales\n",
       "platform year_of_release             \n",
       "3DS      2012                   51.36\n",
       "         2013                   56.57\n",
       "         2014                   43.76\n",
       "         2015                   27.78\n",
       "         2016                   15.14\n",
       "DS       2012                   11.01\n",
       "         2013                    1.54\n",
       "PC       2012                   23.22\n",
       "         2013                   12.38\n",
       "         2014                   13.28\n",
       "         2015                    8.52\n",
       "         2016                    5.25\n",
       "PS3      2012                  107.36\n",
       "         2013                  113.25\n",
       "         2014                   47.76\n",
       "         2015                   16.82\n",
       "         2016                    3.60\n",
       "PS4      2013                   25.99\n",
       "         2014                  100.00\n",
       "         2015                  118.90\n",
       "         2016                   69.25\n",
       "PSP      2012                    7.69\n",
       "         2013                    3.14\n",
       "         2014                    0.24\n",
       "         2015                    0.12\n",
       "PSV      2012                   16.19\n",
       "         2013                   10.59\n",
       "         2014                   11.90\n",
       "         2015                    6.25\n",
       "         2016                    4.25\n",
       "Wii      2012                   21.71\n",
       "         2013                    8.59\n",
       "         2014                    3.75\n",
       "         2015                    1.14\n",
       "         2016                    0.18\n",
       "WiiU     2012                   17.56\n",
       "         2013                   21.65\n",
       "         2014                   22.03\n",
       "         2015                   16.35\n",
       "         2016                    4.60\n",
       "X360     2012                   99.74\n",
       "         2013                   88.58\n",
       "         2014                   34.74\n",
       "         2015                   11.96\n",
       "         2016                    1.52\n",
       "XOne     2013                   18.96\n",
       "         2014                   54.07\n",
       "         2015                   60.14\n",
       "         2016                   26.15"
      ]
     },
     "execution_count": 28,
     "metadata": {},
     "output_type": "execute_result"
    }
   ],
   "source": [
    "#самые прибыльные платформы\n",
    "best_platform = actual_df.pivot_table(index=['platform','year_of_release'],values='total_sales',aggfunc='sum')\n",
    "best_platform"
   ]
  },
  {
   "cell_type": "code",
   "execution_count": 29,
   "metadata": {},
   "outputs": [
    {
     "data": {
      "image/png": "[encoded data removed]",
      "text/plain": [
       "<Figure size 864x432 with 1 Axes>"
      ]
     },
     "metadata": {
      "needs_background": "light"
     },
     "output_type": "display_data"
    }
   ],
   "source": [
    "plt.figure(figsize=(12, 6))\n",
    "best_platform_reset = best_platform.reset_index()\n",
    "sns.lineplot(data=best_platform_reset, x='year_of_release', y='total_sales', hue='platform', marker='o')\n",
    "\n",
    "\n",
    "plt.title('Общие продажи по платформам и годам')\n",
    "plt.xlabel('Год выпуска')\n",
    "plt.ylabel('Общие продажи')\n",
    "plt.grid(True)\n",
    "plt.xticks(rotation=45)\n",
    "plt.legend(loc='upper left', bbox_to_anchor=(1, 1))\n",
    "plt.show()"
   ]
  },
  {
   "cell_type": "markdown",
   "metadata": {},
   "source": [
    "PS4 смещает лидера PS3 и становится самой перспективной платформой в выбранном периоде."
   ]
  },
  {
   "cell_type": "code",
   "execution_count": 30,
   "metadata": {},
   "outputs": [
    {
     "data": {
      "text/html": [
       "<div>\n",
       "<style scoped>\n",
       "    .dataframe tbody tr th:only-of-type {\n",
       "        vertical-align: middle;\n",
       "    }\n",
       "\n",
       "    .dataframe tbody tr th {\n",
       "        vertical-align: top;\n",
       "    }\n",
       "\n",
       "    .dataframe thead th {\n",
       "        text-align: right;\n",
       "    }\n",
       "</style>\n",
       "<table border=\"1\" class=\"dataframe\">\n",
       "  <thead>\n",
       "    <tr style=\"text-align: right;\">\n",
       "      <th></th>\n",
       "      <th>total_sales</th>\n",
       "    </tr>\n",
       "    <tr>\n",
       "      <th>platform</th>\n",
       "      <th></th>\n",
       "    </tr>\n",
       "  </thead>\n",
       "  <tbody>\n",
       "    <tr>\n",
       "      <th>PS4</th>\n",
       "      <td>314.14</td>\n",
       "    </tr>\n",
       "    <tr>\n",
       "      <th>PS3</th>\n",
       "      <td>288.79</td>\n",
       "    </tr>\n",
       "    <tr>\n",
       "      <th>X360</th>\n",
       "      <td>236.54</td>\n",
       "    </tr>\n",
       "    <tr>\n",
       "      <th>3DS</th>\n",
       "      <td>194.61</td>\n",
       "    </tr>\n",
       "    <tr>\n",
       "      <th>XOne</th>\n",
       "      <td>159.32</td>\n",
       "    </tr>\n",
       "    <tr>\n",
       "      <th>WiiU</th>\n",
       "      <td>82.19</td>\n",
       "    </tr>\n",
       "    <tr>\n",
       "      <th>PC</th>\n",
       "      <td>62.65</td>\n",
       "    </tr>\n",
       "    <tr>\n",
       "      <th>PSV</th>\n",
       "      <td>49.18</td>\n",
       "    </tr>\n",
       "    <tr>\n",
       "      <th>Wii</th>\n",
       "      <td>35.37</td>\n",
       "    </tr>\n",
       "    <tr>\n",
       "      <th>DS</th>\n",
       "      <td>12.55</td>\n",
       "    </tr>\n",
       "    <tr>\n",
       "      <th>PSP</th>\n",
       "      <td>11.19</td>\n",
       "    </tr>\n",
       "  </tbody>\n",
       "</table>\n",
       "</div>"
      ],
      "text/plain": [
       "          total_sales\n",
       "platform             \n",
       "PS4            314.14\n",
       "PS3            288.79\n",
       "X360           236.54\n",
       "3DS            194.61\n",
       "XOne           159.32\n",
       "WiiU            82.19\n",
       "PC              62.65\n",
       "PSV             49.18\n",
       "Wii             35.37\n",
       "DS              12.55\n",
       "PSP             11.19"
      ]
     },
     "execution_count": 30,
     "metadata": {},
     "output_type": "execute_result"
    }
   ],
   "source": [
    "best_platform = actual_df.pivot_table(index=['platform'],values='total_sales',aggfunc='sum')\n",
    "best_platform.sort_values('total_sales',ascending=False)\n"
   ]
  },
  {
   "cell_type": "markdown",
   "metadata": {},
   "source": [
    "Топ 5 платформ: PS4,PS3,X360,3DS,XOne.  \n",
    "Продажи PS4, XOne, 3DS, WiiU и PSV демонстрируют рост, так как эти консоли сменяют приставки предыдущего поколения. В то же время наблюдается снижение продаж предыдущего поколения консолей, таких как PS3, X360, DS, Wii и PSP. Также отмечается рост продаж на платформе PC."
   ]
  },
  {
   "cell_type": "code",
   "execution_count": 31,
   "metadata": {},
   "outputs": [
    {
     "data": {
      "image/png": "[encoded data removed]",
      "text/plain": [
       "<Figure size 720x432 with 1 Axes>"
      ]
     },
     "metadata": {
      "needs_background": "light"
     },
     "output_type": "display_data"
    }
   ],
   "source": [
    "plt.figure(figsize=(10, 6))\n",
    "actual_df[actual_df['platform'] == 'PS4'].boxplot('total_sales')\n",
    "plt.ylabel('Продажи, млн')\n",
    "plt.title('Распределение общих продаж для PS4')\n",
    "plt.show()"
   ]
  },
  {
   "cell_type": "code",
   "execution_count": 32,
   "metadata": {},
   "outputs": [
    {
     "data": {
      "image/png": "[encoded data removed]",
      "text/plain": [
       "<Figure size 720x432 with 1 Axes>"
      ]
     },
     "metadata": {
      "needs_background": "light"
     },
     "output_type": "display_data"
    }
   ],
   "source": [
    "plt.figure(figsize=(10, 6))\n",
    "actual_df[actual_df['platform'] == 'PS3'].boxplot('total_sales')\n",
    "plt.ylabel('Продажи, млн')\n",
    "plt.title('Распределение общих продаж для PS3')\n",
    "plt.show()"
   ]
  },
  {
   "cell_type": "code",
   "execution_count": 33,
   "metadata": {},
   "outputs": [
    {
     "data": {
      "image/png": "[encoded data removed]",
      "text/plain": [
       "<Figure size 720x432 with 1 Axes>"
      ]
     },
     "metadata": {
      "needs_background": "light"
     },
     "output_type": "display_data"
    }
   ],
   "source": [
    "plt.figure(figsize=(10, 6))\n",
    "actual_df[actual_df['platform'] == 'X360'].boxplot('total_sales')\n",
    "plt.ylabel('Продажи, млн')\n",
    "plt.title('Распределение общих продаж для X360')\n",
    "plt.show()"
   ]
  },
  {
   "cell_type": "code",
   "execution_count": 34,
   "metadata": {},
   "outputs": [
    {
     "data": {
      "image/png": "[encoded data removed]",
      "text/plain": [
       "<Figure size 720x432 with 1 Axes>"
      ]
     },
     "metadata": {
      "needs_background": "light"
     },
     "output_type": "display_data"
    }
   ],
   "source": [
    "plt.figure(figsize=(10, 6))\n",
    "actual_df[actual_df['platform'] == '3DS'].boxplot('total_sales')\n",
    "plt.ylabel('Продажи, млн')\n",
    "plt.title('Распределение общих продаж для 3DS')\n",
    "plt.show()"
   ]
  },
  {
   "cell_type": "code",
   "execution_count": 35,
   "metadata": {},
   "outputs": [
    {
     "data": {
      "image/png": "[encoded data removed]",
      "text/plain": [
       "<Figure size 720x432 with 1 Axes>"
      ]
     },
     "metadata": {
      "needs_background": "light"
     },
     "output_type": "display_data"
    }
   ],
   "source": [
    "plt.figure(figsize=(10, 6))\n",
    "actual_df[actual_df['platform'] == 'WiiU'].boxplot('total_sales')\n",
    "plt.ylabel('Продажи, млн')\n",
    "plt.title('Распределение общих продаж для WiiU')\n",
    "plt.show()"
   ]
  },
  {
   "cell_type": "code",
   "execution_count": 36,
   "metadata": {},
   "outputs": [
    {
     "data": {
      "image/png": "[encoded data removed]",
      "text/plain": [
       "<Figure size 720x432 with 1 Axes>"
      ]
     },
     "metadata": {
      "needs_background": "light"
     },
     "output_type": "display_data"
    }
   ],
   "source": [
    "plt.figure(figsize=(10, 6))\n",
    "actual_df[actual_df['platform'] == 'PSV'].boxplot('total_sales')\n",
    "plt.ylabel('Продажи, млн')\n",
    "plt.title('Распределение общих продаж для PSV')\n",
    "plt.show()"
   ]
  },
  {
   "cell_type": "code",
   "execution_count": 37,
   "metadata": {},
   "outputs": [
    {
     "data": {
      "image/png": "[encoded data removed]",
      "text/plain": [
       "<Figure size 864x432 with 1 Axes>"
      ]
     },
     "metadata": {
      "needs_background": "light"
     },
     "output_type": "display_data"
    }
   ],
   "source": [
    "platforms = ['PS3', 'X360', 'PS4', '3DS', 'XOne', 'WiiU', 'PC', 'PSV']\n",
    "\n",
    "plt.figure(figsize=(12, 6))\n",
    "\n",
    "data_to_plot = [actual_df.loc[(actual_df['platform'] == platform) & (actual_df['total_sales'] < 1.5), 'total_sales'] for platform in platforms]\n",
    "\n",
    "plt.boxplot(data_to_plot, labels=platforms)\n",
    "\n",
    "plt.title('Распределение продаж по платформам')\n",
    "plt.xlabel('Платформа')\n",
    "plt.ylabel('Продажи, миллион')\n",
    "plt.show()"
   ]
  },
  {
   "cell_type": "markdown",
   "metadata": {},
   "source": [
    "Динамика продаж у всех платформ схожа — основной диапазон большинства продаж находится в пределах до 200 тыс., при этом присутствуют длинные хвосты. Наиболее равномерное распределение наблюдается у платформы WiiU. Наибольшие продажи зафиксированы у XOne и PS4, в то время как медианные продажи выше у X360 и WiiU."
   ]
  },
  {
   "cell_type": "code",
   "execution_count": 38,
   "metadata": {},
   "outputs": [
    {
     "data": {
      "image/png": "[encoded data removed]",
      "text/plain": [
       "<Figure size 432x288 with 1 Axes>"
      ]
     },
     "metadata": {
      "needs_background": "light"
     },
     "output_type": "display_data"
    }
   ],
   "source": [
    "actual_df.query('platform == \"PS4\" and total_sales < 5 and critic_score > 30')\\\n",
    "    .plot.scatter(x='critic_score', y='total_sales', grid=True)\n",
    "\n",
    "plt.title('Зависимость общих продаж от оценок критиков')\n",
    "plt.xlabel('Оценка критиков')\n",
    "plt.ylabel('Продажи, млн')\n",
    "plt.show()"
   ]
  },
  {
   "cell_type": "code",
   "execution_count": 39,
   "metadata": {},
   "outputs": [
    {
     "data": {
      "text/html": [
       "<div>\n",
       "<style scoped>\n",
       "    .dataframe tbody tr th:only-of-type {\n",
       "        vertical-align: middle;\n",
       "    }\n",
       "\n",
       "    .dataframe tbody tr th {\n",
       "        vertical-align: top;\n",
       "    }\n",
       "\n",
       "    .dataframe thead th {\n",
       "        text-align: right;\n",
       "    }\n",
       "</style>\n",
       "<table border=\"1\" class=\"dataframe\">\n",
       "  <thead>\n",
       "    <tr style=\"text-align: right;\">\n",
       "      <th></th>\n",
       "      <th>critic_score</th>\n",
       "      <th>total_sales</th>\n",
       "    </tr>\n",
       "  </thead>\n",
       "  <tbody>\n",
       "    <tr>\n",
       "      <th>critic_score</th>\n",
       "      <td>1.000000</td>\n",
       "      <td>0.410449</td>\n",
       "    </tr>\n",
       "    <tr>\n",
       "      <th>total_sales</th>\n",
       "      <td>0.410449</td>\n",
       "      <td>1.000000</td>\n",
       "    </tr>\n",
       "  </tbody>\n",
       "</table>\n",
       "</div>"
      ],
      "text/plain": [
       "              critic_score  total_sales\n",
       "critic_score      1.000000     0.410449\n",
       "total_sales       0.410449     1.000000"
      ]
     },
     "execution_count": 39,
     "metadata": {},
     "output_type": "execute_result"
    }
   ],
   "source": [
    "actual_df.query('platform == \"PS4\" and total_sales < 5 and critic_score > 30')\\\n",
    "           .loc[:, ['critic_score', 'total_sales']].corr()\n"
   ]
  },
  {
   "cell_type": "markdown",
   "metadata": {},
   "source": [
    "Корреляция положительная, но не сильная. Высокая оценка критиков не всегда гарантирует успех в продажах.\n"
   ]
  },
  {
   "cell_type": "code",
   "execution_count": 40,
   "metadata": {},
   "outputs": [
    {
     "data": {
      "image/png": "[encoded data removed]",
      "text/plain": [
       "<Figure size 432x288 with 1 Axes>"
      ]
     },
     "metadata": {
      "needs_background": "light"
     },
     "output_type": "display_data"
    }
   ],
   "source": [
    "actual_df.query('platform == \"PS4\" and total_sales < 5')\\\n",
    "    .plot.scatter(x='user_score', y='total_sales', grid=True)\n",
    "\n",
    "plt.title('Зависимость общих продаж от оценок пользователей')\n",
    "plt.xlabel('Оценка критиков')\n",
    "plt.ylabel('Продажи, млн')\n",
    "plt.show()"
   ]
  },
  {
   "cell_type": "code",
   "execution_count": 41,
   "metadata": {},
   "outputs": [
    {
     "data": {
      "text/html": [
       "<div>\n",
       "<style scoped>\n",
       "    .dataframe tbody tr th:only-of-type {\n",
       "        vertical-align: middle;\n",
       "    }\n",
       "\n",
       "    .dataframe tbody tr th {\n",
       "        vertical-align: top;\n",
       "    }\n",
       "\n",
       "    .dataframe thead th {\n",
       "        text-align: right;\n",
       "    }\n",
       "</style>\n",
       "<table border=\"1\" class=\"dataframe\">\n",
       "  <thead>\n",
       "    <tr style=\"text-align: right;\">\n",
       "      <th></th>\n",
       "      <th>user_score</th>\n",
       "      <th>total_sales</th>\n",
       "    </tr>\n",
       "  </thead>\n",
       "  <tbody>\n",
       "    <tr>\n",
       "      <th>user_score</th>\n",
       "      <td>1.00000</td>\n",
       "      <td>0.01458</td>\n",
       "    </tr>\n",
       "    <tr>\n",
       "      <th>total_sales</th>\n",
       "      <td>0.01458</td>\n",
       "      <td>1.00000</td>\n",
       "    </tr>\n",
       "  </tbody>\n",
       "</table>\n",
       "</div>"
      ],
      "text/plain": [
       "             user_score  total_sales\n",
       "user_score      1.00000      0.01458\n",
       "total_sales     0.01458      1.00000"
      ]
     },
     "execution_count": 41,
     "metadata": {},
     "output_type": "execute_result"
    }
   ],
   "source": [
    "actual_df.query('platform == \"PS4\" and total_sales < 5')\\\n",
    "           .loc[:, ['user_score', 'total_sales']].corr()"
   ]
  },
  {
   "cell_type": "markdown",
   "metadata": {},
   "source": [
    "Оценки пользователей не влияют на продажу игры. Посмотрим на другие платформы."
   ]
  },
  {
   "cell_type": "code",
   "execution_count": 42,
   "metadata": {},
   "outputs": [
    {
     "name": "stdout",
     "output_type": "stream",
     "text": [
      "X360\n",
      "              critic_score  total_sales\n",
      "critic_score      1.000000     0.492371\n",
      "total_sales       0.492371     1.000000\n",
      "             user_score  total_sales\n",
      "user_score     1.000000     0.127673\n",
      "total_sales    0.127673     1.000000\n",
      "\n",
      "PS3\n",
      "              critic_score  total_sales\n",
      "critic_score      1.000000     0.459079\n",
      "total_sales       0.459079     1.000000\n",
      "             user_score  total_sales\n",
      "user_score     1.000000     0.118783\n",
      "total_sales    0.118783     1.000000\n",
      "\n",
      "3DS\n",
      "              critic_score  total_sales\n",
      "critic_score      1.000000     0.359583\n",
      "total_sales       0.359583     1.000000\n",
      "             user_score  total_sales\n",
      "user_score     1.000000     0.242963\n",
      "total_sales    0.242963     1.000000\n",
      "\n",
      "WiiU\n",
      "              critic_score  total_sales\n",
      "critic_score      1.000000     0.334658\n",
      "total_sales       0.334658     1.000000\n",
      "             user_score  total_sales\n",
      "user_score     1.000000     0.374552\n",
      "total_sales    0.374552     1.000000\n",
      "\n",
      "PC\n",
      "              critic_score  total_sales\n",
      "critic_score      1.000000     0.240525\n",
      "total_sales       0.240525     1.000000\n",
      "             user_score  total_sales\n",
      "user_score     1.000000    -0.089267\n",
      "total_sales   -0.089267     1.000000\n",
      "\n",
      "PSV\n",
      "              critic_score  total_sales\n",
      "critic_score      1.000000     0.094488\n",
      "total_sales       0.094488     1.000000\n",
      "             user_score  total_sales\n",
      "user_score     1.000000     0.013902\n",
      "total_sales    0.013902     1.000000\n",
      "\n",
      "XOne\n",
      "              critic_score  total_sales\n",
      "critic_score      1.000000     0.420709\n",
      "total_sales       0.420709     1.000000\n",
      "             user_score  total_sales\n",
      "user_score     1.000000    -0.142243\n",
      "total_sales   -0.142243     1.000000\n",
      "\n"
     ]
    }
   ],
   "source": [
    "for platform in ['X360', 'PS3', '3DS', 'WiiU', 'PC', 'PSV', 'XOne']:\n",
    "    print(platform)\n",
    "    \n",
    "    crit_sales_corr = actual_df.query('platform == @platform and total_sales < 5 and critic_score > 30')\\\n",
    "                        .loc[:, ['critic_score', 'total_sales']].corr()\n",
    "    \n",
    "    user_sales_corr = actual_df.query('platform == @platform and total_sales < 5 and critic_score > 30')\\\n",
    "                        .loc[:, ['user_score', 'total_sales']].corr()\n",
    "    \n",
    "    print(crit_sales_corr)\n",
    "    print(user_sales_corr)\n",
    "    print()"
   ]
  },
  {
   "cell_type": "markdown",
   "metadata": {},
   "source": [
    "- В целом, для большинства платформ корреляция между оценками критиков и продажами умеренная или слабая, что указывает на то, что высокая оценка критиков не всегда приводит к высоким продажам.\n",
    "- Корреляция между пользовательскими оценками и продажами в целом еще слабее, что говорит о минимальном влиянии пользовательских оценок на продажи."
   ]
  },
  {
   "cell_type": "markdown",
   "metadata": {},
   "source": [
    "**Рассмотрим распределение по жанрам игр.**"
   ]
  },
  {
   "cell_type": "code",
   "execution_count": 43,
   "metadata": {},
   "outputs": [
    {
     "data": {
      "image/png": "[encoded data removed]",
      "text/plain": [
       "<Figure size 864x360 with 1 Axes>"
      ]
     },
     "metadata": {
      "needs_background": "light"
     },
     "output_type": "display_data"
    }
   ],
   "source": [
    "actual_df['genre'].hist(bins=12, figsize=(12,5))\n",
    "plt.xlabel('Жанр')\n",
    "plt.ylabel('Количество')\n",
    "plt.title('Распределение игр по жанрам')\n",
    "plt.show()"
   ]
  },
  {
   "cell_type": "markdown",
   "metadata": {},
   "source": [
    "Больше всего игр в жанре Action"
   ]
  },
  {
   "cell_type": "code",
   "execution_count": 44,
   "metadata": {},
   "outputs": [
    {
     "data": {
      "text/plain": [
       "genre\n",
       "Action          441.12\n",
       "Shooter         304.73\n",
       "Role-Playing    192.80\n",
       "Sports          181.07\n",
       "Misc             85.04\n",
       "Platform         61.00\n",
       "Racing           53.50\n",
       "Fighting         44.49\n",
       "Simulation       35.12\n",
       "Adventure        29.43\n",
       "Strategy         13.34\n",
       "Puzzle            4.89\n",
       "Name: total_sales, dtype: float64"
      ]
     },
     "execution_count": 44,
     "metadata": {},
     "output_type": "execute_result"
    }
   ],
   "source": [
    "actual_df.groupby('genre')['total_sales'].sum().sort_values(ascending=False)"
   ]
  },
  {
   "cell_type": "markdown",
   "metadata": {},
   "source": [
    "Больше всего продаж тоже в жанре Action"
   ]
  },
  {
   "cell_type": "code",
   "execution_count": 45,
   "metadata": {},
   "outputs": [
    {
     "data": {
      "text/plain": [
       "genre\n",
       "Shooter         1.296723\n",
       "Platform        0.717647\n",
       "Sports          0.675634\n",
       "Role-Playing    0.521081\n",
       "Racing          0.465217\n",
       "Misc            0.442917\n",
       "Simulation      0.439000\n",
       "Action          0.427856\n",
       "Fighting        0.408165\n",
       "Strategy        0.187887\n",
       "Puzzle          0.174643\n",
       "Adventure       0.097450\n",
       "Name: total_sales, dtype: float64"
      ]
     },
     "execution_count": 45,
     "metadata": {},
     "output_type": "execute_result"
    }
   ],
   "source": [
    "actual_df.groupby('genre')['total_sales'].mean().sort_values(ascending=False)"
   ]
  },
  {
   "cell_type": "code",
   "execution_count": 46,
   "metadata": {},
   "outputs": [
    {
     "data": {
      "text/plain": [
       "genre\n",
       "Shooter         0.440\n",
       "Sports          0.240\n",
       "Platform        0.210\n",
       "Role-Playing    0.140\n",
       "Racing          0.140\n",
       "Fighting        0.130\n",
       "Action          0.120\n",
       "Misc            0.120\n",
       "Simulation      0.120\n",
       "Strategy        0.080\n",
       "Puzzle          0.045\n",
       "Adventure       0.030\n",
       "Name: total_sales, dtype: float64"
      ]
     },
     "execution_count": 46,
     "metadata": {},
     "output_type": "execute_result"
    }
   ],
   "source": [
    "actual_df.groupby('genre')['total_sales'].median().sort_values(ascending=False)"
   ]
  },
  {
   "cell_type": "markdown",
   "metadata": {},
   "source": [
    "Самые прибыльные жанры Shooter,Sports,Platform. Хуже всего продаются игры в жанрах Adventure,Puzzle,Straregy"
   ]
  },
  {
   "cell_type": "markdown",
   "metadata": {},
   "source": [
    "## Пользователи разных регионов"
   ]
  },
  {
   "cell_type": "markdown",
   "metadata": {},
   "source": [
    "### Самые популярные платформы.\n"
   ]
  },
  {
   "cell_type": "code",
   "execution_count": 47,
   "metadata": {},
   "outputs": [
    {
     "data": {
      "text/html": [
       "<div>\n",
       "<style scoped>\n",
       "    .dataframe tbody tr th:only-of-type {\n",
       "        vertical-align: middle;\n",
       "    }\n",
       "\n",
       "    .dataframe tbody tr th {\n",
       "        vertical-align: top;\n",
       "    }\n",
       "\n",
       "    .dataframe thead th {\n",
       "        text-align: right;\n",
       "    }\n",
       "</style>\n",
       "<table border=\"1\" class=\"dataframe\">\n",
       "  <thead>\n",
       "    <tr style=\"text-align: right;\">\n",
       "      <th></th>\n",
       "      <th>na_sales</th>\n",
       "    </tr>\n",
       "    <tr>\n",
       "      <th>platform</th>\n",
       "      <th></th>\n",
       "    </tr>\n",
       "  </thead>\n",
       "  <tbody>\n",
       "    <tr>\n",
       "      <th>X360</th>\n",
       "      <td>140.05</td>\n",
       "    </tr>\n",
       "    <tr>\n",
       "      <th>PS4</th>\n",
       "      <td>108.74</td>\n",
       "    </tr>\n",
       "    <tr>\n",
       "      <th>PS3</th>\n",
       "      <td>103.38</td>\n",
       "    </tr>\n",
       "    <tr>\n",
       "      <th>XOne</th>\n",
       "      <td>93.12</td>\n",
       "    </tr>\n",
       "    <tr>\n",
       "      <th>3DS</th>\n",
       "      <td>55.31</td>\n",
       "    </tr>\n",
       "    <tr>\n",
       "      <th>WiiU</th>\n",
       "      <td>38.10</td>\n",
       "    </tr>\n",
       "    <tr>\n",
       "      <th>PC</th>\n",
       "      <td>19.12</td>\n",
       "    </tr>\n",
       "    <tr>\n",
       "      <th>Wii</th>\n",
       "      <td>17.45</td>\n",
       "    </tr>\n",
       "    <tr>\n",
       "      <th>PSV</th>\n",
       "      <td>10.98</td>\n",
       "    </tr>\n",
       "    <tr>\n",
       "      <th>DS</th>\n",
       "      <td>4.59</td>\n",
       "    </tr>\n",
       "    <tr>\n",
       "      <th>PSP</th>\n",
       "      <td>0.13</td>\n",
       "    </tr>\n",
       "  </tbody>\n",
       "</table>\n",
       "</div>"
      ],
      "text/plain": [
       "          na_sales\n",
       "platform          \n",
       "X360        140.05\n",
       "PS4         108.74\n",
       "PS3         103.38\n",
       "XOne         93.12\n",
       "3DS          55.31\n",
       "WiiU         38.10\n",
       "PC           19.12\n",
       "Wii          17.45\n",
       "PSV          10.98\n",
       "DS            4.59\n",
       "PSP           0.13"
      ]
     },
     "execution_count": 47,
     "metadata": {},
     "output_type": "execute_result"
    }
   ],
   "source": [
    "pd.pivot_table(actual_df, index='platform', values='na_sales',\n",
    "                                        aggfunc='sum').sort_values('na_sales', ascending=False)"
   ]
  },
  {
   "cell_type": "code",
   "execution_count": 48,
   "metadata": {},
   "outputs": [
    {
     "data": {
      "text/html": [
       "<div>\n",
       "<style scoped>\n",
       "    .dataframe tbody tr th:only-of-type {\n",
       "        vertical-align: middle;\n",
       "    }\n",
       "\n",
       "    .dataframe tbody tr th {\n",
       "        vertical-align: top;\n",
       "    }\n",
       "\n",
       "    .dataframe thead th {\n",
       "        text-align: right;\n",
       "    }\n",
       "</style>\n",
       "<table border=\"1\" class=\"dataframe\">\n",
       "  <thead>\n",
       "    <tr style=\"text-align: right;\">\n",
       "      <th></th>\n",
       "      <th>eu_sales</th>\n",
       "    </tr>\n",
       "    <tr>\n",
       "      <th>platform</th>\n",
       "      <th></th>\n",
       "    </tr>\n",
       "  </thead>\n",
       "  <tbody>\n",
       "    <tr>\n",
       "      <th>PS4</th>\n",
       "      <td>141.09</td>\n",
       "    </tr>\n",
       "    <tr>\n",
       "      <th>PS3</th>\n",
       "      <td>106.86</td>\n",
       "    </tr>\n",
       "    <tr>\n",
       "      <th>X360</th>\n",
       "      <td>74.52</td>\n",
       "    </tr>\n",
       "    <tr>\n",
       "      <th>XOne</th>\n",
       "      <td>51.59</td>\n",
       "    </tr>\n",
       "    <tr>\n",
       "      <th>3DS</th>\n",
       "      <td>42.64</td>\n",
       "    </tr>\n",
       "    <tr>\n",
       "      <th>PC</th>\n",
       "      <td>37.76</td>\n",
       "    </tr>\n",
       "    <tr>\n",
       "      <th>WiiU</th>\n",
       "      <td>25.13</td>\n",
       "    </tr>\n",
       "    <tr>\n",
       "      <th>Wii</th>\n",
       "      <td>11.92</td>\n",
       "    </tr>\n",
       "    <tr>\n",
       "      <th>PSV</th>\n",
       "      <td>11.36</td>\n",
       "    </tr>\n",
       "    <tr>\n",
       "      <th>DS</th>\n",
       "      <td>3.53</td>\n",
       "    </tr>\n",
       "    <tr>\n",
       "      <th>PSP</th>\n",
       "      <td>0.42</td>\n",
       "    </tr>\n",
       "  </tbody>\n",
       "</table>\n",
       "</div>"
      ],
      "text/plain": [
       "          eu_sales\n",
       "platform          \n",
       "PS4         141.09\n",
       "PS3         106.86\n",
       "X360         74.52\n",
       "XOne         51.59\n",
       "3DS          42.64\n",
       "PC           37.76\n",
       "WiiU         25.13\n",
       "Wii          11.92\n",
       "PSV          11.36\n",
       "DS            3.53\n",
       "PSP           0.42"
      ]
     },
     "execution_count": 48,
     "metadata": {},
     "output_type": "execute_result"
    }
   ],
   "source": [
    "pd.pivot_table(actual_df, index='platform', values='eu_sales',\n",
    "                                        aggfunc='sum').sort_values('eu_sales', ascending=False)"
   ]
  },
  {
   "cell_type": "code",
   "execution_count": 49,
   "metadata": {},
   "outputs": [
    {
     "data": {
      "text/html": [
       "<div>\n",
       "<style scoped>\n",
       "    .dataframe tbody tr th:only-of-type {\n",
       "        vertical-align: middle;\n",
       "    }\n",
       "\n",
       "    .dataframe tbody tr th {\n",
       "        vertical-align: top;\n",
       "    }\n",
       "\n",
       "    .dataframe thead th {\n",
       "        text-align: right;\n",
       "    }\n",
       "</style>\n",
       "<table border=\"1\" class=\"dataframe\">\n",
       "  <thead>\n",
       "    <tr style=\"text-align: right;\">\n",
       "      <th></th>\n",
       "      <th>jp_sales</th>\n",
       "    </tr>\n",
       "    <tr>\n",
       "      <th>platform</th>\n",
       "      <th></th>\n",
       "    </tr>\n",
       "  </thead>\n",
       "  <tbody>\n",
       "    <tr>\n",
       "      <th>3DS</th>\n",
       "      <td>87.79</td>\n",
       "    </tr>\n",
       "    <tr>\n",
       "      <th>PS3</th>\n",
       "      <td>35.29</td>\n",
       "    </tr>\n",
       "    <tr>\n",
       "      <th>PSV</th>\n",
       "      <td>21.04</td>\n",
       "    </tr>\n",
       "    <tr>\n",
       "      <th>PS4</th>\n",
       "      <td>15.96</td>\n",
       "    </tr>\n",
       "    <tr>\n",
       "      <th>WiiU</th>\n",
       "      <td>13.01</td>\n",
       "    </tr>\n",
       "    <tr>\n",
       "      <th>PSP</th>\n",
       "      <td>10.47</td>\n",
       "    </tr>\n",
       "    <tr>\n",
       "      <th>DS</th>\n",
       "      <td>3.72</td>\n",
       "    </tr>\n",
       "    <tr>\n",
       "      <th>Wii</th>\n",
       "      <td>3.39</td>\n",
       "    </tr>\n",
       "    <tr>\n",
       "      <th>X360</th>\n",
       "      <td>1.57</td>\n",
       "    </tr>\n",
       "    <tr>\n",
       "      <th>XOne</th>\n",
       "      <td>0.34</td>\n",
       "    </tr>\n",
       "    <tr>\n",
       "      <th>PC</th>\n",
       "      <td>0.00</td>\n",
       "    </tr>\n",
       "  </tbody>\n",
       "</table>\n",
       "</div>"
      ],
      "text/plain": [
       "          jp_sales\n",
       "platform          \n",
       "3DS          87.79\n",
       "PS3          35.29\n",
       "PSV          21.04\n",
       "PS4          15.96\n",
       "WiiU         13.01\n",
       "PSP          10.47\n",
       "DS            3.72\n",
       "Wii           3.39\n",
       "X360          1.57\n",
       "XOne          0.34\n",
       "PC            0.00"
      ]
     },
     "execution_count": 49,
     "metadata": {},
     "output_type": "execute_result"
    }
   ],
   "source": [
    "pd.pivot_table(actual_df, index='platform', values='jp_sales',\n",
    "                                        aggfunc='sum').sort_values('jp_sales', ascending=False)"
   ]
  },
  {
   "cell_type": "markdown",
   "metadata": {},
   "source": [
    "Рейтинг платформ:  \n",
    "- Северная Америка: X360,PS4,PS3,XOne,3DS\n",
    "- Европейский регион: PS4,PS3,X360,XOne,3DS\n",
    "- Япония: 3DS,PS3,PSV,PS4,WiiU"
   ]
  },
  {
   "cell_type": "markdown",
   "metadata": {},
   "source": [
    "1. Северная Америка:  \n",
    "Лидером является X360, за ним следуют PS4 и PS3. Это показывает сильную популярность консолей Microsoft и Sony в данном регионе.  \n",
    "XOne занимает четвёртую позицию, что говорит о том, что, несмотря на доминирование предыдущего поколения (X360), новое поколение консолей Microsoft также получило значительное внимание.  \n",
    "3DS на пятом месте, что указывает на популярность портативных консолей в Северной Америке, но с меньшим влиянием по сравнению с домашними консолями.  \n",
    "\n",
    "\n",
    "2. Европейский регион:  \n",
    "В Европе доминирует PS4, за ним идут PS3 и X360, что указывает на значительную популярность консолей Sony. PS4 явно сильнее в Европе, чем в Северной Америке.  \n",
    "XOne занимает четвёртое место, уступая X360, что отражает схожую картину с Северной Америкой.  \n",
    "3DS также входит в топ-5, но её влияние меньше, чем в Японии.\n",
    "\n",
    "\n",
    "3. Япония:  \n",
    "В Японии доминируют портативные консоли, с 3DS на первом месте и PSV на третьем, что показывает предпочтение японских игроков к мобильному игровому опыту.  \n",
    "Домашние консоли от Sony также популярны, с PS3 на втором месте и PS4 на четвёртом, однако их влияние значительно меньше, чем в Северной Америке и Европе.  \n",
    "WiiU от Nintendo занимает пятую позицию, отражая популярность компании в Японии.  \n",
    "\n",
    "\n",
    "4. Общий вывод:  \n",
    "Sony доминирует на всех трёх рынках, особенно в Европе, где PS4 и PS3 занимают первые места.\n",
    "Microsoft значительно сильнее в Северной Америке, где X360 занимает первое место, а XOne — четвёртое. В Европе их влияние также заметно, хотя в Японии Microsoft практически отсутствует.\n",
    "Nintendo наиболее успешно в Японии, с 3DS на первом месте и WiiU на пятом. В Северной Америке и Европе портативные консоли от Nintendo также популярны, но менее влиятельны по сравнению с домашними консолями."
   ]
  },
  {
   "cell_type": "code",
   "execution_count": 50,
   "metadata": {},
   "outputs": [
    {
     "data": {
      "image/png": "[encoded data removed]",
      "text/plain": [
       "<Figure size 864x432 with 1 Axes>"
      ]
     },
     "metadata": {
      "needs_background": "light"
     },
     "output_type": "display_data"
    }
   ],
   "source": [
    "sales_pv = pd.pivot_table(actual_df, index='platform', values=['na_sales', 'eu_sales', 'jp_sales'], aggfunc='sum').reset_index().melt(id_vars='platform', var_name='Region', value_name='Sales')\n",
    "\n",
    "plt.figure(figsize=(12, 6))\n",
    "sns.barplot(data=sales_pv, x='platform', y='Sales', hue='Region')\n",
    "\n",
    "plt.title('Продажи по регионам и платформам')\n",
    "plt.xlabel('Платформа')\n",
    "plt.ylabel('Общие продажи')\n",
    "plt.xticks(rotation=45)\n",
    "plt.legend(loc='upper left', bbox_to_anchor=(1, 1))\n",
    "plt.grid(True)\n",
    "plt.tight_layout()\n",
    "plt.show()"
   ]
  },
  {
   "cell_type": "markdown",
   "metadata": {},
   "source": [
    "### Самые популярные жанры."
   ]
  },
  {
   "cell_type": "code",
   "execution_count": 51,
   "metadata": {},
   "outputs": [
    {
     "data": {
      "text/html": [
       "<div>\n",
       "<style scoped>\n",
       "    .dataframe tbody tr th:only-of-type {\n",
       "        vertical-align: middle;\n",
       "    }\n",
       "\n",
       "    .dataframe tbody tr th {\n",
       "        vertical-align: top;\n",
       "    }\n",
       "\n",
       "    .dataframe thead th {\n",
       "        text-align: right;\n",
       "    }\n",
       "</style>\n",
       "<table border=\"1\" class=\"dataframe\">\n",
       "  <thead>\n",
       "    <tr style=\"text-align: right;\">\n",
       "      <th></th>\n",
       "      <th>na_sales</th>\n",
       "    </tr>\n",
       "    <tr>\n",
       "      <th>genre</th>\n",
       "      <th></th>\n",
       "    </tr>\n",
       "  </thead>\n",
       "  <tbody>\n",
       "    <tr>\n",
       "      <th>Action</th>\n",
       "      <td>177.84</td>\n",
       "    </tr>\n",
       "    <tr>\n",
       "      <th>Shooter</th>\n",
       "      <td>144.77</td>\n",
       "    </tr>\n",
       "    <tr>\n",
       "      <th>Sports</th>\n",
       "      <td>81.53</td>\n",
       "    </tr>\n",
       "    <tr>\n",
       "      <th>Role-Playing</th>\n",
       "      <td>64.00</td>\n",
       "    </tr>\n",
       "    <tr>\n",
       "      <th>Misc</th>\n",
       "      <td>38.19</td>\n",
       "    </tr>\n",
       "    <tr>\n",
       "      <th>Platform</th>\n",
       "      <td>25.38</td>\n",
       "    </tr>\n",
       "    <tr>\n",
       "      <th>Fighting</th>\n",
       "      <td>19.79</td>\n",
       "    </tr>\n",
       "    <tr>\n",
       "      <th>Racing</th>\n",
       "      <td>17.22</td>\n",
       "    </tr>\n",
       "    <tr>\n",
       "      <th>Adventure</th>\n",
       "      <td>8.92</td>\n",
       "    </tr>\n",
       "    <tr>\n",
       "      <th>Simulation</th>\n",
       "      <td>7.97</td>\n",
       "    </tr>\n",
       "    <tr>\n",
       "      <th>Strategy</th>\n",
       "      <td>4.23</td>\n",
       "    </tr>\n",
       "    <tr>\n",
       "      <th>Puzzle</th>\n",
       "      <td>1.13</td>\n",
       "    </tr>\n",
       "  </tbody>\n",
       "</table>\n",
       "</div>"
      ],
      "text/plain": [
       "              na_sales\n",
       "genre                 \n",
       "Action          177.84\n",
       "Shooter         144.77\n",
       "Sports           81.53\n",
       "Role-Playing     64.00\n",
       "Misc             38.19\n",
       "Platform         25.38\n",
       "Fighting         19.79\n",
       "Racing           17.22\n",
       "Adventure         8.92\n",
       "Simulation        7.97\n",
       "Strategy          4.23\n",
       "Puzzle            1.13"
      ]
     },
     "execution_count": 51,
     "metadata": {},
     "output_type": "execute_result"
    }
   ],
   "source": [
    "pd.pivot_table(actual_df, index='genre', values='na_sales',\n",
    "                                        aggfunc='sum').sort_values('na_sales', ascending=False)"
   ]
  },
  {
   "cell_type": "code",
   "execution_count": 52,
   "metadata": {},
   "outputs": [
    {
     "data": {
      "text/html": [
       "<div>\n",
       "<style scoped>\n",
       "    .dataframe tbody tr th:only-of-type {\n",
       "        vertical-align: middle;\n",
       "    }\n",
       "\n",
       "    .dataframe tbody tr th {\n",
       "        vertical-align: top;\n",
       "    }\n",
       "\n",
       "    .dataframe thead th {\n",
       "        text-align: right;\n",
       "    }\n",
       "</style>\n",
       "<table border=\"1\" class=\"dataframe\">\n",
       "  <thead>\n",
       "    <tr style=\"text-align: right;\">\n",
       "      <th></th>\n",
       "      <th>eu_sales</th>\n",
       "    </tr>\n",
       "    <tr>\n",
       "      <th>genre</th>\n",
       "      <th></th>\n",
       "    </tr>\n",
       "  </thead>\n",
       "  <tbody>\n",
       "    <tr>\n",
       "      <th>Action</th>\n",
       "      <td>159.34</td>\n",
       "    </tr>\n",
       "    <tr>\n",
       "      <th>Shooter</th>\n",
       "      <td>113.47</td>\n",
       "    </tr>\n",
       "    <tr>\n",
       "      <th>Sports</th>\n",
       "      <td>69.09</td>\n",
       "    </tr>\n",
       "    <tr>\n",
       "      <th>Role-Playing</th>\n",
       "      <td>48.53</td>\n",
       "    </tr>\n",
       "    <tr>\n",
       "      <th>Racing</th>\n",
       "      <td>27.29</td>\n",
       "    </tr>\n",
       "    <tr>\n",
       "      <th>Misc</th>\n",
       "      <td>26.32</td>\n",
       "    </tr>\n",
       "    <tr>\n",
       "      <th>Platform</th>\n",
       "      <td>21.41</td>\n",
       "    </tr>\n",
       "    <tr>\n",
       "      <th>Simulation</th>\n",
       "      <td>14.55</td>\n",
       "    </tr>\n",
       "    <tr>\n",
       "      <th>Fighting</th>\n",
       "      <td>10.79</td>\n",
       "    </tr>\n",
       "    <tr>\n",
       "      <th>Adventure</th>\n",
       "      <td>9.46</td>\n",
       "    </tr>\n",
       "    <tr>\n",
       "      <th>Strategy</th>\n",
       "      <td>5.17</td>\n",
       "    </tr>\n",
       "    <tr>\n",
       "      <th>Puzzle</th>\n",
       "      <td>1.40</td>\n",
       "    </tr>\n",
       "  </tbody>\n",
       "</table>\n",
       "</div>"
      ],
      "text/plain": [
       "              eu_sales\n",
       "genre                 \n",
       "Action          159.34\n",
       "Shooter         113.47\n",
       "Sports           69.09\n",
       "Role-Playing     48.53\n",
       "Racing           27.29\n",
       "Misc             26.32\n",
       "Platform         21.41\n",
       "Simulation       14.55\n",
       "Fighting         10.79\n",
       "Adventure         9.46\n",
       "Strategy          5.17\n",
       "Puzzle            1.40"
      ]
     },
     "execution_count": 52,
     "metadata": {},
     "output_type": "execute_result"
    }
   ],
   "source": [
    "pd.pivot_table(actual_df, index='genre', values='eu_sales',\n",
    "                                        aggfunc='sum').sort_values('eu_sales', ascending=False)"
   ]
  },
  {
   "cell_type": "code",
   "execution_count": 53,
   "metadata": {},
   "outputs": [
    {
     "data": {
      "text/html": [
       "<div>\n",
       "<style scoped>\n",
       "    .dataframe tbody tr th:only-of-type {\n",
       "        vertical-align: middle;\n",
       "    }\n",
       "\n",
       "    .dataframe tbody tr th {\n",
       "        vertical-align: top;\n",
       "    }\n",
       "\n",
       "    .dataframe thead th {\n",
       "        text-align: right;\n",
       "    }\n",
       "</style>\n",
       "<table border=\"1\" class=\"dataframe\">\n",
       "  <thead>\n",
       "    <tr style=\"text-align: right;\">\n",
       "      <th></th>\n",
       "      <th>jp_sales</th>\n",
       "    </tr>\n",
       "    <tr>\n",
       "      <th>genre</th>\n",
       "      <th></th>\n",
       "    </tr>\n",
       "  </thead>\n",
       "  <tbody>\n",
       "    <tr>\n",
       "      <th>Role-Playing</th>\n",
       "      <td>65.44</td>\n",
       "    </tr>\n",
       "    <tr>\n",
       "      <th>Action</th>\n",
       "      <td>52.80</td>\n",
       "    </tr>\n",
       "    <tr>\n",
       "      <th>Misc</th>\n",
       "      <td>12.86</td>\n",
       "    </tr>\n",
       "    <tr>\n",
       "      <th>Simulation</th>\n",
       "      <td>10.41</td>\n",
       "    </tr>\n",
       "    <tr>\n",
       "      <th>Fighting</th>\n",
       "      <td>9.44</td>\n",
       "    </tr>\n",
       "    <tr>\n",
       "      <th>Shooter</th>\n",
       "      <td>9.23</td>\n",
       "    </tr>\n",
       "    <tr>\n",
       "      <th>Platform</th>\n",
       "      <td>8.63</td>\n",
       "    </tr>\n",
       "    <tr>\n",
       "      <th>Adventure</th>\n",
       "      <td>8.24</td>\n",
       "    </tr>\n",
       "    <tr>\n",
       "      <th>Sports</th>\n",
       "      <td>8.01</td>\n",
       "    </tr>\n",
       "    <tr>\n",
       "      <th>Strategy</th>\n",
       "      <td>2.88</td>\n",
       "    </tr>\n",
       "    <tr>\n",
       "      <th>Racing</th>\n",
       "      <td>2.50</td>\n",
       "    </tr>\n",
       "    <tr>\n",
       "      <th>Puzzle</th>\n",
       "      <td>2.14</td>\n",
       "    </tr>\n",
       "  </tbody>\n",
       "</table>\n",
       "</div>"
      ],
      "text/plain": [
       "              jp_sales\n",
       "genre                 \n",
       "Role-Playing     65.44\n",
       "Action           52.80\n",
       "Misc             12.86\n",
       "Simulation       10.41\n",
       "Fighting          9.44\n",
       "Shooter           9.23\n",
       "Platform          8.63\n",
       "Adventure         8.24\n",
       "Sports            8.01\n",
       "Strategy          2.88\n",
       "Racing            2.50\n",
       "Puzzle            2.14"
      ]
     },
     "execution_count": 53,
     "metadata": {},
     "output_type": "execute_result"
    }
   ],
   "source": [
    "pd.pivot_table(actual_df, index='genre', values='jp_sales',\n",
    "                                        aggfunc='sum').sort_values('jp_sales', ascending=False)"
   ]
  },
  {
   "cell_type": "markdown",
   "metadata": {},
   "source": [
    "Рейтинг жанров:  \n",
    "- Северная Америка: Action, Shooter, Sports, Role-Playing и Misc\n",
    "- Европейский регион: Action, Shooter, Sports, Role-Playing и Racing\n",
    "- Япония: Role-Playing, Action, Misc, Fighting и Shooter"
   ]
  },
  {
   "cell_type": "markdown",
   "metadata": {},
   "source": [
    "1. Северная Америка:  \n",
    "Action и Shooter — лидирующие жанры, отражая любовь североамериканских игроков к динамичным играм с экшеном и боевыми действиями.  \n",
    "Sports занимает третье место, что свидетельствует о популярности спортивных симуляторов.  \n",
    "Role-Playing (ролевые игры) также популярны, но уступают более экшен-ориентированным жанрам.  \n",
    "Misc (разнообразные игры) на пятом месте, что указывает на определённый интерес к играм, которые сложно отнести к традиционным жанрам.  \n",
    "\n",
    "\n",
    "2. Европейский регион:    \n",
    "Как и в Северной Америке, Action и Shooter занимают лидирующие позиции, что говорит о схожих предпочтениях между двумя западными регионами.  \n",
    "Sports на третьем месте, что подтверждает популярность спортивных игр и в Европе.  \n",
    "Role-Playing также входит в топ-4, однако заметна любовь европейских игроков к Racing (гоночным играм), которые занимают пятую позицию, чего нет в Северной Америке.  \n",
    "\n",
    "\n",
    "3. Япония:  \n",
    "В отличие от западных рынков, в Японии на первом месте находятся Role-Playing (ролевые игры), что свидетельствует о глубокой привязанности японских игроков к этому жанру, который тесно связан с культурой японских игр (например, JRPG).\n",
    "Action также популярен, занимая вторую позицию, но уступает ролевым играм.  \n",
    "Misc и Fighting занимают третье и четвертое места соответственно, что отражает интерес к уникальным жанрам и бойцовским играм, что характерно для японского рынка.  \n",
    "Shooter находится на пятом месте, что показывает меньший интерес к этому жанру по сравнению с западными рынками.  \n",
    "\n",
    "\n",
    "4. Общий вывод:  \n",
    "Action и Shooter — два самых популярных жанра как в Северной Америке, так и в Европе, что указывает на глобальный интерес к динамичным играм и шутерам в этих регионах.  \n",
    "Sports также стабильно популярен Северной Америке и Европе.  \n",
    "В Японии, в отличие от западных рынков, доминируют Role-Playing игры, что подчеркивает культурные различия в предпочтениях игроков. Японский рынок также выделяется сильной позицией жанров Fighting и Misc, которых нет в топах на Западе.  \n",
    "Европейские игроки отличаются более выраженным интересом к гоночным играм (Racing), что не так заметно в других регионах."
   ]
  },
  {
   "cell_type": "markdown",
   "metadata": {},
   "source": [
    "### Влияет ли рейтинг ESRB на продажи в отдельном регионе?"
   ]
  },
  {
   "cell_type": "code",
   "execution_count": 54,
   "metadata": {},
   "outputs": [
    {
     "data": {
      "text/html": [
       "<div>\n",
       "<style scoped>\n",
       "    .dataframe tbody tr th:only-of-type {\n",
       "        vertical-align: middle;\n",
       "    }\n",
       "\n",
       "    .dataframe tbody tr th {\n",
       "        vertical-align: top;\n",
       "    }\n",
       "\n",
       "    .dataframe thead th {\n",
       "        text-align: right;\n",
       "    }\n",
       "</style>\n",
       "<table border=\"1\" class=\"dataframe\">\n",
       "  <thead>\n",
       "    <tr style=\"text-align: right;\">\n",
       "      <th></th>\n",
       "      <th>na_sales</th>\n",
       "    </tr>\n",
       "    <tr>\n",
       "      <th>rating</th>\n",
       "      <th></th>\n",
       "    </tr>\n",
       "  </thead>\n",
       "  <tbody>\n",
       "    <tr>\n",
       "      <th>M</th>\n",
       "      <td>231.57</td>\n",
       "    </tr>\n",
       "    <tr>\n",
       "      <th>E</th>\n",
       "      <td>114.37</td>\n",
       "    </tr>\n",
       "    <tr>\n",
       "      <th>E10+</th>\n",
       "      <td>75.70</td>\n",
       "    </tr>\n",
       "    <tr>\n",
       "      <th>T</th>\n",
       "      <td>66.02</td>\n",
       "    </tr>\n",
       "  </tbody>\n",
       "</table>\n",
       "</div>"
      ],
      "text/plain": [
       "        na_sales\n",
       "rating          \n",
       "M         231.57\n",
       "E         114.37\n",
       "E10+       75.70\n",
       "T          66.02"
      ]
     },
     "execution_count": 54,
     "metadata": {},
     "output_type": "execute_result"
    }
   ],
   "source": [
    "pd.pivot_table(actual_df, index='rating', values='na_sales',\n",
    "                                        aggfunc='sum').sort_values('na_sales', ascending=False)"
   ]
  },
  {
   "cell_type": "code",
   "execution_count": 55,
   "metadata": {},
   "outputs": [
    {
     "data": {
      "text/html": [
       "<div>\n",
       "<style scoped>\n",
       "    .dataframe tbody tr th:only-of-type {\n",
       "        vertical-align: middle;\n",
       "    }\n",
       "\n",
       "    .dataframe tbody tr th {\n",
       "        vertical-align: top;\n",
       "    }\n",
       "\n",
       "    .dataframe thead th {\n",
       "        text-align: right;\n",
       "    }\n",
       "</style>\n",
       "<table border=\"1\" class=\"dataframe\">\n",
       "  <thead>\n",
       "    <tr style=\"text-align: right;\">\n",
       "      <th></th>\n",
       "      <th>eu_sales</th>\n",
       "    </tr>\n",
       "    <tr>\n",
       "      <th>rating</th>\n",
       "      <th></th>\n",
       "    </tr>\n",
       "  </thead>\n",
       "  <tbody>\n",
       "    <tr>\n",
       "      <th>M</th>\n",
       "      <td>193.96</td>\n",
       "    </tr>\n",
       "    <tr>\n",
       "      <th>E</th>\n",
       "      <td>113.03</td>\n",
       "    </tr>\n",
       "    <tr>\n",
       "      <th>E10+</th>\n",
       "      <td>55.37</td>\n",
       "    </tr>\n",
       "    <tr>\n",
       "      <th>T</th>\n",
       "      <td>52.96</td>\n",
       "    </tr>\n",
       "  </tbody>\n",
       "</table>\n",
       "</div>"
      ],
      "text/plain": [
       "        eu_sales\n",
       "rating          \n",
       "M         193.96\n",
       "E         113.03\n",
       "E10+       55.37\n",
       "T          52.96"
      ]
     },
     "execution_count": 55,
     "metadata": {},
     "output_type": "execute_result"
    }
   ],
   "source": [
    "pd.pivot_table(actual_df, index='rating', values='eu_sales',\n",
    "                                        aggfunc='sum').sort_values('eu_sales', ascending=False)"
   ]
  },
  {
   "cell_type": "code",
   "execution_count": 56,
   "metadata": {},
   "outputs": [
    {
     "data": {
      "text/html": [
       "<div>\n",
       "<style scoped>\n",
       "    .dataframe tbody tr th:only-of-type {\n",
       "        vertical-align: middle;\n",
       "    }\n",
       "\n",
       "    .dataframe tbody tr th {\n",
       "        vertical-align: top;\n",
       "    }\n",
       "\n",
       "    .dataframe thead th {\n",
       "        text-align: right;\n",
       "    }\n",
       "</style>\n",
       "<table border=\"1\" class=\"dataframe\">\n",
       "  <thead>\n",
       "    <tr style=\"text-align: right;\">\n",
       "      <th></th>\n",
       "      <th>jp_sales</th>\n",
       "    </tr>\n",
       "    <tr>\n",
       "      <th>rating</th>\n",
       "      <th></th>\n",
       "    </tr>\n",
       "  </thead>\n",
       "  <tbody>\n",
       "    <tr>\n",
       "      <th>E</th>\n",
       "      <td>28.33</td>\n",
       "    </tr>\n",
       "    <tr>\n",
       "      <th>T</th>\n",
       "      <td>26.02</td>\n",
       "    </tr>\n",
       "    <tr>\n",
       "      <th>M</th>\n",
       "      <td>21.20</td>\n",
       "    </tr>\n",
       "    <tr>\n",
       "      <th>E10+</th>\n",
       "      <td>8.19</td>\n",
       "    </tr>\n",
       "  </tbody>\n",
       "</table>\n",
       "</div>"
      ],
      "text/plain": [
       "        jp_sales\n",
       "rating          \n",
       "E          28.33\n",
       "T          26.02\n",
       "M          21.20\n",
       "E10+        8.19"
      ]
     },
     "execution_count": 56,
     "metadata": {},
     "output_type": "execute_result"
    }
   ],
   "source": [
    "pd.pivot_table(actual_df, index='rating', values='jp_sales',\n",
    "                                        aggfunc='sum').sort_values('jp_sales', ascending=False)"
   ]
  },
  {
   "cell_type": "markdown",
   "metadata": {},
   "source": [
    "В регионах Северной Америки и Европы большая часть продаж приходится на рейтинг \"М\"(для взрослых), на втором по популярности \"E\"(для всех).  \n",
    "В Японии же наоборот, рейтинг \"E\" занимает первое место, а рейтинг \"М\" третье. Второй по популярности рейтинг \"T\"(подростки).\n"
   ]
  },
  {
   "cell_type": "markdown",
   "metadata": {},
   "source": [
    "**Промежуточный вывод:**\n",
    "- В Северной Америке и Европе лидирами платформы являются PS4,Ps3,X360,XOne,3DS. В Японии 3DS,PS3,PSV,PS4,WiiU\n",
    "- Самыми популярными жанрами являются Action и Shooter\n",
    "- В регионах NA и EU ключевой аудторией являются взрослые. В Японии делают упор на подростков"
   ]
  },
  {
   "cell_type": "markdown",
   "metadata": {},
   "source": [
    "## Проверка гипотез"
   ]
  },
  {
   "cell_type": "markdown",
   "metadata": {},
   "source": [
    "### Средние пользовательские рейтинги платформ Xbox One и PC одинаковые?"
   ]
  },
  {
   "cell_type": "markdown",
   "metadata": {},
   "source": [
    "- Нулевая гипотеза H0: пользовательские рейтинги Xbox One и PC одинаковые\n",
    "- Альтернативная гипотеза H1: пользовательские рейтинги различаются\n",
    "Метод проверки гипотезы о равенстве двух генеральных совокупностей."
   ]
  },
  {
   "cell_type": "code",
   "execution_count": 57,
   "metadata": {},
   "outputs": [
    {
     "name": "stdout",
     "output_type": "stream",
     "text": [
      "p-значение: 0.5535102819461235\n",
      "Не получилось отвергнуть нулевую гипотезу\n"
     ]
    }
   ],
   "source": [
    "alpha = 0.05\n",
    "\n",
    "results = st.ttest_ind(\n",
    "    actual_df.loc[(actual_df['platform'] == 'XOne') & (~actual_df['user_score'].isna()), 'user_score'],\n",
    "    actual_df.loc[(actual_df['platform'] == 'PC') & (~actual_df['user_score'].isna()), 'user_score']\n",
    ")\n",
    "\n",
    "print('p-значение:', results.pvalue)\n",
    "\n",
    "if  results.pvalue < alpha:\n",
    "    print(\"Отвергаем нулевую гипотезу\")\n",
    "else:\n",
    "    print(\"Не получилось отвергнуть нулевую гипотезу\")"
   ]
  },
  {
   "cell_type": "markdown",
   "metadata": {},
   "source": [
    "Пользователи XOne и PC в среднем ставят одинаковые оценки."
   ]
  },
  {
   "cell_type": "markdown",
   "metadata": {},
   "source": [
    "### Средние пользовательские рейтинги жанров Action и Sports  разные."
   ]
  },
  {
   "cell_type": "markdown",
   "metadata": {},
   "source": [
    "- Нулевая гипотеза H0: пользовательские рейтинги Action и Sports одинаковые\n",
    "- Альтернативная гипотеза H1: пользовательские рейтинги различаются\n",
    "Метод проверки гипотезы о равенстве двух генеральных совокупностей."
   ]
  },
  {
   "cell_type": "code",
   "execution_count": 58,
   "metadata": {},
   "outputs": [
    {
     "name": "stdout",
     "output_type": "stream",
     "text": [
      "p-значение: 3.716101071226201e-26\n",
      "Отвергаем нулевую гипотезу\n"
     ]
    }
   ],
   "source": [
    "alpha = 0.05\n",
    "\n",
    "results = st.ttest_ind(\n",
    "    actual_df.loc[(actual_df['genre'] == 'Action') & (~actual_df['user_score'].isna()), 'user_score'],\n",
    "    actual_df.loc[(actual_df['genre'] == 'Sports') & (~actual_df['user_score'].isna()), 'user_score']\n",
    ")\n",
    "\n",
    "print('p-значение:', results.pvalue)\n",
    "\n",
    "if  results.pvalue < alpha:\n",
    "    print(\"Отвергаем нулевую гипотезу\")\n",
    "else:\n",
    "    print(\"Не получилось отвергнуть нулевую гипотезу\")"
   ]
  },
  {
   "cell_type": "markdown",
   "metadata": {},
   "source": [
    "Действительно, пользовательский рейтинги жанров Action и Sports различаются"
   ]
  },
  {
   "cell_type": "markdown",
   "metadata": {},
   "source": [
    "## Вывод"
   ]
  },
  {
   "cell_type": "markdown",
   "metadata": {},
   "source": [
    "База данных содержит информацию об играх, выпускавшихся с 1993 года. За это время игровой рынок претерпел значительные изменения. Ключевой переход произошёл в 2012-2013 годах с выходом консолей нового поколения. На сегодняшний день наиболее популярными платформами являются Xbox 360, Xbox One, PS3 и PS4. Для максимального охвата аудитории игра должна быть представлена на этих консолях, так как они обладают широкой пользовательской базой.\n",
    "\n",
    "Хотя на рынке представлено огромное количество игр, большинство из них не пользуются популярностью. Условной границей, отделяющей успешные проекты, считаются продажи на уровне 200 тысяч копий. Преодоление этого порога свидетельствует о явном успехе. Факторы влияющие на популярность игры:\n",
    "\n",
    "- Оценки критиков: Оценки пользователей не оказывают существенного влияния на продажи, в отличие от рецензий критиков. Наблюдается явная корреляция между высокими оценками критиков и коммерческим успехом. Трудно сказать, что первично — хвалят ли критики потенциально успешные игры или их отзывы способствуют росту популярности. Однако это стоит учитывать в маркетинговых стратегиях, поскольку положительные рецензии могут повлиять на успех продукта.\n",
    "\n",
    "- Выбор жанра: Несмотря на доминирование экшен-игр, самые успешные продажи наблюдаются у шутеров, спортивных игр и платформеров. Вероятно, аудитория этих жанров более склонна к покупкам. Кроме того, конкуренция в этих категориях ниже, что повышает шансы игры быть замеченной на рынке.\n",
    "\n",
    "\n",
    "Рекомендации для компании на 2017 год:\n",
    "\n",
    "- Сосредоточить внимание на современных платформах (PS4, XOne, 3DS).\n",
    "- Продавать популярные жанры: экшен, шутеры, спортивные и ролевые игры.\n",
    "- Следить за аудиторией, большинство игр нацелены на игроков 17 лет и старше.\n",
    "- Не забывать о распространении игр для ПК, включая порты с других платформ. Компьютер остаётся конкурентоспособным для игровой индустрии."
   ]
  },
  {
   "cell_type": "code",
   "execution_count": null,
   "metadata": {},
   "outputs": [],
   "source": []
  }
 ],
 "metadata": {
  "ExecuteTimeLog": [
   {
    "duration": 904,
    "start_time": "2024-09-04T19:07:39.792Z"
   },
   {
    "duration": 180,
    "start_time": "2024-09-04T19:07:41.616Z"
   },
   {
    "duration": 20,
    "start_time": "2024-09-04T19:24:24.596Z"
   },
   {
    "duration": 16,
    "start_time": "2024-09-04T19:24:54.048Z"
   },
   {
    "duration": 5,
    "start_time": "2024-09-04T20:10:59.765Z"
   },
   {
    "duration": 4,
    "start_time": "2024-09-04T20:11:05.603Z"
   },
   {
    "duration": 20,
    "start_time": "2024-09-04T20:12:46.241Z"
   },
   {
    "duration": 10,
    "start_time": "2024-09-04T20:12:53.936Z"
   },
   {
    "duration": 7,
    "start_time": "2024-09-04T20:13:45.732Z"
   },
   {
    "duration": 13,
    "start_time": "2024-09-04T20:13:55.168Z"
   },
   {
    "duration": 76,
    "start_time": "2024-09-04T20:38:36.974Z"
   },
   {
    "duration": 8,
    "start_time": "2024-09-04T20:38:52.523Z"
   },
   {
    "duration": 8,
    "start_time": "2024-09-04T20:39:00.356Z"
   },
   {
    "duration": 13,
    "start_time": "2024-09-04T20:39:19.576Z"
   },
   {
    "duration": 65,
    "start_time": "2024-09-04T20:39:29.561Z"
   },
   {
    "duration": 13,
    "start_time": "2024-09-04T20:39:36.559Z"
   },
   {
    "duration": 8,
    "start_time": "2024-09-04T20:40:20.985Z"
   },
   {
    "duration": 17,
    "start_time": "2024-09-04T20:40:25.023Z"
   },
   {
    "duration": 22,
    "start_time": "2024-09-04T20:40:59.353Z"
   },
   {
    "duration": 10,
    "start_time": "2024-09-05T11:14:44.581Z"
   },
   {
    "duration": 47,
    "start_time": "2024-09-05T11:49:51.462Z"
   },
   {
    "duration": 802,
    "start_time": "2024-09-05T11:49:55.362Z"
   },
   {
    "duration": 210,
    "start_time": "2024-09-05T11:49:56.166Z"
   },
   {
    "duration": 19,
    "start_time": "2024-09-05T11:49:56.377Z"
   },
   {
    "duration": 20,
    "start_time": "2024-09-05T11:49:56.398Z"
   },
   {
    "duration": 3,
    "start_time": "2024-09-05T11:49:56.420Z"
   },
   {
    "duration": 32,
    "start_time": "2024-09-05T11:49:56.424Z"
   },
   {
    "duration": 27,
    "start_time": "2024-09-05T11:49:56.457Z"
   },
   {
    "duration": 20,
    "start_time": "2024-09-05T11:49:56.486Z"
   },
   {
    "duration": 13,
    "start_time": "2024-09-05T11:49:56.508Z"
   },
   {
    "duration": 24,
    "start_time": "2024-09-05T11:49:56.523Z"
   },
   {
    "duration": 15,
    "start_time": "2024-09-05T11:49:56.549Z"
   },
   {
    "duration": 936,
    "start_time": "2024-09-05T11:50:53.745Z"
   },
   {
    "duration": 1800,
    "start_time": "2024-09-05T11:51:03.278Z"
   },
   {
    "duration": 911,
    "start_time": "2024-09-05T11:51:09.758Z"
   },
   {
    "duration": 23,
    "start_time": "2024-09-05T11:51:15.430Z"
   },
   {
    "duration": 13,
    "start_time": "2024-09-05T11:51:28.795Z"
   },
   {
    "duration": 8,
    "start_time": "2024-09-05T11:51:33.659Z"
   },
   {
    "duration": 8,
    "start_time": "2024-09-05T11:51:37.217Z"
   },
   {
    "duration": 20,
    "start_time": "2024-09-05T11:51:47.403Z"
   },
   {
    "duration": 10,
    "start_time": "2024-09-05T11:53:33.346Z"
   },
   {
    "duration": 3,
    "start_time": "2024-09-05T11:55:45.885Z"
   },
   {
    "duration": 13,
    "start_time": "2024-09-05T11:56:11.439Z"
   },
   {
    "duration": 8,
    "start_time": "2024-09-05T11:58:03.684Z"
   },
   {
    "duration": 6,
    "start_time": "2024-09-05T11:59:28.610Z"
   },
   {
    "duration": 656,
    "start_time": "2024-09-05T11:59:40.018Z"
   },
   {
    "duration": 58,
    "start_time": "2024-09-05T11:59:40.675Z"
   },
   {
    "duration": 17,
    "start_time": "2024-09-05T11:59:40.734Z"
   },
   {
    "duration": 14,
    "start_time": "2024-09-05T11:59:40.753Z"
   },
   {
    "duration": 3,
    "start_time": "2024-09-05T11:59:40.769Z"
   },
   {
    "duration": 5,
    "start_time": "2024-09-05T11:59:40.774Z"
   },
   {
    "duration": 91,
    "start_time": "2024-09-05T11:59:40.780Z"
   },
   {
    "duration": 0,
    "start_time": "2024-09-05T11:59:40.873Z"
   },
   {
    "duration": 0,
    "start_time": "2024-09-05T11:59:40.874Z"
   },
   {
    "duration": 0,
    "start_time": "2024-09-05T11:59:40.875Z"
   },
   {
    "duration": 0,
    "start_time": "2024-09-05T11:59:40.876Z"
   },
   {
    "duration": 0,
    "start_time": "2024-09-05T11:59:40.876Z"
   },
   {
    "duration": 0,
    "start_time": "2024-09-05T11:59:40.877Z"
   },
   {
    "duration": 0,
    "start_time": "2024-09-05T11:59:40.878Z"
   },
   {
    "duration": 0,
    "start_time": "2024-09-05T11:59:40.880Z"
   },
   {
    "duration": 11,
    "start_time": "2024-09-05T12:00:19.818Z"
   },
   {
    "duration": 658,
    "start_time": "2024-09-05T12:00:24.017Z"
   },
   {
    "duration": 57,
    "start_time": "2024-09-05T12:00:24.677Z"
   },
   {
    "duration": 17,
    "start_time": "2024-09-05T12:00:24.735Z"
   },
   {
    "duration": 51,
    "start_time": "2024-09-05T12:00:24.753Z"
   },
   {
    "duration": 3,
    "start_time": "2024-09-05T12:00:24.806Z"
   },
   {
    "duration": 5,
    "start_time": "2024-09-05T12:00:24.810Z"
   },
   {
    "duration": 17,
    "start_time": "2024-09-05T12:00:24.817Z"
   },
   {
    "duration": 10,
    "start_time": "2024-09-05T12:00:24.835Z"
   },
   {
    "duration": 13,
    "start_time": "2024-09-05T12:00:24.846Z"
   },
   {
    "duration": 15,
    "start_time": "2024-09-05T12:00:24.861Z"
   },
   {
    "duration": 23,
    "start_time": "2024-09-05T12:00:24.878Z"
   },
   {
    "duration": 961,
    "start_time": "2024-09-05T12:00:24.902Z"
   },
   {
    "duration": 23,
    "start_time": "2024-09-05T12:00:25.865Z"
   },
   {
    "duration": 11,
    "start_time": "2024-09-05T12:00:25.890Z"
   },
   {
    "duration": 112,
    "start_time": "2024-09-05T12:00:25.902Z"
   },
   {
    "duration": 54,
    "start_time": "2024-09-05T12:20:16.648Z"
   },
   {
    "duration": 21,
    "start_time": "2024-09-05T12:20:20.584Z"
   },
   {
    "duration": 8,
    "start_time": "2024-09-05T12:29:01.786Z"
   },
   {
    "duration": 634,
    "start_time": "2024-09-05T12:29:05.246Z"
   },
   {
    "duration": 68,
    "start_time": "2024-09-05T12:29:05.883Z"
   },
   {
    "duration": 18,
    "start_time": "2024-09-05T12:29:05.953Z"
   },
   {
    "duration": 46,
    "start_time": "2024-09-05T12:29:05.972Z"
   },
   {
    "duration": 3,
    "start_time": "2024-09-05T12:29:06.021Z"
   },
   {
    "duration": 19,
    "start_time": "2024-09-05T12:29:06.025Z"
   },
   {
    "duration": 23,
    "start_time": "2024-09-05T12:29:06.045Z"
   },
   {
    "duration": 10,
    "start_time": "2024-09-05T12:29:06.069Z"
   },
   {
    "duration": 15,
    "start_time": "2024-09-05T12:29:06.081Z"
   },
   {
    "duration": 24,
    "start_time": "2024-09-05T12:29:06.098Z"
   },
   {
    "duration": 23,
    "start_time": "2024-09-05T12:29:06.123Z"
   },
   {
    "duration": 931,
    "start_time": "2024-09-05T12:29:06.147Z"
   },
   {
    "duration": 24,
    "start_time": "2024-09-05T12:29:07.080Z"
   },
   {
    "duration": 24,
    "start_time": "2024-09-05T12:29:07.107Z"
   },
   {
    "duration": 20,
    "start_time": "2024-09-05T12:29:07.132Z"
   },
   {
    "duration": 16,
    "start_time": "2024-09-05T12:34:13.109Z"
   },
   {
    "duration": 14,
    "start_time": "2024-09-05T12:34:16.804Z"
   },
   {
    "duration": 12,
    "start_time": "2024-09-05T12:34:53.046Z"
   },
   {
    "duration": 12,
    "start_time": "2024-09-05T12:35:17.013Z"
   },
   {
    "duration": 5,
    "start_time": "2024-09-05T12:35:38.448Z"
   },
   {
    "duration": 8,
    "start_time": "2024-09-05T12:35:44.231Z"
   },
   {
    "duration": 5,
    "start_time": "2024-09-05T12:35:44.985Z"
   },
   {
    "duration": 670,
    "start_time": "2024-09-05T12:35:50.924Z"
   },
   {
    "duration": 58,
    "start_time": "2024-09-05T12:35:51.596Z"
   },
   {
    "duration": 19,
    "start_time": "2024-09-05T12:35:51.655Z"
   },
   {
    "duration": 57,
    "start_time": "2024-09-05T12:35:51.675Z"
   },
   {
    "duration": 3,
    "start_time": "2024-09-05T12:35:51.735Z"
   },
   {
    "duration": 16,
    "start_time": "2024-09-05T12:35:51.739Z"
   },
   {
    "duration": 24,
    "start_time": "2024-09-05T12:35:51.757Z"
   },
   {
    "duration": 5,
    "start_time": "2024-09-05T12:35:51.782Z"
   },
   {
    "duration": 14,
    "start_time": "2024-09-05T12:35:51.788Z"
   },
   {
    "duration": 14,
    "start_time": "2024-09-05T12:35:51.804Z"
   },
   {
    "duration": 17,
    "start_time": "2024-09-05T12:35:51.819Z"
   },
   {
    "duration": 31,
    "start_time": "2024-09-05T12:35:51.837Z"
   },
   {
    "duration": 921,
    "start_time": "2024-09-05T12:35:51.869Z"
   },
   {
    "duration": 40,
    "start_time": "2024-09-05T12:35:52.793Z"
   },
   {
    "duration": 9,
    "start_time": "2024-09-05T12:35:52.835Z"
   },
   {
    "duration": 21,
    "start_time": "2024-09-05T12:35:52.846Z"
   },
   {
    "duration": 11,
    "start_time": "2024-09-05T12:35:52.868Z"
   },
   {
    "duration": 5,
    "start_time": "2024-09-05T12:36:17.309Z"
   },
   {
    "duration": 8,
    "start_time": "2024-09-05T12:36:19.747Z"
   },
   {
    "duration": 5,
    "start_time": "2024-09-05T12:36:20.506Z"
   },
   {
    "duration": 11,
    "start_time": "2024-09-05T12:36:25.521Z"
   },
   {
    "duration": 19,
    "start_time": "2024-09-05T12:36:27.638Z"
   },
   {
    "duration": 691,
    "start_time": "2024-09-05T12:36:56.495Z"
   },
   {
    "duration": 58,
    "start_time": "2024-09-05T12:36:57.188Z"
   },
   {
    "duration": 18,
    "start_time": "2024-09-05T12:36:57.247Z"
   },
   {
    "duration": 20,
    "start_time": "2024-09-05T12:36:57.267Z"
   },
   {
    "duration": 16,
    "start_time": "2024-09-05T12:36:57.289Z"
   },
   {
    "duration": 12,
    "start_time": "2024-09-05T12:36:57.307Z"
   },
   {
    "duration": 21,
    "start_time": "2024-09-05T12:36:57.321Z"
   },
   {
    "duration": 46,
    "start_time": "2024-09-05T12:36:57.344Z"
   },
   {
    "duration": 13,
    "start_time": "2024-09-05T12:36:57.392Z"
   },
   {
    "duration": 14,
    "start_time": "2024-09-05T12:36:57.406Z"
   },
   {
    "duration": 13,
    "start_time": "2024-09-05T12:36:57.421Z"
   },
   {
    "duration": 21,
    "start_time": "2024-09-05T12:36:57.436Z"
   },
   {
    "duration": 928,
    "start_time": "2024-09-05T12:36:57.458Z"
   },
   {
    "duration": 26,
    "start_time": "2024-09-05T12:36:58.388Z"
   },
   {
    "duration": 46,
    "start_time": "2024-09-05T12:36:58.425Z"
   },
   {
    "duration": 21,
    "start_time": "2024-09-05T12:36:58.472Z"
   },
   {
    "duration": 12,
    "start_time": "2024-09-05T12:36:58.495Z"
   },
   {
    "duration": 5,
    "start_time": "2024-09-05T12:37:17.635Z"
   },
   {
    "duration": 6,
    "start_time": "2024-09-05T12:37:18.607Z"
   },
   {
    "duration": 5,
    "start_time": "2024-09-05T12:37:19.176Z"
   },
   {
    "duration": 620,
    "start_time": "2024-09-05T12:37:23.688Z"
   },
   {
    "duration": 54,
    "start_time": "2024-09-05T12:37:24.310Z"
   },
   {
    "duration": 17,
    "start_time": "2024-09-05T12:37:24.365Z"
   },
   {
    "duration": 13,
    "start_time": "2024-09-05T12:37:24.383Z"
   },
   {
    "duration": 23,
    "start_time": "2024-09-05T12:37:24.398Z"
   },
   {
    "duration": 45,
    "start_time": "2024-09-05T12:37:24.422Z"
   },
   {
    "duration": 9,
    "start_time": "2024-09-05T12:37:24.469Z"
   },
   {
    "duration": 9,
    "start_time": "2024-09-05T12:37:24.480Z"
   },
   {
    "duration": 10,
    "start_time": "2024-09-05T12:37:24.490Z"
   },
   {
    "duration": 15,
    "start_time": "2024-09-05T12:37:24.501Z"
   },
   {
    "duration": 14,
    "start_time": "2024-09-05T12:37:24.517Z"
   },
   {
    "duration": 13,
    "start_time": "2024-09-05T12:37:24.533Z"
   },
   {
    "duration": 22,
    "start_time": "2024-09-05T12:37:24.547Z"
   },
   {
    "duration": 900,
    "start_time": "2024-09-05T12:37:24.571Z"
   },
   {
    "duration": 22,
    "start_time": "2024-09-05T12:37:25.473Z"
   },
   {
    "duration": 10,
    "start_time": "2024-09-05T12:37:25.496Z"
   },
   {
    "duration": 19,
    "start_time": "2024-09-05T12:37:25.526Z"
   },
   {
    "duration": 11,
    "start_time": "2024-09-05T12:37:25.547Z"
   },
   {
    "duration": 5,
    "start_time": "2024-09-05T12:37:33.550Z"
   },
   {
    "duration": 5,
    "start_time": "2024-09-05T12:37:38.735Z"
   },
   {
    "duration": 5,
    "start_time": "2024-09-05T12:37:40.977Z"
   },
   {
    "duration": 50,
    "start_time": "2024-09-05T12:38:11.009Z"
   },
   {
    "duration": 6,
    "start_time": "2024-09-05T12:38:12.905Z"
   },
   {
    "duration": 651,
    "start_time": "2024-09-05T12:38:16.403Z"
   },
   {
    "duration": 58,
    "start_time": "2024-09-05T12:38:17.056Z"
   },
   {
    "duration": 19,
    "start_time": "2024-09-05T12:38:17.834Z"
   },
   {
    "duration": 16,
    "start_time": "2024-09-05T12:38:18.824Z"
   },
   {
    "duration": 6,
    "start_time": "2024-09-05T12:38:21.968Z"
   },
   {
    "duration": 3,
    "start_time": "2024-09-05T12:38:26.041Z"
   },
   {
    "duration": 5,
    "start_time": "2024-09-05T12:38:29.184Z"
   },
   {
    "duration": 4,
    "start_time": "2024-09-05T12:38:31.102Z"
   },
   {
    "duration": 5,
    "start_time": "2024-09-05T12:38:32.661Z"
   },
   {
    "duration": 4,
    "start_time": "2024-09-05T12:38:34.789Z"
   },
   {
    "duration": 5,
    "start_time": "2024-09-05T12:38:36.038Z"
   },
   {
    "duration": 4,
    "start_time": "2024-09-05T12:38:37.992Z"
   },
   {
    "duration": 5,
    "start_time": "2024-09-05T12:38:39.324Z"
   },
   {
    "duration": 10,
    "start_time": "2024-09-05T12:38:40.985Z"
   },
   {
    "duration": 5,
    "start_time": "2024-09-05T12:38:44.003Z"
   },
   {
    "duration": 4,
    "start_time": "2024-09-05T12:38:45.184Z"
   },
   {
    "duration": 4,
    "start_time": "2024-09-05T12:38:50.613Z"
   },
   {
    "duration": 12,
    "start_time": "2024-09-05T12:39:04.940Z"
   },
   {
    "duration": 5,
    "start_time": "2024-09-05T12:39:10.511Z"
   },
   {
    "duration": 5,
    "start_time": "2024-09-05T12:39:14.097Z"
   },
   {
    "duration": 632,
    "start_time": "2024-09-05T12:55:15.170Z"
   },
   {
    "duration": 59,
    "start_time": "2024-09-05T12:55:15.804Z"
   },
   {
    "duration": 18,
    "start_time": "2024-09-05T12:55:15.865Z"
   },
   {
    "duration": 18,
    "start_time": "2024-09-05T12:55:15.885Z"
   },
   {
    "duration": 3,
    "start_time": "2024-09-05T12:55:15.905Z"
   },
   {
    "duration": 18,
    "start_time": "2024-09-05T12:55:15.910Z"
   },
   {
    "duration": 17,
    "start_time": "2024-09-05T12:55:15.930Z"
   },
   {
    "duration": 5,
    "start_time": "2024-09-05T12:55:15.949Z"
   },
   {
    "duration": 10,
    "start_time": "2024-09-05T12:55:15.956Z"
   },
   {
    "duration": 21,
    "start_time": "2024-09-05T12:55:15.967Z"
   },
   {
    "duration": 37,
    "start_time": "2024-09-05T12:55:15.989Z"
   },
   {
    "duration": 58,
    "start_time": "2024-09-05T12:55:16.028Z"
   },
   {
    "duration": 952,
    "start_time": "2024-09-05T12:55:16.087Z"
   },
   {
    "duration": 25,
    "start_time": "2024-09-05T12:55:17.042Z"
   },
   {
    "duration": 10,
    "start_time": "2024-09-05T12:55:17.069Z"
   },
   {
    "duration": 49,
    "start_time": "2024-09-05T12:55:17.080Z"
   },
   {
    "duration": 12,
    "start_time": "2024-09-05T12:55:17.131Z"
   },
   {
    "duration": 5,
    "start_time": "2024-09-05T12:56:27.241Z"
   },
   {
    "duration": 656,
    "start_time": "2024-09-05T12:56:32.316Z"
   },
   {
    "duration": 58,
    "start_time": "2024-09-05T12:56:32.973Z"
   },
   {
    "duration": 19,
    "start_time": "2024-09-05T12:56:33.033Z"
   },
   {
    "duration": 15,
    "start_time": "2024-09-05T12:56:33.054Z"
   },
   {
    "duration": 3,
    "start_time": "2024-09-05T12:56:33.072Z"
   },
   {
    "duration": 25,
    "start_time": "2024-09-05T12:56:33.077Z"
   },
   {
    "duration": 10,
    "start_time": "2024-09-05T12:56:33.104Z"
   },
   {
    "duration": 30,
    "start_time": "2024-09-05T12:56:33.116Z"
   },
   {
    "duration": 13,
    "start_time": "2024-09-05T12:56:33.148Z"
   },
   {
    "duration": 23,
    "start_time": "2024-09-05T12:56:33.163Z"
   },
   {
    "duration": 912,
    "start_time": "2024-09-05T12:56:33.188Z"
   },
   {
    "duration": 31,
    "start_time": "2024-09-05T12:56:34.102Z"
   },
   {
    "duration": 12,
    "start_time": "2024-09-05T12:56:34.135Z"
   },
   {
    "duration": 45,
    "start_time": "2024-09-05T12:56:34.149Z"
   },
   {
    "duration": 13,
    "start_time": "2024-09-05T12:56:34.196Z"
   },
   {
    "duration": 12,
    "start_time": "2024-09-05T12:56:34.211Z"
   },
   {
    "duration": 13,
    "start_time": "2024-09-05T12:56:34.225Z"
   },
   {
    "duration": 5,
    "start_time": "2024-09-05T12:56:47.721Z"
   },
   {
    "duration": 6,
    "start_time": "2024-09-05T12:56:53.150Z"
   },
   {
    "duration": 6,
    "start_time": "2024-09-05T12:57:14.665Z"
   },
   {
    "duration": 5,
    "start_time": "2024-09-05T12:57:15.287Z"
   },
   {
    "duration": 71,
    "start_time": "2024-09-05T12:58:03.839Z"
   },
   {
    "duration": 8,
    "start_time": "2024-09-05T12:58:08.201Z"
   },
   {
    "duration": 4,
    "start_time": "2024-09-05T12:58:08.630Z"
   },
   {
    "duration": 18,
    "start_time": "2024-09-05T12:59:11.800Z"
   },
   {
    "duration": 600,
    "start_time": "2024-09-05T12:59:20.587Z"
   },
   {
    "duration": 55,
    "start_time": "2024-09-05T12:59:21.189Z"
   },
   {
    "duration": 18,
    "start_time": "2024-09-05T12:59:21.246Z"
   },
   {
    "duration": 14,
    "start_time": "2024-09-05T12:59:21.266Z"
   },
   {
    "duration": 3,
    "start_time": "2024-09-05T12:59:21.283Z"
   },
   {
    "duration": 6,
    "start_time": "2024-09-05T12:59:21.287Z"
   },
   {
    "duration": 35,
    "start_time": "2024-09-05T12:59:21.294Z"
   },
   {
    "duration": 13,
    "start_time": "2024-09-05T12:59:21.331Z"
   },
   {
    "duration": 13,
    "start_time": "2024-09-05T12:59:21.346Z"
   },
   {
    "duration": 20,
    "start_time": "2024-09-05T12:59:21.361Z"
   },
   {
    "duration": 924,
    "start_time": "2024-09-05T12:59:21.383Z"
   },
   {
    "duration": 26,
    "start_time": "2024-09-05T12:59:22.309Z"
   },
   {
    "duration": 10,
    "start_time": "2024-09-05T12:59:22.336Z"
   },
   {
    "duration": 20,
    "start_time": "2024-09-05T12:59:22.348Z"
   },
   {
    "duration": 100,
    "start_time": "2024-09-05T12:59:22.369Z"
   },
   {
    "duration": 0,
    "start_time": "2024-09-05T12:59:22.471Z"
   },
   {
    "duration": 0,
    "start_time": "2024-09-05T12:59:22.472Z"
   },
   {
    "duration": 15,
    "start_time": "2024-09-05T12:59:27.620Z"
   },
   {
    "duration": 17,
    "start_time": "2024-09-05T12:59:31.770Z"
   },
   {
    "duration": 9,
    "start_time": "2024-09-05T12:59:34.941Z"
   },
   {
    "duration": 5,
    "start_time": "2024-09-05T12:59:37.586Z"
   },
   {
    "duration": 12,
    "start_time": "2024-09-05T12:59:47.734Z"
   },
   {
    "duration": 629,
    "start_time": "2024-09-05T13:01:50.468Z"
   },
   {
    "duration": 58,
    "start_time": "2024-09-05T13:01:51.099Z"
   },
   {
    "duration": 19,
    "start_time": "2024-09-05T13:01:51.159Z"
   },
   {
    "duration": 21,
    "start_time": "2024-09-05T13:01:51.179Z"
   },
   {
    "duration": 3,
    "start_time": "2024-09-05T13:01:51.203Z"
   },
   {
    "duration": 23,
    "start_time": "2024-09-05T13:01:51.207Z"
   },
   {
    "duration": 16,
    "start_time": "2024-09-05T13:01:51.232Z"
   },
   {
    "duration": 14,
    "start_time": "2024-09-05T13:01:51.250Z"
   },
   {
    "duration": 22,
    "start_time": "2024-09-05T13:01:51.265Z"
   },
   {
    "duration": 21,
    "start_time": "2024-09-05T13:01:51.289Z"
   },
   {
    "duration": 992,
    "start_time": "2024-09-05T13:01:51.312Z"
   },
   {
    "duration": 33,
    "start_time": "2024-09-05T13:01:52.305Z"
   },
   {
    "duration": 10,
    "start_time": "2024-09-05T13:01:52.339Z"
   },
   {
    "duration": 27,
    "start_time": "2024-09-05T13:01:52.351Z"
   },
   {
    "duration": 94,
    "start_time": "2024-09-05T13:01:52.379Z"
   },
   {
    "duration": 0,
    "start_time": "2024-09-05T13:01:52.475Z"
   },
   {
    "duration": 0,
    "start_time": "2024-09-05T13:01:52.476Z"
   },
   {
    "duration": 5,
    "start_time": "2024-09-05T13:02:16.661Z"
   },
   {
    "duration": 14,
    "start_time": "2024-09-05T13:02:18.544Z"
   },
   {
    "duration": 5,
    "start_time": "2024-09-05T13:02:19.782Z"
   },
   {
    "duration": 14,
    "start_time": "2024-09-05T13:02:26.972Z"
   },
   {
    "duration": 8,
    "start_time": "2024-09-05T13:03:07.664Z"
   },
   {
    "duration": 17,
    "start_time": "2024-09-05T13:03:11.103Z"
   },
   {
    "duration": 16,
    "start_time": "2024-09-05T13:03:14.212Z"
   },
   {
    "duration": 37,
    "start_time": "2024-09-05T13:03:21.115Z"
   },
   {
    "duration": 14,
    "start_time": "2024-09-05T13:05:21.614Z"
   },
   {
    "duration": 16,
    "start_time": "2024-09-05T13:05:25.351Z"
   },
   {
    "duration": 15,
    "start_time": "2024-09-05T13:05:33.046Z"
   },
   {
    "duration": 4,
    "start_time": "2024-09-05T13:07:18.726Z"
   },
   {
    "duration": 15,
    "start_time": "2024-09-05T13:07:35.156Z"
   },
   {
    "duration": 3,
    "start_time": "2024-09-05T13:08:12.999Z"
   },
   {
    "duration": 19,
    "start_time": "2024-09-05T13:08:15.911Z"
   },
   {
    "duration": 5,
    "start_time": "2024-09-05T13:09:10.230Z"
   },
   {
    "duration": 4,
    "start_time": "2024-09-05T13:09:19.662Z"
   },
   {
    "duration": 6,
    "start_time": "2024-09-05T13:09:25.434Z"
   },
   {
    "duration": 8,
    "start_time": "2024-09-05T13:09:59.378Z"
   },
   {
    "duration": 17,
    "start_time": "2024-09-05T13:10:03.498Z"
   },
   {
    "duration": 15,
    "start_time": "2024-09-05T13:14:17.521Z"
   },
   {
    "duration": 166,
    "start_time": "2024-09-05T13:15:08.104Z"
   },
   {
    "duration": 10,
    "start_time": "2024-09-05T13:30:23.058Z"
   },
   {
    "duration": 8,
    "start_time": "2024-09-05T13:30:47.202Z"
   },
   {
    "duration": 17,
    "start_time": "2024-09-05T13:30:52.917Z"
   },
   {
    "duration": 17,
    "start_time": "2024-09-05T13:49:00.577Z"
   },
   {
    "duration": 67,
    "start_time": "2024-09-05T13:49:16.673Z"
   },
   {
    "duration": 55,
    "start_time": "2024-09-05T13:49:22.465Z"
   },
   {
    "duration": 15,
    "start_time": "2024-09-05T13:49:37.236Z"
   },
   {
    "duration": 133,
    "start_time": "2024-09-05T13:49:55.397Z"
   },
   {
    "duration": 54,
    "start_time": "2024-09-05T13:50:12.823Z"
   },
   {
    "duration": 62,
    "start_time": "2024-09-05T13:50:19.714Z"
   },
   {
    "duration": 396,
    "start_time": "2024-09-05T13:50:40.390Z"
   },
   {
    "duration": 59,
    "start_time": "2024-09-05T13:50:48.363Z"
   },
   {
    "duration": 306,
    "start_time": "2024-09-05T13:50:56.708Z"
   },
   {
    "duration": 10,
    "start_time": "2024-09-05T14:50:19.485Z"
   },
   {
    "duration": 14,
    "start_time": "2024-09-05T14:50:36.443Z"
   },
   {
    "duration": 293,
    "start_time": "2024-09-05T14:50:54.585Z"
   },
   {
    "duration": 6,
    "start_time": "2024-09-05T14:52:08.091Z"
   },
   {
    "duration": 4,
    "start_time": "2024-09-05T14:52:22.406Z"
   },
   {
    "duration": 31,
    "start_time": "2024-09-05T14:54:38.708Z"
   },
   {
    "duration": 70,
    "start_time": "2024-09-05T14:55:29.082Z"
   },
   {
    "duration": 8,
    "start_time": "2024-09-05T15:04:18.199Z"
   },
   {
    "duration": 9,
    "start_time": "2024-09-05T15:04:24.402Z"
   },
   {
    "duration": 10,
    "start_time": "2024-09-05T15:04:38.152Z"
   },
   {
    "duration": 595,
    "start_time": "2024-09-05T15:04:45.973Z"
   },
   {
    "duration": 58,
    "start_time": "2024-09-05T15:04:46.569Z"
   },
   {
    "duration": 19,
    "start_time": "2024-09-05T15:04:46.629Z"
   },
   {
    "duration": 20,
    "start_time": "2024-09-05T15:04:46.650Z"
   },
   {
    "duration": 4,
    "start_time": "2024-09-05T15:04:46.672Z"
   },
   {
    "duration": 5,
    "start_time": "2024-09-05T15:04:46.677Z"
   },
   {
    "duration": 10,
    "start_time": "2024-09-05T15:04:46.684Z"
   },
   {
    "duration": 39,
    "start_time": "2024-09-05T15:04:46.695Z"
   },
   {
    "duration": 19,
    "start_time": "2024-09-05T15:04:46.736Z"
   },
   {
    "duration": 27,
    "start_time": "2024-09-05T15:04:46.757Z"
   },
   {
    "duration": 920,
    "start_time": "2024-09-05T15:04:46.786Z"
   },
   {
    "duration": 32,
    "start_time": "2024-09-05T15:04:47.707Z"
   },
   {
    "duration": 9,
    "start_time": "2024-09-05T15:04:47.740Z"
   },
   {
    "duration": 19,
    "start_time": "2024-09-05T15:04:47.751Z"
   },
   {
    "duration": 12,
    "start_time": "2024-09-05T15:04:47.772Z"
   },
   {
    "duration": 5,
    "start_time": "2024-09-05T15:04:47.785Z"
   },
   {
    "duration": 44,
    "start_time": "2024-09-05T15:04:47.791Z"
   },
   {
    "duration": 14,
    "start_time": "2024-09-05T15:04:47.836Z"
   },
   {
    "duration": 169,
    "start_time": "2024-09-05T15:04:47.852Z"
   },
   {
    "duration": 318,
    "start_time": "2024-09-05T15:04:48.022Z"
   },
   {
    "duration": 4,
    "start_time": "2024-09-05T15:04:48.341Z"
   },
   {
    "duration": 110,
    "start_time": "2024-09-05T15:04:48.346Z"
   },
   {
    "duration": 8,
    "start_time": "2024-09-05T15:04:48.458Z"
   },
   {
    "duration": 9,
    "start_time": "2024-09-05T15:04:48.468Z"
   },
   {
    "duration": 99,
    "start_time": "2024-09-05T15:14:39.099Z"
   },
   {
    "duration": 15,
    "start_time": "2024-09-05T15:14:44.491Z"
   },
   {
    "duration": 29,
    "start_time": "2024-09-05T15:14:58.316Z"
   },
   {
    "duration": 17,
    "start_time": "2024-09-05T15:15:02.688Z"
   },
   {
    "duration": 1301,
    "start_time": "2024-09-05T15:15:11.504Z"
   },
   {
    "duration": 1253,
    "start_time": "2024-09-05T15:16:01.098Z"
   },
   {
    "duration": 1290,
    "start_time": "2024-09-05T15:16:28.686Z"
   },
   {
    "duration": 17,
    "start_time": "2024-09-05T15:16:36.721Z"
   },
   {
    "duration": 1224,
    "start_time": "2024-09-05T15:17:30.903Z"
   },
   {
    "duration": 14,
    "start_time": "2024-09-05T15:17:51.387Z"
   },
   {
    "duration": 17,
    "start_time": "2024-09-05T15:17:51.833Z"
   },
   {
    "duration": 1252,
    "start_time": "2024-09-05T15:17:53.043Z"
   },
   {
    "duration": 50,
    "start_time": "2024-09-05T15:18:17.644Z"
   },
   {
    "duration": 942,
    "start_time": "2024-09-05T15:18:30.679Z"
   },
   {
    "duration": 657,
    "start_time": "2024-09-05T15:18:52.997Z"
   },
   {
    "duration": 57,
    "start_time": "2024-09-05T15:18:53.655Z"
   },
   {
    "duration": 17,
    "start_time": "2024-09-05T15:18:53.713Z"
   },
   {
    "duration": 18,
    "start_time": "2024-09-05T15:18:53.731Z"
   },
   {
    "duration": 3,
    "start_time": "2024-09-05T15:18:53.751Z"
   },
   {
    "duration": 5,
    "start_time": "2024-09-05T15:18:53.755Z"
   },
   {
    "duration": 9,
    "start_time": "2024-09-05T15:18:53.762Z"
   },
   {
    "duration": 15,
    "start_time": "2024-09-05T15:18:53.772Z"
   },
   {
    "duration": 41,
    "start_time": "2024-09-05T15:18:53.789Z"
   },
   {
    "duration": 21,
    "start_time": "2024-09-05T15:18:53.831Z"
   },
   {
    "duration": 924,
    "start_time": "2024-09-05T15:18:53.854Z"
   },
   {
    "duration": 23,
    "start_time": "2024-09-05T15:18:54.779Z"
   },
   {
    "duration": 23,
    "start_time": "2024-09-05T15:18:54.803Z"
   },
   {
    "duration": 19,
    "start_time": "2024-09-05T15:18:54.829Z"
   },
   {
    "duration": 12,
    "start_time": "2024-09-05T15:18:54.850Z"
   },
   {
    "duration": 4,
    "start_time": "2024-09-05T15:18:54.863Z"
   },
   {
    "duration": 15,
    "start_time": "2024-09-05T15:18:54.869Z"
   },
   {
    "duration": 48,
    "start_time": "2024-09-05T15:18:54.885Z"
   },
   {
    "duration": 164,
    "start_time": "2024-09-05T15:18:54.934Z"
   },
   {
    "duration": 326,
    "start_time": "2024-09-05T15:18:55.099Z"
   },
   {
    "duration": 4,
    "start_time": "2024-09-05T15:18:55.427Z"
   },
   {
    "duration": 60,
    "start_time": "2024-09-05T15:18:55.432Z"
   },
   {
    "duration": 8,
    "start_time": "2024-09-05T15:18:55.493Z"
   },
   {
    "duration": 29,
    "start_time": "2024-09-05T15:18:55.503Z"
   },
   {
    "duration": 13,
    "start_time": "2024-09-05T15:18:55.534Z"
   },
   {
    "duration": 17,
    "start_time": "2024-09-05T15:18:55.549Z"
   },
   {
    "duration": 115,
    "start_time": "2024-09-05T15:18:55.567Z"
   },
   {
    "duration": 874,
    "start_time": "2024-09-05T15:19:13.433Z"
   },
   {
    "duration": 1305,
    "start_time": "2024-09-05T15:19:22.648Z"
   },
   {
    "duration": 18,
    "start_time": "2024-09-05T15:20:06.368Z"
   },
   {
    "duration": 465,
    "start_time": "2024-09-05T15:20:08.936Z"
   },
   {
    "duration": 22,
    "start_time": "2024-09-05T16:54:43.157Z"
   },
   {
    "duration": 576,
    "start_time": "2024-09-05T16:55:00.081Z"
   },
   {
    "duration": 991,
    "start_time": "2024-09-05T16:55:05.144Z"
   },
   {
    "duration": 18,
    "start_time": "2024-09-05T17:00:29.745Z"
   },
   {
    "duration": 13,
    "start_time": "2024-09-05T17:03:25.066Z"
   },
   {
    "duration": 46,
    "start_time": "2024-09-05T17:05:37.417Z"
   },
   {
    "duration": 1166,
    "start_time": "2024-09-05T17:06:09.283Z"
   },
   {
    "duration": 60,
    "start_time": "2024-09-05T17:06:10.451Z"
   },
   {
    "duration": 18,
    "start_time": "2024-09-05T17:06:10.513Z"
   },
   {
    "duration": 15,
    "start_time": "2024-09-05T17:06:10.532Z"
   },
   {
    "duration": 3,
    "start_time": "2024-09-05T17:06:10.550Z"
   },
   {
    "duration": 5,
    "start_time": "2024-09-05T17:06:10.554Z"
   },
   {
    "duration": 10,
    "start_time": "2024-09-05T17:06:10.560Z"
   },
   {
    "duration": 21,
    "start_time": "2024-09-05T17:06:10.572Z"
   },
   {
    "duration": 35,
    "start_time": "2024-09-05T17:06:10.595Z"
   },
   {
    "duration": 32,
    "start_time": "2024-09-05T17:06:10.631Z"
   },
   {
    "duration": 890,
    "start_time": "2024-09-05T17:06:10.664Z"
   },
   {
    "duration": 22,
    "start_time": "2024-09-05T17:06:11.555Z"
   },
   {
    "duration": 7,
    "start_time": "2024-09-05T17:06:11.579Z"
   },
   {
    "duration": 38,
    "start_time": "2024-09-05T17:06:11.589Z"
   },
   {
    "duration": 13,
    "start_time": "2024-09-05T17:06:11.628Z"
   },
   {
    "duration": 6,
    "start_time": "2024-09-05T17:06:11.642Z"
   },
   {
    "duration": 17,
    "start_time": "2024-09-05T17:06:11.650Z"
   },
   {
    "duration": 14,
    "start_time": "2024-09-05T17:06:11.668Z"
   },
   {
    "duration": 181,
    "start_time": "2024-09-05T17:06:11.684Z"
   },
   {
    "duration": 380,
    "start_time": "2024-09-05T17:06:11.866Z"
   },
   {
    "duration": 4,
    "start_time": "2024-09-05T17:06:12.248Z"
   },
   {
    "duration": 146,
    "start_time": "2024-09-05T17:06:12.253Z"
   },
   {
    "duration": 969,
    "start_time": "2024-09-05T17:06:12.401Z"
   },
   {
    "duration": 11,
    "start_time": "2024-09-05T17:06:13.372Z"
   },
   {
    "duration": 17,
    "start_time": "2024-09-05T17:06:13.384Z"
   },
   {
    "duration": 34,
    "start_time": "2024-09-05T17:06:13.402Z"
   },
   {
    "duration": 24,
    "start_time": "2024-09-05T17:06:13.438Z"
   },
   {
    "duration": 74,
    "start_time": "2024-09-05T17:06:13.464Z"
   },
   {
    "duration": 410,
    "start_time": "2024-09-05T17:06:13.540Z"
   },
   {
    "duration": 13,
    "start_time": "2024-09-05T17:06:13.951Z"
   },
   {
    "duration": 1167,
    "start_time": "2024-09-05T17:09:45.890Z"
   },
   {
    "duration": 60,
    "start_time": "2024-09-05T17:09:47.059Z"
   },
   {
    "duration": 17,
    "start_time": "2024-09-05T17:09:47.120Z"
   },
   {
    "duration": 17,
    "start_time": "2024-09-05T17:09:47.139Z"
   },
   {
    "duration": 3,
    "start_time": "2024-09-05T17:09:47.158Z"
   },
   {
    "duration": 6,
    "start_time": "2024-09-05T17:09:47.162Z"
   },
   {
    "duration": 9,
    "start_time": "2024-09-05T17:09:47.170Z"
   },
   {
    "duration": 13,
    "start_time": "2024-09-05T17:09:47.180Z"
   },
   {
    "duration": 39,
    "start_time": "2024-09-05T17:09:47.195Z"
   },
   {
    "duration": 21,
    "start_time": "2024-09-05T17:09:47.236Z"
   },
   {
    "duration": 900,
    "start_time": "2024-09-05T17:09:47.259Z"
   },
   {
    "duration": 23,
    "start_time": "2024-09-05T17:09:48.160Z"
   },
   {
    "duration": 7,
    "start_time": "2024-09-05T17:09:48.185Z"
   },
   {
    "duration": 41,
    "start_time": "2024-09-05T17:09:48.195Z"
   },
   {
    "duration": 13,
    "start_time": "2024-09-05T17:09:48.237Z"
   },
   {
    "duration": 5,
    "start_time": "2024-09-05T17:09:48.251Z"
   },
   {
    "duration": 74,
    "start_time": "2024-09-05T17:09:48.257Z"
   },
   {
    "duration": 18,
    "start_time": "2024-09-05T17:09:48.332Z"
   },
   {
    "duration": 169,
    "start_time": "2024-09-05T17:09:48.351Z"
   },
   {
    "duration": 393,
    "start_time": "2024-09-05T17:09:48.525Z"
   },
   {
    "duration": 7,
    "start_time": "2024-09-05T17:09:48.920Z"
   },
   {
    "duration": 80,
    "start_time": "2024-09-05T17:09:48.929Z"
   },
   {
    "duration": 1066,
    "start_time": "2024-09-05T17:09:49.024Z"
   },
   {
    "duration": 9,
    "start_time": "2024-09-05T17:09:50.092Z"
   },
   {
    "duration": 25,
    "start_time": "2024-09-05T17:09:50.102Z"
   },
   {
    "duration": 20,
    "start_time": "2024-09-05T17:09:50.129Z"
   },
   {
    "duration": 18,
    "start_time": "2024-09-05T17:09:50.151Z"
   },
   {
    "duration": 21,
    "start_time": "2024-09-05T17:09:50.171Z"
   },
   {
    "duration": 451,
    "start_time": "2024-09-05T17:09:50.195Z"
   },
   {
    "duration": 14,
    "start_time": "2024-09-05T17:09:50.648Z"
   },
   {
    "duration": 111,
    "start_time": "2024-09-05T17:10:39.400Z"
   },
   {
    "duration": 1255,
    "start_time": "2024-09-05T17:10:44.395Z"
   },
   {
    "duration": 61,
    "start_time": "2024-09-05T17:10:45.652Z"
   },
   {
    "duration": 19,
    "start_time": "2024-09-05T17:10:45.714Z"
   },
   {
    "duration": 25,
    "start_time": "2024-09-05T17:10:45.735Z"
   },
   {
    "duration": 4,
    "start_time": "2024-09-05T17:10:45.762Z"
   },
   {
    "duration": 20,
    "start_time": "2024-09-05T17:10:45.767Z"
   },
   {
    "duration": 31,
    "start_time": "2024-09-05T17:10:45.788Z"
   },
   {
    "duration": 34,
    "start_time": "2024-09-05T17:10:45.821Z"
   },
   {
    "duration": 26,
    "start_time": "2024-09-05T17:10:45.857Z"
   },
   {
    "duration": 72,
    "start_time": "2024-09-05T17:10:45.884Z"
   },
   {
    "duration": 926,
    "start_time": "2024-09-05T17:10:45.958Z"
   },
   {
    "duration": 25,
    "start_time": "2024-09-05T17:10:46.886Z"
   },
   {
    "duration": 21,
    "start_time": "2024-09-05T17:10:46.913Z"
   },
   {
    "duration": 34,
    "start_time": "2024-09-05T17:10:46.937Z"
   },
   {
    "duration": 14,
    "start_time": "2024-09-05T17:10:46.972Z"
   },
   {
    "duration": 26,
    "start_time": "2024-09-05T17:10:46.988Z"
   },
   {
    "duration": 18,
    "start_time": "2024-09-05T17:10:47.016Z"
   },
   {
    "duration": 17,
    "start_time": "2024-09-05T17:10:47.036Z"
   },
   {
    "duration": 195,
    "start_time": "2024-09-05T17:10:47.055Z"
   },
   {
    "duration": 406,
    "start_time": "2024-09-05T17:10:47.252Z"
   },
   {
    "duration": 4,
    "start_time": "2024-09-05T17:10:47.659Z"
   },
   {
    "duration": 79,
    "start_time": "2024-09-05T17:10:47.664Z"
   },
   {
    "duration": 1036,
    "start_time": "2024-09-05T17:10:47.745Z"
   },
   {
    "duration": 9,
    "start_time": "2024-09-05T17:10:48.783Z"
   },
   {
    "duration": 11,
    "start_time": "2024-09-05T17:10:48.794Z"
   },
   {
    "duration": 32,
    "start_time": "2024-09-05T17:10:48.806Z"
   },
   {
    "duration": 19,
    "start_time": "2024-09-05T17:10:48.840Z"
   },
   {
    "duration": 19,
    "start_time": "2024-09-05T17:10:48.861Z"
   },
   {
    "duration": 456,
    "start_time": "2024-09-05T17:10:48.882Z"
   },
   {
    "duration": 15,
    "start_time": "2024-09-05T17:10:49.340Z"
   },
   {
    "duration": 13,
    "start_time": "2024-09-05T17:11:21.671Z"
   },
   {
    "duration": 100,
    "start_time": "2024-09-05T17:13:41.444Z"
   },
   {
    "duration": 222,
    "start_time": "2024-09-05T17:14:35.455Z"
   },
   {
    "duration": 122,
    "start_time": "2024-09-05T17:15:05.894Z"
   },
   {
    "duration": 124,
    "start_time": "2024-09-05T17:15:12.935Z"
   },
   {
    "duration": 195,
    "start_time": "2024-09-05T17:15:18.313Z"
   },
   {
    "duration": 112,
    "start_time": "2024-09-05T17:15:25.903Z"
   },
   {
    "duration": 106,
    "start_time": "2024-09-05T17:15:30.713Z"
   },
   {
    "duration": 112,
    "start_time": "2024-09-05T17:15:34.630Z"
   },
   {
    "duration": 110,
    "start_time": "2024-09-05T17:16:40.785Z"
   },
   {
    "duration": 106,
    "start_time": "2024-09-05T17:16:44.854Z"
   },
   {
    "duration": 217,
    "start_time": "2024-09-05T17:16:48.938Z"
   },
   {
    "duration": 102,
    "start_time": "2024-09-05T17:16:52.869Z"
   },
   {
    "duration": 112,
    "start_time": "2024-09-05T17:16:56.107Z"
   },
   {
    "duration": 127,
    "start_time": "2024-09-05T17:17:34.882Z"
   },
   {
    "duration": 116,
    "start_time": "2024-09-05T17:17:38.618Z"
   },
   {
    "duration": 112,
    "start_time": "2024-09-05T17:17:41.775Z"
   },
   {
    "duration": 129,
    "start_time": "2024-09-05T17:17:51.116Z"
   },
   {
    "duration": 207,
    "start_time": "2024-09-05T17:18:01.993Z"
   },
   {
    "duration": 138,
    "start_time": "2024-09-05T17:18:10.399Z"
   },
   {
    "duration": 132,
    "start_time": "2024-09-05T17:18:17.669Z"
   },
   {
    "duration": 135,
    "start_time": "2024-09-05T17:18:32.338Z"
   },
   {
    "duration": 258,
    "start_time": "2024-09-05T17:19:14.886Z"
   },
   {
    "duration": 262,
    "start_time": "2024-09-05T17:19:27.479Z"
   },
   {
    "duration": 107,
    "start_time": "2024-09-05T17:20:18.824Z"
   },
   {
    "duration": 14,
    "start_time": "2024-09-05T17:20:47.026Z"
   },
   {
    "duration": 20,
    "start_time": "2024-09-05T17:21:03.360Z"
   },
   {
    "duration": 116,
    "start_time": "2024-09-05T17:21:13.252Z"
   },
   {
    "duration": 7,
    "start_time": "2024-09-05T17:21:27.795Z"
   },
   {
    "duration": 16,
    "start_time": "2024-09-05T17:21:32.853Z"
   },
   {
    "duration": 331,
    "start_time": "2024-09-05T17:21:41.409Z"
   },
   {
    "duration": 276,
    "start_time": "2024-09-05T17:22:19.282Z"
   },
   {
    "duration": 10,
    "start_time": "2024-09-05T17:24:05.040Z"
   },
   {
    "duration": 15,
    "start_time": "2024-09-05T17:24:47.181Z"
   },
   {
    "duration": 952,
    "start_time": "2024-09-05T17:25:25.540Z"
   },
   {
    "duration": 204,
    "start_time": "2024-09-05T17:25:36.758Z"
   },
   {
    "duration": 217,
    "start_time": "2024-09-05T17:26:59.893Z"
   },
   {
    "duration": 975,
    "start_time": "2024-09-05T17:29:22.993Z"
   },
   {
    "duration": 881,
    "start_time": "2024-09-05T17:29:28.124Z"
   },
   {
    "duration": 175,
    "start_time": "2024-09-05T17:29:36.002Z"
   },
   {
    "duration": 177,
    "start_time": "2024-09-05T17:30:29.525Z"
   },
   {
    "duration": 17,
    "start_time": "2024-09-05T17:31:29.577Z"
   },
   {
    "duration": 12,
    "start_time": "2024-09-05T17:31:33.987Z"
   },
   {
    "duration": 20,
    "start_time": "2024-09-05T17:33:11.822Z"
   },
   {
    "duration": 16,
    "start_time": "2024-09-05T17:35:26.702Z"
   },
   {
    "duration": 15,
    "start_time": "2024-09-05T17:35:59.395Z"
   },
   {
    "duration": 12,
    "start_time": "2024-09-05T17:36:34.077Z"
   },
   {
    "duration": 151,
    "start_time": "2024-09-05T17:40:16.306Z"
   },
   {
    "duration": 21,
    "start_time": "2024-09-05T17:40:23.816Z"
   },
   {
    "duration": 31,
    "start_time": "2024-09-05T17:40:58.671Z"
   },
   {
    "duration": 26,
    "start_time": "2024-09-05T17:41:08.587Z"
   },
   {
    "duration": 33,
    "start_time": "2024-09-05T17:41:22.319Z"
   },
   {
    "duration": 24,
    "start_time": "2024-09-05T17:41:25.755Z"
   },
   {
    "duration": 47,
    "start_time": "2024-09-05T17:41:29.592Z"
   },
   {
    "duration": 157,
    "start_time": "2024-09-05T17:42:43.645Z"
   },
   {
    "duration": 164,
    "start_time": "2024-09-05T17:43:04.521Z"
   },
   {
    "duration": 260,
    "start_time": "2024-09-05T17:44:28.039Z"
   },
   {
    "duration": 159,
    "start_time": "2024-09-05T17:44:31.250Z"
   },
   {
    "duration": 4,
    "start_time": "2024-09-05T17:44:55.794Z"
   },
   {
    "duration": 24,
    "start_time": "2024-09-05T17:45:00.420Z"
   },
   {
    "duration": 9,
    "start_time": "2024-09-05T17:45:46.351Z"
   },
   {
    "duration": 14,
    "start_time": "2024-09-05T17:45:50.644Z"
   },
   {
    "duration": 162,
    "start_time": "2024-09-05T17:47:44.800Z"
   },
   {
    "duration": 21,
    "start_time": "2024-09-05T17:48:21.320Z"
   },
   {
    "duration": 12,
    "start_time": "2024-09-05T17:48:31.675Z"
   },
   {
    "duration": 36,
    "start_time": "2024-09-05T17:48:41.241Z"
   },
   {
    "duration": 170,
    "start_time": "2024-09-05T17:49:01.506Z"
   },
   {
    "duration": 23,
    "start_time": "2024-09-05T17:49:07.715Z"
   },
   {
    "duration": 88,
    "start_time": "2024-09-05T17:51:26.143Z"
   },
   {
    "duration": 230,
    "start_time": "2024-09-05T17:54:23.829Z"
   },
   {
    "duration": 215,
    "start_time": "2024-09-05T17:54:40.921Z"
   },
   {
    "duration": 8,
    "start_time": "2024-09-05T17:55:21.149Z"
   },
   {
    "duration": 1187,
    "start_time": "2024-09-05T17:56:15.188Z"
   },
   {
    "duration": 73,
    "start_time": "2024-09-05T17:56:16.377Z"
   },
   {
    "duration": 25,
    "start_time": "2024-09-05T17:56:16.452Z"
   },
   {
    "duration": 32,
    "start_time": "2024-09-05T17:56:16.478Z"
   },
   {
    "duration": 3,
    "start_time": "2024-09-05T17:56:16.512Z"
   },
   {
    "duration": 7,
    "start_time": "2024-09-05T17:56:16.516Z"
   },
   {
    "duration": 31,
    "start_time": "2024-09-05T17:56:16.524Z"
   },
   {
    "duration": 15,
    "start_time": "2024-09-05T17:56:16.556Z"
   },
   {
    "duration": 20,
    "start_time": "2024-09-05T17:56:16.573Z"
   },
   {
    "duration": 38,
    "start_time": "2024-09-05T17:56:16.595Z"
   },
   {
    "duration": 1066,
    "start_time": "2024-09-05T17:56:16.642Z"
   },
   {
    "duration": 48,
    "start_time": "2024-09-05T17:56:17.710Z"
   },
   {
    "duration": 9,
    "start_time": "2024-09-05T17:56:17.760Z"
   },
   {
    "duration": 64,
    "start_time": "2024-09-05T17:56:17.772Z"
   },
   {
    "duration": 18,
    "start_time": "2024-09-05T17:56:17.838Z"
   },
   {
    "duration": 5,
    "start_time": "2024-09-05T17:56:17.857Z"
   },
   {
    "duration": 16,
    "start_time": "2024-09-05T17:56:17.863Z"
   },
   {
    "duration": 13,
    "start_time": "2024-09-05T17:56:17.880Z"
   },
   {
    "duration": 217,
    "start_time": "2024-09-05T17:56:17.894Z"
   },
   {
    "duration": 488,
    "start_time": "2024-09-05T17:56:18.113Z"
   },
   {
    "duration": 3,
    "start_time": "2024-09-05T17:56:18.603Z"
   },
   {
    "duration": 85,
    "start_time": "2024-09-05T17:56:18.608Z"
   },
   {
    "duration": 1172,
    "start_time": "2024-09-05T17:56:18.694Z"
   },
   {
    "duration": 9,
    "start_time": "2024-09-05T17:56:19.867Z"
   },
   {
    "duration": 11,
    "start_time": "2024-09-05T17:56:19.877Z"
   },
   {
    "duration": 14,
    "start_time": "2024-09-05T17:56:19.889Z"
   },
   {
    "duration": 53,
    "start_time": "2024-09-05T17:56:19.904Z"
   },
   {
    "duration": 19,
    "start_time": "2024-09-05T17:56:19.959Z"
   },
   {
    "duration": 511,
    "start_time": "2024-09-05T17:56:19.979Z"
   },
   {
    "duration": 14,
    "start_time": "2024-09-05T17:56:20.491Z"
   },
   {
    "duration": 165,
    "start_time": "2024-09-05T17:56:20.507Z"
   },
   {
    "duration": 124,
    "start_time": "2024-09-05T17:56:20.673Z"
   },
   {
    "duration": 142,
    "start_time": "2024-09-05T17:56:20.799Z"
   },
   {
    "duration": 244,
    "start_time": "2024-09-05T17:56:20.950Z"
   },
   {
    "duration": 158,
    "start_time": "2024-09-05T17:56:21.195Z"
   },
   {
    "duration": 163,
    "start_time": "2024-09-05T17:56:21.355Z"
   },
   {
    "duration": 281,
    "start_time": "2024-09-05T17:56:21.520Z"
   },
   {
    "duration": 184,
    "start_time": "2024-09-05T17:56:21.803Z"
   },
   {
    "duration": 12,
    "start_time": "2024-09-05T17:56:21.989Z"
   },
   {
    "duration": 189,
    "start_time": "2024-09-05T17:56:22.002Z"
   },
   {
    "duration": 13,
    "start_time": "2024-09-05T17:56:22.194Z"
   },
   {
    "duration": 96,
    "start_time": "2024-09-05T17:56:22.209Z"
   },
   {
    "duration": 211,
    "start_time": "2024-09-05T17:56:22.306Z"
   },
   {
    "duration": 19,
    "start_time": "2024-09-05T17:56:22.518Z"
   },
   {
    "duration": 7,
    "start_time": "2024-09-05T17:58:41.806Z"
   },
   {
    "duration": 11,
    "start_time": "2024-09-05T17:58:54.381Z"
   },
   {
    "duration": 9,
    "start_time": "2024-09-05T17:58:57.514Z"
   },
   {
    "duration": 7,
    "start_time": "2024-09-05T17:59:04.350Z"
   },
   {
    "duration": 14,
    "start_time": "2024-09-05T17:59:16.559Z"
   },
   {
    "duration": 147,
    "start_time": "2024-09-05T18:00:21.293Z"
   },
   {
    "duration": 138,
    "start_time": "2024-09-05T18:00:27.325Z"
   },
   {
    "duration": 156,
    "start_time": "2024-09-05T18:00:32.959Z"
   },
   {
    "duration": 236,
    "start_time": "2024-09-05T18:00:38.511Z"
   },
   {
    "duration": 132,
    "start_time": "2024-09-05T18:00:42.960Z"
   },
   {
    "duration": 152,
    "start_time": "2024-09-05T18:00:47.147Z"
   },
   {
    "duration": 241,
    "start_time": "2024-09-05T18:01:00.716Z"
   },
   {
    "duration": 175,
    "start_time": "2024-09-05T18:01:08.759Z"
   },
   {
    "duration": 12,
    "start_time": "2024-09-05T18:01:11.896Z"
   },
   {
    "duration": 155,
    "start_time": "2024-09-05T18:01:18.438Z"
   },
   {
    "duration": 13,
    "start_time": "2024-09-05T18:01:21.438Z"
   },
   {
    "duration": 80,
    "start_time": "2024-09-05T18:01:28.137Z"
   },
   {
    "duration": 198,
    "start_time": "2024-09-05T18:01:32.590Z"
   },
   {
    "duration": 7,
    "start_time": "2024-09-05T18:01:37.172Z"
   },
   {
    "duration": 12,
    "start_time": "2024-09-05T18:01:40.344Z"
   },
   {
    "duration": 1190,
    "start_time": "2024-09-05T18:01:47.783Z"
   },
   {
    "duration": 64,
    "start_time": "2024-09-05T18:01:48.974Z"
   },
   {
    "duration": 18,
    "start_time": "2024-09-05T18:01:49.040Z"
   },
   {
    "duration": 14,
    "start_time": "2024-09-05T18:01:49.060Z"
   },
   {
    "duration": 3,
    "start_time": "2024-09-05T18:01:49.076Z"
   },
   {
    "duration": 4,
    "start_time": "2024-09-05T18:01:49.081Z"
   },
   {
    "duration": 12,
    "start_time": "2024-09-05T18:01:49.086Z"
   },
   {
    "duration": 26,
    "start_time": "2024-09-05T18:01:49.125Z"
   },
   {
    "duration": 15,
    "start_time": "2024-09-05T18:01:49.153Z"
   },
   {
    "duration": 26,
    "start_time": "2024-09-05T18:01:49.170Z"
   },
   {
    "duration": 1038,
    "start_time": "2024-09-05T18:01:49.198Z"
   },
   {
    "duration": 30,
    "start_time": "2024-09-05T18:01:50.244Z"
   },
   {
    "duration": 10,
    "start_time": "2024-09-05T18:01:50.276Z"
   },
   {
    "duration": 27,
    "start_time": "2024-09-05T18:01:50.289Z"
   },
   {
    "duration": 28,
    "start_time": "2024-09-05T18:01:50.318Z"
   },
   {
    "duration": 15,
    "start_time": "2024-09-05T18:01:50.347Z"
   },
   {
    "duration": 17,
    "start_time": "2024-09-05T18:01:50.364Z"
   },
   {
    "duration": 15,
    "start_time": "2024-09-05T18:01:50.382Z"
   },
   {
    "duration": 202,
    "start_time": "2024-09-05T18:01:50.398Z"
   },
   {
    "duration": 438,
    "start_time": "2024-09-05T18:01:50.602Z"
   },
   {
    "duration": 4,
    "start_time": "2024-09-05T18:01:51.041Z"
   },
   {
    "duration": 89,
    "start_time": "2024-09-05T18:01:51.047Z"
   },
   {
    "duration": 1101,
    "start_time": "2024-09-05T18:01:51.138Z"
   },
   {
    "duration": 10,
    "start_time": "2024-09-05T18:01:52.242Z"
   },
   {
    "duration": 19,
    "start_time": "2024-09-05T18:01:52.253Z"
   },
   {
    "duration": 14,
    "start_time": "2024-09-05T18:01:52.274Z"
   },
   {
    "duration": 23,
    "start_time": "2024-09-05T18:01:52.289Z"
   },
   {
    "duration": 20,
    "start_time": "2024-09-05T18:01:52.338Z"
   },
   {
    "duration": 454,
    "start_time": "2024-09-05T18:01:52.360Z"
   },
   {
    "duration": 25,
    "start_time": "2024-09-05T18:01:52.815Z"
   },
   {
    "duration": 160,
    "start_time": "2024-09-05T18:01:52.842Z"
   },
   {
    "duration": 134,
    "start_time": "2024-09-05T18:01:53.003Z"
   },
   {
    "duration": 199,
    "start_time": "2024-09-05T18:01:53.139Z"
   },
   {
    "duration": 239,
    "start_time": "2024-09-05T18:01:53.339Z"
   },
   {
    "duration": 140,
    "start_time": "2024-09-05T18:01:53.579Z"
   },
   {
    "duration": 161,
    "start_time": "2024-09-05T18:01:53.720Z"
   },
   {
    "duration": 254,
    "start_time": "2024-09-05T18:01:53.883Z"
   },
   {
    "duration": 147,
    "start_time": "2024-09-05T18:01:54.139Z"
   },
   {
    "duration": 12,
    "start_time": "2024-09-05T18:01:54.288Z"
   },
   {
    "duration": 171,
    "start_time": "2024-09-05T18:01:54.302Z"
   },
   {
    "duration": 12,
    "start_time": "2024-09-05T18:01:54.477Z"
   },
   {
    "duration": 97,
    "start_time": "2024-09-05T18:01:54.491Z"
   },
   {
    "duration": 194,
    "start_time": "2024-09-05T18:01:54.589Z"
   },
   {
    "duration": 7,
    "start_time": "2024-09-05T18:01:54.785Z"
   },
   {
    "duration": 9,
    "start_time": "2024-09-05T18:12:19.460Z"
   },
   {
    "duration": 8,
    "start_time": "2024-09-05T18:12:30.459Z"
   },
   {
    "duration": 7,
    "start_time": "2024-09-05T18:12:39.389Z"
   },
   {
    "duration": 7,
    "start_time": "2024-09-05T18:13:24.659Z"
   },
   {
    "duration": 20,
    "start_time": "2024-09-05T18:13:35.821Z"
   },
   {
    "duration": 11,
    "start_time": "2024-09-05T20:38:25.333Z"
   },
   {
    "duration": 8,
    "start_time": "2024-09-05T20:39:07.890Z"
   },
   {
    "duration": 7,
    "start_time": "2024-09-05T20:39:36.597Z"
   },
   {
    "duration": 8,
    "start_time": "2024-09-05T20:40:11.249Z"
   },
   {
    "duration": 12,
    "start_time": "2024-09-05T20:43:54.928Z"
   },
   {
    "duration": 14,
    "start_time": "2024-09-05T20:55:42.689Z"
   },
   {
    "duration": 142,
    "start_time": "2024-09-05T21:06:00.501Z"
   },
   {
    "duration": 15,
    "start_time": "2024-09-05T21:06:06.269Z"
   },
   {
    "duration": 11,
    "start_time": "2024-09-05T21:08:55.839Z"
   },
   {
    "duration": 15,
    "start_time": "2024-09-05T21:09:00.301Z"
   },
   {
    "duration": 14,
    "start_time": "2024-09-05T21:35:41.826Z"
   },
   {
    "duration": 20,
    "start_time": "2024-09-05T21:35:48.448Z"
   },
   {
    "duration": 19,
    "start_time": "2024-09-05T21:36:14.760Z"
   },
   {
    "duration": 15,
    "start_time": "2024-09-05T21:36:17.645Z"
   },
   {
    "duration": 15,
    "start_time": "2024-09-05T21:36:26.080Z"
   },
   {
    "duration": 14,
    "start_time": "2024-09-05T21:41:57.140Z"
   },
   {
    "duration": 13,
    "start_time": "2024-09-05T21:42:29.687Z"
   },
   {
    "duration": 18,
    "start_time": "2024-09-05T21:42:29.858Z"
   },
   {
    "duration": 14,
    "start_time": "2024-09-05T21:42:36.137Z"
   },
   {
    "duration": 4,
    "start_time": "2024-09-06T00:04:07.227Z"
   },
   {
    "duration": 11,
    "start_time": "2024-09-06T00:07:47.099Z"
   },
   {
    "duration": 8,
    "start_time": "2024-09-06T00:08:00.642Z"
   },
   {
    "duration": 7,
    "start_time": "2024-09-06T00:09:48.284Z"
   },
   {
    "duration": 8,
    "start_time": "2024-09-06T00:10:10.848Z"
   },
   {
    "duration": 7,
    "start_time": "2024-09-06T00:13:33.144Z"
   },
   {
    "duration": 957,
    "start_time": "2024-09-06T00:14:03.094Z"
   },
   {
    "duration": 7,
    "start_time": "2024-09-06T00:14:05.946Z"
   },
   {
    "duration": 1120,
    "start_time": "2024-09-06T00:16:00.229Z"
   },
   {
    "duration": 60,
    "start_time": "2024-09-06T00:16:01.350Z"
   },
   {
    "duration": 18,
    "start_time": "2024-09-06T00:16:01.412Z"
   },
   {
    "duration": 14,
    "start_time": "2024-09-06T00:16:01.432Z"
   },
   {
    "duration": 3,
    "start_time": "2024-09-06T00:16:01.448Z"
   },
   {
    "duration": 5,
    "start_time": "2024-09-06T00:16:01.452Z"
   },
   {
    "duration": 9,
    "start_time": "2024-09-06T00:16:01.458Z"
   },
   {
    "duration": 13,
    "start_time": "2024-09-06T00:16:01.468Z"
   },
   {
    "duration": 15,
    "start_time": "2024-09-06T00:16:01.482Z"
   },
   {
    "duration": 45,
    "start_time": "2024-09-06T00:16:01.498Z"
   },
   {
    "duration": 854,
    "start_time": "2024-09-06T00:16:01.544Z"
   },
   {
    "duration": 31,
    "start_time": "2024-09-06T00:16:02.399Z"
   },
   {
    "duration": 9,
    "start_time": "2024-09-06T00:16:02.431Z"
   },
   {
    "duration": 25,
    "start_time": "2024-09-06T00:16:02.443Z"
   },
   {
    "duration": 12,
    "start_time": "2024-09-06T00:16:02.470Z"
   },
   {
    "duration": 4,
    "start_time": "2024-09-06T00:16:02.484Z"
   },
   {
    "duration": 42,
    "start_time": "2024-09-06T00:16:02.489Z"
   },
   {
    "duration": 14,
    "start_time": "2024-09-06T00:16:02.534Z"
   },
   {
    "duration": 164,
    "start_time": "2024-09-06T00:16:02.549Z"
   },
   {
    "duration": 345,
    "start_time": "2024-09-06T00:16:02.714Z"
   },
   {
    "duration": 3,
    "start_time": "2024-09-06T00:16:03.061Z"
   },
   {
    "duration": 72,
    "start_time": "2024-09-06T00:16:03.066Z"
   },
   {
    "duration": 920,
    "start_time": "2024-09-06T00:16:03.139Z"
   },
   {
    "duration": 8,
    "start_time": "2024-09-06T00:16:04.061Z"
   },
   {
    "duration": 8,
    "start_time": "2024-09-06T00:16:04.071Z"
   },
   {
    "duration": 13,
    "start_time": "2024-09-06T00:16:04.080Z"
   },
   {
    "duration": 36,
    "start_time": "2024-09-06T00:16:04.094Z"
   },
   {
    "duration": 16,
    "start_time": "2024-09-06T00:16:04.131Z"
   },
   {
    "duration": 393,
    "start_time": "2024-09-06T00:16:04.149Z"
   },
   {
    "duration": 13,
    "start_time": "2024-09-06T00:16:04.544Z"
   },
   {
    "duration": 123,
    "start_time": "2024-09-06T00:16:04.559Z"
   },
   {
    "duration": 110,
    "start_time": "2024-09-06T00:16:04.683Z"
   },
   {
    "duration": 126,
    "start_time": "2024-09-06T00:16:04.794Z"
   },
   {
    "duration": 196,
    "start_time": "2024-09-06T00:16:04.925Z"
   },
   {
    "duration": 122,
    "start_time": "2024-09-06T00:16:05.124Z"
   },
   {
    "duration": 139,
    "start_time": "2024-09-06T00:16:05.247Z"
   },
   {
    "duration": 207,
    "start_time": "2024-09-06T00:16:05.387Z"
   },
   {
    "duration": 136,
    "start_time": "2024-09-06T00:16:05.595Z"
   },
   {
    "duration": 12,
    "start_time": "2024-09-06T00:16:05.733Z"
   },
   {
    "duration": 150,
    "start_time": "2024-09-06T00:16:05.746Z"
   },
   {
    "duration": 11,
    "start_time": "2024-09-06T00:16:05.899Z"
   },
   {
    "duration": 87,
    "start_time": "2024-09-06T00:16:05.911Z"
   },
   {
    "duration": 170,
    "start_time": "2024-09-06T00:16:06.000Z"
   },
   {
    "duration": 6,
    "start_time": "2024-09-06T00:16:06.171Z"
   },
   {
    "duration": 12,
    "start_time": "2024-09-06T00:16:06.179Z"
   },
   {
    "duration": 12,
    "start_time": "2024-09-06T00:16:06.192Z"
   },
   {
    "duration": 26,
    "start_time": "2024-09-06T00:16:06.205Z"
   },
   {
    "duration": 12,
    "start_time": "2024-09-06T00:16:06.232Z"
   },
   {
    "duration": 12,
    "start_time": "2024-09-06T00:16:06.245Z"
   },
   {
    "duration": 13,
    "start_time": "2024-09-06T00:16:06.258Z"
   },
   {
    "duration": 13,
    "start_time": "2024-09-06T00:16:06.273Z"
   },
   {
    "duration": 12,
    "start_time": "2024-09-06T00:16:06.287Z"
   },
   {
    "duration": 104,
    "start_time": "2024-09-06T00:16:06.325Z"
   },
   {
    "duration": 1,
    "start_time": "2024-09-06T00:16:06.430Z"
   },
   {
    "duration": 0,
    "start_time": "2024-09-06T00:16:06.431Z"
   },
   {
    "duration": 0,
    "start_time": "2024-09-06T00:16:06.432Z"
   },
   {
    "duration": 0,
    "start_time": "2024-09-06T00:16:06.433Z"
   },
   {
    "duration": 13,
    "start_time": "2024-09-06T00:19:18.430Z"
   },
   {
    "duration": 12,
    "start_time": "2024-09-06T00:19:25.811Z"
   },
   {
    "duration": 13,
    "start_time": "2024-09-06T00:19:25.976Z"
   },
   {
    "duration": 1120,
    "start_time": "2024-09-06T00:19:34.207Z"
   },
   {
    "duration": 58,
    "start_time": "2024-09-06T00:19:35.329Z"
   },
   {
    "duration": 19,
    "start_time": "2024-09-06T00:19:35.391Z"
   },
   {
    "duration": 16,
    "start_time": "2024-09-06T00:19:35.413Z"
   },
   {
    "duration": 4,
    "start_time": "2024-09-06T00:19:35.431Z"
   },
   {
    "duration": 11,
    "start_time": "2024-09-06T00:19:35.437Z"
   },
   {
    "duration": 16,
    "start_time": "2024-09-06T00:19:35.450Z"
   },
   {
    "duration": 14,
    "start_time": "2024-09-06T00:19:35.468Z"
   },
   {
    "duration": 13,
    "start_time": "2024-09-06T00:19:35.484Z"
   },
   {
    "duration": 36,
    "start_time": "2024-09-06T00:19:35.498Z"
   },
   {
    "duration": 823,
    "start_time": "2024-09-06T00:19:35.535Z"
   },
   {
    "duration": 20,
    "start_time": "2024-09-06T00:19:36.360Z"
   },
   {
    "duration": 8,
    "start_time": "2024-09-06T00:19:36.383Z"
   },
   {
    "duration": 36,
    "start_time": "2024-09-06T00:19:36.393Z"
   },
   {
    "duration": 13,
    "start_time": "2024-09-06T00:19:36.430Z"
   },
   {
    "duration": 21,
    "start_time": "2024-09-06T00:19:36.444Z"
   },
   {
    "duration": 19,
    "start_time": "2024-09-06T00:19:36.466Z"
   },
   {
    "duration": 21,
    "start_time": "2024-09-06T00:19:36.486Z"
   },
   {
    "duration": 175,
    "start_time": "2024-09-06T00:19:36.509Z"
   },
   {
    "duration": 354,
    "start_time": "2024-09-06T00:19:36.685Z"
   },
   {
    "duration": 3,
    "start_time": "2024-09-06T00:19:37.041Z"
   },
   {
    "duration": 68,
    "start_time": "2024-09-06T00:19:37.045Z"
   },
   {
    "duration": 955,
    "start_time": "2024-09-06T00:19:37.115Z"
   },
   {
    "duration": 9,
    "start_time": "2024-09-06T00:19:38.072Z"
   },
   {
    "duration": 16,
    "start_time": "2024-09-06T00:19:38.082Z"
   },
   {
    "duration": 28,
    "start_time": "2024-09-06T00:19:38.099Z"
   },
   {
    "duration": 16,
    "start_time": "2024-09-06T00:19:38.129Z"
   },
   {
    "duration": 17,
    "start_time": "2024-09-06T00:19:38.147Z"
   },
   {
    "duration": 416,
    "start_time": "2024-09-06T00:19:38.166Z"
   },
   {
    "duration": 14,
    "start_time": "2024-09-06T00:19:38.583Z"
   },
   {
    "duration": 133,
    "start_time": "2024-09-06T00:19:38.599Z"
   },
   {
    "duration": 122,
    "start_time": "2024-09-06T00:19:38.733Z"
   },
   {
    "duration": 136,
    "start_time": "2024-09-06T00:19:38.856Z"
   },
   {
    "duration": 213,
    "start_time": "2024-09-06T00:19:38.993Z"
   },
   {
    "duration": 130,
    "start_time": "2024-09-06T00:19:39.207Z"
   },
   {
    "duration": 138,
    "start_time": "2024-09-06T00:19:39.338Z"
   },
   {
    "duration": 237,
    "start_time": "2024-09-06T00:19:39.478Z"
   },
   {
    "duration": 149,
    "start_time": "2024-09-06T00:19:39.716Z"
   },
   {
    "duration": 12,
    "start_time": "2024-09-06T00:19:39.866Z"
   },
   {
    "duration": 158,
    "start_time": "2024-09-06T00:19:39.882Z"
   },
   {
    "duration": 12,
    "start_time": "2024-09-06T00:19:40.042Z"
   },
   {
    "duration": 93,
    "start_time": "2024-09-06T00:19:40.055Z"
   },
   {
    "duration": 193,
    "start_time": "2024-09-06T00:19:40.150Z"
   },
   {
    "duration": 7,
    "start_time": "2024-09-06T00:19:40.344Z"
   },
   {
    "duration": 11,
    "start_time": "2024-09-06T00:19:40.353Z"
   },
   {
    "duration": 12,
    "start_time": "2024-09-06T00:19:40.366Z"
   },
   {
    "duration": 13,
    "start_time": "2024-09-06T00:19:40.379Z"
   },
   {
    "duration": 33,
    "start_time": "2024-09-06T00:19:40.393Z"
   },
   {
    "duration": 14,
    "start_time": "2024-09-06T00:19:40.427Z"
   },
   {
    "duration": 12,
    "start_time": "2024-09-06T00:19:40.443Z"
   },
   {
    "duration": 12,
    "start_time": "2024-09-06T00:19:40.457Z"
   },
   {
    "duration": 12,
    "start_time": "2024-09-06T00:19:40.470Z"
   },
   {
    "duration": 11,
    "start_time": "2024-09-06T00:19:40.483Z"
   },
   {
    "duration": 12,
    "start_time": "2024-09-06T00:19:40.525Z"
   },
   {
    "duration": 10,
    "start_time": "2024-09-06T00:19:40.539Z"
   },
   {
    "duration": 8,
    "start_time": "2024-09-06T00:19:40.551Z"
   },
   {
    "duration": 10,
    "start_time": "2024-09-06T00:19:40.561Z"
   },
   {
    "duration": 1077,
    "start_time": "2024-09-06T00:29:59.167Z"
   },
   {
    "duration": 56,
    "start_time": "2024-09-06T00:30:00.246Z"
   },
   {
    "duration": 16,
    "start_time": "2024-09-06T00:30:00.303Z"
   },
   {
    "duration": 13,
    "start_time": "2024-09-06T00:30:00.321Z"
   },
   {
    "duration": 3,
    "start_time": "2024-09-06T00:30:00.336Z"
   },
   {
    "duration": 6,
    "start_time": "2024-09-06T00:30:00.341Z"
   },
   {
    "duration": 23,
    "start_time": "2024-09-06T00:30:00.348Z"
   },
   {
    "duration": 13,
    "start_time": "2024-09-06T00:30:00.372Z"
   },
   {
    "duration": 24,
    "start_time": "2024-09-06T00:30:00.387Z"
   },
   {
    "duration": 35,
    "start_time": "2024-09-06T00:30:00.413Z"
   },
   {
    "duration": 851,
    "start_time": "2024-09-06T00:30:00.449Z"
   },
   {
    "duration": 25,
    "start_time": "2024-09-06T00:30:01.301Z"
   },
   {
    "duration": 23,
    "start_time": "2024-09-06T00:30:01.327Z"
   },
   {
    "duration": 19,
    "start_time": "2024-09-06T00:30:01.353Z"
   },
   {
    "duration": 13,
    "start_time": "2024-09-06T00:30:01.373Z"
   },
   {
    "duration": 5,
    "start_time": "2024-09-06T00:30:01.387Z"
   },
   {
    "duration": 18,
    "start_time": "2024-09-06T00:30:01.394Z"
   },
   {
    "duration": 12,
    "start_time": "2024-09-06T00:30:01.426Z"
   },
   {
    "duration": 154,
    "start_time": "2024-09-06T00:30:01.440Z"
   },
   {
    "duration": 367,
    "start_time": "2024-09-06T00:30:01.596Z"
   },
   {
    "duration": 4,
    "start_time": "2024-09-06T00:30:01.964Z"
   },
   {
    "duration": 75,
    "start_time": "2024-09-06T00:30:01.970Z"
   },
   {
    "duration": 973,
    "start_time": "2024-09-06T00:30:02.047Z"
   },
   {
    "duration": 9,
    "start_time": "2024-09-06T00:30:03.025Z"
   },
   {
    "duration": 9,
    "start_time": "2024-09-06T00:30:03.035Z"
   },
   {
    "duration": 13,
    "start_time": "2024-09-06T00:30:03.046Z"
   },
   {
    "duration": 16,
    "start_time": "2024-09-06T00:30:03.060Z"
   },
   {
    "duration": 50,
    "start_time": "2024-09-06T00:30:03.078Z"
   },
   {
    "duration": 388,
    "start_time": "2024-09-06T00:30:03.130Z"
   },
   {
    "duration": 13,
    "start_time": "2024-09-06T00:30:03.520Z"
   },
   {
    "duration": 120,
    "start_time": "2024-09-06T00:30:03.535Z"
   },
   {
    "duration": 119,
    "start_time": "2024-09-06T00:30:03.657Z"
   },
   {
    "duration": 128,
    "start_time": "2024-09-06T00:30:03.778Z"
   },
   {
    "duration": 196,
    "start_time": "2024-09-06T00:30:03.907Z"
   },
   {
    "duration": 129,
    "start_time": "2024-09-06T00:30:04.104Z"
   },
   {
    "duration": 134,
    "start_time": "2024-09-06T00:30:04.235Z"
   },
   {
    "duration": 223,
    "start_time": "2024-09-06T00:30:04.371Z"
   },
   {
    "duration": 145,
    "start_time": "2024-09-06T00:30:04.595Z"
   },
   {
    "duration": 11,
    "start_time": "2024-09-06T00:30:04.741Z"
   },
   {
    "duration": 147,
    "start_time": "2024-09-06T00:30:04.754Z"
   },
   {
    "duration": 11,
    "start_time": "2024-09-06T00:30:04.905Z"
   },
   {
    "duration": 99,
    "start_time": "2024-09-06T00:30:04.917Z"
   },
   {
    "duration": 166,
    "start_time": "2024-09-06T00:30:05.018Z"
   },
   {
    "duration": 7,
    "start_time": "2024-09-06T00:30:05.185Z"
   },
   {
    "duration": 26,
    "start_time": "2024-09-06T00:30:05.193Z"
   },
   {
    "duration": 22,
    "start_time": "2024-09-06T00:30:05.220Z"
   },
   {
    "duration": 91,
    "start_time": "2024-09-06T00:30:05.244Z"
   },
   {
    "duration": 13,
    "start_time": "2024-09-06T00:30:05.336Z"
   },
   {
    "duration": 15,
    "start_time": "2024-09-06T00:30:05.350Z"
   },
   {
    "duration": 13,
    "start_time": "2024-09-06T00:30:05.367Z"
   },
   {
    "duration": 13,
    "start_time": "2024-09-06T00:30:05.381Z"
   },
   {
    "duration": 42,
    "start_time": "2024-09-06T00:30:05.395Z"
   },
   {
    "duration": 14,
    "start_time": "2024-09-06T00:30:05.439Z"
   },
   {
    "duration": 12,
    "start_time": "2024-09-06T00:30:05.454Z"
   },
   {
    "duration": 20,
    "start_time": "2024-09-06T00:30:05.467Z"
   },
   {
    "duration": 15,
    "start_time": "2024-09-06T00:30:05.489Z"
   },
   {
    "duration": 20,
    "start_time": "2024-09-06T00:30:05.506Z"
   },
   {
    "duration": 74,
    "start_time": "2024-09-06T09:18:35.781Z"
   },
   {
    "duration": 48,
    "start_time": "2024-09-06T09:23:02.291Z"
   },
   {
    "duration": 1448,
    "start_time": "2024-09-06T09:23:06.333Z"
   },
   {
    "duration": 186,
    "start_time": "2024-09-06T09:23:07.783Z"
   },
   {
    "duration": 19,
    "start_time": "2024-09-06T09:23:07.971Z"
   },
   {
    "duration": 34,
    "start_time": "2024-09-06T09:23:07.992Z"
   },
   {
    "duration": 29,
    "start_time": "2024-09-06T09:23:08.028Z"
   },
   {
    "duration": 40,
    "start_time": "2024-09-06T09:23:08.059Z"
   },
   {
    "duration": 32,
    "start_time": "2024-09-06T09:23:08.101Z"
   },
   {
    "duration": 51,
    "start_time": "2024-09-06T09:23:08.135Z"
   },
   {
    "duration": 53,
    "start_time": "2024-09-06T09:23:08.187Z"
   },
   {
    "duration": 32,
    "start_time": "2024-09-06T09:23:08.242Z"
   },
   {
    "duration": 942,
    "start_time": "2024-09-06T09:23:08.276Z"
   },
   {
    "duration": 24,
    "start_time": "2024-09-06T09:23:09.220Z"
   },
   {
    "duration": 10,
    "start_time": "2024-09-06T09:23:09.246Z"
   },
   {
    "duration": 47,
    "start_time": "2024-09-06T09:23:09.258Z"
   },
   {
    "duration": 15,
    "start_time": "2024-09-06T09:23:09.307Z"
   },
   {
    "duration": 5,
    "start_time": "2024-09-06T09:23:09.324Z"
   },
   {
    "duration": 25,
    "start_time": "2024-09-06T09:23:09.331Z"
   },
   {
    "duration": 48,
    "start_time": "2024-09-06T09:23:09.358Z"
   },
   {
    "duration": 467,
    "start_time": "2024-09-06T09:23:09.408Z"
   },
   {
    "duration": 336,
    "start_time": "2024-09-06T09:23:09.877Z"
   },
   {
    "duration": 4,
    "start_time": "2024-09-06T09:23:10.215Z"
   },
   {
    "duration": 86,
    "start_time": "2024-09-06T09:23:10.221Z"
   },
   {
    "duration": 1135,
    "start_time": "2024-09-06T09:23:10.309Z"
   },
   {
    "duration": 10,
    "start_time": "2024-09-06T09:23:11.445Z"
   },
   {
    "duration": 9,
    "start_time": "2024-09-06T09:23:11.457Z"
   },
   {
    "duration": 38,
    "start_time": "2024-09-06T09:23:11.468Z"
   },
   {
    "duration": 20,
    "start_time": "2024-09-06T09:23:11.508Z"
   },
   {
    "duration": 19,
    "start_time": "2024-09-06T09:23:11.534Z"
   },
   {
    "duration": 470,
    "start_time": "2024-09-06T09:23:11.556Z"
   },
   {
    "duration": 16,
    "start_time": "2024-09-06T09:23:12.027Z"
   },
   {
    "duration": 156,
    "start_time": "2024-09-06T09:23:12.045Z"
   },
   {
    "duration": 215,
    "start_time": "2024-09-06T09:23:12.203Z"
   },
   {
    "duration": 152,
    "start_time": "2024-09-06T09:23:12.420Z"
   },
   {
    "duration": 154,
    "start_time": "2024-09-06T09:23:12.574Z"
   },
   {
    "duration": 169,
    "start_time": "2024-09-06T09:23:12.730Z"
   },
   {
    "duration": 167,
    "start_time": "2024-09-06T09:23:12.905Z"
   },
   {
    "duration": 227,
    "start_time": "2024-09-06T09:23:13.073Z"
   },
   {
    "duration": 159,
    "start_time": "2024-09-06T09:23:13.305Z"
   },
   {
    "duration": 13,
    "start_time": "2024-09-06T09:23:13.466Z"
   },
   {
    "duration": 274,
    "start_time": "2024-09-06T09:23:13.481Z"
   },
   {
    "duration": 13,
    "start_time": "2024-09-06T09:23:13.757Z"
   },
   {
    "duration": 131,
    "start_time": "2024-09-06T09:23:13.771Z"
   },
   {
    "duration": 206,
    "start_time": "2024-09-06T09:23:13.903Z"
   },
   {
    "duration": 8,
    "start_time": "2024-09-06T09:23:14.111Z"
   },
   {
    "duration": 15,
    "start_time": "2024-09-06T09:23:14.121Z"
   },
   {
    "duration": 163,
    "start_time": "2024-09-06T09:23:14.138Z"
   },
   {
    "duration": 25,
    "start_time": "2024-09-06T09:23:14.302Z"
   },
   {
    "duration": 25,
    "start_time": "2024-09-06T09:23:14.329Z"
   },
   {
    "duration": 90,
    "start_time": "2024-09-06T09:23:14.356Z"
   },
   {
    "duration": 72,
    "start_time": "2024-09-06T09:23:14.448Z"
   },
   {
    "duration": 50,
    "start_time": "2024-09-06T09:23:14.521Z"
   },
   {
    "duration": 20,
    "start_time": "2024-09-06T09:23:14.573Z"
   },
   {
    "duration": 15,
    "start_time": "2024-09-06T09:23:14.595Z"
   },
   {
    "duration": 13,
    "start_time": "2024-09-06T09:23:14.612Z"
   },
   {
    "duration": 28,
    "start_time": "2024-09-06T09:23:14.627Z"
   },
   {
    "duration": 7,
    "start_time": "2024-09-06T09:23:14.657Z"
   },
   {
    "duration": 16,
    "start_time": "2024-09-06T09:23:14.666Z"
   },
   {
    "duration": 168,
    "start_time": "2024-09-06T09:24:36.870Z"
   },
   {
    "duration": 255,
    "start_time": "2024-09-06T09:25:32.089Z"
   },
   {
    "duration": 163,
    "start_time": "2024-09-06T09:27:20.255Z"
   },
   {
    "duration": 118,
    "start_time": "2024-09-06T09:29:18.340Z"
   },
   {
    "duration": 19,
    "start_time": "2024-09-06T09:29:25.721Z"
   },
   {
    "duration": 20,
    "start_time": "2024-09-06T09:29:29.380Z"
   },
   {
    "duration": 1228,
    "start_time": "2024-09-06T09:29:37.887Z"
   },
   {
    "duration": 55,
    "start_time": "2024-09-06T09:29:39.119Z"
   },
   {
    "duration": 22,
    "start_time": "2024-09-06T09:29:39.176Z"
   },
   {
    "duration": 15,
    "start_time": "2024-09-06T09:29:39.200Z"
   },
   {
    "duration": 3,
    "start_time": "2024-09-06T09:29:39.218Z"
   },
   {
    "duration": 32,
    "start_time": "2024-09-06T09:29:39.222Z"
   },
   {
    "duration": 17,
    "start_time": "2024-09-06T09:29:39.256Z"
   },
   {
    "duration": 15,
    "start_time": "2024-09-06T09:29:39.274Z"
   },
   {
    "duration": 22,
    "start_time": "2024-09-06T09:29:39.291Z"
   },
   {
    "duration": 27,
    "start_time": "2024-09-06T09:29:39.315Z"
   },
   {
    "duration": 909,
    "start_time": "2024-09-06T09:29:39.343Z"
   },
   {
    "duration": 22,
    "start_time": "2024-09-06T09:29:40.254Z"
   },
   {
    "duration": 9,
    "start_time": "2024-09-06T09:29:40.278Z"
   },
   {
    "duration": 22,
    "start_time": "2024-09-06T09:29:40.304Z"
   },
   {
    "duration": 13,
    "start_time": "2024-09-06T09:29:40.327Z"
   },
   {
    "duration": 6,
    "start_time": "2024-09-06T09:29:40.342Z"
   },
   {
    "duration": 17,
    "start_time": "2024-09-06T09:29:40.350Z"
   },
   {
    "duration": 39,
    "start_time": "2024-09-06T09:29:40.368Z"
   },
   {
    "duration": 194,
    "start_time": "2024-09-06T09:29:40.409Z"
   },
   {
    "duration": 453,
    "start_time": "2024-09-06T09:29:40.606Z"
   },
   {
    "duration": 5,
    "start_time": "2024-09-06T09:29:41.060Z"
   },
   {
    "duration": 85,
    "start_time": "2024-09-06T09:29:41.066Z"
   },
   {
    "duration": 1021,
    "start_time": "2024-09-06T09:29:41.153Z"
   },
   {
    "duration": 10,
    "start_time": "2024-09-06T09:29:42.176Z"
   },
   {
    "duration": 70,
    "start_time": "2024-09-06T09:29:42.187Z"
   },
   {
    "duration": 15,
    "start_time": "2024-09-06T09:29:42.259Z"
   },
   {
    "duration": 25,
    "start_time": "2024-09-06T09:29:42.275Z"
   },
   {
    "duration": 18,
    "start_time": "2024-09-06T09:29:42.302Z"
   },
   {
    "duration": 451,
    "start_time": "2024-09-06T09:29:42.322Z"
   },
   {
    "duration": 16,
    "start_time": "2024-09-06T09:29:42.775Z"
   },
   {
    "duration": 197,
    "start_time": "2024-09-06T09:29:42.792Z"
   },
   {
    "duration": 125,
    "start_time": "2024-09-06T09:29:42.991Z"
   },
   {
    "duration": 138,
    "start_time": "2024-09-06T09:29:43.118Z"
   },
   {
    "duration": 219,
    "start_time": "2024-09-06T09:29:43.257Z"
   },
   {
    "duration": 127,
    "start_time": "2024-09-06T09:29:43.478Z"
   },
   {
    "duration": 145,
    "start_time": "2024-09-06T09:29:43.607Z"
   },
   {
    "duration": 253,
    "start_time": "2024-09-06T09:29:43.754Z"
   },
   {
    "duration": 156,
    "start_time": "2024-09-06T09:29:44.009Z"
   },
   {
    "duration": 13,
    "start_time": "2024-09-06T09:29:44.167Z"
   },
   {
    "duration": 231,
    "start_time": "2024-09-06T09:29:44.181Z"
   },
   {
    "duration": 12,
    "start_time": "2024-09-06T09:29:44.416Z"
   },
   {
    "duration": 92,
    "start_time": "2024-09-06T09:29:44.429Z"
   },
   {
    "duration": 184,
    "start_time": "2024-09-06T09:29:44.523Z"
   },
   {
    "duration": 7,
    "start_time": "2024-09-06T09:29:44.709Z"
   },
   {
    "duration": 34,
    "start_time": "2024-09-06T09:29:44.717Z"
   },
   {
    "duration": 11,
    "start_time": "2024-09-06T09:29:44.752Z"
   },
   {
    "duration": 97,
    "start_time": "2024-09-06T09:29:44.765Z"
   },
   {
    "duration": 13,
    "start_time": "2024-09-06T09:29:44.864Z"
   },
   {
    "duration": 18,
    "start_time": "2024-09-06T09:29:44.879Z"
   },
   {
    "duration": 15,
    "start_time": "2024-09-06T09:29:44.899Z"
   },
   {
    "duration": 23,
    "start_time": "2024-09-06T09:29:44.916Z"
   },
   {
    "duration": 20,
    "start_time": "2024-09-06T09:29:44.940Z"
   },
   {
    "duration": 21,
    "start_time": "2024-09-06T09:29:44.962Z"
   },
   {
    "duration": 21,
    "start_time": "2024-09-06T09:29:44.985Z"
   },
   {
    "duration": 52,
    "start_time": "2024-09-06T09:29:45.008Z"
   },
   {
    "duration": 51,
    "start_time": "2024-09-06T09:29:45.062Z"
   },
   {
    "duration": 44,
    "start_time": "2024-09-06T09:29:45.114Z"
   },
   {
    "duration": 114,
    "start_time": "2024-09-06T09:32:08.246Z"
   },
   {
    "duration": 49,
    "start_time": "2024-09-06T09:32:47.451Z"
   },
   {
    "duration": 1209,
    "start_time": "2024-09-06T09:32:51.126Z"
   },
   {
    "duration": 58,
    "start_time": "2024-09-06T09:32:52.337Z"
   },
   {
    "duration": 19,
    "start_time": "2024-09-06T09:32:52.396Z"
   },
   {
    "duration": 30,
    "start_time": "2024-09-06T09:32:52.417Z"
   },
   {
    "duration": 9,
    "start_time": "2024-09-06T09:32:52.449Z"
   },
   {
    "duration": 8,
    "start_time": "2024-09-06T09:32:52.460Z"
   },
   {
    "duration": 20,
    "start_time": "2024-09-06T09:32:52.469Z"
   },
   {
    "duration": 28,
    "start_time": "2024-09-06T09:32:52.491Z"
   },
   {
    "duration": 23,
    "start_time": "2024-09-06T09:32:52.521Z"
   },
   {
    "duration": 21,
    "start_time": "2024-09-06T09:32:52.546Z"
   },
   {
    "duration": 946,
    "start_time": "2024-09-06T09:32:52.568Z"
   },
   {
    "duration": 24,
    "start_time": "2024-09-06T09:32:53.516Z"
   },
   {
    "duration": 10,
    "start_time": "2024-09-06T09:32:53.541Z"
   },
   {
    "duration": 20,
    "start_time": "2024-09-06T09:32:53.553Z"
   },
   {
    "duration": 58,
    "start_time": "2024-09-06T09:32:53.575Z"
   },
   {
    "duration": 5,
    "start_time": "2024-09-06T09:32:53.635Z"
   },
   {
    "duration": 16,
    "start_time": "2024-09-06T09:32:53.641Z"
   },
   {
    "duration": 24,
    "start_time": "2024-09-06T09:32:53.658Z"
   },
   {
    "duration": 171,
    "start_time": "2024-09-06T09:32:53.683Z"
   },
   {
    "duration": 377,
    "start_time": "2024-09-06T09:32:53.855Z"
   },
   {
    "duration": 109,
    "start_time": "2024-09-06T09:32:54.234Z"
   },
   {
    "duration": 0,
    "start_time": "2024-09-06T09:32:54.345Z"
   },
   {
    "duration": 0,
    "start_time": "2024-09-06T09:32:54.346Z"
   },
   {
    "duration": 0,
    "start_time": "2024-09-06T09:32:54.347Z"
   },
   {
    "duration": 0,
    "start_time": "2024-09-06T09:32:54.349Z"
   },
   {
    "duration": 1,
    "start_time": "2024-09-06T09:32:54.349Z"
   },
   {
    "duration": 0,
    "start_time": "2024-09-06T09:32:54.351Z"
   },
   {
    "duration": 0,
    "start_time": "2024-09-06T09:32:54.352Z"
   },
   {
    "duration": 0,
    "start_time": "2024-09-06T09:32:54.353Z"
   },
   {
    "duration": 0,
    "start_time": "2024-09-06T09:32:54.355Z"
   },
   {
    "duration": 1,
    "start_time": "2024-09-06T09:32:54.355Z"
   },
   {
    "duration": 0,
    "start_time": "2024-09-06T09:32:54.357Z"
   },
   {
    "duration": 0,
    "start_time": "2024-09-06T09:32:54.358Z"
   },
   {
    "duration": 0,
    "start_time": "2024-09-06T09:32:54.360Z"
   },
   {
    "duration": 0,
    "start_time": "2024-09-06T09:32:54.361Z"
   },
   {
    "duration": 0,
    "start_time": "2024-09-06T09:32:54.363Z"
   },
   {
    "duration": 0,
    "start_time": "2024-09-06T09:32:54.365Z"
   },
   {
    "duration": 0,
    "start_time": "2024-09-06T09:32:54.366Z"
   },
   {
    "duration": 0,
    "start_time": "2024-09-06T09:32:54.406Z"
   },
   {
    "duration": 0,
    "start_time": "2024-09-06T09:32:54.406Z"
   },
   {
    "duration": 0,
    "start_time": "2024-09-06T09:32:54.408Z"
   },
   {
    "duration": 0,
    "start_time": "2024-09-06T09:32:54.408Z"
   },
   {
    "duration": 0,
    "start_time": "2024-09-06T09:32:54.410Z"
   },
   {
    "duration": 0,
    "start_time": "2024-09-06T09:32:54.411Z"
   },
   {
    "duration": 0,
    "start_time": "2024-09-06T09:32:54.412Z"
   },
   {
    "duration": 0,
    "start_time": "2024-09-06T09:32:54.413Z"
   },
   {
    "duration": 0,
    "start_time": "2024-09-06T09:32:54.414Z"
   },
   {
    "duration": 0,
    "start_time": "2024-09-06T09:32:54.415Z"
   },
   {
    "duration": 0,
    "start_time": "2024-09-06T09:32:54.416Z"
   },
   {
    "duration": 0,
    "start_time": "2024-09-06T09:32:54.417Z"
   },
   {
    "duration": 0,
    "start_time": "2024-09-06T09:32:54.418Z"
   },
   {
    "duration": 0,
    "start_time": "2024-09-06T09:32:54.419Z"
   },
   {
    "duration": 0,
    "start_time": "2024-09-06T09:32:54.420Z"
   },
   {
    "duration": 0,
    "start_time": "2024-09-06T09:32:54.421Z"
   },
   {
    "duration": 0,
    "start_time": "2024-09-06T09:32:54.422Z"
   },
   {
    "duration": 0,
    "start_time": "2024-09-06T09:32:54.423Z"
   },
   {
    "duration": 0,
    "start_time": "2024-09-06T09:32:54.424Z"
   },
   {
    "duration": 0,
    "start_time": "2024-09-06T09:32:54.425Z"
   },
   {
    "duration": 1263,
    "start_time": "2024-09-06T09:33:37.970Z"
   },
   {
    "duration": 59,
    "start_time": "2024-09-06T09:33:39.235Z"
   },
   {
    "duration": 18,
    "start_time": "2024-09-06T09:33:39.296Z"
   },
   {
    "duration": 18,
    "start_time": "2024-09-06T09:33:39.316Z"
   },
   {
    "duration": 16,
    "start_time": "2024-09-06T09:33:39.336Z"
   },
   {
    "duration": 32,
    "start_time": "2024-09-06T09:33:39.353Z"
   },
   {
    "duration": 17,
    "start_time": "2024-09-06T09:33:39.386Z"
   },
   {
    "duration": 15,
    "start_time": "2024-09-06T09:33:39.404Z"
   },
   {
    "duration": 30,
    "start_time": "2024-09-06T09:33:39.420Z"
   },
   {
    "duration": 26,
    "start_time": "2024-09-06T09:33:39.451Z"
   },
   {
    "duration": 1012,
    "start_time": "2024-09-06T09:33:39.479Z"
   },
   {
    "duration": 34,
    "start_time": "2024-09-06T09:33:40.492Z"
   },
   {
    "duration": 13,
    "start_time": "2024-09-06T09:33:40.528Z"
   },
   {
    "duration": 58,
    "start_time": "2024-09-06T09:33:40.545Z"
   },
   {
    "duration": 20,
    "start_time": "2024-09-06T09:33:40.604Z"
   },
   {
    "duration": 17,
    "start_time": "2024-09-06T09:33:40.626Z"
   },
   {
    "duration": 48,
    "start_time": "2024-09-06T09:33:40.644Z"
   },
   {
    "duration": 29,
    "start_time": "2024-09-06T09:33:40.694Z"
   },
   {
    "duration": 187,
    "start_time": "2024-09-06T09:33:40.725Z"
   },
   {
    "duration": 436,
    "start_time": "2024-09-06T09:33:40.913Z"
   },
   {
    "duration": 4,
    "start_time": "2024-09-06T09:33:41.350Z"
   },
   {
    "duration": 88,
    "start_time": "2024-09-06T09:33:41.356Z"
   },
   {
    "duration": 1081,
    "start_time": "2024-09-06T09:33:41.445Z"
   },
   {
    "duration": 11,
    "start_time": "2024-09-06T09:33:42.527Z"
   },
   {
    "duration": 17,
    "start_time": "2024-09-06T09:33:42.540Z"
   },
   {
    "duration": 16,
    "start_time": "2024-09-06T09:33:42.559Z"
   },
   {
    "duration": 41,
    "start_time": "2024-09-06T09:33:42.577Z"
   },
   {
    "duration": 20,
    "start_time": "2024-09-06T09:33:42.620Z"
   },
   {
    "duration": 463,
    "start_time": "2024-09-06T09:33:42.642Z"
   },
   {
    "duration": 16,
    "start_time": "2024-09-06T09:33:43.107Z"
   },
   {
    "duration": 148,
    "start_time": "2024-09-06T09:33:43.124Z"
   },
   {
    "duration": 138,
    "start_time": "2024-09-06T09:33:43.274Z"
   },
   {
    "duration": 137,
    "start_time": "2024-09-06T09:33:43.414Z"
   },
   {
    "duration": 220,
    "start_time": "2024-09-06T09:33:43.553Z"
   },
   {
    "duration": 139,
    "start_time": "2024-09-06T09:33:43.775Z"
   },
   {
    "duration": 146,
    "start_time": "2024-09-06T09:33:43.915Z"
   },
   {
    "duration": 235,
    "start_time": "2024-09-06T09:33:44.062Z"
   },
   {
    "duration": 155,
    "start_time": "2024-09-06T09:33:44.299Z"
   },
   {
    "duration": 13,
    "start_time": "2024-09-06T09:33:44.456Z"
   },
   {
    "duration": 163,
    "start_time": "2024-09-06T09:33:44.471Z"
   },
   {
    "duration": 13,
    "start_time": "2024-09-06T09:33:44.638Z"
   },
   {
    "duration": 104,
    "start_time": "2024-09-06T09:33:44.652Z"
   },
   {
    "duration": 210,
    "start_time": "2024-09-06T09:33:44.758Z"
   },
   {
    "duration": 10,
    "start_time": "2024-09-06T09:33:44.970Z"
   },
   {
    "duration": 25,
    "start_time": "2024-09-06T09:33:44.983Z"
   },
   {
    "duration": 9,
    "start_time": "2024-09-06T09:33:45.010Z"
   },
   {
    "duration": 47,
    "start_time": "2024-09-06T09:33:45.021Z"
   },
   {
    "duration": 51,
    "start_time": "2024-09-06T09:33:45.070Z"
   },
   {
    "duration": 23,
    "start_time": "2024-09-06T09:33:45.123Z"
   },
   {
    "duration": 32,
    "start_time": "2024-09-06T09:33:45.148Z"
   },
   {
    "duration": 43,
    "start_time": "2024-09-06T09:33:45.182Z"
   },
   {
    "duration": 32,
    "start_time": "2024-09-06T09:33:45.226Z"
   },
   {
    "duration": 35,
    "start_time": "2024-09-06T09:33:45.260Z"
   },
   {
    "duration": 32,
    "start_time": "2024-09-06T09:33:45.297Z"
   },
   {
    "duration": 27,
    "start_time": "2024-09-06T09:33:45.330Z"
   },
   {
    "duration": 36,
    "start_time": "2024-09-06T09:33:45.359Z"
   },
   {
    "duration": 9,
    "start_time": "2024-09-06T09:33:45.397Z"
   },
   {
    "duration": 1210,
    "start_time": "2024-09-06T09:34:00.063Z"
   },
   {
    "duration": 57,
    "start_time": "2024-09-06T09:34:01.275Z"
   },
   {
    "duration": 18,
    "start_time": "2024-09-06T09:34:01.334Z"
   },
   {
    "duration": 24,
    "start_time": "2024-09-06T09:34:01.354Z"
   },
   {
    "duration": 4,
    "start_time": "2024-09-06T09:34:01.379Z"
   },
   {
    "duration": 24,
    "start_time": "2024-09-06T09:34:01.384Z"
   },
   {
    "duration": 16,
    "start_time": "2024-09-06T09:34:01.410Z"
   },
   {
    "duration": 22,
    "start_time": "2024-09-06T09:34:01.427Z"
   },
   {
    "duration": 39,
    "start_time": "2024-09-06T09:34:01.451Z"
   },
   {
    "duration": 22,
    "start_time": "2024-09-06T09:34:01.494Z"
   },
   {
    "duration": 953,
    "start_time": "2024-09-06T09:34:01.518Z"
   },
   {
    "duration": 25,
    "start_time": "2024-09-06T09:34:02.473Z"
   },
   {
    "duration": 11,
    "start_time": "2024-09-06T09:34:02.506Z"
   },
   {
    "duration": 39,
    "start_time": "2024-09-06T09:34:02.519Z"
   },
   {
    "duration": 31,
    "start_time": "2024-09-06T09:34:02.559Z"
   },
   {
    "duration": 6,
    "start_time": "2024-09-06T09:34:02.592Z"
   },
   {
    "duration": 29,
    "start_time": "2024-09-06T09:34:02.600Z"
   },
   {
    "duration": 15,
    "start_time": "2024-09-06T09:34:02.631Z"
   },
   {
    "duration": 235,
    "start_time": "2024-09-06T09:34:02.648Z"
   },
   {
    "duration": 426,
    "start_time": "2024-09-06T09:34:02.885Z"
   },
   {
    "duration": 5,
    "start_time": "2024-09-06T09:34:03.313Z"
   },
   {
    "duration": 99,
    "start_time": "2024-09-06T09:34:03.320Z"
   },
   {
    "duration": 1175,
    "start_time": "2024-09-06T09:34:03.421Z"
   },
   {
    "duration": 19,
    "start_time": "2024-09-06T09:34:04.598Z"
   },
   {
    "duration": 11,
    "start_time": "2024-09-06T09:34:04.619Z"
   },
   {
    "duration": 16,
    "start_time": "2024-09-06T09:34:04.632Z"
   },
   {
    "duration": 18,
    "start_time": "2024-09-06T09:34:04.650Z"
   },
   {
    "duration": 61,
    "start_time": "2024-09-06T09:34:04.672Z"
   },
   {
    "duration": 438,
    "start_time": "2024-09-06T09:34:04.736Z"
   },
   {
    "duration": 105,
    "start_time": "2024-09-06T09:34:05.176Z"
   },
   {
    "duration": 0,
    "start_time": "2024-09-06T09:34:05.283Z"
   },
   {
    "duration": 0,
    "start_time": "2024-09-06T09:34:05.284Z"
   },
   {
    "duration": 0,
    "start_time": "2024-09-06T09:34:05.285Z"
   },
   {
    "duration": 0,
    "start_time": "2024-09-06T09:34:05.286Z"
   },
   {
    "duration": 0,
    "start_time": "2024-09-06T09:34:05.286Z"
   },
   {
    "duration": 0,
    "start_time": "2024-09-06T09:34:05.288Z"
   },
   {
    "duration": 0,
    "start_time": "2024-09-06T09:34:05.289Z"
   },
   {
    "duration": 0,
    "start_time": "2024-09-06T09:34:05.290Z"
   },
   {
    "duration": 0,
    "start_time": "2024-09-06T09:34:05.306Z"
   },
   {
    "duration": 0,
    "start_time": "2024-09-06T09:34:05.307Z"
   },
   {
    "duration": 0,
    "start_time": "2024-09-06T09:34:05.309Z"
   },
   {
    "duration": 0,
    "start_time": "2024-09-06T09:34:05.311Z"
   },
   {
    "duration": 0,
    "start_time": "2024-09-06T09:34:05.312Z"
   },
   {
    "duration": 0,
    "start_time": "2024-09-06T09:34:05.314Z"
   },
   {
    "duration": 0,
    "start_time": "2024-09-06T09:34:05.315Z"
   },
   {
    "duration": 0,
    "start_time": "2024-09-06T09:34:05.317Z"
   },
   {
    "duration": 0,
    "start_time": "2024-09-06T09:34:05.319Z"
   },
   {
    "duration": 0,
    "start_time": "2024-09-06T09:34:05.320Z"
   },
   {
    "duration": 0,
    "start_time": "2024-09-06T09:34:05.322Z"
   },
   {
    "duration": 0,
    "start_time": "2024-09-06T09:34:05.324Z"
   },
   {
    "duration": 0,
    "start_time": "2024-09-06T09:34:05.325Z"
   },
   {
    "duration": 0,
    "start_time": "2024-09-06T09:34:05.326Z"
   },
   {
    "duration": 0,
    "start_time": "2024-09-06T09:34:05.328Z"
   },
   {
    "duration": 0,
    "start_time": "2024-09-06T09:34:05.330Z"
   },
   {
    "duration": 0,
    "start_time": "2024-09-06T09:34:05.332Z"
   },
   {
    "duration": 0,
    "start_time": "2024-09-06T09:34:05.333Z"
   },
   {
    "duration": 0,
    "start_time": "2024-09-06T09:34:05.334Z"
   },
   {
    "duration": 0,
    "start_time": "2024-09-06T09:34:05.336Z"
   },
   {
    "duration": 413,
    "start_time": "2024-09-06T09:34:20.196Z"
   },
   {
    "duration": 1253,
    "start_time": "2024-09-06T09:35:14.910Z"
   },
   {
    "duration": 56,
    "start_time": "2024-09-06T09:35:16.165Z"
   },
   {
    "duration": 116,
    "start_time": "2024-09-06T09:35:16.222Z"
   },
   {
    "duration": 31,
    "start_time": "2024-09-06T09:35:16.340Z"
   },
   {
    "duration": 12,
    "start_time": "2024-09-06T09:35:16.373Z"
   },
   {
    "duration": 37,
    "start_time": "2024-09-06T09:35:16.387Z"
   },
   {
    "duration": 15,
    "start_time": "2024-09-06T09:35:16.426Z"
   },
   {
    "duration": 43,
    "start_time": "2024-09-06T09:35:16.442Z"
   },
   {
    "duration": 36,
    "start_time": "2024-09-06T09:35:16.486Z"
   },
   {
    "duration": 22,
    "start_time": "2024-09-06T09:35:16.525Z"
   },
   {
    "duration": 987,
    "start_time": "2024-09-06T09:35:16.549Z"
   },
   {
    "duration": 25,
    "start_time": "2024-09-06T09:35:17.538Z"
   },
   {
    "duration": 99,
    "start_time": "2024-09-06T09:35:17.565Z"
   },
   {
    "duration": 37,
    "start_time": "2024-09-06T09:35:17.666Z"
   },
   {
    "duration": 15,
    "start_time": "2024-09-06T09:35:17.705Z"
   },
   {
    "duration": 5,
    "start_time": "2024-09-06T09:35:17.722Z"
   },
   {
    "duration": 28,
    "start_time": "2024-09-06T09:35:17.729Z"
   },
   {
    "duration": 97,
    "start_time": "2024-09-06T09:35:17.759Z"
   },
   {
    "duration": 177,
    "start_time": "2024-09-06T09:35:17.857Z"
   },
   {
    "duration": 439,
    "start_time": "2024-09-06T09:35:18.037Z"
   },
   {
    "duration": 4,
    "start_time": "2024-09-06T09:35:18.479Z"
   },
   {
    "duration": 104,
    "start_time": "2024-09-06T09:35:18.485Z"
   },
   {
    "duration": 1122,
    "start_time": "2024-09-06T09:35:18.591Z"
   },
   {
    "duration": 9,
    "start_time": "2024-09-06T09:35:19.715Z"
   },
   {
    "duration": 14,
    "start_time": "2024-09-06T09:35:19.725Z"
   },
   {
    "duration": 15,
    "start_time": "2024-09-06T09:35:19.740Z"
   },
   {
    "duration": 25,
    "start_time": "2024-09-06T09:35:19.756Z"
   },
   {
    "duration": 63,
    "start_time": "2024-09-06T09:35:19.784Z"
   },
   {
    "duration": 388,
    "start_time": "2024-09-06T09:35:19.849Z"
   },
   {
    "duration": 14,
    "start_time": "2024-09-06T09:35:20.239Z"
   },
   {
    "duration": 153,
    "start_time": "2024-09-06T09:35:20.255Z"
   },
   {
    "duration": 131,
    "start_time": "2024-09-06T09:35:20.410Z"
   },
   {
    "duration": 242,
    "start_time": "2024-09-06T09:35:20.543Z"
   },
   {
    "duration": 160,
    "start_time": "2024-09-06T09:35:20.787Z"
   },
   {
    "duration": 133,
    "start_time": "2024-09-06T09:35:20.949Z"
   },
   {
    "duration": 145,
    "start_time": "2024-09-06T09:35:21.084Z"
   },
   {
    "duration": 223,
    "start_time": "2024-09-06T09:35:21.230Z"
   },
   {
    "duration": 159,
    "start_time": "2024-09-06T09:35:21.455Z"
   },
   {
    "duration": 12,
    "start_time": "2024-09-06T09:35:21.616Z"
   },
   {
    "duration": 182,
    "start_time": "2024-09-06T09:35:21.630Z"
   },
   {
    "duration": 14,
    "start_time": "2024-09-06T09:35:21.815Z"
   },
   {
    "duration": 91,
    "start_time": "2024-09-06T09:35:21.831Z"
   },
   {
    "duration": 201,
    "start_time": "2024-09-06T09:35:21.924Z"
   },
   {
    "duration": 8,
    "start_time": "2024-09-06T09:35:22.127Z"
   },
   {
    "duration": 28,
    "start_time": "2024-09-06T09:35:22.137Z"
   },
   {
    "duration": 8,
    "start_time": "2024-09-06T09:35:22.167Z"
   },
   {
    "duration": 15,
    "start_time": "2024-09-06T09:35:22.177Z"
   },
   {
    "duration": 97,
    "start_time": "2024-09-06T09:35:22.206Z"
   },
   {
    "duration": 21,
    "start_time": "2024-09-06T09:35:22.305Z"
   },
   {
    "duration": 15,
    "start_time": "2024-09-06T09:35:22.328Z"
   },
   {
    "duration": 13,
    "start_time": "2024-09-06T09:35:22.345Z"
   },
   {
    "duration": 14,
    "start_time": "2024-09-06T09:35:22.359Z"
   },
   {
    "duration": 35,
    "start_time": "2024-09-06T09:35:22.374Z"
   },
   {
    "duration": 14,
    "start_time": "2024-09-06T09:35:22.411Z"
   },
   {
    "duration": 29,
    "start_time": "2024-09-06T09:35:22.427Z"
   },
   {
    "duration": 10,
    "start_time": "2024-09-06T09:35:22.458Z"
   },
   {
    "duration": 8,
    "start_time": "2024-09-06T09:35:22.469Z"
   },
   {
    "duration": 117,
    "start_time": "2024-09-06T09:36:53.781Z"
   },
   {
    "duration": 30,
    "start_time": "2024-09-06T09:37:58.998Z"
   },
   {
    "duration": 243,
    "start_time": "2024-09-06T09:38:05.776Z"
   },
   {
    "duration": 318,
    "start_time": "2024-09-06T09:38:47.765Z"
   },
   {
    "duration": 928,
    "start_time": "2024-09-06T09:39:14.204Z"
   },
   {
    "duration": 243,
    "start_time": "2024-09-06T09:39:25.610Z"
   },
   {
    "duration": 230,
    "start_time": "2024-09-06T09:39:46.969Z"
   },
   {
    "duration": 230,
    "start_time": "2024-09-06T09:39:50.138Z"
   },
   {
    "duration": 212,
    "start_time": "2024-09-06T09:42:58.124Z"
   },
   {
    "duration": 217,
    "start_time": "2024-09-06T09:43:17.006Z"
   },
   {
    "duration": 264,
    "start_time": "2024-09-06T09:43:27.634Z"
   },
   {
    "duration": 212,
    "start_time": "2024-09-06T09:43:38.664Z"
   },
   {
    "duration": 233,
    "start_time": "2024-09-06T09:44:13.194Z"
   },
   {
    "duration": 226,
    "start_time": "2024-09-06T09:46:58.524Z"
   },
   {
    "duration": 332,
    "start_time": "2024-09-06T09:47:13.273Z"
   },
   {
    "duration": 279,
    "start_time": "2024-09-06T09:47:32.915Z"
   },
   {
    "duration": 226,
    "start_time": "2024-09-06T09:48:26.890Z"
   },
   {
    "duration": 228,
    "start_time": "2024-09-06T09:48:32.153Z"
   },
   {
    "duration": 246,
    "start_time": "2024-09-06T09:48:40.817Z"
   },
   {
    "duration": 221,
    "start_time": "2024-09-06T09:48:46.607Z"
   },
   {
    "duration": 214,
    "start_time": "2024-09-06T09:48:50.566Z"
   },
   {
    "duration": 209,
    "start_time": "2024-09-06T09:49:03.567Z"
   },
   {
    "duration": 215,
    "start_time": "2024-09-06T09:49:22.042Z"
   },
   {
    "duration": 191,
    "start_time": "2024-09-06T09:49:25.818Z"
   },
   {
    "duration": 187,
    "start_time": "2024-09-06T09:49:31.350Z"
   },
   {
    "duration": 281,
    "start_time": "2024-09-06T09:49:35.863Z"
   },
   {
    "duration": 192,
    "start_time": "2024-09-06T09:49:40.092Z"
   },
   {
    "duration": 201,
    "start_time": "2024-09-06T09:49:50.794Z"
   },
   {
    "duration": 210,
    "start_time": "2024-09-06T09:49:53.887Z"
   },
   {
    "duration": 457,
    "start_time": "2024-09-06T09:52:00.242Z"
   },
   {
    "duration": 489,
    "start_time": "2024-09-06T09:52:23.047Z"
   },
   {
    "duration": 487,
    "start_time": "2024-09-06T09:55:05.672Z"
   },
   {
    "duration": 572,
    "start_time": "2024-09-06T09:55:11.390Z"
   },
   {
    "duration": 424,
    "start_time": "2024-09-06T09:55:34.023Z"
   },
   {
    "duration": 472,
    "start_time": "2024-09-06T09:56:10.376Z"
   },
   {
    "duration": 478,
    "start_time": "2024-09-06T09:56:48.629Z"
   },
   {
    "duration": 1204,
    "start_time": "2024-09-06T09:56:54.549Z"
   },
   {
    "duration": 65,
    "start_time": "2024-09-06T09:56:55.755Z"
   },
   {
    "duration": 18,
    "start_time": "2024-09-06T09:56:55.821Z"
   },
   {
    "duration": 80,
    "start_time": "2024-09-06T09:56:55.841Z"
   },
   {
    "duration": 45,
    "start_time": "2024-09-06T09:56:55.923Z"
   },
   {
    "duration": 43,
    "start_time": "2024-09-06T09:56:55.970Z"
   },
   {
    "duration": 56,
    "start_time": "2024-09-06T09:56:56.015Z"
   },
   {
    "duration": 51,
    "start_time": "2024-09-06T09:56:56.073Z"
   },
   {
    "duration": 56,
    "start_time": "2024-09-06T09:56:56.126Z"
   },
   {
    "duration": 54,
    "start_time": "2024-09-06T09:56:56.184Z"
   },
   {
    "duration": 942,
    "start_time": "2024-09-06T09:56:56.240Z"
   },
   {
    "duration": 25,
    "start_time": "2024-09-06T09:56:57.184Z"
   },
   {
    "duration": 10,
    "start_time": "2024-09-06T09:56:57.210Z"
   },
   {
    "duration": 21,
    "start_time": "2024-09-06T09:56:57.224Z"
   },
   {
    "duration": 13,
    "start_time": "2024-09-06T09:56:57.247Z"
   },
   {
    "duration": 5,
    "start_time": "2024-09-06T09:56:57.261Z"
   },
   {
    "duration": 51,
    "start_time": "2024-09-06T09:56:57.268Z"
   },
   {
    "duration": 15,
    "start_time": "2024-09-06T09:56:57.321Z"
   },
   {
    "duration": 196,
    "start_time": "2024-09-06T09:56:57.337Z"
   },
   {
    "duration": 422,
    "start_time": "2024-09-06T09:56:57.534Z"
   },
   {
    "duration": 6,
    "start_time": "2024-09-06T09:56:57.958Z"
   },
   {
    "duration": 85,
    "start_time": "2024-09-06T09:56:57.965Z"
   },
   {
    "duration": 1113,
    "start_time": "2024-09-06T09:56:58.052Z"
   },
   {
    "duration": 10,
    "start_time": "2024-09-06T09:56:59.167Z"
   },
   {
    "duration": 27,
    "start_time": "2024-09-06T09:56:59.178Z"
   },
   {
    "duration": 14,
    "start_time": "2024-09-06T09:56:59.207Z"
   },
   {
    "duration": 25,
    "start_time": "2024-09-06T09:56:59.223Z"
   },
   {
    "duration": 20,
    "start_time": "2024-09-06T09:56:59.249Z"
   },
   {
    "duration": 446,
    "start_time": "2024-09-06T09:56:59.271Z"
   },
   {
    "duration": 15,
    "start_time": "2024-09-06T09:56:59.720Z"
   },
   {
    "duration": 139,
    "start_time": "2024-09-06T09:56:59.737Z"
   },
   {
    "duration": 141,
    "start_time": "2024-09-06T09:56:59.877Z"
   },
   {
    "duration": 152,
    "start_time": "2024-09-06T09:57:00.021Z"
   },
   {
    "duration": 231,
    "start_time": "2024-09-06T09:57:00.174Z"
   },
   {
    "duration": 136,
    "start_time": "2024-09-06T09:57:00.407Z"
   },
   {
    "duration": 144,
    "start_time": "2024-09-06T09:57:00.545Z"
   },
   {
    "duration": 245,
    "start_time": "2024-09-06T09:57:00.690Z"
   },
   {
    "duration": 161,
    "start_time": "2024-09-06T09:57:00.937Z"
   },
   {
    "duration": 17,
    "start_time": "2024-09-06T09:57:01.105Z"
   },
   {
    "duration": 182,
    "start_time": "2024-09-06T09:57:01.124Z"
   },
   {
    "duration": 12,
    "start_time": "2024-09-06T09:57:01.310Z"
   },
   {
    "duration": 125,
    "start_time": "2024-09-06T09:57:01.324Z"
   },
   {
    "duration": 196,
    "start_time": "2024-09-06T09:57:01.450Z"
   },
   {
    "duration": 8,
    "start_time": "2024-09-06T09:57:01.648Z"
   },
   {
    "duration": 105,
    "start_time": "2024-09-06T09:57:01.658Z"
   },
   {
    "duration": 166,
    "start_time": "2024-09-06T09:57:01.765Z"
   },
   {
    "duration": 47,
    "start_time": "2024-09-06T09:57:01.933Z"
   },
   {
    "duration": 34,
    "start_time": "2024-09-06T09:57:01.982Z"
   },
   {
    "duration": 52,
    "start_time": "2024-09-06T09:57:02.018Z"
   },
   {
    "duration": 478,
    "start_time": "2024-09-06T09:57:02.071Z"
   },
   {
    "duration": 15,
    "start_time": "2024-09-06T09:57:02.551Z"
   },
   {
    "duration": 41,
    "start_time": "2024-09-06T09:57:02.568Z"
   },
   {
    "duration": 46,
    "start_time": "2024-09-06T09:57:02.610Z"
   },
   {
    "duration": 49,
    "start_time": "2024-09-06T09:57:02.657Z"
   },
   {
    "duration": 34,
    "start_time": "2024-09-06T09:57:02.707Z"
   },
   {
    "duration": 46,
    "start_time": "2024-09-06T09:57:02.743Z"
   },
   {
    "duration": 8,
    "start_time": "2024-09-06T09:57:02.790Z"
   },
   {
    "duration": 76,
    "start_time": "2024-09-06T09:57:02.800Z"
   },
   {
    "duration": 1571,
    "start_time": "2024-09-06T09:57:57.984Z"
   },
   {
    "duration": 58,
    "start_time": "2024-09-06T09:57:59.557Z"
   },
   {
    "duration": 20,
    "start_time": "2024-09-06T09:57:59.616Z"
   },
   {
    "duration": 16,
    "start_time": "2024-09-06T09:57:59.637Z"
   },
   {
    "duration": 77,
    "start_time": "2024-09-06T09:57:59.656Z"
   },
   {
    "duration": 22,
    "start_time": "2024-09-06T09:57:59.735Z"
   },
   {
    "duration": 12,
    "start_time": "2024-09-06T09:57:59.759Z"
   },
   {
    "duration": 34,
    "start_time": "2024-09-06T09:57:59.773Z"
   },
   {
    "duration": 72,
    "start_time": "2024-09-06T09:57:59.809Z"
   },
   {
    "duration": 57,
    "start_time": "2024-09-06T09:57:59.883Z"
   },
   {
    "duration": 969,
    "start_time": "2024-09-06T09:57:59.942Z"
   },
   {
    "duration": 25,
    "start_time": "2024-09-06T09:58:00.913Z"
   },
   {
    "duration": 125,
    "start_time": "2024-09-06T09:58:00.939Z"
   },
   {
    "duration": 36,
    "start_time": "2024-09-06T09:58:01.067Z"
   },
   {
    "duration": 14,
    "start_time": "2024-09-06T09:58:01.105Z"
   },
   {
    "duration": 5,
    "start_time": "2024-09-06T09:58:01.121Z"
   },
   {
    "duration": 31,
    "start_time": "2024-09-06T09:58:01.128Z"
   },
   {
    "duration": 17,
    "start_time": "2024-09-06T09:58:01.161Z"
   },
   {
    "duration": 202,
    "start_time": "2024-09-06T09:58:01.180Z"
   },
   {
    "duration": 440,
    "start_time": "2024-09-06T09:58:01.384Z"
   },
   {
    "duration": 4,
    "start_time": "2024-09-06T09:58:01.825Z"
   },
   {
    "duration": 149,
    "start_time": "2024-09-06T09:58:01.831Z"
   },
   {
    "duration": 1109,
    "start_time": "2024-09-06T09:58:01.982Z"
   },
   {
    "duration": 20,
    "start_time": "2024-09-06T09:58:03.094Z"
   },
   {
    "duration": 14,
    "start_time": "2024-09-06T09:58:03.116Z"
   },
   {
    "duration": 15,
    "start_time": "2024-09-06T09:58:03.132Z"
   },
   {
    "duration": 46,
    "start_time": "2024-09-06T09:58:03.149Z"
   },
   {
    "duration": 26,
    "start_time": "2024-09-06T09:58:03.197Z"
   },
   {
    "duration": 424,
    "start_time": "2024-09-06T09:58:03.225Z"
   },
   {
    "duration": 15,
    "start_time": "2024-09-06T09:58:03.651Z"
   },
   {
    "duration": 191,
    "start_time": "2024-09-06T09:58:03.667Z"
   },
   {
    "duration": 129,
    "start_time": "2024-09-06T09:58:03.860Z"
   },
   {
    "duration": 147,
    "start_time": "2024-09-06T09:58:03.991Z"
   },
   {
    "duration": 248,
    "start_time": "2024-09-06T09:58:04.140Z"
   },
   {
    "duration": 144,
    "start_time": "2024-09-06T09:58:04.390Z"
   },
   {
    "duration": 153,
    "start_time": "2024-09-06T09:58:04.536Z"
   },
   {
    "duration": 270,
    "start_time": "2024-09-06T09:58:04.691Z"
   },
   {
    "duration": 161,
    "start_time": "2024-09-06T09:58:04.963Z"
   },
   {
    "duration": 12,
    "start_time": "2024-09-06T09:58:05.126Z"
   },
   {
    "duration": 168,
    "start_time": "2024-09-06T09:58:05.140Z"
   },
   {
    "duration": 12,
    "start_time": "2024-09-06T09:58:05.312Z"
   },
   {
    "duration": 99,
    "start_time": "2024-09-06T09:58:05.325Z"
   },
   {
    "duration": 209,
    "start_time": "2024-09-06T09:58:05.425Z"
   },
   {
    "duration": 9,
    "start_time": "2024-09-06T09:58:05.636Z"
   },
   {
    "duration": 100,
    "start_time": "2024-09-06T09:58:05.646Z"
   },
   {
    "duration": 25,
    "start_time": "2024-09-06T09:58:05.748Z"
   },
   {
    "duration": 23,
    "start_time": "2024-09-06T09:58:05.775Z"
   },
   {
    "duration": 17,
    "start_time": "2024-09-06T09:58:05.800Z"
   },
   {
    "duration": 95,
    "start_time": "2024-09-06T09:58:05.818Z"
   },
   {
    "duration": 519,
    "start_time": "2024-09-06T09:58:05.914Z"
   },
   {
    "duration": 14,
    "start_time": "2024-09-06T09:58:06.435Z"
   },
   {
    "duration": 18,
    "start_time": "2024-09-06T09:58:06.451Z"
   },
   {
    "duration": 37,
    "start_time": "2024-09-06T09:58:06.470Z"
   },
   {
    "duration": 14,
    "start_time": "2024-09-06T09:58:06.509Z"
   },
   {
    "duration": 44,
    "start_time": "2024-09-06T09:58:06.525Z"
   },
   {
    "duration": 34,
    "start_time": "2024-09-06T09:58:06.571Z"
   },
   {
    "duration": 11,
    "start_time": "2024-09-06T09:58:06.607Z"
   },
   {
    "duration": 17,
    "start_time": "2024-09-06T09:58:06.620Z"
   }
  ],
  "kernelspec": {
   "display_name": "Python 3 (ipykernel)",
   "language": "python",
   "name": "python3"
  },
  "language_info": {
   "codemirror_mode": {
    "name": "ipython",
    "version": 3
   },
   "file_extension": ".py",
   "mimetype": "text/x-python",
   "name": "python",
   "nbconvert_exporter": "python",
   "pygments_lexer": "ipython3",
   "version": "3.12.6"
  },
  "toc": {
   "base_numbering": 1,
   "nav_menu": {},
   "number_sections": true,
   "sideBar": true,
   "skip_h1_title": true,
   "title_cell": "Table of Contents",
   "title_sidebar": "Contents",
   "toc_cell": false,
   "toc_position": {},
   "toc_section_display": true,
   "toc_window_display": false
  }
 },
 "nbformat": 4,
 "nbformat_minor": 4
}
