{
 "cells": [
  {
   "cell_type": "markdown",
   "metadata": {
    "id": "-VFbjcb3Awb7"
   },
   "source": [
    "# Исследование объявлений о продаже квартир\n",
    "\n",
    "В вашем распоряжении данные сервиса Яндекс Недвижимость — архив объявлений о продаже квартир в Санкт-Петербурге и соседних населённых пунктах за несколько лет. Вам нужно научиться определять рыночную стоимость объектов недвижимости. Для этого проведите исследовательский анализ данных и установите параметры, влияющие на цену объектов. Это позволит построить автоматизированную систему: она отследит аномалии и мошенническую деятельность.\n",
    "\n",
    "По каждой квартире на продажу доступны два вида данных. Первые вписаны пользователем, вторые — получены автоматически на основе картографических данных. Например, расстояние до центра, аэропорта и других объектов — эти данные автоматически получены из геосервисов. Количество парков и водоёмов также заполняется без участия пользователя."
   ]
  },
  {
   "cell_type": "markdown",
   "metadata": {},
   "source": [
    "1. **Предобработать данные**:\n",
    "\n",
    "- Обнаружить и обработать пропущенные значения. \n",
    "- Убрать неявные дубликаты. Привести к единному виду уникальные значения.\n",
    "\n",
    "\n",
    "2. **Выявить причины пропусков в данных.**\n",
    "\n",
    "\n",
    "  \n",
    "3. **Обработать аномалии.**  \n",
    "\n",
    "  \n",
    "4. **Вычислить и добавить новые параметры.**\n",
    "\n",
    "\n",
    "5. **Провести исследовательский анализ данных**:\n",
    "- Построить гистограммы. Сделать выводы.\n",
    "- Проанализировать время продажи квартиры.\n",
    "- Определить основные факторы, влияющие на стоимость объекта.\n",
    "\n",
    "\n",
    "4. **Провести анализ стоимости квадратного метра**: \n",
    "- Просчитать среднюю цену квадратного метра в 10 населенных пунктах с наибольшим числом объявлений\n",
    "- В Санкт-Петербурге исследовать зависимость стоимости квартир от расстояния до центра города.\n",
    "\n",
    "\n",
    "5. **Сделать выводы по проделанной работе.**   \n",
    " "
   ]
  },
  {
   "cell_type": "markdown",
   "metadata": {
    "id": "aeFLH07FAwb9"
   },
   "source": [
    "### Откройте файл с данными и изучите общую информацию"
   ]
  },
  {
   "cell_type": "code",
   "execution_count": 1,
   "metadata": {
    "id": "7MZxY65pAwb9"
   },
   "outputs": [],
   "source": [
    "import pandas as pd\n",
    "import matplotlib.pyplot as plt\n",
    "import numpy as np\n",
    "df = pd.read_csv('/datasets/real_estate_data.csv',sep='\\t')"
   ]
  },
  {
   "cell_type": "code",
   "execution_count": 2,
   "metadata": {},
   "outputs": [
    {
     "name": "stdout",
     "output_type": "stream",
     "text": [
      "<class 'pandas.core.frame.DataFrame'>\n",
      "RangeIndex: 23699 entries, 0 to 23698\n",
      "Data columns (total 22 columns):\n",
      " #   Column                Non-Null Count  Dtype  \n",
      "---  ------                --------------  -----  \n",
      " 0   total_images          23699 non-null  int64  \n",
      " 1   last_price            23699 non-null  float64\n",
      " 2   total_area            23699 non-null  float64\n",
      " 3   first_day_exposition  23699 non-null  object \n",
      " 4   rooms                 23699 non-null  int64  \n",
      " 5   ceiling_height        14504 non-null  float64\n",
      " 6   floors_total          23613 non-null  float64\n",
      " 7   living_area           21796 non-null  float64\n",
      " 8   floor                 23699 non-null  int64  \n",
      " 9   is_apartment          2775 non-null   object \n",
      " 10  studio                23699 non-null  bool   \n",
      " 11  open_plan             23699 non-null  bool   \n",
      " 12  kitchen_area          21421 non-null  float64\n",
      " 13  balcony               12180 non-null  float64\n",
      " 14  locality_name         23650 non-null  object \n",
      " 15  airports_nearest      18157 non-null  float64\n",
      " 16  cityCenters_nearest   18180 non-null  float64\n",
      " 17  parks_around3000      18181 non-null  float64\n",
      " 18  parks_nearest         8079 non-null   float64\n",
      " 19  ponds_around3000      18181 non-null  float64\n",
      " 20  ponds_nearest         9110 non-null   float64\n",
      " 21  days_exposition       20518 non-null  float64\n",
      "dtypes: bool(2), float64(14), int64(3), object(3)\n",
      "memory usage: 3.7+ MB\n"
     ]
    }
   ],
   "source": [
    "df.info()"
   ]
  },
  {
   "cell_type": "markdown",
   "metadata": {},
   "source": [
    "Неверный тип данных:  \n",
    "- first_day_exposition(**object**) заменить на type **date**\n",
    "- floors_total(**float64**) заменить на **int64**\n",
    "- is_apartment(**object**) заменить на **bool**\n",
    "- balcony(**float64**) заменить на **int64**\n",
    "- parks_around3000(**float64**) заменить на **int64**\n",
    "- ponds_around3000(**float64**) заменить на **int64**\n",
    "- days_exposition(**float64**) заменить на **int64**"
   ]
  },
  {
   "cell_type": "code",
   "execution_count": 3,
   "metadata": {},
   "outputs": [
    {
     "data": {
      "text/html": [
       "<div>\n",
       "<style scoped>\n",
       "    .dataframe tbody tr th:only-of-type {\n",
       "        vertical-align: middle;\n",
       "    }\n",
       "\n",
       "    .dataframe tbody tr th {\n",
       "        vertical-align: top;\n",
       "    }\n",
       "\n",
       "    .dataframe thead th {\n",
       "        text-align: right;\n",
       "    }\n",
       "</style>\n",
       "<table border=\"1\" class=\"dataframe\">\n",
       "  <thead>\n",
       "    <tr style=\"text-align: right;\">\n",
       "      <th></th>\n",
       "      <th>total_images</th>\n",
       "      <th>last_price</th>\n",
       "      <th>total_area</th>\n",
       "      <th>first_day_exposition</th>\n",
       "      <th>rooms</th>\n",
       "      <th>ceiling_height</th>\n",
       "      <th>floors_total</th>\n",
       "      <th>living_area</th>\n",
       "      <th>floor</th>\n",
       "      <th>is_apartment</th>\n",
       "      <th>...</th>\n",
       "      <th>kitchen_area</th>\n",
       "      <th>balcony</th>\n",
       "      <th>locality_name</th>\n",
       "      <th>airports_nearest</th>\n",
       "      <th>cityCenters_nearest</th>\n",
       "      <th>parks_around3000</th>\n",
       "      <th>parks_nearest</th>\n",
       "      <th>ponds_around3000</th>\n",
       "      <th>ponds_nearest</th>\n",
       "      <th>days_exposition</th>\n",
       "    </tr>\n",
       "  </thead>\n",
       "  <tbody>\n",
       "    <tr>\n",
       "      <th>0</th>\n",
       "      <td>20</td>\n",
       "      <td>13000000.0</td>\n",
       "      <td>108.0</td>\n",
       "      <td>2019-03-07T00:00:00</td>\n",
       "      <td>3</td>\n",
       "      <td>2.70</td>\n",
       "      <td>16.0</td>\n",
       "      <td>51.0</td>\n",
       "      <td>8</td>\n",
       "      <td>NaN</td>\n",
       "      <td>...</td>\n",
       "      <td>25.0</td>\n",
       "      <td>NaN</td>\n",
       "      <td>Санкт-Петербург</td>\n",
       "      <td>18863.0</td>\n",
       "      <td>16028.0</td>\n",
       "      <td>1.0</td>\n",
       "      <td>482.0</td>\n",
       "      <td>2.0</td>\n",
       "      <td>755.0</td>\n",
       "      <td>NaN</td>\n",
       "    </tr>\n",
       "    <tr>\n",
       "      <th>1</th>\n",
       "      <td>7</td>\n",
       "      <td>3350000.0</td>\n",
       "      <td>40.4</td>\n",
       "      <td>2018-12-04T00:00:00</td>\n",
       "      <td>1</td>\n",
       "      <td>NaN</td>\n",
       "      <td>11.0</td>\n",
       "      <td>18.6</td>\n",
       "      <td>1</td>\n",
       "      <td>NaN</td>\n",
       "      <td>...</td>\n",
       "      <td>11.0</td>\n",
       "      <td>2.0</td>\n",
       "      <td>посёлок Шушары</td>\n",
       "      <td>12817.0</td>\n",
       "      <td>18603.0</td>\n",
       "      <td>0.0</td>\n",
       "      <td>NaN</td>\n",
       "      <td>0.0</td>\n",
       "      <td>NaN</td>\n",
       "      <td>81.0</td>\n",
       "    </tr>\n",
       "    <tr>\n",
       "      <th>2</th>\n",
       "      <td>10</td>\n",
       "      <td>5196000.0</td>\n",
       "      <td>56.0</td>\n",
       "      <td>2015-08-20T00:00:00</td>\n",
       "      <td>2</td>\n",
       "      <td>NaN</td>\n",
       "      <td>5.0</td>\n",
       "      <td>34.3</td>\n",
       "      <td>4</td>\n",
       "      <td>NaN</td>\n",
       "      <td>...</td>\n",
       "      <td>8.3</td>\n",
       "      <td>0.0</td>\n",
       "      <td>Санкт-Петербург</td>\n",
       "      <td>21741.0</td>\n",
       "      <td>13933.0</td>\n",
       "      <td>1.0</td>\n",
       "      <td>90.0</td>\n",
       "      <td>2.0</td>\n",
       "      <td>574.0</td>\n",
       "      <td>558.0</td>\n",
       "    </tr>\n",
       "    <tr>\n",
       "      <th>3</th>\n",
       "      <td>0</td>\n",
       "      <td>64900000.0</td>\n",
       "      <td>159.0</td>\n",
       "      <td>2015-07-24T00:00:00</td>\n",
       "      <td>3</td>\n",
       "      <td>NaN</td>\n",
       "      <td>14.0</td>\n",
       "      <td>NaN</td>\n",
       "      <td>9</td>\n",
       "      <td>NaN</td>\n",
       "      <td>...</td>\n",
       "      <td>NaN</td>\n",
       "      <td>0.0</td>\n",
       "      <td>Санкт-Петербург</td>\n",
       "      <td>28098.0</td>\n",
       "      <td>6800.0</td>\n",
       "      <td>2.0</td>\n",
       "      <td>84.0</td>\n",
       "      <td>3.0</td>\n",
       "      <td>234.0</td>\n",
       "      <td>424.0</td>\n",
       "    </tr>\n",
       "    <tr>\n",
       "      <th>4</th>\n",
       "      <td>2</td>\n",
       "      <td>10000000.0</td>\n",
       "      <td>100.0</td>\n",
       "      <td>2018-06-19T00:00:00</td>\n",
       "      <td>2</td>\n",
       "      <td>3.03</td>\n",
       "      <td>14.0</td>\n",
       "      <td>32.0</td>\n",
       "      <td>13</td>\n",
       "      <td>NaN</td>\n",
       "      <td>...</td>\n",
       "      <td>41.0</td>\n",
       "      <td>NaN</td>\n",
       "      <td>Санкт-Петербург</td>\n",
       "      <td>31856.0</td>\n",
       "      <td>8098.0</td>\n",
       "      <td>2.0</td>\n",
       "      <td>112.0</td>\n",
       "      <td>1.0</td>\n",
       "      <td>48.0</td>\n",
       "      <td>121.0</td>\n",
       "    </tr>\n",
       "  </tbody>\n",
       "</table>\n",
       "<p>5 rows × 22 columns</p>\n",
       "</div>"
      ],
      "text/plain": [
       "   total_images  last_price  total_area first_day_exposition  rooms  \\\n",
       "0            20  13000000.0       108.0  2019-03-07T00:00:00      3   \n",
       "1             7   3350000.0        40.4  2018-12-04T00:00:00      1   \n",
       "2            10   5196000.0        56.0  2015-08-20T00:00:00      2   \n",
       "3             0  64900000.0       159.0  2015-07-24T00:00:00      3   \n",
       "4             2  10000000.0       100.0  2018-06-19T00:00:00      2   \n",
       "\n",
       "   ceiling_height  floors_total  living_area  floor is_apartment  ...  \\\n",
       "0            2.70          16.0         51.0      8          NaN  ...   \n",
       "1             NaN          11.0         18.6      1          NaN  ...   \n",
       "2             NaN           5.0         34.3      4          NaN  ...   \n",
       "3             NaN          14.0          NaN      9          NaN  ...   \n",
       "4            3.03          14.0         32.0     13          NaN  ...   \n",
       "\n",
       "   kitchen_area  balcony    locality_name  airports_nearest  \\\n",
       "0          25.0      NaN  Санкт-Петербург           18863.0   \n",
       "1          11.0      2.0   посёлок Шушары           12817.0   \n",
       "2           8.3      0.0  Санкт-Петербург           21741.0   \n",
       "3           NaN      0.0  Санкт-Петербург           28098.0   \n",
       "4          41.0      NaN  Санкт-Петербург           31856.0   \n",
       "\n",
       "  cityCenters_nearest  parks_around3000  parks_nearest  ponds_around3000  \\\n",
       "0             16028.0               1.0          482.0               2.0   \n",
       "1             18603.0               0.0            NaN               0.0   \n",
       "2             13933.0               1.0           90.0               2.0   \n",
       "3              6800.0               2.0           84.0               3.0   \n",
       "4              8098.0               2.0          112.0               1.0   \n",
       "\n",
       "   ponds_nearest  days_exposition  \n",
       "0          755.0              NaN  \n",
       "1            NaN             81.0  \n",
       "2          574.0            558.0  \n",
       "3          234.0            424.0  \n",
       "4           48.0            121.0  \n",
       "\n",
       "[5 rows x 22 columns]"
      ]
     },
     "execution_count": 3,
     "metadata": {},
     "output_type": "execute_result"
    }
   ],
   "source": [
    "df.head(5)"
   ]
  },
  {
   "cell_type": "code",
   "execution_count": 4,
   "metadata": {},
   "outputs": [
    {
     "data": {
      "text/plain": [
       "array([[<AxesSubplot:title={'center':'total_images'}>,\n",
       "        <AxesSubplot:title={'center':'last_price'}>,\n",
       "        <AxesSubplot:title={'center':'total_area'}>,\n",
       "        <AxesSubplot:title={'center':'rooms'}>],\n",
       "       [<AxesSubplot:title={'center':'ceiling_height'}>,\n",
       "        <AxesSubplot:title={'center':'floors_total'}>,\n",
       "        <AxesSubplot:title={'center':'living_area'}>,\n",
       "        <AxesSubplot:title={'center':'floor'}>],\n",
       "       [<AxesSubplot:title={'center':'kitchen_area'}>,\n",
       "        <AxesSubplot:title={'center':'balcony'}>,\n",
       "        <AxesSubplot:title={'center':'airports_nearest'}>,\n",
       "        <AxesSubplot:title={'center':'cityCenters_nearest'}>],\n",
       "       [<AxesSubplot:title={'center':'parks_around3000'}>,\n",
       "        <AxesSubplot:title={'center':'parks_nearest'}>,\n",
       "        <AxesSubplot:title={'center':'ponds_around3000'}>,\n",
       "        <AxesSubplot:title={'center':'ponds_nearest'}>],\n",
       "       [<AxesSubplot:title={'center':'days_exposition'}>, <AxesSubplot:>,\n",
       "        <AxesSubplot:>, <AxesSubplot:>]], dtype=object)"
      ]
     },
     "execution_count": 4,
     "metadata": {},
     "output_type": "execute_result"
    },
    {
     "data": {
      "image/png": "[encoded data removed]",
      "text/plain": [
       "<Figure size 1080x1440 with 20 Axes>"
      ]
     },
     "metadata": {
      "needs_background": "light"
     },
     "output_type": "display_data"
    }
   ],
   "source": [
    "df.hist(figsize=(15,20))"
   ]
  },
  {
   "cell_type": "markdown",
   "metadata": {},
   "source": [
    "Гистограммы демонстрируют данные по каждому параметру, что позволяет получить полную картину по дальнейшей работе с каждым из них: выявить аномалии и ошибки, которые необходимо обработать, а также сделать частные выводы."
   ]
  },
  {
   "cell_type": "markdown",
   "metadata": {
    "id": "-O5NtivEAwb9"
   },
   "source": [
    "### Выполните предобработку данных"
   ]
  },
  {
   "cell_type": "code",
   "execution_count": 5,
   "metadata": {},
   "outputs": [
    {
     "data": {
      "text/html": [
       "<div>\n",
       "<style scoped>\n",
       "    .dataframe tbody tr th:only-of-type {\n",
       "        vertical-align: middle;\n",
       "    }\n",
       "\n",
       "    .dataframe tbody tr th {\n",
       "        vertical-align: top;\n",
       "    }\n",
       "\n",
       "    .dataframe thead th {\n",
       "        text-align: right;\n",
       "    }\n",
       "</style>\n",
       "<table border=\"1\" class=\"dataframe\">\n",
       "  <thead>\n",
       "    <tr style=\"text-align: right;\">\n",
       "      <th></th>\n",
       "      <th>total_images</th>\n",
       "      <th>last_price</th>\n",
       "      <th>total_area</th>\n",
       "      <th>rooms</th>\n",
       "      <th>ceiling_height</th>\n",
       "      <th>floors_total</th>\n",
       "      <th>living_area</th>\n",
       "      <th>floor</th>\n",
       "      <th>kitchen_area</th>\n",
       "      <th>balcony</th>\n",
       "      <th>airports_nearest</th>\n",
       "      <th>cityCenters_nearest</th>\n",
       "      <th>parks_around3000</th>\n",
       "      <th>parks_nearest</th>\n",
       "      <th>ponds_around3000</th>\n",
       "      <th>ponds_nearest</th>\n",
       "      <th>days_exposition</th>\n",
       "    </tr>\n",
       "  </thead>\n",
       "  <tbody>\n",
       "    <tr>\n",
       "      <th>count</th>\n",
       "      <td>23699.000000</td>\n",
       "      <td>2.369900e+04</td>\n",
       "      <td>23699.000000</td>\n",
       "      <td>23699.000000</td>\n",
       "      <td>14504.000000</td>\n",
       "      <td>23613.000000</td>\n",
       "      <td>21796.000000</td>\n",
       "      <td>23699.000000</td>\n",
       "      <td>21421.000000</td>\n",
       "      <td>12180.000000</td>\n",
       "      <td>18157.000000</td>\n",
       "      <td>18180.000000</td>\n",
       "      <td>18181.000000</td>\n",
       "      <td>8079.000000</td>\n",
       "      <td>18181.000000</td>\n",
       "      <td>9110.000000</td>\n",
       "      <td>20518.000000</td>\n",
       "    </tr>\n",
       "    <tr>\n",
       "      <th>mean</th>\n",
       "      <td>9.858475</td>\n",
       "      <td>6.541549e+06</td>\n",
       "      <td>60.348651</td>\n",
       "      <td>2.070636</td>\n",
       "      <td>2.771499</td>\n",
       "      <td>10.673824</td>\n",
       "      <td>34.457852</td>\n",
       "      <td>5.892358</td>\n",
       "      <td>10.569807</td>\n",
       "      <td>1.150082</td>\n",
       "      <td>28793.672193</td>\n",
       "      <td>14191.277833</td>\n",
       "      <td>0.611408</td>\n",
       "      <td>490.804555</td>\n",
       "      <td>0.770255</td>\n",
       "      <td>517.980900</td>\n",
       "      <td>180.888634</td>\n",
       "    </tr>\n",
       "    <tr>\n",
       "      <th>std</th>\n",
       "      <td>5.682529</td>\n",
       "      <td>1.088701e+07</td>\n",
       "      <td>35.654083</td>\n",
       "      <td>1.078405</td>\n",
       "      <td>1.261056</td>\n",
       "      <td>6.597173</td>\n",
       "      <td>22.030445</td>\n",
       "      <td>4.885249</td>\n",
       "      <td>5.905438</td>\n",
       "      <td>1.071300</td>\n",
       "      <td>12630.880622</td>\n",
       "      <td>8608.386210</td>\n",
       "      <td>0.802074</td>\n",
       "      <td>342.317995</td>\n",
       "      <td>0.938346</td>\n",
       "      <td>277.720643</td>\n",
       "      <td>219.727988</td>\n",
       "    </tr>\n",
       "    <tr>\n",
       "      <th>min</th>\n",
       "      <td>0.000000</td>\n",
       "      <td>1.219000e+04</td>\n",
       "      <td>12.000000</td>\n",
       "      <td>0.000000</td>\n",
       "      <td>1.000000</td>\n",
       "      <td>1.000000</td>\n",
       "      <td>2.000000</td>\n",
       "      <td>1.000000</td>\n",
       "      <td>1.300000</td>\n",
       "      <td>0.000000</td>\n",
       "      <td>0.000000</td>\n",
       "      <td>181.000000</td>\n",
       "      <td>0.000000</td>\n",
       "      <td>1.000000</td>\n",
       "      <td>0.000000</td>\n",
       "      <td>13.000000</td>\n",
       "      <td>1.000000</td>\n",
       "    </tr>\n",
       "    <tr>\n",
       "      <th>25%</th>\n",
       "      <td>6.000000</td>\n",
       "      <td>3.400000e+06</td>\n",
       "      <td>40.000000</td>\n",
       "      <td>1.000000</td>\n",
       "      <td>2.520000</td>\n",
       "      <td>5.000000</td>\n",
       "      <td>18.600000</td>\n",
       "      <td>2.000000</td>\n",
       "      <td>7.000000</td>\n",
       "      <td>0.000000</td>\n",
       "      <td>18585.000000</td>\n",
       "      <td>9238.000000</td>\n",
       "      <td>0.000000</td>\n",
       "      <td>288.000000</td>\n",
       "      <td>0.000000</td>\n",
       "      <td>294.000000</td>\n",
       "      <td>45.000000</td>\n",
       "    </tr>\n",
       "    <tr>\n",
       "      <th>50%</th>\n",
       "      <td>9.000000</td>\n",
       "      <td>4.650000e+06</td>\n",
       "      <td>52.000000</td>\n",
       "      <td>2.000000</td>\n",
       "      <td>2.650000</td>\n",
       "      <td>9.000000</td>\n",
       "      <td>30.000000</td>\n",
       "      <td>4.000000</td>\n",
       "      <td>9.100000</td>\n",
       "      <td>1.000000</td>\n",
       "      <td>26726.000000</td>\n",
       "      <td>13098.500000</td>\n",
       "      <td>0.000000</td>\n",
       "      <td>455.000000</td>\n",
       "      <td>1.000000</td>\n",
       "      <td>502.000000</td>\n",
       "      <td>95.000000</td>\n",
       "    </tr>\n",
       "    <tr>\n",
       "      <th>75%</th>\n",
       "      <td>14.000000</td>\n",
       "      <td>6.800000e+06</td>\n",
       "      <td>69.900000</td>\n",
       "      <td>3.000000</td>\n",
       "      <td>2.800000</td>\n",
       "      <td>16.000000</td>\n",
       "      <td>42.300000</td>\n",
       "      <td>8.000000</td>\n",
       "      <td>12.000000</td>\n",
       "      <td>2.000000</td>\n",
       "      <td>37273.000000</td>\n",
       "      <td>16293.000000</td>\n",
       "      <td>1.000000</td>\n",
       "      <td>612.000000</td>\n",
       "      <td>1.000000</td>\n",
       "      <td>729.000000</td>\n",
       "      <td>232.000000</td>\n",
       "    </tr>\n",
       "    <tr>\n",
       "      <th>max</th>\n",
       "      <td>50.000000</td>\n",
       "      <td>7.630000e+08</td>\n",
       "      <td>900.000000</td>\n",
       "      <td>19.000000</td>\n",
       "      <td>100.000000</td>\n",
       "      <td>60.000000</td>\n",
       "      <td>409.700000</td>\n",
       "      <td>33.000000</td>\n",
       "      <td>112.000000</td>\n",
       "      <td>5.000000</td>\n",
       "      <td>84869.000000</td>\n",
       "      <td>65968.000000</td>\n",
       "      <td>3.000000</td>\n",
       "      <td>3190.000000</td>\n",
       "      <td>3.000000</td>\n",
       "      <td>1344.000000</td>\n",
       "      <td>1580.000000</td>\n",
       "    </tr>\n",
       "  </tbody>\n",
       "</table>\n",
       "</div>"
      ],
      "text/plain": [
       "       total_images    last_price    total_area         rooms  ceiling_height  \\\n",
       "count  23699.000000  2.369900e+04  23699.000000  23699.000000    14504.000000   \n",
       "mean       9.858475  6.541549e+06     60.348651      2.070636        2.771499   \n",
       "std        5.682529  1.088701e+07     35.654083      1.078405        1.261056   \n",
       "min        0.000000  1.219000e+04     12.000000      0.000000        1.000000   \n",
       "25%        6.000000  3.400000e+06     40.000000      1.000000        2.520000   \n",
       "50%        9.000000  4.650000e+06     52.000000      2.000000        2.650000   \n",
       "75%       14.000000  6.800000e+06     69.900000      3.000000        2.800000   \n",
       "max       50.000000  7.630000e+08    900.000000     19.000000      100.000000   \n",
       "\n",
       "       floors_total   living_area         floor  kitchen_area       balcony  \\\n",
       "count  23613.000000  21796.000000  23699.000000  21421.000000  12180.000000   \n",
       "mean      10.673824     34.457852      5.892358     10.569807      1.150082   \n",
       "std        6.597173     22.030445      4.885249      5.905438      1.071300   \n",
       "min        1.000000      2.000000      1.000000      1.300000      0.000000   \n",
       "25%        5.000000     18.600000      2.000000      7.000000      0.000000   \n",
       "50%        9.000000     30.000000      4.000000      9.100000      1.000000   \n",
       "75%       16.000000     42.300000      8.000000     12.000000      2.000000   \n",
       "max       60.000000    409.700000     33.000000    112.000000      5.000000   \n",
       "\n",
       "       airports_nearest  cityCenters_nearest  parks_around3000  parks_nearest  \\\n",
       "count      18157.000000         18180.000000      18181.000000    8079.000000   \n",
       "mean       28793.672193         14191.277833          0.611408     490.804555   \n",
       "std        12630.880622          8608.386210          0.802074     342.317995   \n",
       "min            0.000000           181.000000          0.000000       1.000000   \n",
       "25%        18585.000000          9238.000000          0.000000     288.000000   \n",
       "50%        26726.000000         13098.500000          0.000000     455.000000   \n",
       "75%        37273.000000         16293.000000          1.000000     612.000000   \n",
       "max        84869.000000         65968.000000          3.000000    3190.000000   \n",
       "\n",
       "       ponds_around3000  ponds_nearest  days_exposition  \n",
       "count      18181.000000    9110.000000     20518.000000  \n",
       "mean           0.770255     517.980900       180.888634  \n",
       "std            0.938346     277.720643       219.727988  \n",
       "min            0.000000      13.000000         1.000000  \n",
       "25%            0.000000     294.000000        45.000000  \n",
       "50%            1.000000     502.000000        95.000000  \n",
       "75%            1.000000     729.000000       232.000000  \n",
       "max            3.000000    1344.000000      1580.000000  "
      ]
     },
     "execution_count": 5,
     "metadata": {},
     "output_type": "execute_result"
    }
   ],
   "source": [
    "df.describe()"
   ]
  },
  {
   "cell_type": "code",
   "execution_count": 6,
   "metadata": {},
   "outputs": [],
   "source": [
    "#переименнуем столбец для общего удобства\n",
    "df.rename(columns={'cityCenters_nearest':'city_centers_nearest'}, inplace=True)"
   ]
  },
  {
   "cell_type": "code",
   "execution_count": 7,
   "metadata": {
    "id": "7v3vAeTuAwb-"
   },
   "outputs": [
    {
     "data": {
      "text/plain": [
       "total_images                0\n",
       "last_price                  0\n",
       "total_area                  0\n",
       "first_day_exposition        0\n",
       "rooms                       0\n",
       "ceiling_height           9195\n",
       "floors_total               86\n",
       "living_area              1903\n",
       "floor                       0\n",
       "is_apartment            20924\n",
       "studio                      0\n",
       "open_plan                   0\n",
       "kitchen_area             2278\n",
       "balcony                 11519\n",
       "locality_name              49\n",
       "airports_nearest         5542\n",
       "city_centers_nearest     5519\n",
       "parks_around3000         5518\n",
       "parks_nearest           15620\n",
       "ponds_around3000         5518\n",
       "ponds_nearest           14589\n",
       "days_exposition          3181\n",
       "dtype: int64"
      ]
     },
     "execution_count": 7,
     "metadata": {},
     "output_type": "execute_result"
    }
   ],
   "source": [
    "df.isna().sum()"
   ]
  },
  {
   "cell_type": "markdown",
   "metadata": {},
   "source": [
    "**Логические замены можно предложить в столбцах**  :        \n",
    "- ceiling_height(высота потолков)  -  взяв медианное значение. Данные должны предоставляться продавцом.     \n",
    "- is_apartment(апартаменты)  -  пропущенные значения можно заменить на 0. Данные должны предоставляться продавцом.    \n",
    "- balcony(кол-во балконов)  -  пропущенные значения можно заменить на 0. Данные должны предоставляться продавцом.    \n",
    "- city_centers_nearest(расстояние до центра города)  -  заменить на медиану. Данные должны определяться автоматически.  "
   ]
  },
  {
   "cell_type": "code",
   "execution_count": 8,
   "metadata": {},
   "outputs": [],
   "source": [
    "df['ceiling_height'] = df['ceiling_height'].fillna(df['ceiling_height'].median())\n",
    "\n",
    "df['is_apartment'] = df['is_apartment'].fillna(False).astype('bool')\n",
    "\n",
    "df['balcony'] = df['balcony'].fillna(0).astype('int')\n",
    "\n",
    "df['city_centers_nearest'] = df['city_centers_nearest'].fillna(df['city_centers_nearest'].median())\n",
    "\n",
    "df['first_day_exposition'] = pd.to_datetime(df['first_day_exposition'], format='%Y-%m-%d')"
   ]
  },
  {
   "cell_type": "markdown",
   "metadata": {},
   "source": [
    "Привел столбцы к верному типу."
   ]
  },
  {
   "cell_type": "code",
   "execution_count": 9,
   "metadata": {},
   "outputs": [
    {
     "data": {
      "text/html": [
       "<div>\n",
       "<style scoped>\n",
       "    .dataframe tbody tr th:only-of-type {\n",
       "        vertical-align: middle;\n",
       "    }\n",
       "\n",
       "    .dataframe tbody tr th {\n",
       "        vertical-align: top;\n",
       "    }\n",
       "\n",
       "    .dataframe thead th {\n",
       "        text-align: right;\n",
       "    }\n",
       "</style>\n",
       "<table border=\"1\" class=\"dataframe\">\n",
       "  <thead>\n",
       "    <tr style=\"text-align: right;\">\n",
       "      <th>first_day_year</th>\n",
       "      <th>2014</th>\n",
       "      <th>2015</th>\n",
       "      <th>2016</th>\n",
       "      <th>2017</th>\n",
       "      <th>2018</th>\n",
       "      <th>2019</th>\n",
       "    </tr>\n",
       "  </thead>\n",
       "  <tbody>\n",
       "    <tr>\n",
       "      <th>total_area</th>\n",
       "      <td>18</td>\n",
       "      <td>70</td>\n",
       "      <td>67</td>\n",
       "      <td>271</td>\n",
       "      <td>959</td>\n",
       "      <td>1796</td>\n",
       "    </tr>\n",
       "  </tbody>\n",
       "</table>\n",
       "</div>"
      ],
      "text/plain": [
       "first_day_year  2014  2015  2016  2017  2018  2019\n",
       "total_area        18    70    67   271   959  1796"
      ]
     },
     "execution_count": 9,
     "metadata": {},
     "output_type": "execute_result"
    }
   ],
   "source": [
    "# код ревьюера\n",
    "import datetime as dt\n",
    "\n",
    "df['first_day_exposition'] = pd.to_datetime(df['first_day_exposition'], format='%Y-%m-%dT%H:%M:%S')\n",
    "df['first_day_year'] = df['first_day_exposition'].dt.year\n",
    "df[df['days_exposition'].isnull()].pivot_table(columns = 'first_day_year', values = 'total_area', aggfunc = 'count')"
   ]
  },
  {
   "cell_type": "code",
   "execution_count": 10,
   "metadata": {},
   "outputs": [],
   "source": [
    "df.dropna(subset=['floors_total'], inplace=True)\n",
    "df['floors_total'] = df['floors_total'].astype('int')"
   ]
  },
  {
   "cell_type": "code",
   "execution_count": 11,
   "metadata": {},
   "outputs": [],
   "source": [
    "df.dropna(subset=['locality_name'], inplace=True)"
   ]
  },
  {
   "cell_type": "code",
   "execution_count": 12,
   "metadata": {},
   "outputs": [],
   "source": [
    "ratio_living= df['total_area'].median()/df['living_area'].median()\n",
    "ratio_kitchen = df['total_area'].median()/df['kitchen_area'].median()\n",
    "\n",
    "df['living_area'].fillna(df['total_area']/ratio_living, inplace=True)\n",
    "df['kitchen_area'].fillna(df['total_area']/ratio_kitchen, inplace=True)\n"
   ]
  },
  {
   "cell_type": "code",
   "execution_count": 13,
   "metadata": {
    "scrolled": true
   },
   "outputs": [
    {
     "data": {
      "text/plain": [
       "total_images                0\n",
       "last_price                  0\n",
       "total_area                  0\n",
       "first_day_exposition        0\n",
       "rooms                       0\n",
       "ceiling_height              0\n",
       "floors_total                0\n",
       "living_area                 0\n",
       "floor                       0\n",
       "is_apartment                0\n",
       "studio                      0\n",
       "open_plan                   0\n",
       "kitchen_area                0\n",
       "balcony                     0\n",
       "locality_name               0\n",
       "airports_nearest         5524\n",
       "city_centers_nearest        0\n",
       "parks_around3000         5500\n",
       "parks_nearest           15535\n",
       "ponds_around3000         5500\n",
       "ponds_nearest           14529\n",
       "days_exposition          3171\n",
       "first_day_year              0\n",
       "dtype: int64"
      ]
     },
     "execution_count": 13,
     "metadata": {},
     "output_type": "execute_result"
    }
   ],
   "source": [
    "df.isna().sum()"
   ]
  },
  {
   "cell_type": "markdown",
   "metadata": {},
   "source": [
    "*Заменили пропуски и изменили тип данных, где это было возможно.  \n",
    "Строки с пропусками в столбцах locality_name можно удалить, т.к только 49 строк из 23699 имеют пропуск.  \n",
    "**Потенциальное решение проблемы наличия пропусков в столбцах kitchen_area и living_area:**    \n",
    "Чтобы заполнить пропуски в данных столбцах, мы можем взять среднее/точное значение, обратившись к информации о площади аналогичных квартир в рассматриваемом доме. Однако для этого требуется больше данных.*"
   ]
  },
  {
   "cell_type": "code",
   "execution_count": 14,
   "metadata": {},
   "outputs": [],
   "source": [
    "df['locality_name'] = (\n",
    "    df['locality_name']\n",
    "    .str.replace('ё', 'е')\n",
    "    .str.replace('a', 'а')\n",
    "    .replace(['городской ', ' городского типа','коттеджный поселок '], '', regex = True )\n",
    "    .replace(['-1'], '', regex = True )\n",
    "    .replace(['село ','садовое товарищество '], 'поселок ', regex = True )\n",
    "    .replace(['поселок Мурино'], 'Мурино', regex = True)\n",
    "    .replace(['деревня Кудрово'], 'Кудрово', regex = True)\n",
    "    .replace(['поселок  Лесное'], 'Лесное', regex = True)\n",
    "    .replace([' при железнодорожной станции ',' станции '], ' ', regex = True )\n",
    "    .replace(['поселок Любань'], 'Любань', regex = True)\n",
    "    .replace(['Никольское'], 'поселок Никольский', regex = True)\n",
    "    .replace(['поселок поселок Никольский'], 'поселок Никольский', regex = True)\n",
    "    .replace(['поселок Лесное'], 'Лесное', regex = True)\n",
    "    \n",
    "    \n",
    "\n",
    ")\n",
    "    \n",
    "    \n",
    "    \n",
    "    \n",
    "    \n",
    "    \n",
    "    \n"
   ]
  },
  {
   "cell_type": "code",
   "execution_count": 15,
   "metadata": {
    "scrolled": true
   },
   "outputs": [
    {
     "data": {
      "text/plain": [
       "array(['Бокситогорск', 'Волосово', 'Волхов', 'Всеволожск', 'Выборг',\n",
       "       'Высоцк', 'Гатчина', 'Зеленогорск', 'Ивангород', 'Каменногорск',\n",
       "       'Кивеннапа Север', 'Кингисепп', 'Кириши', 'Кировск', 'Колпино',\n",
       "       'Коммунар', 'Красное Село', 'Кронштадт', 'Кудрово', 'Лесное',\n",
       "       'Лодейное Поле', 'Ломоносов', 'Луга', 'Любань', 'Мурино',\n",
       "       'Новая Ладога', 'Отрадное', 'Павловск', 'Петергоф', 'Пикалево',\n",
       "       'Подпорожье', 'Приморск', 'Приозерск', 'Пушкин', 'Санкт-Петербург',\n",
       "       'Светогорск', 'Сертолово', 'Сестрорецк', 'Сланцы', 'Сосновый Бор',\n",
       "       'Счастье', 'Сясьстрой', 'Тихвин', 'Тосно', 'Шлиссельбург',\n",
       "       'деревня Агалатово', 'деревня Аро', 'деревня Батово',\n",
       "       'деревня Бегуницы', 'деревня Белогорка', 'деревня Большая Вруда',\n",
       "       'деревня Большая Пустомержа', 'деревня Большие Колпаны',\n",
       "       'деревня Большое Рейзино', 'деревня Большой Сабск', 'деревня Бор',\n",
       "       'деревня Борисова Грива', 'деревня Ваганово', 'деревня Вартемяги',\n",
       "       'деревня Вахнова Кара', 'деревня Выскатка', 'деревня Гарболово',\n",
       "       'деревня Глинка', 'деревня Горбунки', 'деревня Гостилицы',\n",
       "       'деревня Заклинье', 'деревня Заневка', 'деревня Зимитицы',\n",
       "       'деревня Извара', 'деревня Иссад', 'деревня Калитино',\n",
       "       'деревня Кальтино', 'деревня Камышовка', 'деревня Каськово',\n",
       "       'деревня Келози', 'деревня Кипень', 'деревня Кисельня',\n",
       "       'деревня Колтуши', 'деревня Коркино', 'деревня Котлы',\n",
       "       'деревня Кривко', 'деревня Кузьмолово', 'деревня Курковицы',\n",
       "       'деревня Куровицы', 'деревня Куттузи', 'деревня Лаврики',\n",
       "       'деревня Лаголово', 'деревня Лампово', 'деревня Лесколово',\n",
       "       'деревня Лопухинка', 'деревня Лупполово',\n",
       "       'деревня Малая Романовка', 'деревня Малое Верево',\n",
       "       'деревня Малое Карлино', 'деревня Малые Колпаны',\n",
       "       'деревня Мануйлово', 'деревня Меньково', 'деревня Мины',\n",
       "       'деревня Мистолово', 'деревня Ненимяки', 'деревня Нижние Осельки',\n",
       "       'деревня Нижняя', 'деревня Низино', 'деревня Новое Девяткино',\n",
       "       'деревня Новолисино', 'деревня Нурма', 'деревня Оржицы',\n",
       "       'деревня Парицы', 'деревня Пельгора', 'деревня Пеники',\n",
       "       'деревня Пижма', 'деревня Пикколово', 'деревня Пудомяги',\n",
       "       'деревня Пустынка', 'деревня Пчева', 'деревня Рабитицы',\n",
       "       'деревня Разбегаево', 'деревня Раздолье', 'деревня Разметелево',\n",
       "       'деревня Рапполово', 'деревня Реброво', 'деревня Русско',\n",
       "       'деревня Сижно', 'деревня Снегиревка', 'деревня Старая',\n",
       "       'деревня Старая Пустошь', 'деревня Старое Хинколово',\n",
       "       'деревня Старополье', 'деревня Старосиверская',\n",
       "       'деревня Старые Бегуницы', 'деревня Суоранда',\n",
       "       'деревня Сяськелево', 'деревня Тарасово', 'деревня Терпилицы',\n",
       "       'деревня Тихковицы', 'деревня Тойворово', 'деревня Торосово',\n",
       "       'деревня Торошковичи', 'деревня Трубников Бор',\n",
       "       'деревня Фалилеево', 'деревня Федоровское', 'деревня Хапо-Ое',\n",
       "       'деревня Хязельки', 'деревня Чудской Бор', 'деревня Шпаньково',\n",
       "       'деревня Щеглово', 'деревня Юкки', 'деревня Ялгино',\n",
       "       'деревня Яльгелево', 'деревня Ям-Тесово',\n",
       "       'поселок Александровская', 'поселок Алексеевка', 'поселок Аннино',\n",
       "       'поселок Барышево', 'поселок Белоостров', 'поселок Большая Ижора',\n",
       "       'поселок Бугры', 'поселок Будогощь', 'поселок Важины',\n",
       "       'поселок Вещево', 'поселок Виллози', 'поселок Вознесенье',\n",
       "       'поселок Возрождение', 'поселок Войсковицы', 'поселок Войскорово',\n",
       "       'поселок Володарское', 'поселок Вырица', 'поселок Высокоключевой',\n",
       "       'поселок Гаврилово', 'поселок Гарболово', 'поселок Гладкое',\n",
       "       'поселок Глажево', 'поселок Глебычево', 'поселок Гончарово',\n",
       "       'поселок Громово', 'поселок Дзержинского', 'поселок Дружная Горка',\n",
       "       'поселок Дружноселье', 'поселок Дубровка', 'поселок Елизаветино',\n",
       "       'поселок Ефимовский', 'поселок Жилгородок', 'поселок Жилпоселок',\n",
       "       'поселок Житково', 'поселок Заводской', 'поселок Запорожское',\n",
       "       'поселок Зимитицы', 'поселок Ильичево', 'поселок Калитино',\n",
       "       'поселок Каложицы', 'поселок Кикерино', 'поселок Кингисеппский',\n",
       "       'поселок Кирпичное', 'поселок Кобралово', 'поселок Кобринское',\n",
       "       'поселок Коммунары', 'поселок Кондратьево', 'поселок Копорье',\n",
       "       'поселок Корнево', 'поселок Коробицыно', 'поселок Котельский',\n",
       "       'поселок Красная Долина', 'поселок Красносельское',\n",
       "       'поселок Красный Бор', 'поселок Кузнечное',\n",
       "       'поселок Кузьмоловский', 'поселок Лебяжье', 'поселок Левашово',\n",
       "       'поселок Ленинское', 'поселок Лесогорский', 'поселок Лисий Нос',\n",
       "       'поселок Лужайка', 'поселок Лукаши', 'поселок Мга',\n",
       "       'поселок Мельниково', 'поселок Металлострой',\n",
       "       'поселок Мичуринское', 'поселок Молодежное', 'поселок Молодцово',\n",
       "       'поселок Мыза-Ивановка', 'поселок Назия', 'поселок Никольский',\n",
       "       'поселок Новая Ропша', 'поселок Новогорелово', 'поселок Новоселье',\n",
       "       'поселок Новый Свет', 'поселок Новый Учхоз', 'поселок Оредеж',\n",
       "       'поселок Павлово', 'поселок Пансионат Зеленый Бор',\n",
       "       'поселок Парголово', 'поселок Паша', 'поселок Первомайское',\n",
       "       'поселок Перово', 'поселок Песочный', 'поселок Петро-Славянка',\n",
       "       'поселок Петровское', 'поселок Платформа 69-й километр',\n",
       "       'поселок Плодовое', 'поселок Плоское', 'поселок Победа',\n",
       "       'поселок Поляны', 'поселок Понтонный', 'поселок Почап',\n",
       "       'поселок Починок', 'поселок Приветнинское', 'поселок Пригородный',\n",
       "       'поселок Приладожский', 'поселок Пудость', 'поселок Путилово',\n",
       "       'поселок Пушное', 'поселок Пчевжа', 'поселок Рабитицы',\n",
       "       'поселок Рахья', 'поселок Репино', 'поселок Рождествено',\n",
       "       'поселок Романовка', 'поселок Ромашки', 'поселок Ропша',\n",
       "       'поселок Рощино', 'поселок Русско-Высоцкое', 'поселок Рябово',\n",
       "       'поселок Садко', 'поселок Саперное', 'поселок Саперный',\n",
       "       'поселок Свирь', 'поселок Свирьстрой', 'поселок Севастьяново',\n",
       "       'поселок Селезнево', 'поселок Сельцо', 'поселок Семиозерье',\n",
       "       'поселок Семрино', 'поселок Серебрянский', 'поселок Сиверский',\n",
       "       'поселок Синявино', 'поселок Советский', 'поселок Совхозный',\n",
       "       'поселок Сосново', 'поселок Старая Ладога',\n",
       "       'поселок Старая Малукса', 'поселок Стеклянный', 'поселок Стрельна',\n",
       "       'поселок Суйда', 'поселок Сумино', 'поселок Суходолье',\n",
       "       'поселок Тайцы', 'поселок Тельмана', 'поселок Терволово',\n",
       "       'поселок Тесово-4', 'поселок Токсово', 'поселок Торковичи',\n",
       "       'поселок Торфяное', 'поселок Углово', 'поселок Ульяновка',\n",
       "       'поселок Усть-Ижора', 'поселок Усть-Луга', 'поселок Ушаки',\n",
       "       'поселок Федоровское', 'поселок Форносово',\n",
       "       'поселок Форт Красная Горка', 'поселок Цвелодубово',\n",
       "       'поселок Цвылево', 'поселок Шугозеро', 'поселок Шум',\n",
       "       'поселок Шушары', 'поселок Щеглово', 'поселок Янино',\n",
       "       'поселок имени Морозова', 'поселок имени Свердлова',\n",
       "       'садоводческое некоммерческое товарищество Лесная Поляна'],\n",
       "      dtype=object)"
      ]
     },
     "execution_count": 15,
     "metadata": {},
     "output_type": "execute_result"
    }
   ],
   "source": [
    "df['locality_name'].sort_values().unique()"
   ]
  },
  {
   "cell_type": "code",
   "execution_count": 16,
   "metadata": {},
   "outputs": [
    {
     "data": {
      "text/plain": [
       "['лесное']"
      ]
     },
     "metadata": {},
     "output_type": "display_data"
    }
   ],
   "source": [
    "# создаем цикл для проверки неявных дубликатов\n",
    "pet_list = []\n",
    "unique_loc = df['locality_name'].str.lower().unique()\n",
    "\n",
    "for i in unique_loc:\n",
    "    if 'лесное' in i:  \n",
    "        pet_list.append(i)\n",
    "display(pet_list)"
   ]
  },
  {
   "cell_type": "code",
   "execution_count": 17,
   "metadata": {},
   "outputs": [
    {
     "data": {
      "text/plain": [
       "['коммунар',\n",
       " 'кингисепп',\n",
       " 'деревня старая',\n",
       " 'луга',\n",
       " 'поселок усть-луга',\n",
       " 'поселок русско-высоцкое',\n",
       " 'поселок кингисеппский',\n",
       " 'деревня старая пустошь',\n",
       " 'поселок коммунары',\n",
       " 'деревня бор',\n",
       " 'поселок свирь',\n",
       " 'высоцк',\n",
       " 'поселок свирьстрой',\n",
       " 'деревня борисова грива']"
      ]
     },
     "metadata": {},
     "output_type": "display_data"
    }
   ],
   "source": [
    "similar_elements = []\n",
    "# Функция для проверки схожести строк\n",
    "def similar(str1, str2):\n",
    "    return str1 in str2 or str2 in str1\n",
    "\n",
    "# Цикл для нахождения схожести в списке\n",
    "for item1 in df['locality_name'].str.lower().unique():\n",
    "    for item2 in df['locality_name'].str.lower().unique():\n",
    "        if item1 != item2 and similar(item1, item2):\n",
    "            similar_elements.append(item1)\n",
    "display(similar_elements)"
   ]
  },
  {
   "cell_type": "code",
   "execution_count": 18,
   "metadata": {},
   "outputs": [
    {
     "data": {
      "text/plain": [
       "310"
      ]
     },
     "execution_count": 18,
     "metadata": {},
     "output_type": "execute_result"
    }
   ],
   "source": [
    "len(df['locality_name'].unique())"
   ]
  },
  {
   "cell_type": "markdown",
   "metadata": {},
   "source": [
    "**До обработки уникальный значений было 365, после обработки 310.**"
   ]
  },
  {
   "cell_type": "markdown",
   "metadata": {},
   "source": [
    "**Выявление и удаление аномальных значений(выбросов)**"
   ]
  },
  {
   "cell_type": "code",
   "execution_count": 19,
   "metadata": {},
   "outputs": [
    {
     "data": {
      "text/plain": [
       "23565"
      ]
     },
     "execution_count": 19,
     "metadata": {},
     "output_type": "execute_result"
    }
   ],
   "source": [
    "len(df)"
   ]
  },
  {
   "cell_type": "code",
   "execution_count": 20,
   "metadata": {},
   "outputs": [
    {
     "data": {
      "text/plain": [
       "count    23565.000000\n",
       "mean         2.724530\n",
       "std          0.991026\n",
       "min          1.000000\n",
       "25%          2.600000\n",
       "50%          2.650000\n",
       "75%          2.700000\n",
       "max        100.000000\n",
       "Name: ceiling_height, dtype: float64"
      ]
     },
     "execution_count": 20,
     "metadata": {},
     "output_type": "execute_result"
    }
   ],
   "source": [
    "df['ceiling_height'].describe()"
   ]
  },
  {
   "cell_type": "code",
   "execution_count": 21,
   "metadata": {},
   "outputs": [],
   "source": [
    "#потолки менее 2м в высоту определенно являются ошибкой\n",
    "df.loc[df['ceiling_height'] < 2 ,'ceiling_height'] = 2"
   ]
  },
  {
   "cell_type": "code",
   "execution_count": 22,
   "metadata": {},
   "outputs": [],
   "source": [
    "def remove_anomaly(df, column, percentage=0.1):\n",
    "\n",
    "    # Вычисляем квартильные значения\n",
    "    Q1 = df[column].quantile(0.25)\n",
    "    Q3 = df[column].quantile(0.75)\n",
    "    IQR = Q3 - Q1\n",
    "\n",
    "    # Определяем границы для выбросов\n",
    "    lower_bound = Q1 - 1.5 * IQR\n",
    "    upper_bound = Q3 + 1.5 * IQR\n",
    "\n",
    "    # Выявляем выбросы\n",
    "    anomaly = df[(df[column] < lower_bound) | (df[column] > upper_bound)]\n",
    "\n",
    "    # Удаляем указанный процент самых больших выбросов\n",
    "    num_anomaly_to_remove = int(percentage * len(anomaly))\n",
    "    anomaly_sorted = anomaly.sort_values(by=column, ascending=False)\n",
    "    anomaly_to_remove = anomaly_sorted.head(num_anomaly_to_remove)\n",
    "\n",
    "    \n",
    "    df.drop(anomaly_to_remove.index, inplace=True)\n",
    "\n",
    "\n",
    "    "
   ]
  },
  {
   "cell_type": "code",
   "execution_count": 23,
   "metadata": {},
   "outputs": [],
   "source": [
    "remove_anomaly(df,'rooms',percentage=0.1)\n",
    "remove_anomaly(df,'total_area',percentage=0.1)\n",
    "remove_anomaly(df,'last_price',percentage=0.1)\n",
    "remove_anomaly(df,'ceiling_height',percentage=0.1)\n",
    "remove_anomaly(df,'kitchen_area',percentage=0.1)\n",
    "remove_anomaly(df,'parks_nearest',percentage=0.1)\n",
    "remove_anomaly(df,'city_centers_nearest',percentage=0.1)\n",
    "remove_anomaly(df,'floors_total',percentage=0.1)\n",
    "remove_anomaly(df,'living_area',percentage=0.1)"
   ]
  },
  {
   "cell_type": "code",
   "execution_count": 24,
   "metadata": {},
   "outputs": [
    {
     "data": {
      "text/plain": [
       "count    22333.000000\n",
       "mean         2.677720\n",
       "std          0.168553\n",
       "min          2.000000\n",
       "25%          2.600000\n",
       "50%          2.650000\n",
       "75%          2.700000\n",
       "max          3.500000\n",
       "Name: ceiling_height, dtype: float64"
      ]
     },
     "execution_count": 24,
     "metadata": {},
     "output_type": "execute_result"
    }
   ],
   "source": [
    "df['ceiling_height'].describe()"
   ]
  },
  {
   "cell_type": "code",
   "execution_count": 25,
   "metadata": {},
   "outputs": [
    {
     "data": {
      "text/plain": [
       "22333"
      ]
     },
     "execution_count": 25,
     "metadata": {},
     "output_type": "execute_result"
    }
   ],
   "source": [
    "len(df)"
   ]
  },
  {
   "cell_type": "markdown",
   "metadata": {
    "id": "QCcvyY6YAwb-"
   },
   "source": [
    "### Добавьте в таблицу новые столбцы"
   ]
  },
  {
   "cell_type": "code",
   "execution_count": 26,
   "metadata": {
    "id": "Z8eJek3IAwb-"
   },
   "outputs": [
    {
     "data": {
      "text/html": [
       "<div>\n",
       "<style scoped>\n",
       "    .dataframe tbody tr th:only-of-type {\n",
       "        vertical-align: middle;\n",
       "    }\n",
       "\n",
       "    .dataframe tbody tr th {\n",
       "        vertical-align: top;\n",
       "    }\n",
       "\n",
       "    .dataframe thead th {\n",
       "        text-align: right;\n",
       "    }\n",
       "</style>\n",
       "<table border=\"1\" class=\"dataframe\">\n",
       "  <thead>\n",
       "    <tr style=\"text-align: right;\">\n",
       "      <th></th>\n",
       "      <th>total_images</th>\n",
       "      <th>last_price</th>\n",
       "      <th>total_area</th>\n",
       "      <th>first_day_exposition</th>\n",
       "      <th>rooms</th>\n",
       "      <th>ceiling_height</th>\n",
       "      <th>floors_total</th>\n",
       "      <th>living_area</th>\n",
       "      <th>floor</th>\n",
       "      <th>is_apartment</th>\n",
       "      <th>...</th>\n",
       "      <th>parks_around3000</th>\n",
       "      <th>parks_nearest</th>\n",
       "      <th>ponds_around3000</th>\n",
       "      <th>ponds_nearest</th>\n",
       "      <th>days_exposition</th>\n",
       "      <th>first_day_year</th>\n",
       "      <th>cost_per_metr</th>\n",
       "      <th>day_publish</th>\n",
       "      <th>month_publish</th>\n",
       "      <th>year_publish</th>\n",
       "    </tr>\n",
       "  </thead>\n",
       "  <tbody>\n",
       "    <tr>\n",
       "      <th>0</th>\n",
       "      <td>20</td>\n",
       "      <td>13000000.0</td>\n",
       "      <td>108.0</td>\n",
       "      <td>2019-03-07</td>\n",
       "      <td>3</td>\n",
       "      <td>2.70</td>\n",
       "      <td>16</td>\n",
       "      <td>51.0</td>\n",
       "      <td>8</td>\n",
       "      <td>False</td>\n",
       "      <td>...</td>\n",
       "      <td>1.0</td>\n",
       "      <td>482.0</td>\n",
       "      <td>2.0</td>\n",
       "      <td>755.0</td>\n",
       "      <td>NaN</td>\n",
       "      <td>2019</td>\n",
       "      <td>120370.37</td>\n",
       "      <td>3</td>\n",
       "      <td>3</td>\n",
       "      <td>2019</td>\n",
       "    </tr>\n",
       "    <tr>\n",
       "      <th>1</th>\n",
       "      <td>7</td>\n",
       "      <td>3350000.0</td>\n",
       "      <td>40.4</td>\n",
       "      <td>2018-12-04</td>\n",
       "      <td>1</td>\n",
       "      <td>2.65</td>\n",
       "      <td>11</td>\n",
       "      <td>18.6</td>\n",
       "      <td>1</td>\n",
       "      <td>False</td>\n",
       "      <td>...</td>\n",
       "      <td>0.0</td>\n",
       "      <td>NaN</td>\n",
       "      <td>0.0</td>\n",
       "      <td>NaN</td>\n",
       "      <td>81.0</td>\n",
       "      <td>2018</td>\n",
       "      <td>82920.79</td>\n",
       "      <td>1</td>\n",
       "      <td>12</td>\n",
       "      <td>2018</td>\n",
       "    </tr>\n",
       "    <tr>\n",
       "      <th>2</th>\n",
       "      <td>10</td>\n",
       "      <td>5196000.0</td>\n",
       "      <td>56.0</td>\n",
       "      <td>2015-08-20</td>\n",
       "      <td>2</td>\n",
       "      <td>2.65</td>\n",
       "      <td>5</td>\n",
       "      <td>34.3</td>\n",
       "      <td>4</td>\n",
       "      <td>False</td>\n",
       "      <td>...</td>\n",
       "      <td>1.0</td>\n",
       "      <td>90.0</td>\n",
       "      <td>2.0</td>\n",
       "      <td>574.0</td>\n",
       "      <td>558.0</td>\n",
       "      <td>2015</td>\n",
       "      <td>92785.71</td>\n",
       "      <td>3</td>\n",
       "      <td>8</td>\n",
       "      <td>2015</td>\n",
       "    </tr>\n",
       "    <tr>\n",
       "      <th>5</th>\n",
       "      <td>10</td>\n",
       "      <td>2890000.0</td>\n",
       "      <td>30.4</td>\n",
       "      <td>2018-09-10</td>\n",
       "      <td>1</td>\n",
       "      <td>2.65</td>\n",
       "      <td>12</td>\n",
       "      <td>14.4</td>\n",
       "      <td>5</td>\n",
       "      <td>False</td>\n",
       "      <td>...</td>\n",
       "      <td>NaN</td>\n",
       "      <td>NaN</td>\n",
       "      <td>NaN</td>\n",
       "      <td>NaN</td>\n",
       "      <td>55.0</td>\n",
       "      <td>2018</td>\n",
       "      <td>95065.79</td>\n",
       "      <td>0</td>\n",
       "      <td>9</td>\n",
       "      <td>2018</td>\n",
       "    </tr>\n",
       "    <tr>\n",
       "      <th>6</th>\n",
       "      <td>6</td>\n",
       "      <td>3700000.0</td>\n",
       "      <td>37.3</td>\n",
       "      <td>2017-11-02</td>\n",
       "      <td>1</td>\n",
       "      <td>2.65</td>\n",
       "      <td>26</td>\n",
       "      <td>10.6</td>\n",
       "      <td>6</td>\n",
       "      <td>False</td>\n",
       "      <td>...</td>\n",
       "      <td>0.0</td>\n",
       "      <td>NaN</td>\n",
       "      <td>0.0</td>\n",
       "      <td>NaN</td>\n",
       "      <td>155.0</td>\n",
       "      <td>2017</td>\n",
       "      <td>99195.71</td>\n",
       "      <td>3</td>\n",
       "      <td>11</td>\n",
       "      <td>2017</td>\n",
       "    </tr>\n",
       "  </tbody>\n",
       "</table>\n",
       "<p>5 rows × 27 columns</p>\n",
       "</div>"
      ],
      "text/plain": [
       "   total_images  last_price  total_area first_day_exposition  rooms  \\\n",
       "0            20  13000000.0       108.0           2019-03-07      3   \n",
       "1             7   3350000.0        40.4           2018-12-04      1   \n",
       "2            10   5196000.0        56.0           2015-08-20      2   \n",
       "5            10   2890000.0        30.4           2018-09-10      1   \n",
       "6             6   3700000.0        37.3           2017-11-02      1   \n",
       "\n",
       "   ceiling_height  floors_total  living_area  floor  is_apartment  ...  \\\n",
       "0            2.70            16         51.0      8         False  ...   \n",
       "1            2.65            11         18.6      1         False  ...   \n",
       "2            2.65             5         34.3      4         False  ...   \n",
       "5            2.65            12         14.4      5         False  ...   \n",
       "6            2.65            26         10.6      6         False  ...   \n",
       "\n",
       "   parks_around3000  parks_nearest  ponds_around3000  ponds_nearest  \\\n",
       "0               1.0          482.0               2.0          755.0   \n",
       "1               0.0            NaN               0.0            NaN   \n",
       "2               1.0           90.0               2.0          574.0   \n",
       "5               NaN            NaN               NaN            NaN   \n",
       "6               0.0            NaN               0.0            NaN   \n",
       "\n",
       "  days_exposition  first_day_year  cost_per_metr  day_publish  month_publish  \\\n",
       "0             NaN            2019      120370.37            3              3   \n",
       "1            81.0            2018       82920.79            1             12   \n",
       "2           558.0            2015       92785.71            3              8   \n",
       "5            55.0            2018       95065.79            0              9   \n",
       "6           155.0            2017       99195.71            3             11   \n",
       "\n",
       "   year_publish  \n",
       "0          2019  \n",
       "1          2018  \n",
       "2          2015  \n",
       "5          2018  \n",
       "6          2017  \n",
       "\n",
       "[5 rows x 27 columns]"
      ]
     },
     "execution_count": 26,
     "metadata": {},
     "output_type": "execute_result"
    }
   ],
   "source": [
    "#цена одного кв.метра\n",
    "df['cost_per_metr'] = (df['last_price']/df['total_area']).round(2)\n",
    "#день публикации объявления\n",
    "df['day_publish'] = df['first_day_exposition'].dt.weekday\n",
    "#месяц публикации объявления\n",
    "df['month_publish'] = df['first_day_exposition'].dt.month\n",
    "#год публикации объявления\n",
    "df['year_publish'] = df['first_day_exposition'].dt.year\n",
    "df.head()"
   ]
  },
  {
   "cell_type": "code",
   "execution_count": 27,
   "metadata": {},
   "outputs": [],
   "source": [
    "#функция для категоризации по этажам\n",
    "def floor_type(row):\n",
    "    floors_total = row['floors_total']\n",
    "    floor = row['floor']\n",
    "    if floor == 1:\n",
    "        return 'первый'\n",
    "    elif floor == floors_total:\n",
    "        return 'последний'\n",
    "    else:\n",
    "        return 'другой'\n",
    "    "
   ]
  },
  {
   "cell_type": "code",
   "execution_count": 28,
   "metadata": {},
   "outputs": [
    {
     "data": {
      "text/html": [
       "<div>\n",
       "<style scoped>\n",
       "    .dataframe tbody tr th:only-of-type {\n",
       "        vertical-align: middle;\n",
       "    }\n",
       "\n",
       "    .dataframe tbody tr th {\n",
       "        vertical-align: top;\n",
       "    }\n",
       "\n",
       "    .dataframe thead th {\n",
       "        text-align: right;\n",
       "    }\n",
       "</style>\n",
       "<table border=\"1\" class=\"dataframe\">\n",
       "  <thead>\n",
       "    <tr style=\"text-align: right;\">\n",
       "      <th></th>\n",
       "      <th>total_images</th>\n",
       "      <th>last_price</th>\n",
       "      <th>total_area</th>\n",
       "      <th>first_day_exposition</th>\n",
       "      <th>rooms</th>\n",
       "      <th>ceiling_height</th>\n",
       "      <th>floors_total</th>\n",
       "      <th>living_area</th>\n",
       "      <th>floor</th>\n",
       "      <th>is_apartment</th>\n",
       "      <th>...</th>\n",
       "      <th>parks_nearest</th>\n",
       "      <th>ponds_around3000</th>\n",
       "      <th>ponds_nearest</th>\n",
       "      <th>days_exposition</th>\n",
       "      <th>first_day_year</th>\n",
       "      <th>cost_per_metr</th>\n",
       "      <th>day_publish</th>\n",
       "      <th>month_publish</th>\n",
       "      <th>year_publish</th>\n",
       "      <th>floor_type</th>\n",
       "    </tr>\n",
       "  </thead>\n",
       "  <tbody>\n",
       "    <tr>\n",
       "      <th>0</th>\n",
       "      <td>20</td>\n",
       "      <td>13000000.0</td>\n",
       "      <td>108.0</td>\n",
       "      <td>2019-03-07</td>\n",
       "      <td>3</td>\n",
       "      <td>2.7</td>\n",
       "      <td>16</td>\n",
       "      <td>51.0</td>\n",
       "      <td>8</td>\n",
       "      <td>False</td>\n",
       "      <td>...</td>\n",
       "      <td>482.0</td>\n",
       "      <td>2.0</td>\n",
       "      <td>755.0</td>\n",
       "      <td>NaN</td>\n",
       "      <td>2019</td>\n",
       "      <td>120370.37</td>\n",
       "      <td>3</td>\n",
       "      <td>3</td>\n",
       "      <td>2019</td>\n",
       "      <td>другой</td>\n",
       "    </tr>\n",
       "  </tbody>\n",
       "</table>\n",
       "<p>1 rows × 28 columns</p>\n",
       "</div>"
      ],
      "text/plain": [
       "   total_images  last_price  total_area first_day_exposition  rooms  \\\n",
       "0            20  13000000.0       108.0           2019-03-07      3   \n",
       "\n",
       "   ceiling_height  floors_total  living_area  floor  is_apartment  ...  \\\n",
       "0             2.7            16         51.0      8         False  ...   \n",
       "\n",
       "   parks_nearest  ponds_around3000  ponds_nearest  days_exposition  \\\n",
       "0          482.0               2.0          755.0              NaN   \n",
       "\n",
       "  first_day_year  cost_per_metr  day_publish  month_publish  year_publish  \\\n",
       "0           2019      120370.37            3              3          2019   \n",
       "\n",
       "   floor_type  \n",
       "0      другой  \n",
       "\n",
       "[1 rows x 28 columns]"
      ]
     },
     "execution_count": 28,
     "metadata": {},
     "output_type": "execute_result"
    }
   ],
   "source": [
    "df['floor_type'] = df.apply(floor_type, axis=1)\n",
    "df.head(1)"
   ]
  },
  {
   "cell_type": "code",
   "execution_count": 29,
   "metadata": {},
   "outputs": [
    {
     "data": {
      "text/html": [
       "<div>\n",
       "<style scoped>\n",
       "    .dataframe tbody tr th:only-of-type {\n",
       "        vertical-align: middle;\n",
       "    }\n",
       "\n",
       "    .dataframe tbody tr th {\n",
       "        vertical-align: top;\n",
       "    }\n",
       "\n",
       "    .dataframe thead th {\n",
       "        text-align: right;\n",
       "    }\n",
       "</style>\n",
       "<table border=\"1\" class=\"dataframe\">\n",
       "  <thead>\n",
       "    <tr style=\"text-align: right;\">\n",
       "      <th></th>\n",
       "      <th>total_images</th>\n",
       "      <th>last_price</th>\n",
       "      <th>total_area</th>\n",
       "      <th>first_day_exposition</th>\n",
       "      <th>rooms</th>\n",
       "      <th>ceiling_height</th>\n",
       "      <th>floors_total</th>\n",
       "      <th>living_area</th>\n",
       "      <th>floor</th>\n",
       "      <th>is_apartment</th>\n",
       "      <th>...</th>\n",
       "      <th>ponds_around3000</th>\n",
       "      <th>ponds_nearest</th>\n",
       "      <th>days_exposition</th>\n",
       "      <th>first_day_year</th>\n",
       "      <th>cost_per_metr</th>\n",
       "      <th>day_publish</th>\n",
       "      <th>month_publish</th>\n",
       "      <th>year_publish</th>\n",
       "      <th>floor_type</th>\n",
       "      <th>city_center_km</th>\n",
       "    </tr>\n",
       "  </thead>\n",
       "  <tbody>\n",
       "    <tr>\n",
       "      <th>0</th>\n",
       "      <td>20</td>\n",
       "      <td>13000000.0</td>\n",
       "      <td>108.0</td>\n",
       "      <td>2019-03-07</td>\n",
       "      <td>3</td>\n",
       "      <td>2.7</td>\n",
       "      <td>16</td>\n",
       "      <td>51.0</td>\n",
       "      <td>8</td>\n",
       "      <td>False</td>\n",
       "      <td>...</td>\n",
       "      <td>2.0</td>\n",
       "      <td>755.0</td>\n",
       "      <td>NaN</td>\n",
       "      <td>2019</td>\n",
       "      <td>120370.37</td>\n",
       "      <td>3</td>\n",
       "      <td>3</td>\n",
       "      <td>2019</td>\n",
       "      <td>другой</td>\n",
       "      <td>16.0</td>\n",
       "    </tr>\n",
       "  </tbody>\n",
       "</table>\n",
       "<p>1 rows × 29 columns</p>\n",
       "</div>"
      ],
      "text/plain": [
       "   total_images  last_price  total_area first_day_exposition  rooms  \\\n",
       "0            20  13000000.0       108.0           2019-03-07      3   \n",
       "\n",
       "   ceiling_height  floors_total  living_area  floor  is_apartment  ...  \\\n",
       "0             2.7            16         51.0      8         False  ...   \n",
       "\n",
       "   ponds_around3000  ponds_nearest  days_exposition  first_day_year  \\\n",
       "0               2.0          755.0              NaN            2019   \n",
       "\n",
       "  cost_per_metr  day_publish  month_publish  year_publish  floor_type  \\\n",
       "0     120370.37            3              3          2019      другой   \n",
       "\n",
       "   city_center_km  \n",
       "0            16.0  \n",
       "\n",
       "[1 rows x 29 columns]"
      ]
     },
     "execution_count": 29,
     "metadata": {},
     "output_type": "execute_result"
    }
   ],
   "source": [
    "df['city_center_km'] = (df['city_centers_nearest']/1000).round(0)\n",
    "df.head(1)"
   ]
  },
  {
   "cell_type": "markdown",
   "metadata": {
    "id": "pPyxrKWTAwb-"
   },
   "source": [
    "### Проведите исследовательский анализ данных"
   ]
  },
  {
   "cell_type": "code",
   "execution_count": 30,
   "metadata": {
    "scrolled": true
   },
   "outputs": [
    {
     "data": {
      "image/png": "[encoded data removed]",
      "text/plain": [
       "<Figure size 720x1080 with 1 Axes>"
      ]
     },
     "metadata": {
      "needs_background": "light"
     },
     "output_type": "display_data"
    },
    {
     "data": {
      "text/plain": [
       "count    22333.000000\n",
       "mean        56.854191\n",
       "std         24.578421\n",
       "min         12.000000\n",
       "25%         40.000000\n",
       "50%         51.000000\n",
       "75%         67.300000\n",
       "max        240.000000\n",
       "Name: total_area, dtype: float64"
      ]
     },
     "execution_count": 30,
     "metadata": {},
     "output_type": "execute_result"
    }
   ],
   "source": [
    "df.plot(y = 'total_area', kind = 'hist', bins = 100, grid=True, figsize = (10,15), range = (0,500))\n",
    "plt.title('Распределение площадей квартир')\n",
    "plt.xlabel('Площадь, кв.м')\n",
    "plt.ylabel('Количество квартир')\n",
    "plt.show()\n",
    "df['total_area'].describe()"
   ]
  },
  {
   "cell_type": "markdown",
   "metadata": {},
   "source": [
    "Вывод:  \n",
    "Большинство квартир имеют площадь до 67 кв.м. Среднее значение (56.85 кв.м) и медиана (51 кв.м) указывают на то, что распределение площадей квартир довольно равномерное, с небольшим перекосом в сторону больших значений. Стандартное отклонение (24.57 кв.м) свидетельствует о значительном разбросе значений, а максимальное значение (240 кв.м) показывает наличие нескольких квартир с очень большой площадью."
   ]
  },
  {
   "cell_type": "code",
   "execution_count": 31,
   "metadata": {
    "scrolled": true
   },
   "outputs": [
    {
     "data": {
      "image/png": "[encoded data removed]",
      "text/plain": [
       "<Figure size 720x1080 with 1 Axes>"
      ]
     },
     "metadata": {
      "needs_background": "light"
     },
     "output_type": "display_data"
    },
    {
     "data": {
      "text/plain": [
       "count    22333.000000\n",
       "mean        32.595397\n",
       "std         16.123628\n",
       "min          2.000000\n",
       "25%         18.800000\n",
       "50%         30.000000\n",
       "75%         41.300000\n",
       "max        123.900000\n",
       "Name: living_area, dtype: float64"
      ]
     },
     "execution_count": 31,
     "metadata": {},
     "output_type": "execute_result"
    }
   ],
   "source": [
    "df.plot(y = 'living_area', kind = 'hist', bins = 100, grid=True, figsize = (10,15), range = (0,500))\n",
    "plt.title('Распределение жилых площадей квартир')\n",
    "plt.xlabel('Площадь, кв.м')\n",
    "plt.ylabel('Количество квартир')\n",
    "plt.show()\n",
    "df['living_area'].describe()"
   ]
  },
  {
   "cell_type": "markdown",
   "metadata": {},
   "source": [
    "Вывод:  \n",
    "Большинство квартир имеют жилую площадь от 18.80 кв.м до 41.30 кв.м. Среднее значение (32.59 кв.м) и медиана (30.00 кв.м) указывают на то, что распределение жилой площади имеет небольшое смещение вправо. Значительное стандартное отклонение (16.12 кв.м) свидетельствует о широком разбросе значений."
   ]
  },
  {
   "cell_type": "code",
   "execution_count": 32,
   "metadata": {
    "scrolled": true
   },
   "outputs": [
    {
     "data": {
      "image/png": "[encoded data removed]",
      "text/plain": [
       "<Figure size 720x1080 with 1 Axes>"
      ]
     },
     "metadata": {
      "needs_background": "light"
     },
     "output_type": "display_data"
    },
    {
     "data": {
      "text/plain": [
       "count    22333.000000\n",
       "mean         9.983385\n",
       "std          4.365844\n",
       "min          1.300000\n",
       "25%          7.000000\n",
       "50%          9.000000\n",
       "75%         11.500000\n",
       "max         36.400000\n",
       "Name: kitchen_area, dtype: float64"
      ]
     },
     "execution_count": 32,
     "metadata": {},
     "output_type": "execute_result"
    }
   ],
   "source": [
    "df.plot(y = 'kitchen_area', kind = 'hist', bins = 100, grid=True, figsize = (10,15), range = (0,500))\n",
    "plt.title('Распределение площадей кухонь')\n",
    "plt.xlabel('Площадь, кв.м')\n",
    "plt.ylabel('Количество квартир')\n",
    "plt.show()\n",
    "df['kitchen_area'].describe()"
   ]
  },
  {
   "cell_type": "markdown",
   "metadata": {},
   "source": [
    "Вывод:  \n",
    "Большинство квартир имеют кухню площадью до 11.5 кв.м. Среднее значение (9.98 кв.м) и медиана (9 кв.м) указывают на то, что площади кухонь имеют распределение с небольшим сдвигом в сторону больших значений. Стандартное отклонение (4.36 кв.м) свидетельствует о значительном разбросе значений, а минимальное значение в 1 кв.м и максимальное значение в 36.4 кв.м могут отражать необычные случаи в данных. "
   ]
  },
  {
   "cell_type": "code",
   "execution_count": 33,
   "metadata": {
    "scrolled": true
   },
   "outputs": [
    {
     "data": {
      "image/png": "[encoded data removed]",
      "text/plain": [
       "<Figure size 720x1080 with 1 Axes>"
      ]
     },
     "metadata": {
      "needs_background": "light"
     },
     "output_type": "display_data"
    },
    {
     "data": {
      "text/plain": [
       "count    2.233300e+04\n",
       "mean     5.588305e+06\n",
       "std      3.807031e+06\n",
       "min      4.300000e+05\n",
       "25%      3.400000e+06\n",
       "50%      4.575000e+06\n",
       "75%      6.500000e+06\n",
       "max      3.300000e+07\n",
       "Name: last_price, dtype: float64"
      ]
     },
     "execution_count": 33,
     "metadata": {},
     "output_type": "execute_result"
    }
   ],
   "source": [
    "df.plot(y = 'last_price', kind = 'hist', bins = 100, grid=True, figsize = (10,15))\n",
    "plt.title('Распределение цен квартир')\n",
    "plt.xlabel('Цена, руб.')\n",
    "plt.ylabel('Количество квартир')\n",
    "plt.show()\n",
    "df['last_price'].describe()"
   ]
  },
  {
   "cell_type": "markdown",
   "metadata": {},
   "source": [
    "Вывод:  \n",
    "Большинство квартир имеют цену до 6,500,000 рублей. Среднее значение (5,588,305 рублей) и медиана (4,575,000 рублей) указывают на то, что цены на квартиры имеют распределение с длинным хвостом вправо. Стандартное отклонение (3,807,031 рублей) свидетельствует о значительном разбросе значений"
   ]
  },
  {
   "cell_type": "code",
   "execution_count": 34,
   "metadata": {
    "scrolled": true
   },
   "outputs": [
    {
     "data": {
      "image/png": "[encoded data removed]",
      "text/plain": [
       "<Figure size 720x1080 with 1 Axes>"
      ]
     },
     "metadata": {
      "needs_background": "light"
     },
     "output_type": "display_data"
    },
    {
     "data": {
      "text/plain": [
       "count    22333.000000\n",
       "mean         2.009717\n",
       "std          0.973932\n",
       "min          0.000000\n",
       "25%          1.000000\n",
       "50%          2.000000\n",
       "75%          3.000000\n",
       "max          8.000000\n",
       "Name: rooms, dtype: float64"
      ]
     },
     "execution_count": 34,
     "metadata": {},
     "output_type": "execute_result"
    }
   ],
   "source": [
    "df.plot(y = 'rooms', kind = 'hist', bins = 100, grid=True, figsize = (10,15))\n",
    "plt.title('Распределение количества комнат в квартирах')\n",
    "plt.xlabel('Количество комнат')\n",
    "plt.ylabel('Количество квартир')\n",
    "plt.show()\n",
    "df['rooms'].describe()"
   ]
  },
  {
   "cell_type": "markdown",
   "metadata": {},
   "source": [
    "Вывод:  \n",
    "Большинство квартир имеют от 1 до 3 комнат. Среднее значение (2.009) и медиана (2) указывают на то, что распределение количества комнат в квартирах близко к нормальному. Умеренное стандартное отклонение (0.97) свидетельствует о незначительном разнообразии значений, а минимальное значение в 0 комнат можно интерпретировать как квартиру-студию."
   ]
  },
  {
   "cell_type": "code",
   "execution_count": 35,
   "metadata": {
    "scrolled": true
   },
   "outputs": [
    {
     "data": {
      "text/plain": [
       "count    22333.000000\n",
       "mean         2.677720\n",
       "std          0.168553\n",
       "min          2.000000\n",
       "25%          2.600000\n",
       "50%          2.650000\n",
       "75%          2.700000\n",
       "max          3.500000\n",
       "Name: ceiling_height, dtype: float64"
      ]
     },
     "execution_count": 35,
     "metadata": {},
     "output_type": "execute_result"
    },
    {
     "data": {
      "image/png": "[encoded data removed]",
      "text/plain": [
       "<Figure size 720x1080 with 1 Axes>"
      ]
     },
     "metadata": {
      "needs_background": "light"
     },
     "output_type": "display_data"
    }
   ],
   "source": [
    "df.plot(y = 'ceiling_height', kind = 'hist', bins = 100, grid=True, figsize = (10,15))\n",
    "plt.title('Распределение высоты потолков в квартирах')\n",
    "plt.xlabel('Высота потолка, м')\n",
    "plt.ylabel('Количество квартир')\n",
    "df['ceiling_height'].describe()"
   ]
  },
  {
   "cell_type": "markdown",
   "metadata": {},
   "source": [
    "Вывод:  \n",
    "Большинство квартир имеют высоту потолков от 2.5 до 3.0 метров. Средняя высота (2.67 метра) и медиана (2.65 метра) указывают на то, что распределение высот потолков в квартирах близко к нормальному. Небольшое стандартное отклонение (0.16 метра)."
   ]
  },
  {
   "cell_type": "code",
   "execution_count": 36,
   "metadata": {
    "scrolled": true
   },
   "outputs": [
    {
     "data": {
      "image/png": "[encoded data removed]",
      "text/plain": [
       "<Figure size 720x432 with 1 Axes>"
      ]
     },
     "metadata": {
      "needs_background": "light"
     },
     "output_type": "display_data"
    },
    {
     "data": {
      "text/plain": [
       "другой       16498\n",
       "последний     3064\n",
       "первый        2771\n",
       "Name: floor_type, dtype: int64"
      ]
     },
     "execution_count": 36,
     "metadata": {},
     "output_type": "execute_result"
    }
   ],
   "source": [
    "df['floor_type'].value_counts().plot(kind='bar', grid=True, figsize=(10, 6))\n",
    "plt.title('Распределение типов этажей')\n",
    "plt.xlabel('Тип этажа')\n",
    "plt.ylabel('Количество квартир')\n",
    "plt.show()\n",
    "df['floor_type'].value_counts()\n"
   ]
  },
  {
   "cell_type": "markdown",
   "metadata": {},
   "source": [
    "Вывод:  \n",
    "Большая часть квартир расположена на этажах типа \"другой\". Последние этажи встречаются чуть чаще, чем первые."
   ]
  },
  {
   "cell_type": "code",
   "execution_count": 37,
   "metadata": {
    "scrolled": true
   },
   "outputs": [
    {
     "data": {
      "image/png": "[encoded data removed]",
      "text/plain": [
       "<Figure size 720x1080 with 1 Axes>"
      ]
     },
     "metadata": {
      "needs_background": "light"
     },
     "output_type": "display_data"
    },
    {
     "data": {
      "text/plain": [
       "count    22333.000000\n",
       "mean        10.893745\n",
       "std          6.621651\n",
       "min          1.000000\n",
       "25%          5.000000\n",
       "50%          9.000000\n",
       "75%         16.000000\n",
       "max         36.000000\n",
       "Name: floors_total, dtype: float64"
      ]
     },
     "execution_count": 37,
     "metadata": {},
     "output_type": "execute_result"
    }
   ],
   "source": [
    "df['floors_total'].hist(bins=100, grid=True, figsize=(10, 15), range=(0, 60))\n",
    "plt.title('Распределение количества этажей в зданиях')\n",
    "plt.xlabel('Количество этажей')\n",
    "plt.ylabel('Количество зданий')\n",
    "plt.show()\n",
    "df['floors_total'].describe()"
   ]
  },
  {
   "cell_type": "markdown",
   "metadata": {},
   "source": [
    "Вывод:  \n",
    "Большинство зданий имеют от 5 до 16 этажей. Среднее значение (10.89) и медиана (9) указывают на то, что распределение количества этажей в зданиях имеет небольшое смещение вправо. Значительное стандартное отклонение (6.62) свидетельствует о широком разбросе значений"
   ]
  },
  {
   "cell_type": "code",
   "execution_count": 38,
   "metadata": {
    "scrolled": true
   },
   "outputs": [
    {
     "data": {
      "image/png": "[encoded data removed]",
      "text/plain": [
       "<Figure size 720x1080 with 1 Axes>"
      ]
     },
     "metadata": {
      "needs_background": "light"
     },
     "output_type": "display_data"
    },
    {
     "data": {
      "text/plain": [
       "count    22333.000000\n",
       "mean     13579.317624\n",
       "std       6035.659851\n",
       "min        181.000000\n",
       "25%      11228.000000\n",
       "50%      13098.500000\n",
       "75%      15131.000000\n",
       "max      34928.000000\n",
       "Name: city_centers_nearest, dtype: float64"
      ]
     },
     "execution_count": 38,
     "metadata": {},
     "output_type": "execute_result"
    }
   ],
   "source": [
    "df['city_centers_nearest'].hist(bins=100, grid=True, figsize=(10, 15), range=(0, 70000))\n",
    "plt.title('Распределение расстояний до центра города')\n",
    "plt.xlabel('Расстояние до центра города (м)')\n",
    "plt.ylabel('Количество квартир')\n",
    "plt.show()\n",
    "df['city_centers_nearest'].describe()"
   ]
  },
  {
   "cell_type": "markdown",
   "metadata": {},
   "source": [
    "Вывод:  \n",
    "Большинство квартир находятся на расстоянии от 11.22 до 15.1 км от центра города. Среднее значение (13,579.31 метров) и медиана (13,098.5 метров) указывают на то, что распределение расстояний имеет небольшое смещение вправо. Значительное стандартное отклонение (6,035.65 метров) свидетельствует о широком разбросе значений."
   ]
  },
  {
   "cell_type": "code",
   "execution_count": 39,
   "metadata": {
    "scrolled": true
   },
   "outputs": [
    {
     "data": {
      "image/png": "[encoded data removed]",
      "text/plain": [
       "<Figure size 720x1080 with 1 Axes>"
      ]
     },
     "metadata": {
      "needs_background": "light"
     },
     "output_type": "display_data"
    },
    {
     "data": {
      "text/plain": [
       "count    7312.000000\n",
       "mean      488.271882\n",
       "std       314.221493\n",
       "min         1.000000\n",
       "25%       293.000000\n",
       "50%       456.000000\n",
       "75%       615.000000\n",
       "max      2409.000000\n",
       "Name: parks_nearest, dtype: float64"
      ]
     },
     "execution_count": 39,
     "metadata": {},
     "output_type": "execute_result"
    }
   ],
   "source": [
    "df['parks_nearest'].hist(bins=100, grid=True, figsize=(10, 15), range=(0, 800))\n",
    "plt.title('Распределение расстояний до ближайшего парка')\n",
    "plt.xlabel('Расстояние до ближайшего парка (м)')\n",
    "plt.ylabel('Количество квартир')\n",
    "plt.show()\n",
    "df['parks_nearest'].describe()"
   ]
  },
  {
   "cell_type": "markdown",
   "metadata": {},
   "source": [
    "Вывод:  \n",
    "Большинство квартир находятся на расстоянии 488 метров от ближайшего парка. Среднее значение (488.27 метров) и медиана (456 метров) указывают на то, что распределение расстояний до парка симметрично."
   ]
  },
  {
   "cell_type": "markdown",
   "metadata": {},
   "source": [
    "**Время продажи квартиры**"
   ]
  },
  {
   "cell_type": "code",
   "execution_count": 55,
   "metadata": {},
   "outputs": [
    {
     "data": {
      "text/plain": [
       "count    19414.000000\n",
       "mean       177.126713\n",
       "std        215.768585\n",
       "min          1.000000\n",
       "25%         44.000000\n",
       "50%         93.000000\n",
       "75%        225.000000\n",
       "max       1580.000000\n",
       "Name: days_exposition, dtype: float64"
      ]
     },
     "execution_count": 55,
     "metadata": {},
     "output_type": "execute_result"
    }
   ],
   "source": [
    "df['days_exposition'].describe()"
   ]
  },
  {
   "cell_type": "code",
   "execution_count": 56,
   "metadata": {},
   "outputs": [
    {
     "data": {
      "image/png": "[encoded data removed]",
      "text/plain": [
       "<Figure size 432x288 with 1 Axes>"
      ]
     },
     "metadata": {
      "needs_background": "light"
     },
     "output_type": "display_data"
    },
    {
     "data": {
      "image/png": "[encoded data removed]",
      "text/plain": [
       "<Figure size 432x288 with 1 Axes>"
      ]
     },
     "metadata": {
      "needs_background": "light"
     },
     "output_type": "display_data"
    }
   ],
   "source": [
    "df.plot(y = 'days_exposition', kind = 'hist', bins = 30, grid = True, range = (1,1600))\n",
    "plt.title('Гистограмма времени продажи квартир')\n",
    "plt.xlabel('Дни')\n",
    "plt.ylabel('Количество объявлений')\n",
    "plt.show()\n",
    "\n",
    "df.plot(y = 'days_exposition', kind = 'hist', bins = 100, grid = True, range = (1,200))\n",
    "plt.title('Гистограмма времени продажи квартир')\n",
    "plt.xlabel('Дни')\n",
    "plt.ylabel('Количество объявлений')\n",
    "plt.show()\n"
   ]
  },
  {
   "cell_type": "markdown",
   "metadata": {},
   "source": [
    "Вывод:  \n",
    "    Обычно продажа квартиры занимает 93 дня. Среднее время продажи 177.12 дней.  \n",
    "    Быстрые продажи происходят быстрее 44 дней, а долгие дольше 225 дней."
   ]
  },
  {
   "cell_type": "markdown",
   "metadata": {},
   "source": [
    "**Факторы которые больше всего влияют на общую (полную) стоимость объекта**"
   ]
  },
  {
   "cell_type": "code",
   "execution_count": 43,
   "metadata": {},
   "outputs": [
    {
     "data": {
      "text/plain": [
       "<AxesSubplot:xlabel='total_area'>"
      ]
     },
     "execution_count": 43,
     "metadata": {},
     "output_type": "execute_result"
    },
    {
     "data": {
      "image/png": "[encoded data removed]",
      "text/plain": [
       "<Figure size 432x288 with 1 Axes>"
      ]
     },
     "metadata": {
      "needs_background": "light"
     },
     "output_type": "display_data"
    }
   ],
   "source": [
    "pivot_total_area = df.pivot_table(index='total_area',values='last_price',aggfunc = ['mean','median'])\n",
    "pivot_total_area.columns = ['mean','median']\n",
    "pivot_total_area.plot(y='median',style ='o')\n",
    "\n"
   ]
  },
  {
   "cell_type": "code",
   "execution_count": 44,
   "metadata": {},
   "outputs": [
    {
     "data": {
      "text/plain": [
       "0.7793309146689889"
      ]
     },
     "execution_count": 44,
     "metadata": {},
     "output_type": "execute_result"
    }
   ],
   "source": [
    "df['last_price'].corr(df['total_area'])"
   ]
  },
  {
   "cell_type": "markdown",
   "metadata": {},
   "source": [
    "Коэфициент корреляции Пирсона составляет 0.779 - зависимость сильная.  \n",
    "Чем больше общая площадь квартиры, тем выше ее стоимость."
   ]
  },
  {
   "cell_type": "code",
   "execution_count": 45,
   "metadata": {},
   "outputs": [
    {
     "data": {
      "text/plain": [
       "0.6781408890747059"
      ]
     },
     "execution_count": 45,
     "metadata": {},
     "output_type": "execute_result"
    },
    {
     "data": {
      "image/png": "[encoded data removed]",
      "text/plain": [
       "<Figure size 432x288 with 1 Axes>"
      ]
     },
     "metadata": {
      "needs_background": "light"
     },
     "output_type": "display_data"
    }
   ],
   "source": [
    "pivot_living = df.pivot_table(index='living_area',values='last_price',aggfunc = ['mean','median'])\n",
    "pivot_living.columns = ['mean','median']\n",
    "pivot_living.plot(y='median',style ='o')\n",
    "df['last_price'].corr(df['living_area'])\n"
   ]
  },
  {
   "cell_type": "markdown",
   "metadata": {},
   "source": [
    "Коэфициент корреляции 0.678.  \n",
    "Чем больше жилая площадь квартиры, тем выше ее стоимость."
   ]
  },
  {
   "cell_type": "code",
   "execution_count": 46,
   "metadata": {},
   "outputs": [
    {
     "data": {
      "text/plain": [
       "0.6009421331370995"
      ]
     },
     "execution_count": 46,
     "metadata": {},
     "output_type": "execute_result"
    },
    {
     "data": {
      "image/png": "[encoded data removed]",
      "text/plain": [
       "<Figure size 432x288 with 1 Axes>"
      ]
     },
     "metadata": {
      "needs_background": "light"
     },
     "output_type": "display_data"
    }
   ],
   "source": [
    "pivot_total_kitchen = df.pivot_table(index='kitchen_area',values='last_price',aggfunc = ['mean','median'])\n",
    "pivot_total_kitchen.columns = ['mean','median']\n",
    "pivot_total_kitchen.plot(y='median',style ='o')\n",
    "df['last_price'].corr(df['kitchen_area'])"
   ]
  },
  {
   "cell_type": "markdown",
   "metadata": {},
   "source": [
    "Корреляция в 0.6 говорит о наличии связи.  \n",
    "Чем больше площадь кухни, тем выше стоимость квартиры."
   ]
  },
  {
   "cell_type": "code",
   "execution_count": 47,
   "metadata": {},
   "outputs": [
    {
     "data": {
      "text/plain": [
       "0.4901171627649389"
      ]
     },
     "execution_count": 47,
     "metadata": {},
     "output_type": "execute_result"
    },
    {
     "data": {
      "image/png": "[encoded data removed]",
      "text/plain": [
       "<Figure size 432x288 with 1 Axes>"
      ]
     },
     "metadata": {
      "needs_background": "light"
     },
     "output_type": "display_data"
    }
   ],
   "source": [
    "pivot_total_rooms = df.pivot_table(index='rooms',values='last_price',aggfunc = ['mean','median'])\n",
    "pivot_total_rooms.columns = ['mean','median']\n",
    "pivot_total_rooms.plot(y='median')\n",
    "df['last_price'].corr(df['rooms'])"
   ]
  },
  {
   "cell_type": "markdown",
   "metadata": {},
   "source": [
    "Коррреляция 0.49  \n",
    "Чем больше комнат, тем выше стоимость квартиры"
   ]
  },
  {
   "cell_type": "code",
   "execution_count": 48,
   "metadata": {},
   "outputs": [
    {
     "data": {
      "text/html": [
       "<div>\n",
       "<style scoped>\n",
       "    .dataframe tbody tr th:only-of-type {\n",
       "        vertical-align: middle;\n",
       "    }\n",
       "\n",
       "    .dataframe tbody tr th {\n",
       "        vertical-align: top;\n",
       "    }\n",
       "\n",
       "    .dataframe thead th {\n",
       "        text-align: right;\n",
       "    }\n",
       "</style>\n",
       "<table border=\"1\" class=\"dataframe\">\n",
       "  <thead>\n",
       "    <tr style=\"text-align: right;\">\n",
       "      <th></th>\n",
       "      <th>mean</th>\n",
       "      <th>count</th>\n",
       "      <th>median</th>\n",
       "    </tr>\n",
       "    <tr>\n",
       "      <th>floor_type</th>\n",
       "      <th></th>\n",
       "      <th></th>\n",
       "      <th></th>\n",
       "    </tr>\n",
       "  </thead>\n",
       "  <tbody>\n",
       "    <tr>\n",
       "      <th>другой</th>\n",
       "      <td>5.831293e+06</td>\n",
       "      <td>16498</td>\n",
       "      <td>4764824.5</td>\n",
       "    </tr>\n",
       "    <tr>\n",
       "      <th>первый</th>\n",
       "      <td>4.469403e+06</td>\n",
       "      <td>2771</td>\n",
       "      <td>3900000.0</td>\n",
       "    </tr>\n",
       "    <tr>\n",
       "      <th>последний</th>\n",
       "      <td>5.291845e+06</td>\n",
       "      <td>3064</td>\n",
       "      <td>4200000.0</td>\n",
       "    </tr>\n",
       "  </tbody>\n",
       "</table>\n",
       "</div>"
      ],
      "text/plain": [
       "                    mean  count     median\n",
       "floor_type                                \n",
       "другой      5.831293e+06  16498  4764824.5\n",
       "первый      4.469403e+06   2771  3900000.0\n",
       "последний   5.291845e+06   3064  4200000.0"
      ]
     },
     "execution_count": 48,
     "metadata": {},
     "output_type": "execute_result"
    },
    {
     "data": {
      "image/png": "[encoded data removed]",
      "text/plain": [
       "<Figure size 432x288 with 1 Axes>"
      ]
     },
     "metadata": {
      "needs_background": "light"
     },
     "output_type": "display_data"
    }
   ],
   "source": [
    "pivot_total_floor_type = df.pivot_table(index='floor_type',values='last_price',aggfunc = ['mean','count','median'])\n",
    "pivot_total_floor_type.columns = ['mean','count','median']\n",
    "pivot_total_floor_type.plot(y='median')\n",
    "pivot_total_floor_type\n"
   ]
  },
  {
   "cell_type": "markdown",
   "metadata": {},
   "source": [
    "Стоимость квартиры напрямую зависит от этажа, на котором она находится.  \n",
    "Квартиры на первом этаже дешевле.  \n",
    "На последнем этаже квартира стоит чуть дороже, чем на первом."
   ]
  },
  {
   "cell_type": "code",
   "execution_count": 49,
   "metadata": {},
   "outputs": [
    {
     "data": {
      "text/plain": [
       "<AxesSubplot:xlabel='day_publish'>"
      ]
     },
     "execution_count": 49,
     "metadata": {},
     "output_type": "execute_result"
    },
    {
     "data": {
      "image/png": "[encoded data removed]",
      "text/plain": [
       "<Figure size 432x288 with 1 Axes>"
      ]
     },
     "metadata": {
      "needs_background": "light"
     },
     "output_type": "display_data"
    }
   ],
   "source": [
    "pivot_total_day = df.pivot_table(index='day_publish',values='last_price',aggfunc = ['mean','median'])\n",
    "pivot_total_day.columns = ['mean','median']\n",
    "pivot_total_day.plot(y='median')\n",
    "\n"
   ]
  },
  {
   "cell_type": "markdown",
   "metadata": {},
   "source": [
    "Рост цен наблюдается в первой половине недели с их максимальным показателем во вторник.  \n",
    "Вторая половина недели характеризуется сниженными ценами,что предположительно может быть обусловленно попыткой спровоцировать покупателя проявить больший интерес к недвижимости на сайте.\n"
   ]
  },
  {
   "cell_type": "code",
   "execution_count": 50,
   "metadata": {
    "scrolled": true
   },
   "outputs": [
    {
     "data": {
      "text/plain": [
       "<AxesSubplot:xlabel='month_publish'>"
      ]
     },
     "execution_count": 50,
     "metadata": {},
     "output_type": "execute_result"
    },
    {
     "data": {
      "image/png": "[encoded data removed]",
      "text/plain": [
       "<Figure size 432x288 with 1 Axes>"
      ]
     },
     "metadata": {
      "needs_background": "light"
     },
     "output_type": "display_data"
    }
   ],
   "source": [
    "pivot_total_month = df.pivot_table(index='month_publish',values='last_price',aggfunc = ['mean','median'])\n",
    "pivot_total_month.columns = ['mean','median']\n",
    "pivot_total_month.plot(y='median')\n",
    "\n"
   ]
  },
  {
   "cell_type": "markdown",
   "metadata": {},
   "source": [
    "Согласно полученным данным динамике стоимости квартир по месяцам, максимальная стоимость квартир приходится на конец марта-начало апреля.  \n",
    "Далее наблюдается резкий спад до минимальных показателей в июне.  \n",
    "Начиная с августа ценновые показатели выравниваются,варьируясь в промежутке от 4.50 до 4.60 млн.рублей, вплоть до февраля."
   ]
  },
  {
   "cell_type": "code",
   "execution_count": 51,
   "metadata": {
    "scrolled": true
   },
   "outputs": [
    {
     "data": {
      "text/plain": [
       "<AxesSubplot:xlabel='year_publish'>"
      ]
     },
     "execution_count": 51,
     "metadata": {},
     "output_type": "execute_result"
    },
    {
     "data": {
      "image/png": "[encoded data removed]",
      "text/plain": [
       "<Figure size 432x288 with 1 Axes>"
      ]
     },
     "metadata": {
      "needs_background": "light"
     },
     "output_type": "display_data"
    }
   ],
   "source": [
    "pivot_total_year = df.pivot_table(index='year_publish',values='last_price',aggfunc = ['mean','count','median'])\n",
    "pivot_total_year.columns = ['mean','count','median']\n",
    "pivot_total_year.plot(y='median')\n",
    "\n"
   ]
  },
  {
   "cell_type": "code",
   "execution_count": 52,
   "metadata": {},
   "outputs": [
    {
     "data": {
      "text/plain": [
       "<AxesSubplot:xlabel='year_publish'>"
      ]
     },
     "execution_count": 52,
     "metadata": {},
     "output_type": "execute_result"
    },
    {
     "data": {
      "image/png": "[encoded data removed]",
      "text/plain": [
       "<Figure size 432x288 with 1 Axes>"
      ]
     },
     "metadata": {
      "needs_background": "light"
     },
     "output_type": "display_data"
    }
   ],
   "source": [
    "pivot_total_year = df.pivot_table(index='year_publish',values='total_area',aggfunc = ['mean','count','median'])\n",
    "pivot_total_year.columns = ['mean','count','median']\n",
    "pivot_total_year.plot(y='median')"
   ]
  },
  {
   "cell_type": "markdown",
   "metadata": {},
   "source": [
    "В годовом срезе наблюдается корреляция между уменьшением площади продаваемых квартир и спадом цен, начиная с 2014г. Вследствии этого за три года произошло резкое падение стоимости квартир на 2 млн.рублей(с 6.5 до 4.5).\n",
    "Стоимость квартир с 2018г начала расти,хотя площадь выросла незначительно."
   ]
  },
  {
   "cell_type": "markdown",
   "metadata": {},
   "source": [
    "**Средняя цена одного квадратного метра в 10 населённых пунктах с наибольшим числом объявлений**"
   ]
  },
  {
   "cell_type": "code",
   "execution_count": 53,
   "metadata": {
    "scrolled": true
   },
   "outputs": [
    {
     "data": {
      "text/html": [
       "<div>\n",
       "<style scoped>\n",
       "    .dataframe tbody tr th:only-of-type {\n",
       "        vertical-align: middle;\n",
       "    }\n",
       "\n",
       "    .dataframe tbody tr th {\n",
       "        vertical-align: top;\n",
       "    }\n",
       "\n",
       "    .dataframe thead th {\n",
       "        text-align: right;\n",
       "    }\n",
       "</style>\n",
       "<table border=\"1\" class=\"dataframe\">\n",
       "  <thead>\n",
       "    <tr style=\"text-align: right;\">\n",
       "      <th></th>\n",
       "      <th>count</th>\n",
       "      <th>mean</th>\n",
       "    </tr>\n",
       "    <tr>\n",
       "      <th>locality_name</th>\n",
       "      <th></th>\n",
       "      <th></th>\n",
       "    </tr>\n",
       "  </thead>\n",
       "  <tbody>\n",
       "    <tr>\n",
       "      <th>Санкт-Петербург</th>\n",
       "      <td>14899</td>\n",
       "      <td>110196.095690</td>\n",
       "    </tr>\n",
       "    <tr>\n",
       "      <th>Мурино</th>\n",
       "      <td>583</td>\n",
       "      <td>86017.744202</td>\n",
       "    </tr>\n",
       "    <tr>\n",
       "      <th>Кудрово</th>\n",
       "      <td>469</td>\n",
       "      <td>95310.442814</td>\n",
       "    </tr>\n",
       "    <tr>\n",
       "      <th>поселок Шушары</th>\n",
       "      <td>437</td>\n",
       "      <td>78554.422449</td>\n",
       "    </tr>\n",
       "    <tr>\n",
       "      <th>Всеволожск</th>\n",
       "      <td>396</td>\n",
       "      <td>68552.143131</td>\n",
       "    </tr>\n",
       "    <tr>\n",
       "      <th>Пушкин</th>\n",
       "      <td>350</td>\n",
       "      <td>102719.291086</td>\n",
       "    </tr>\n",
       "    <tr>\n",
       "      <th>Колпино</th>\n",
       "      <td>331</td>\n",
       "      <td>75172.568218</td>\n",
       "    </tr>\n",
       "    <tr>\n",
       "      <th>поселок Парголово</th>\n",
       "      <td>327</td>\n",
       "      <td>90175.913089</td>\n",
       "    </tr>\n",
       "    <tr>\n",
       "      <th>Гатчина</th>\n",
       "      <td>305</td>\n",
       "      <td>68811.372590</td>\n",
       "    </tr>\n",
       "    <tr>\n",
       "      <th>Выборг</th>\n",
       "      <td>231</td>\n",
       "      <td>58095.714545</td>\n",
       "    </tr>\n",
       "  </tbody>\n",
       "</table>\n",
       "</div>"
      ],
      "text/plain": [
       "                   count           mean\n",
       "locality_name                          \n",
       "Санкт-Петербург    14899  110196.095690\n",
       "Мурино               583   86017.744202\n",
       "Кудрово              469   95310.442814\n",
       "поселок Шушары       437   78554.422449\n",
       "Всеволожск           396   68552.143131\n",
       "Пушкин               350  102719.291086\n",
       "Колпино              331   75172.568218\n",
       "поселок Парголово    327   90175.913089\n",
       "Гатчина              305   68811.372590\n",
       "Выборг               231   58095.714545"
      ]
     },
     "metadata": {},
     "output_type": "display_data"
    },
    {
     "data": {
      "text/html": [
       "<div>\n",
       "<style scoped>\n",
       "    .dataframe tbody tr th:only-of-type {\n",
       "        vertical-align: middle;\n",
       "    }\n",
       "\n",
       "    .dataframe tbody tr th {\n",
       "        vertical-align: top;\n",
       "    }\n",
       "\n",
       "    .dataframe thead th {\n",
       "        text-align: right;\n",
       "    }\n",
       "</style>\n",
       "<table border=\"1\" class=\"dataframe\">\n",
       "  <thead>\n",
       "    <tr style=\"text-align: right;\">\n",
       "      <th></th>\n",
       "      <th>count</th>\n",
       "      <th>mean</th>\n",
       "    </tr>\n",
       "    <tr>\n",
       "      <th>locality_name</th>\n",
       "      <th></th>\n",
       "      <th></th>\n",
       "    </tr>\n",
       "  </thead>\n",
       "  <tbody>\n",
       "    <tr>\n",
       "      <th>Санкт-Петербург</th>\n",
       "      <td>14899</td>\n",
       "      <td>110196.09569</td>\n",
       "    </tr>\n",
       "  </tbody>\n",
       "</table>\n",
       "</div>"
      ],
      "text/plain": [
       "                 count          mean\n",
       "locality_name                       \n",
       "Санкт-Петербург  14899  110196.09569"
      ]
     },
     "metadata": {},
     "output_type": "display_data"
    },
    {
     "data": {
      "text/html": [
       "<div>\n",
       "<style scoped>\n",
       "    .dataframe tbody tr th:only-of-type {\n",
       "        vertical-align: middle;\n",
       "    }\n",
       "\n",
       "    .dataframe tbody tr th {\n",
       "        vertical-align: top;\n",
       "    }\n",
       "\n",
       "    .dataframe thead th {\n",
       "        text-align: right;\n",
       "    }\n",
       "</style>\n",
       "<table border=\"1\" class=\"dataframe\">\n",
       "  <thead>\n",
       "    <tr style=\"text-align: right;\">\n",
       "      <th></th>\n",
       "      <th>count</th>\n",
       "      <th>mean</th>\n",
       "    </tr>\n",
       "    <tr>\n",
       "      <th>locality_name</th>\n",
       "      <th></th>\n",
       "      <th></th>\n",
       "    </tr>\n",
       "  </thead>\n",
       "  <tbody>\n",
       "    <tr>\n",
       "      <th>Выборг</th>\n",
       "      <td>231</td>\n",
       "      <td>58095.714545</td>\n",
       "    </tr>\n",
       "  </tbody>\n",
       "</table>\n",
       "</div>"
      ],
      "text/plain": [
       "               count          mean\n",
       "locality_name                     \n",
       "Выборг           231  58095.714545"
      ]
     },
     "execution_count": 53,
     "metadata": {},
     "output_type": "execute_result"
    }
   ],
   "source": [
    "loca_pivot = df.pivot_table(index='locality_name',values='cost_per_metr',aggfunc=['count','mean'])\n",
    "loca_pivot.columns = ['count','mean']\n",
    "loca_pivot = loca_pivot.sort_values('count', ascending = False).head(10)\n",
    "display(loca_pivot)\n",
    "display(loca_pivot[loca_pivot['mean']==loca_pivot['mean'].max()])\n",
    "loca_pivot[loca_pivot['mean']==loca_pivot['mean'].min()]"
   ]
  },
  {
   "cell_type": "markdown",
   "metadata": {},
   "source": [
    "Самая высокая стоимость в Санкт-Петербурге  \n",
    "Самая низкая стоимость в Выборге"
   ]
  },
  {
   "cell_type": "markdown",
   "metadata": {},
   "source": [
    "**Средняя стоимость кв. в Санкт-Петербурге**"
   ]
  },
  {
   "cell_type": "code",
   "execution_count": 54,
   "metadata": {
    "scrolled": true
   },
   "outputs": [
    {
     "data": {
      "text/html": [
       "<div>\n",
       "<style scoped>\n",
       "    .dataframe tbody tr th:only-of-type {\n",
       "        vertical-align: middle;\n",
       "    }\n",
       "\n",
       "    .dataframe tbody tr th {\n",
       "        vertical-align: top;\n",
       "    }\n",
       "\n",
       "    .dataframe thead th {\n",
       "        text-align: right;\n",
       "    }\n",
       "</style>\n",
       "<table border=\"1\" class=\"dataframe\">\n",
       "  <thead>\n",
       "    <tr style=\"text-align: right;\">\n",
       "      <th></th>\n",
       "      <th>cost_per_metr</th>\n",
       "    </tr>\n",
       "    <tr>\n",
       "      <th>city_center_km</th>\n",
       "      <th></th>\n",
       "    </tr>\n",
       "  </thead>\n",
       "  <tbody>\n",
       "    <tr>\n",
       "      <th>0.0</th>\n",
       "      <td>122188.950909</td>\n",
       "    </tr>\n",
       "    <tr>\n",
       "      <th>1.0</th>\n",
       "      <td>141933.365674</td>\n",
       "    </tr>\n",
       "    <tr>\n",
       "      <th>2.0</th>\n",
       "      <td>125845.067523</td>\n",
       "    </tr>\n",
       "    <tr>\n",
       "      <th>3.0</th>\n",
       "      <td>116118.485544</td>\n",
       "    </tr>\n",
       "    <tr>\n",
       "      <th>4.0</th>\n",
       "      <td>124694.168322</td>\n",
       "    </tr>\n",
       "    <tr>\n",
       "      <th>5.0</th>\n",
       "      <td>132612.661553</td>\n",
       "    </tr>\n",
       "    <tr>\n",
       "      <th>6.0</th>\n",
       "      <td>132545.982808</td>\n",
       "    </tr>\n",
       "    <tr>\n",
       "      <th>7.0</th>\n",
       "      <td>132912.834626</td>\n",
       "    </tr>\n",
       "    <tr>\n",
       "      <th>8.0</th>\n",
       "      <td>123181.042359</td>\n",
       "    </tr>\n",
       "    <tr>\n",
       "      <th>9.0</th>\n",
       "      <td>111309.635975</td>\n",
       "    </tr>\n",
       "    <tr>\n",
       "      <th>10.0</th>\n",
       "      <td>112422.110888</td>\n",
       "    </tr>\n",
       "    <tr>\n",
       "      <th>11.0</th>\n",
       "      <td>107786.407186</td>\n",
       "    </tr>\n",
       "    <tr>\n",
       "      <th>12.0</th>\n",
       "      <td>107484.539567</td>\n",
       "    </tr>\n",
       "    <tr>\n",
       "      <th>13.0</th>\n",
       "      <td>108902.526776</td>\n",
       "    </tr>\n",
       "    <tr>\n",
       "      <th>14.0</th>\n",
       "      <td>104025.802994</td>\n",
       "    </tr>\n",
       "    <tr>\n",
       "      <th>15.0</th>\n",
       "      <td>103894.925708</td>\n",
       "    </tr>\n",
       "    <tr>\n",
       "      <th>16.0</th>\n",
       "      <td>100364.443033</td>\n",
       "    </tr>\n",
       "    <tr>\n",
       "      <th>17.0</th>\n",
       "      <td>96961.136547</td>\n",
       "    </tr>\n",
       "    <tr>\n",
       "      <th>18.0</th>\n",
       "      <td>96308.935830</td>\n",
       "    </tr>\n",
       "    <tr>\n",
       "      <th>19.0</th>\n",
       "      <td>98658.387756</td>\n",
       "    </tr>\n",
       "    <tr>\n",
       "      <th>20.0</th>\n",
       "      <td>102911.151739</td>\n",
       "    </tr>\n",
       "    <tr>\n",
       "      <th>21.0</th>\n",
       "      <td>94469.584444</td>\n",
       "    </tr>\n",
       "    <tr>\n",
       "      <th>22.0</th>\n",
       "      <td>91330.425099</td>\n",
       "    </tr>\n",
       "    <tr>\n",
       "      <th>23.0</th>\n",
       "      <td>92063.679639</td>\n",
       "    </tr>\n",
       "    <tr>\n",
       "      <th>24.0</th>\n",
       "      <td>85736.904615</td>\n",
       "    </tr>\n",
       "    <tr>\n",
       "      <th>25.0</th>\n",
       "      <td>91945.203200</td>\n",
       "    </tr>\n",
       "    <tr>\n",
       "      <th>26.0</th>\n",
       "      <td>87798.873256</td>\n",
       "    </tr>\n",
       "    <tr>\n",
       "      <th>27.0</th>\n",
       "      <td>132115.710000</td>\n",
       "    </tr>\n",
       "    <tr>\n",
       "      <th>28.0</th>\n",
       "      <td>81161.914286</td>\n",
       "    </tr>\n",
       "    <tr>\n",
       "      <th>29.0</th>\n",
       "      <td>76812.430000</td>\n",
       "    </tr>\n",
       "  </tbody>\n",
       "</table>\n",
       "</div>"
      ],
      "text/plain": [
       "                cost_per_metr\n",
       "city_center_km               \n",
       "0.0             122188.950909\n",
       "1.0             141933.365674\n",
       "2.0             125845.067523\n",
       "3.0             116118.485544\n",
       "4.0             124694.168322\n",
       "5.0             132612.661553\n",
       "6.0             132545.982808\n",
       "7.0             132912.834626\n",
       "8.0             123181.042359\n",
       "9.0             111309.635975\n",
       "10.0            112422.110888\n",
       "11.0            107786.407186\n",
       "12.0            107484.539567\n",
       "13.0            108902.526776\n",
       "14.0            104025.802994\n",
       "15.0            103894.925708\n",
       "16.0            100364.443033\n",
       "17.0             96961.136547\n",
       "18.0             96308.935830\n",
       "19.0             98658.387756\n",
       "20.0            102911.151739\n",
       "21.0             94469.584444\n",
       "22.0             91330.425099\n",
       "23.0             92063.679639\n",
       "24.0             85736.904615\n",
       "25.0             91945.203200\n",
       "26.0             87798.873256\n",
       "27.0            132115.710000\n",
       "28.0             81161.914286\n",
       "29.0             76812.430000"
      ]
     },
     "execution_count": 54,
     "metadata": {},
     "output_type": "execute_result"
    },
    {
     "data": {
      "image/png": "[encoded data removed]",
      "text/plain": [
       "<Figure size 432x288 with 1 Axes>"
      ]
     },
     "metadata": {
      "needs_background": "light"
     },
     "output_type": "display_data"
    }
   ],
   "source": [
    "spb_df = df[df['locality_name'] == 'Санкт-Петербург']\n",
    "spb_df_pi = spb_df.pivot_table(index='city_center_km',values='cost_per_metr',aggfunc='mean')\n",
    "spb_df_pi.plot()\n",
    "spb_df_pi\n",
    "\n"
   ]
  },
  {
   "cell_type": "markdown",
   "metadata": {},
   "source": [
    "Стоимость недвижимости напрямую зависит от удаленности от центра города: с каждым 5км., удаленным от центра города, цена за кв.м квартиры снижается."
   ]
  },
  {
   "cell_type": "markdown",
   "metadata": {
    "id": "h7VpzkIDAwb-"
   },
   "source": [
    "### Напишите общий вывод"
   ]
  },
  {
   "cell_type": "markdown",
   "metadata": {
    "id": "3H4lnp_KAwb-"
   },
   "source": [
    "1. **Предобработка данных**:\n",
    "   - Обнаружены и обработаны пропущенные значения. \n",
    "   - Уникальные значения в названиях населенных пунктов приведены к единому виду, устранены неявные дубликаты.\n",
    "   \n",
    " **Причины пропусков в данных:**\n",
    "   - Недостаточная внимательность или неполное заполнение информации продавцами.\n",
    "   - Технические ошибки при сборе данных.\n",
    "   - Отсутствие некоторых характеристик у объектов недвижимости.\n",
    "\n",
    " **Обработка аномалий:**\n",
    "   - Выявлены и исправлены аномалии в данных\n",
    "   - Удалены редкие и выбивающиеся значения  \n",
    "   \n",
    "\n",
    "2. **Добавление новых столбцов**:\n",
    "   - Вычислены и добавлены новые параметры: цена квадратного метра, день недели, месяц и год публикации, тип этажа квартиры, расстояние до центра города в километрах.    \n",
    "\n",
    "\n",
    "3. **Исследовательский анализ данных**:\n",
    "   - Построены гистограммы для анализа параметров: общей площади, жилой площади, площади кухни, цены объекта, количества комнат, высоты потолков, типа этажа, общего количества этажей в доме, расстояния до центра города и ближайшего парка.\n",
    "   - Проанализировано время продажи квартир. Построена гистограмма, вычислены среднее и медианное время продажи. Выделены быстрые и долгие продажи: **44 и 225** дней соответственно.\n",
    "   - Определены основные факторы, влияющие на стоимость объекта: общая площадь, жилая площадь, площадь кухни, количество комнат, этаж, дата размещения объявления. Построены соответствующие графики.\n",
    "\n",
    "\n",
    "4. **Анализ стоимости квадратного метра**:\n",
    "   - Подсчитана средняя цена квадратного метра в 10 населенных пунктах с наибольшим числом объявлений. Определены населенные пункты с самой высокой (*Санкт-Петербург*) и низкой (*Выборг*) стоимостью квадратного метра.\n",
    "   - В Санкт-Петербурге исследована зависимость стоимости квартир от расстояния до центра города. Построен график изменения средней цены для каждого километра от центра.\n",
    "\n",
    " "
   ]
  },
  {
   "cell_type": "code",
   "execution_count": null,
   "metadata": {},
   "outputs": [],
   "source": []
  }
 ],
 "metadata": {
  "ExecuteTimeLog": [
   {
    "duration": 41,
    "start_time": "2024-06-30T21:15:53.052Z"
   },
   {
    "duration": 888,
    "start_time": "2024-06-30T21:15:56.154Z"
   },
   {
    "duration": 17,
    "start_time": "2024-06-30T21:15:57.321Z"
   },
   {
    "duration": 22,
    "start_time": "2024-06-30T21:16:08.453Z"
   },
   {
    "duration": 1593,
    "start_time": "2024-06-30T21:16:31.239Z"
   },
   {
    "duration": 9,
    "start_time": "2024-06-30T21:17:41.358Z"
   },
   {
    "duration": 69,
    "start_time": "2024-07-01T17:16:00.198Z"
   },
   {
    "duration": 63,
    "start_time": "2024-07-01T17:16:30.028Z"
   },
   {
    "duration": 59,
    "start_time": "2024-07-01T17:16:47.859Z"
   },
   {
    "duration": 55,
    "start_time": "2024-07-01T17:17:00.448Z"
   },
   {
    "duration": 71,
    "start_time": "2024-07-01T17:17:04.709Z"
   },
   {
    "duration": 68,
    "start_time": "2024-07-01T17:17:10.602Z"
   },
   {
    "duration": 8,
    "start_time": "2024-07-01T17:20:15.561Z"
   },
   {
    "duration": 7,
    "start_time": "2024-07-01T17:21:13.206Z"
   },
   {
    "duration": 91,
    "start_time": "2024-07-01T17:21:55.729Z"
   },
   {
    "duration": 8,
    "start_time": "2024-07-01T17:22:02.928Z"
   },
   {
    "duration": 732,
    "start_time": "2024-07-01T17:22:37.805Z"
   },
   {
    "duration": 15,
    "start_time": "2024-07-01T17:22:38.539Z"
   },
   {
    "duration": 26,
    "start_time": "2024-07-01T17:22:38.555Z"
   },
   {
    "duration": 1774,
    "start_time": "2024-07-01T17:22:38.582Z"
   },
   {
    "duration": 69,
    "start_time": "2024-07-01T17:22:40.357Z"
   },
   {
    "duration": 8,
    "start_time": "2024-07-01T17:22:40.427Z"
   },
   {
    "duration": 9,
    "start_time": "2024-07-01T17:22:40.436Z"
   },
   {
    "duration": 49,
    "start_time": "2024-07-01T17:23:00.090Z"
   },
   {
    "duration": 75,
    "start_time": "2024-07-01T17:24:21.955Z"
   },
   {
    "duration": 65,
    "start_time": "2024-07-01T17:24:33.954Z"
   },
   {
    "duration": 5,
    "start_time": "2024-07-01T17:24:40.365Z"
   },
   {
    "duration": 6,
    "start_time": "2024-07-01T17:51:49.947Z"
   },
   {
    "duration": 6,
    "start_time": "2024-07-01T17:51:56.857Z"
   },
   {
    "duration": 4,
    "start_time": "2024-07-01T17:52:04.454Z"
   },
   {
    "duration": 6,
    "start_time": "2024-07-01T17:52:16.400Z"
   },
   {
    "duration": 49,
    "start_time": "2024-07-03T13:37:34.652Z"
   },
   {
    "duration": 1079,
    "start_time": "2024-07-03T13:37:39.394Z"
   },
   {
    "duration": 20,
    "start_time": "2024-07-03T13:37:40.476Z"
   },
   {
    "duration": 31,
    "start_time": "2024-07-03T13:37:40.498Z"
   },
   {
    "duration": 1815,
    "start_time": "2024-07-03T13:37:40.531Z"
   },
   {
    "duration": 66,
    "start_time": "2024-07-03T13:37:42.348Z"
   },
   {
    "duration": 8,
    "start_time": "2024-07-03T13:37:42.416Z"
   },
   {
    "duration": 67,
    "start_time": "2024-07-03T13:37:42.425Z"
   },
   {
    "duration": 6,
    "start_time": "2024-07-03T13:37:42.493Z"
   },
   {
    "duration": 6,
    "start_time": "2024-07-03T13:37:58.418Z"
   },
   {
    "duration": 6,
    "start_time": "2024-07-03T13:54:34.753Z"
   },
   {
    "duration": 6,
    "start_time": "2024-07-03T13:54:48.601Z"
   },
   {
    "duration": 6,
    "start_time": "2024-07-03T13:55:09.127Z"
   },
   {
    "duration": 5,
    "start_time": "2024-07-03T13:55:16.029Z"
   },
   {
    "duration": 9,
    "start_time": "2024-07-03T13:55:39.638Z"
   },
   {
    "duration": 6,
    "start_time": "2024-07-03T13:55:55.310Z"
   },
   {
    "duration": 6,
    "start_time": "2024-07-03T13:56:00.871Z"
   },
   {
    "duration": 5,
    "start_time": "2024-07-03T13:56:08.539Z"
   },
   {
    "duration": 13,
    "start_time": "2024-07-03T13:56:28.221Z"
   },
   {
    "duration": 13,
    "start_time": "2024-07-03T13:56:42.974Z"
   },
   {
    "duration": 13,
    "start_time": "2024-07-03T13:56:55.683Z"
   },
   {
    "duration": 7,
    "start_time": "2024-07-03T13:57:07.203Z"
   },
   {
    "duration": 14,
    "start_time": "2024-07-03T13:57:12.600Z"
   },
   {
    "duration": 7,
    "start_time": "2024-07-03T13:57:21.995Z"
   },
   {
    "duration": 5,
    "start_time": "2024-07-03T13:57:35.210Z"
   },
   {
    "duration": 18,
    "start_time": "2024-07-03T13:57:45.065Z"
   },
   {
    "duration": 15,
    "start_time": "2024-07-03T13:57:59.182Z"
   },
   {
    "duration": 8,
    "start_time": "2024-07-03T13:58:15.053Z"
   },
   {
    "duration": 4,
    "start_time": "2024-07-03T13:58:21.988Z"
   },
   {
    "duration": 7,
    "start_time": "2024-07-03T13:58:27.103Z"
   },
   {
    "duration": 4,
    "start_time": "2024-07-03T13:58:33.307Z"
   },
   {
    "duration": 44,
    "start_time": "2024-07-03T17:00:14.039Z"
   },
   {
    "duration": 989,
    "start_time": "2024-07-03T17:00:18.850Z"
   },
   {
    "duration": 14,
    "start_time": "2024-07-03T17:00:19.841Z"
   },
   {
    "duration": 53,
    "start_time": "2024-07-03T17:00:19.857Z"
   },
   {
    "duration": 1664,
    "start_time": "2024-07-03T17:00:19.911Z"
   },
   {
    "duration": 68,
    "start_time": "2024-07-03T17:00:21.578Z"
   },
   {
    "duration": 8,
    "start_time": "2024-07-03T17:00:21.647Z"
   },
   {
    "duration": 45,
    "start_time": "2024-07-03T17:00:21.656Z"
   },
   {
    "duration": 3,
    "start_time": "2024-07-03T17:00:21.703Z"
   },
   {
    "duration": 5,
    "start_time": "2024-07-03T17:00:21.707Z"
   },
   {
    "duration": 8,
    "start_time": "2024-07-03T17:00:21.714Z"
   },
   {
    "duration": 16,
    "start_time": "2024-07-03T17:00:21.723Z"
   },
   {
    "duration": 6,
    "start_time": "2024-07-03T17:01:17.010Z"
   },
   {
    "duration": 4,
    "start_time": "2024-07-03T17:01:40.491Z"
   },
   {
    "duration": 9,
    "start_time": "2024-07-03T17:01:50.602Z"
   },
   {
    "duration": 5,
    "start_time": "2024-07-03T17:02:03.659Z"
   },
   {
    "duration": 5,
    "start_time": "2024-07-03T17:02:09.428Z"
   },
   {
    "duration": 4,
    "start_time": "2024-07-03T17:02:29.585Z"
   },
   {
    "duration": 4,
    "start_time": "2024-07-03T17:02:56.191Z"
   },
   {
    "duration": 3,
    "start_time": "2024-07-03T17:03:19.767Z"
   },
   {
    "duration": 80,
    "start_time": "2024-07-03T17:08:29.636Z"
   },
   {
    "duration": 8,
    "start_time": "2024-07-03T17:08:44.631Z"
   },
   {
    "duration": 7,
    "start_time": "2024-07-03T17:08:50.151Z"
   },
   {
    "duration": 6,
    "start_time": "2024-07-03T17:08:52.808Z"
   },
   {
    "duration": 3,
    "start_time": "2024-07-03T17:08:54.038Z"
   },
   {
    "duration": 4,
    "start_time": "2024-07-03T17:08:55.031Z"
   },
   {
    "duration": 11,
    "start_time": "2024-07-03T17:08:57.048Z"
   },
   {
    "duration": 4,
    "start_time": "2024-07-03T17:09:26.106Z"
   },
   {
    "duration": 10,
    "start_time": "2024-07-03T17:10:08.901Z"
   },
   {
    "duration": 5,
    "start_time": "2024-07-03T17:10:24.683Z"
   },
   {
    "duration": 10,
    "start_time": "2024-07-03T17:10:38.678Z"
   },
   {
    "duration": 6,
    "start_time": "2024-07-03T18:08:16.472Z"
   },
   {
    "duration": 5,
    "start_time": "2024-07-03T19:12:24.362Z"
   },
   {
    "duration": 7,
    "start_time": "2024-07-03T19:12:49.166Z"
   },
   {
    "duration": 10,
    "start_time": "2024-07-03T19:12:55.685Z"
   },
   {
    "duration": 8,
    "start_time": "2024-07-03T19:13:04.061Z"
   },
   {
    "duration": 7,
    "start_time": "2024-07-03T19:13:10.229Z"
   },
   {
    "duration": 8,
    "start_time": "2024-07-03T19:13:14.162Z"
   },
   {
    "duration": 9,
    "start_time": "2024-07-03T19:13:21.396Z"
   },
   {
    "duration": 176,
    "start_time": "2024-07-03T19:14:21.584Z"
   },
   {
    "duration": 9,
    "start_time": "2024-07-03T19:14:31.233Z"
   },
   {
    "duration": 8,
    "start_time": "2024-07-03T19:15:25.094Z"
   },
   {
    "duration": 9,
    "start_time": "2024-07-03T19:17:02.370Z"
   },
   {
    "duration": 7,
    "start_time": "2024-07-03T19:17:35.295Z"
   },
   {
    "duration": 11,
    "start_time": "2024-07-03T19:33:55.177Z"
   },
   {
    "duration": 7,
    "start_time": "2024-07-03T19:35:07.604Z"
   },
   {
    "duration": 4,
    "start_time": "2024-07-03T19:53:04.647Z"
   },
   {
    "duration": 8,
    "start_time": "2024-07-03T19:53:06.229Z"
   },
   {
    "duration": 7,
    "start_time": "2024-07-03T19:54:02.071Z"
   },
   {
    "duration": 6,
    "start_time": "2024-07-03T19:55:19.812Z"
   },
   {
    "duration": 4,
    "start_time": "2024-07-03T19:56:28.674Z"
   },
   {
    "duration": 6,
    "start_time": "2024-07-03T19:56:34.847Z"
   },
   {
    "duration": 5,
    "start_time": "2024-07-03T19:56:41.411Z"
   },
   {
    "duration": 7,
    "start_time": "2024-07-03T19:56:57.741Z"
   },
   {
    "duration": 15,
    "start_time": "2024-07-03T19:57:16.903Z"
   },
   {
    "duration": 25,
    "start_time": "2024-07-03T19:57:22.479Z"
   },
   {
    "duration": 7,
    "start_time": "2024-07-03T19:58:06.435Z"
   },
   {
    "duration": 4,
    "start_time": "2024-07-03T20:24:58.324Z"
   },
   {
    "duration": 16,
    "start_time": "2024-07-03T20:32:23.811Z"
   },
   {
    "duration": 9,
    "start_time": "2024-07-03T20:32:36.539Z"
   },
   {
    "duration": 5,
    "start_time": "2024-07-03T20:32:45.896Z"
   },
   {
    "duration": 7,
    "start_time": "2024-07-03T20:32:52.838Z"
   },
   {
    "duration": 4,
    "start_time": "2024-07-03T20:33:03.961Z"
   },
   {
    "duration": 15,
    "start_time": "2024-07-03T20:33:06.991Z"
   },
   {
    "duration": 5,
    "start_time": "2024-07-03T20:33:08.551Z"
   },
   {
    "duration": 6,
    "start_time": "2024-07-03T20:33:17.025Z"
   },
   {
    "duration": 16,
    "start_time": "2024-07-03T20:33:22.431Z"
   },
   {
    "duration": 6,
    "start_time": "2024-07-03T20:33:23.370Z"
   },
   {
    "duration": 15,
    "start_time": "2024-07-03T20:51:33.423Z"
   },
   {
    "duration": 5,
    "start_time": "2024-07-03T20:51:34.586Z"
   },
   {
    "duration": 20,
    "start_time": "2024-07-03T20:51:43.618Z"
   },
   {
    "duration": 7,
    "start_time": "2024-07-03T20:51:47.276Z"
   },
   {
    "duration": 25,
    "start_time": "2024-07-03T20:51:55.466Z"
   },
   {
    "duration": 7,
    "start_time": "2024-07-03T20:51:56.820Z"
   },
   {
    "duration": 16,
    "start_time": "2024-07-03T20:52:06.941Z"
   },
   {
    "duration": 6,
    "start_time": "2024-07-03T20:52:08.378Z"
   },
   {
    "duration": 16,
    "start_time": "2024-07-03T20:52:24.572Z"
   },
   {
    "duration": 8,
    "start_time": "2024-07-03T20:52:25.700Z"
   },
   {
    "duration": 28,
    "start_time": "2024-07-03T20:53:04.868Z"
   },
   {
    "duration": 25,
    "start_time": "2024-07-03T20:53:25.372Z"
   },
   {
    "duration": 13,
    "start_time": "2024-07-03T20:53:32.597Z"
   },
   {
    "duration": 25,
    "start_time": "2024-07-03T20:53:38.873Z"
   },
   {
    "duration": 54,
    "start_time": "2024-07-03T20:53:51.546Z"
   },
   {
    "duration": 594,
    "start_time": "2024-07-03T20:53:55.693Z"
   },
   {
    "duration": 26,
    "start_time": "2024-07-03T20:54:01.119Z"
   },
   {
    "duration": 39,
    "start_time": "2024-07-03T20:55:21.766Z"
   },
   {
    "duration": 39,
    "start_time": "2024-07-03T20:55:42.270Z"
   },
   {
    "duration": 29,
    "start_time": "2024-07-03T20:56:11.861Z"
   },
   {
    "duration": 7,
    "start_time": "2024-07-03T20:56:33.407Z"
   },
   {
    "duration": 6,
    "start_time": "2024-07-03T20:56:48.480Z"
   },
   {
    "duration": 6,
    "start_time": "2024-07-03T20:57:02.119Z"
   },
   {
    "duration": 6,
    "start_time": "2024-07-03T20:57:06.707Z"
   },
   {
    "duration": 6,
    "start_time": "2024-07-03T20:57:11.251Z"
   },
   {
    "duration": 48,
    "start_time": "2024-07-04T14:49:30.164Z"
   },
   {
    "duration": 994,
    "start_time": "2024-07-04T14:49:35.676Z"
   },
   {
    "duration": 14,
    "start_time": "2024-07-04T14:49:36.672Z"
   },
   {
    "duration": 29,
    "start_time": "2024-07-04T14:49:36.688Z"
   },
   {
    "duration": 1736,
    "start_time": "2024-07-04T14:49:36.718Z"
   },
   {
    "duration": 64,
    "start_time": "2024-07-04T14:49:38.457Z"
   },
   {
    "duration": 9,
    "start_time": "2024-07-04T14:49:38.523Z"
   },
   {
    "duration": 27,
    "start_time": "2024-07-04T14:49:38.534Z"
   },
   {
    "duration": 72,
    "start_time": "2024-07-04T14:49:38.563Z"
   },
   {
    "duration": 7,
    "start_time": "2024-07-04T14:49:38.637Z"
   },
   {
    "duration": 4,
    "start_time": "2024-07-04T14:49:38.646Z"
   },
   {
    "duration": 6,
    "start_time": "2024-07-04T14:49:38.651Z"
   },
   {
    "duration": 6,
    "start_time": "2024-07-04T14:49:38.658Z"
   },
   {
    "duration": 11,
    "start_time": "2024-07-04T14:49:38.666Z"
   },
   {
    "duration": 3,
    "start_time": "2024-07-04T14:49:38.680Z"
   },
   {
    "duration": 6,
    "start_time": "2024-07-04T14:49:38.685Z"
   },
   {
    "duration": 4,
    "start_time": "2024-07-04T14:49:38.693Z"
   },
   {
    "duration": 8,
    "start_time": "2024-07-04T14:49:38.698Z"
   },
   {
    "duration": 7,
    "start_time": "2024-07-04T14:49:38.707Z"
   },
   {
    "duration": 15,
    "start_time": "2024-07-04T14:49:38.715Z"
   },
   {
    "duration": 87,
    "start_time": "2024-07-04T14:49:38.731Z"
   },
   {
    "duration": 5,
    "start_time": "2024-07-04T14:49:38.820Z"
   },
   {
    "duration": 76,
    "start_time": "2024-07-04T14:49:38.827Z"
   },
   {
    "duration": 0,
    "start_time": "2024-07-04T14:49:38.904Z"
   },
   {
    "duration": 7,
    "start_time": "2024-07-04T14:50:30.194Z"
   },
   {
    "duration": 13,
    "start_time": "2024-07-04T14:51:33.733Z"
   },
   {
    "duration": 4,
    "start_time": "2024-07-04T14:52:49.718Z"
   },
   {
    "duration": 7,
    "start_time": "2024-07-04T14:56:04.707Z"
   },
   {
    "duration": 6,
    "start_time": "2024-07-04T14:56:21.405Z"
   },
   {
    "duration": 55,
    "start_time": "2024-07-04T14:56:58.252Z"
   },
   {
    "duration": 7,
    "start_time": "2024-07-04T14:56:59.335Z"
   },
   {
    "duration": 5,
    "start_time": "2024-07-04T14:57:02.443Z"
   },
   {
    "duration": 10,
    "start_time": "2024-07-04T15:01:22.847Z"
   },
   {
    "duration": 8,
    "start_time": "2024-07-04T15:01:29.934Z"
   },
   {
    "duration": 9,
    "start_time": "2024-07-04T15:01:36.430Z"
   },
   {
    "duration": 9,
    "start_time": "2024-07-04T15:04:51.099Z"
   },
   {
    "duration": 9,
    "start_time": "2024-07-04T15:05:04.791Z"
   },
   {
    "duration": 8,
    "start_time": "2024-07-04T15:05:22.150Z"
   },
   {
    "duration": 8,
    "start_time": "2024-07-04T15:06:10.210Z"
   },
   {
    "duration": 8,
    "start_time": "2024-07-04T15:06:18.750Z"
   },
   {
    "duration": 13,
    "start_time": "2024-07-04T15:07:27.098Z"
   },
   {
    "duration": 8,
    "start_time": "2024-07-04T15:07:35.322Z"
   },
   {
    "duration": 75,
    "start_time": "2024-07-04T15:08:23.635Z"
   },
   {
    "duration": 6,
    "start_time": "2024-07-04T15:08:25.208Z"
   },
   {
    "duration": 4,
    "start_time": "2024-07-04T15:08:28.874Z"
   },
   {
    "duration": 8,
    "start_time": "2024-07-04T15:08:30.463Z"
   },
   {
    "duration": 9,
    "start_time": "2024-07-04T15:08:39.560Z"
   },
   {
    "duration": 5,
    "start_time": "2024-07-04T15:09:09.771Z"
   },
   {
    "duration": 18,
    "start_time": "2024-07-04T15:10:05.483Z"
   },
   {
    "duration": 14,
    "start_time": "2024-07-04T15:10:11.586Z"
   },
   {
    "duration": 15,
    "start_time": "2024-07-04T15:10:26.284Z"
   },
   {
    "duration": 14,
    "start_time": "2024-07-04T15:10:38.571Z"
   },
   {
    "duration": 22,
    "start_time": "2024-07-04T15:10:43.617Z"
   },
   {
    "duration": 13,
    "start_time": "2024-07-04T15:10:52.690Z"
   },
   {
    "duration": 5,
    "start_time": "2024-07-04T15:13:04.029Z"
   },
   {
    "duration": 9,
    "start_time": "2024-07-04T15:13:09.015Z"
   },
   {
    "duration": 10,
    "start_time": "2024-07-04T15:13:15.776Z"
   },
   {
    "duration": 14,
    "start_time": "2024-07-04T15:13:40.532Z"
   },
   {
    "duration": 98,
    "start_time": "2024-07-04T15:16:23.202Z"
   },
   {
    "duration": 5,
    "start_time": "2024-07-04T15:16:26.230Z"
   },
   {
    "duration": 5,
    "start_time": "2024-07-04T15:16:27.853Z"
   },
   {
    "duration": 15,
    "start_time": "2024-07-04T15:16:32.169Z"
   },
   {
    "duration": 128,
    "start_time": "2024-07-04T15:17:36.073Z"
   },
   {
    "duration": 4,
    "start_time": "2024-07-04T15:17:38.788Z"
   },
   {
    "duration": 15,
    "start_time": "2024-07-04T15:17:41.628Z"
   },
   {
    "duration": 113,
    "start_time": "2024-07-04T15:17:47.969Z"
   },
   {
    "duration": 6,
    "start_time": "2024-07-04T15:17:49.546Z"
   },
   {
    "duration": 4,
    "start_time": "2024-07-04T15:17:51.812Z"
   },
   {
    "duration": 20,
    "start_time": "2024-07-04T15:17:53.557Z"
   },
   {
    "duration": 114,
    "start_time": "2024-07-04T15:18:06.257Z"
   },
   {
    "duration": 15,
    "start_time": "2024-07-04T15:18:07.986Z"
   },
   {
    "duration": 115,
    "start_time": "2024-07-04T15:18:14.488Z"
   },
   {
    "duration": 16,
    "start_time": "2024-07-04T15:18:15.896Z"
   },
   {
    "duration": 117,
    "start_time": "2024-07-04T15:18:25.417Z"
   },
   {
    "duration": 16,
    "start_time": "2024-07-04T15:18:27.820Z"
   },
   {
    "duration": 114,
    "start_time": "2024-07-04T15:18:36.669Z"
   },
   {
    "duration": 134,
    "start_time": "2024-07-04T15:18:41.110Z"
   },
   {
    "duration": 25,
    "start_time": "2024-07-04T15:18:44.062Z"
   },
   {
    "duration": 8,
    "start_time": "2024-07-04T15:18:49.876Z"
   },
   {
    "duration": 116,
    "start_time": "2024-07-04T15:20:07.509Z"
   },
   {
    "duration": 16,
    "start_time": "2024-07-04T15:20:09.453Z"
   },
   {
    "duration": 135,
    "start_time": "2024-07-04T15:20:45.744Z"
   },
   {
    "duration": 16,
    "start_time": "2024-07-04T15:20:47.947Z"
   },
   {
    "duration": 139,
    "start_time": "2024-07-04T15:21:03.654Z"
   },
   {
    "duration": 15,
    "start_time": "2024-07-04T15:21:05.639Z"
   },
   {
    "duration": 156,
    "start_time": "2024-07-04T15:22:00.503Z"
   },
   {
    "duration": 19,
    "start_time": "2024-07-04T15:22:02.304Z"
   },
   {
    "duration": 127,
    "start_time": "2024-07-04T15:22:40.891Z"
   },
   {
    "duration": 15,
    "start_time": "2024-07-04T15:22:42.558Z"
   },
   {
    "duration": 5,
    "start_time": "2024-07-04T15:22:48.623Z"
   },
   {
    "duration": 6,
    "start_time": "2024-07-04T15:22:56.637Z"
   },
   {
    "duration": 142,
    "start_time": "2024-07-04T15:24:23.571Z"
   },
   {
    "duration": 16,
    "start_time": "2024-07-04T15:24:27.411Z"
   },
   {
    "duration": 4,
    "start_time": "2024-07-04T15:24:40.296Z"
   },
   {
    "duration": 151,
    "start_time": "2024-07-04T15:25:15.603Z"
   },
   {
    "duration": 15,
    "start_time": "2024-07-04T15:25:18.161Z"
   },
   {
    "duration": 113,
    "start_time": "2024-07-04T15:25:34.699Z"
   },
   {
    "duration": 5,
    "start_time": "2024-07-04T15:25:36.346Z"
   },
   {
    "duration": 5,
    "start_time": "2024-07-04T15:25:40.970Z"
   },
   {
    "duration": 22,
    "start_time": "2024-07-04T15:25:43.123Z"
   },
   {
    "duration": 5,
    "start_time": "2024-07-04T15:26:06.595Z"
   },
   {
    "duration": 5,
    "start_time": "2024-07-04T15:26:08.272Z"
   },
   {
    "duration": 23,
    "start_time": "2024-07-04T15:26:21.681Z"
   },
   {
    "duration": 23,
    "start_time": "2024-07-04T15:26:40.445Z"
   },
   {
    "duration": 13,
    "start_time": "2024-07-04T15:27:15.858Z"
   },
   {
    "duration": 14,
    "start_time": "2024-07-04T17:06:55.049Z"
   },
   {
    "duration": 13,
    "start_time": "2024-07-04T17:07:26.065Z"
   },
   {
    "duration": 6,
    "start_time": "2024-07-04T17:08:15.355Z"
   },
   {
    "duration": 161,
    "start_time": "2024-07-04T17:09:03.991Z"
   },
   {
    "duration": 6,
    "start_time": "2024-07-04T17:09:06.627Z"
   },
   {
    "duration": 16,
    "start_time": "2024-07-04T17:09:08.554Z"
   },
   {
    "duration": 14,
    "start_time": "2024-07-04T17:10:57.192Z"
   },
   {
    "duration": 155,
    "start_time": "2024-07-04T17:11:12.203Z"
   },
   {
    "duration": 6,
    "start_time": "2024-07-04T17:11:13.558Z"
   },
   {
    "duration": 4,
    "start_time": "2024-07-04T17:11:15.507Z"
   },
   {
    "duration": 20,
    "start_time": "2024-07-04T17:11:16.726Z"
   },
   {
    "duration": 4,
    "start_time": "2024-07-04T17:11:24.880Z"
   },
   {
    "duration": 5,
    "start_time": "2024-07-04T17:11:26.737Z"
   },
   {
    "duration": 17,
    "start_time": "2024-07-04T17:13:17.167Z"
   },
   {
    "duration": 14,
    "start_time": "2024-07-04T17:13:21.041Z"
   },
   {
    "duration": 14,
    "start_time": "2024-07-04T17:13:24.247Z"
   },
   {
    "duration": 19,
    "start_time": "2024-07-04T17:13:36.221Z"
   },
   {
    "duration": 14,
    "start_time": "2024-07-04T17:13:47.320Z"
   },
   {
    "duration": 24,
    "start_time": "2024-07-04T17:13:55.509Z"
   },
   {
    "duration": 13,
    "start_time": "2024-07-04T17:14:01.231Z"
   },
   {
    "duration": 13,
    "start_time": "2024-07-04T17:14:11.676Z"
   },
   {
    "duration": 4,
    "start_time": "2024-07-04T17:14:50.690Z"
   },
   {
    "duration": 13,
    "start_time": "2024-07-04T17:15:41.346Z"
   },
   {
    "duration": 14,
    "start_time": "2024-07-04T17:15:44.935Z"
   },
   {
    "duration": 15,
    "start_time": "2024-07-04T17:15:50.034Z"
   },
   {
    "duration": 22,
    "start_time": "2024-07-04T17:16:50.420Z"
   },
   {
    "duration": 17,
    "start_time": "2024-07-04T17:16:57.184Z"
   },
   {
    "duration": 18,
    "start_time": "2024-07-04T17:17:00.910Z"
   },
   {
    "duration": 3,
    "start_time": "2024-07-04T17:19:02.685Z"
   },
   {
    "duration": 6,
    "start_time": "2024-07-04T17:19:22.828Z"
   },
   {
    "duration": 7,
    "start_time": "2024-07-04T17:19:28.105Z"
   },
   {
    "duration": 9,
    "start_time": "2024-07-04T17:19:34.468Z"
   },
   {
    "duration": 683,
    "start_time": "2024-07-04T17:26:04.417Z"
   },
   {
    "duration": 19,
    "start_time": "2024-07-04T17:26:05.102Z"
   },
   {
    "duration": 25,
    "start_time": "2024-07-04T17:26:05.123Z"
   },
   {
    "duration": 1688,
    "start_time": "2024-07-04T17:26:05.150Z"
   },
   {
    "duration": 62,
    "start_time": "2024-07-04T17:26:06.840Z"
   },
   {
    "duration": 8,
    "start_time": "2024-07-04T17:26:06.904Z"
   },
   {
    "duration": 3,
    "start_time": "2024-07-04T17:26:06.913Z"
   },
   {
    "duration": 4,
    "start_time": "2024-07-04T17:26:06.918Z"
   },
   {
    "duration": 12,
    "start_time": "2024-07-04T17:26:06.923Z"
   },
   {
    "duration": 4,
    "start_time": "2024-07-04T17:26:06.936Z"
   },
   {
    "duration": 3,
    "start_time": "2024-07-04T17:26:06.941Z"
   },
   {
    "duration": 8,
    "start_time": "2024-07-04T17:26:06.945Z"
   },
   {
    "duration": 7,
    "start_time": "2024-07-04T17:26:06.954Z"
   },
   {
    "duration": 10,
    "start_time": "2024-07-04T17:26:06.963Z"
   },
   {
    "duration": 5,
    "start_time": "2024-07-04T17:26:06.974Z"
   },
   {
    "duration": 3,
    "start_time": "2024-07-04T17:26:06.981Z"
   },
   {
    "duration": 7,
    "start_time": "2024-07-04T17:26:06.985Z"
   },
   {
    "duration": 5,
    "start_time": "2024-07-04T17:26:07.012Z"
   },
   {
    "duration": 10,
    "start_time": "2024-07-04T17:26:07.018Z"
   },
   {
    "duration": 9,
    "start_time": "2024-07-04T17:26:07.029Z"
   },
   {
    "duration": 4,
    "start_time": "2024-07-04T17:26:07.039Z"
   },
   {
    "duration": 172,
    "start_time": "2024-07-04T17:26:07.044Z"
   },
   {
    "duration": 7,
    "start_time": "2024-07-04T17:26:07.217Z"
   },
   {
    "duration": 7,
    "start_time": "2024-07-04T17:26:07.225Z"
   },
   {
    "duration": 63,
    "start_time": "2024-07-04T17:26:07.233Z"
   },
   {
    "duration": 7,
    "start_time": "2024-07-04T17:26:42.244Z"
   },
   {
    "duration": 72,
    "start_time": "2024-07-04T17:27:22.858Z"
   },
   {
    "duration": 7,
    "start_time": "2024-07-04T17:27:30.962Z"
   },
   {
    "duration": 320,
    "start_time": "2024-07-04T17:27:40.292Z"
   },
   {
    "duration": 4,
    "start_time": "2024-07-04T17:27:45.750Z"
   },
   {
    "duration": 5,
    "start_time": "2024-07-04T17:29:52.624Z"
   },
   {
    "duration": 16,
    "start_time": "2024-07-04T17:34:13.937Z"
   },
   {
    "duration": 14,
    "start_time": "2024-07-04T17:35:37.278Z"
   },
   {
    "duration": 14,
    "start_time": "2024-07-04T17:35:46.032Z"
   },
   {
    "duration": 13,
    "start_time": "2024-07-04T17:35:56.692Z"
   },
   {
    "duration": 15,
    "start_time": "2024-07-04T17:36:03.081Z"
   },
   {
    "duration": 15,
    "start_time": "2024-07-04T17:36:07.748Z"
   },
   {
    "duration": 16,
    "start_time": "2024-07-04T17:36:15.255Z"
   },
   {
    "duration": 46,
    "start_time": "2024-07-04T17:41:31.469Z"
   },
   {
    "duration": 26,
    "start_time": "2024-07-04T17:41:42.682Z"
   },
   {
    "duration": 3018,
    "start_time": "2024-07-04T17:42:56.250Z"
   },
   {
    "duration": 3077,
    "start_time": "2024-07-04T17:43:14.076Z"
   },
   {
    "duration": 15,
    "start_time": "2024-07-04T17:43:47.919Z"
   },
   {
    "duration": 3073,
    "start_time": "2024-07-04T17:44:35.763Z"
   },
   {
    "duration": 15,
    "start_time": "2024-07-04T17:45:01.158Z"
   },
   {
    "duration": 3050,
    "start_time": "2024-07-04T17:45:24.905Z"
   },
   {
    "duration": 15,
    "start_time": "2024-07-04T17:45:33.939Z"
   },
   {
    "duration": 7,
    "start_time": "2024-07-04T17:47:39.371Z"
   },
   {
    "duration": 2968,
    "start_time": "2024-07-04T17:47:54.127Z"
   },
   {
    "duration": 15,
    "start_time": "2024-07-04T17:48:12.940Z"
   },
   {
    "duration": 164,
    "start_time": "2024-07-04T17:48:51.818Z"
   },
   {
    "duration": 5,
    "start_time": "2024-07-04T17:48:54.068Z"
   },
   {
    "duration": 17,
    "start_time": "2024-07-04T17:48:57.247Z"
   },
   {
    "duration": 16,
    "start_time": "2024-07-04T17:49:04.956Z"
   },
   {
    "duration": 188,
    "start_time": "2024-07-04T17:49:37.769Z"
   },
   {
    "duration": 6,
    "start_time": "2024-07-04T17:49:39.945Z"
   },
   {
    "duration": 5,
    "start_time": "2024-07-04T17:49:42.179Z"
   },
   {
    "duration": 16,
    "start_time": "2024-07-04T17:49:43.777Z"
   },
   {
    "duration": 15,
    "start_time": "2024-07-04T17:49:45.968Z"
   },
   {
    "duration": 185,
    "start_time": "2024-07-04T17:49:52.357Z"
   },
   {
    "duration": 5,
    "start_time": "2024-07-04T17:49:54.484Z"
   },
   {
    "duration": 15,
    "start_time": "2024-07-04T17:49:55.838Z"
   },
   {
    "duration": 17,
    "start_time": "2024-07-04T17:50:03.504Z"
   },
   {
    "duration": 208,
    "start_time": "2024-07-04T17:50:43.799Z"
   },
   {
    "duration": 5,
    "start_time": "2024-07-04T17:50:45.497Z"
   },
   {
    "duration": 15,
    "start_time": "2024-07-04T17:50:47.740Z"
   },
   {
    "duration": 17,
    "start_time": "2024-07-04T17:51:15.176Z"
   },
   {
    "duration": 204,
    "start_time": "2024-07-04T17:51:34.585Z"
   },
   {
    "duration": 17,
    "start_time": "2024-07-04T17:51:35.640Z"
   },
   {
    "duration": 16,
    "start_time": "2024-07-04T17:51:38.129Z"
   },
   {
    "duration": 5,
    "start_time": "2024-07-04T17:51:41.118Z"
   },
   {
    "duration": 14,
    "start_time": "2024-07-04T17:51:48.793Z"
   },
   {
    "duration": 15,
    "start_time": "2024-07-04T17:52:28.615Z"
   },
   {
    "duration": 15,
    "start_time": "2024-07-04T17:52:45.549Z"
   },
   {
    "duration": 244,
    "start_time": "2024-07-04T17:53:47.557Z"
   },
   {
    "duration": 17,
    "start_time": "2024-07-04T17:53:49.999Z"
   },
   {
    "duration": 15,
    "start_time": "2024-07-04T17:53:53.480Z"
   },
   {
    "duration": 233,
    "start_time": "2024-07-04T17:54:06.868Z"
   },
   {
    "duration": 17,
    "start_time": "2024-07-04T17:54:08.385Z"
   },
   {
    "duration": 16,
    "start_time": "2024-07-04T17:54:14.042Z"
   },
   {
    "duration": 237,
    "start_time": "2024-07-04T17:54:39.875Z"
   },
   {
    "duration": 17,
    "start_time": "2024-07-04T17:54:41.775Z"
   },
   {
    "duration": 15,
    "start_time": "2024-07-04T17:54:43.680Z"
   },
   {
    "duration": 216,
    "start_time": "2024-07-04T17:55:31.341Z"
   },
   {
    "duration": 16,
    "start_time": "2024-07-04T17:55:33.821Z"
   },
   {
    "duration": 196,
    "start_time": "2024-07-04T17:55:46.422Z"
   },
   {
    "duration": 16,
    "start_time": "2024-07-04T17:55:48.540Z"
   },
   {
    "duration": 4,
    "start_time": "2024-07-04T17:55:53.991Z"
   },
   {
    "duration": 14,
    "start_time": "2024-07-04T17:55:57.339Z"
   },
   {
    "duration": 19,
    "start_time": "2024-07-04T17:56:01.181Z"
   },
   {
    "duration": 15,
    "start_time": "2024-07-04T17:56:14.022Z"
   },
   {
    "duration": 14,
    "start_time": "2024-07-04T17:56:20.253Z"
   },
   {
    "duration": 15,
    "start_time": "2024-07-04T17:56:28.102Z"
   },
   {
    "duration": 213,
    "start_time": "2024-07-04T17:57:04.072Z"
   },
   {
    "duration": 15,
    "start_time": "2024-07-04T17:57:05.634Z"
   },
   {
    "duration": 219,
    "start_time": "2024-07-04T17:57:23.182Z"
   },
   {
    "duration": 16,
    "start_time": "2024-07-04T17:57:25.555Z"
   },
   {
    "duration": 17,
    "start_time": "2024-07-04T17:57:34.656Z"
   },
   {
    "duration": 218,
    "start_time": "2024-07-04T17:57:38.339Z"
   },
   {
    "duration": 16,
    "start_time": "2024-07-04T17:57:41.043Z"
   },
   {
    "duration": 222,
    "start_time": "2024-07-04T17:57:51.431Z"
   },
   {
    "duration": 15,
    "start_time": "2024-07-04T17:57:53.340Z"
   },
   {
    "duration": 6,
    "start_time": "2024-07-04T17:58:01.411Z"
   },
   {
    "duration": 14,
    "start_time": "2024-07-04T17:58:23.173Z"
   },
   {
    "duration": 14,
    "start_time": "2024-07-04T17:58:56.378Z"
   },
   {
    "duration": 255,
    "start_time": "2024-07-04T17:59:54.741Z"
   },
   {
    "duration": 16,
    "start_time": "2024-07-04T17:59:56.465Z"
   },
   {
    "duration": 17,
    "start_time": "2024-07-04T18:00:06.596Z"
   },
   {
    "duration": 255,
    "start_time": "2024-07-04T18:00:34.354Z"
   },
   {
    "duration": 28,
    "start_time": "2024-07-04T18:00:35.846Z"
   },
   {
    "duration": 5,
    "start_time": "2024-07-04T18:01:19.625Z"
   },
   {
    "duration": 365,
    "start_time": "2024-07-04T18:05:16.201Z"
   },
   {
    "duration": 17,
    "start_time": "2024-07-04T18:05:17.250Z"
   },
   {
    "duration": 256,
    "start_time": "2024-07-04T18:05:30.586Z"
   },
   {
    "duration": 17,
    "start_time": "2024-07-04T18:05:31.527Z"
   },
   {
    "duration": 16,
    "start_time": "2024-07-04T18:05:43.699Z"
   },
   {
    "duration": 7,
    "start_time": "2024-07-04T18:06:04.686Z"
   },
   {
    "duration": 278,
    "start_time": "2024-07-04T18:06:59.938Z"
   },
   {
    "duration": 17,
    "start_time": "2024-07-04T18:07:03.301Z"
   },
   {
    "duration": 5,
    "start_time": "2024-07-04T18:07:09.882Z"
   },
   {
    "duration": 17,
    "start_time": "2024-07-04T18:07:11.866Z"
   },
   {
    "duration": 22,
    "start_time": "2024-07-04T18:07:23.590Z"
   },
   {
    "duration": 14,
    "start_time": "2024-07-04T18:07:33.019Z"
   },
   {
    "duration": 23,
    "start_time": "2024-07-04T18:07:37.926Z"
   },
   {
    "duration": 14,
    "start_time": "2024-07-04T18:07:42.818Z"
   },
   {
    "duration": 5,
    "start_time": "2024-07-04T18:07:56.147Z"
   },
   {
    "duration": 3039,
    "start_time": "2024-07-04T18:09:00.546Z"
   },
   {
    "duration": 114,
    "start_time": "2024-07-04T18:30:40.734Z"
   },
   {
    "duration": 7,
    "start_time": "2024-07-04T18:30:56.755Z"
   },
   {
    "duration": 9,
    "start_time": "2024-07-04T18:35:22.613Z"
   },
   {
    "duration": 14,
    "start_time": "2024-07-04T18:35:30.814Z"
   },
   {
    "duration": 34,
    "start_time": "2024-07-04T18:35:33.179Z"
   },
   {
    "duration": 3,
    "start_time": "2024-07-04T18:35:50.679Z"
   },
   {
    "duration": 4,
    "start_time": "2024-07-04T18:36:36.777Z"
   },
   {
    "duration": 117,
    "start_time": "2024-07-04T18:38:32.362Z"
   },
   {
    "duration": 16,
    "start_time": "2024-07-04T18:43:55.706Z"
   },
   {
    "duration": 15,
    "start_time": "2024-07-04T18:44:17.122Z"
   },
   {
    "duration": 300,
    "start_time": "2024-07-04T18:45:01.507Z"
   },
   {
    "duration": 17,
    "start_time": "2024-07-04T18:45:02.578Z"
   },
   {
    "duration": 5,
    "start_time": "2024-07-04T18:45:28.586Z"
   },
   {
    "duration": 8,
    "start_time": "2024-07-04T18:45:31.613Z"
   },
   {
    "duration": 6,
    "start_time": "2024-07-04T18:45:40.400Z"
   },
   {
    "duration": 5,
    "start_time": "2024-07-04T18:45:47.518Z"
   },
   {
    "duration": 2985,
    "start_time": "2024-07-04T18:46:02.358Z"
   },
   {
    "duration": 25,
    "start_time": "2024-07-04T18:46:13.507Z"
   },
   {
    "duration": 14,
    "start_time": "2024-07-04T18:46:36.990Z"
   },
   {
    "duration": 16,
    "start_time": "2024-07-04T18:47:02.118Z"
   },
   {
    "duration": 23,
    "start_time": "2024-07-04T18:47:13.580Z"
   },
   {
    "duration": 15,
    "start_time": "2024-07-04T18:47:15.530Z"
   },
   {
    "duration": 7,
    "start_time": "2024-07-04T18:47:48.842Z"
   },
   {
    "duration": 5,
    "start_time": "2024-07-04T18:50:20.083Z"
   },
   {
    "duration": 7,
    "start_time": "2024-07-04T18:50:23.942Z"
   },
   {
    "duration": 58,
    "start_time": "2024-07-04T18:50:49.779Z"
   },
   {
    "duration": 8,
    "start_time": "2024-07-04T18:50:53.109Z"
   },
   {
    "duration": 38,
    "start_time": "2024-07-04T18:51:08.010Z"
   },
   {
    "duration": 88,
    "start_time": "2024-07-04T19:04:05.368Z"
   },
   {
    "duration": 5,
    "start_time": "2024-07-04T19:11:56.289Z"
   },
   {
    "duration": 664,
    "start_time": "2024-07-04T19:12:00.745Z"
   },
   {
    "duration": 13,
    "start_time": "2024-07-04T19:12:01.411Z"
   },
   {
    "duration": 50,
    "start_time": "2024-07-04T19:12:01.426Z"
   },
   {
    "duration": 1676,
    "start_time": "2024-07-04T19:12:01.478Z"
   },
   {
    "duration": 67,
    "start_time": "2024-07-04T19:12:03.156Z"
   },
   {
    "duration": 8,
    "start_time": "2024-07-04T19:12:03.224Z"
   },
   {
    "duration": 3,
    "start_time": "2024-07-04T19:12:03.234Z"
   },
   {
    "duration": 6,
    "start_time": "2024-07-04T19:12:03.238Z"
   },
   {
    "duration": 4,
    "start_time": "2024-07-04T19:12:03.245Z"
   },
   {
    "duration": 10,
    "start_time": "2024-07-04T19:12:03.251Z"
   },
   {
    "duration": 5,
    "start_time": "2024-07-04T19:12:03.264Z"
   },
   {
    "duration": 16,
    "start_time": "2024-07-04T19:12:03.270Z"
   },
   {
    "duration": 25,
    "start_time": "2024-07-04T19:12:03.288Z"
   },
   {
    "duration": 19,
    "start_time": "2024-07-04T19:12:03.316Z"
   },
   {
    "duration": 11,
    "start_time": "2024-07-04T19:12:03.336Z"
   },
   {
    "duration": 4,
    "start_time": "2024-07-04T19:12:03.348Z"
   },
   {
    "duration": 6,
    "start_time": "2024-07-04T19:12:03.353Z"
   },
   {
    "duration": 10,
    "start_time": "2024-07-04T19:12:03.360Z"
   },
   {
    "duration": 12,
    "start_time": "2024-07-04T19:12:03.371Z"
   },
   {
    "duration": 9,
    "start_time": "2024-07-04T19:12:03.385Z"
   },
   {
    "duration": 17,
    "start_time": "2024-07-04T19:12:03.395Z"
   },
   {
    "duration": 339,
    "start_time": "2024-07-04T19:12:03.413Z"
   },
   {
    "duration": 16,
    "start_time": "2024-07-04T19:12:03.754Z"
   },
   {
    "duration": 17,
    "start_time": "2024-07-04T19:12:03.772Z"
   },
   {
    "duration": 3007,
    "start_time": "2024-07-04T19:12:03.790Z"
   },
   {
    "duration": 13,
    "start_time": "2024-07-04T19:12:06.799Z"
   },
   {
    "duration": 5,
    "start_time": "2024-07-04T19:12:06.814Z"
   },
   {
    "duration": 23,
    "start_time": "2024-07-04T19:12:06.821Z"
   },
   {
    "duration": 1595,
    "start_time": "2024-07-04T19:14:06.938Z"
   },
   {
    "duration": 9,
    "start_time": "2024-07-04T19:14:10.089Z"
   },
   {
    "duration": 15,
    "start_time": "2024-07-04T19:15:02.984Z"
   },
   {
    "duration": 302,
    "start_time": "2024-07-04T19:20:31.649Z"
   },
   {
    "duration": 19,
    "start_time": "2024-07-04T19:20:33.762Z"
   },
   {
    "duration": 5,
    "start_time": "2024-07-04T19:20:44.850Z"
   },
   {
    "duration": 27,
    "start_time": "2024-07-04T19:20:56.744Z"
   },
   {
    "duration": 315,
    "start_time": "2024-07-04T19:21:14.198Z"
   },
   {
    "duration": 17,
    "start_time": "2024-07-04T19:21:15.746Z"
   },
   {
    "duration": 16,
    "start_time": "2024-07-04T19:21:17.402Z"
   },
   {
    "duration": 297,
    "start_time": "2024-07-04T19:21:31.360Z"
   },
   {
    "duration": 17,
    "start_time": "2024-07-04T19:21:32.748Z"
   },
   {
    "duration": 15,
    "start_time": "2024-07-04T19:21:34.893Z"
   },
   {
    "duration": 15,
    "start_time": "2024-07-04T19:21:41.994Z"
   },
   {
    "duration": 3028,
    "start_time": "2024-07-04T19:21:44.957Z"
   },
   {
    "duration": 5,
    "start_time": "2024-07-04T19:21:47.986Z"
   },
   {
    "duration": 710,
    "start_time": "2024-07-04T19:22:04.606Z"
   },
   {
    "duration": 14,
    "start_time": "2024-07-04T19:22:05.318Z"
   },
   {
    "duration": 26,
    "start_time": "2024-07-04T19:22:05.334Z"
   },
   {
    "duration": 1764,
    "start_time": "2024-07-04T19:22:05.362Z"
   },
   {
    "duration": 66,
    "start_time": "2024-07-04T19:22:07.129Z"
   },
   {
    "duration": 7,
    "start_time": "2024-07-04T19:22:07.197Z"
   },
   {
    "duration": 25,
    "start_time": "2024-07-04T19:22:07.205Z"
   },
   {
    "duration": 21,
    "start_time": "2024-07-04T19:22:07.231Z"
   },
   {
    "duration": 10,
    "start_time": "2024-07-04T19:22:07.254Z"
   },
   {
    "duration": 4,
    "start_time": "2024-07-04T19:22:07.265Z"
   },
   {
    "duration": 7,
    "start_time": "2024-07-04T19:22:07.270Z"
   },
   {
    "duration": 11,
    "start_time": "2024-07-04T19:22:07.279Z"
   },
   {
    "duration": 3,
    "start_time": "2024-07-04T19:22:07.291Z"
   },
   {
    "duration": 2,
    "start_time": "2024-07-04T19:22:07.297Z"
   },
   {
    "duration": 4,
    "start_time": "2024-07-04T19:22:07.301Z"
   },
   {
    "duration": 8,
    "start_time": "2024-07-04T19:22:07.306Z"
   },
   {
    "duration": 7,
    "start_time": "2024-07-04T19:22:07.315Z"
   },
   {
    "duration": 5,
    "start_time": "2024-07-04T19:22:07.323Z"
   },
   {
    "duration": 9,
    "start_time": "2024-07-04T19:22:07.329Z"
   },
   {
    "duration": 1616,
    "start_time": "2024-07-04T19:22:07.339Z"
   },
   {
    "duration": 8,
    "start_time": "2024-07-04T19:22:08.956Z"
   },
   {
    "duration": 325,
    "start_time": "2024-07-04T19:22:08.965Z"
   },
   {
    "duration": 23,
    "start_time": "2024-07-04T19:22:09.292Z"
   },
   {
    "duration": 16,
    "start_time": "2024-07-04T19:22:09.316Z"
   },
   {
    "duration": 2961,
    "start_time": "2024-07-04T19:22:09.334Z"
   },
   {
    "duration": 5,
    "start_time": "2024-07-04T19:22:12.296Z"
   },
   {
    "duration": 11,
    "start_time": "2024-07-04T19:22:12.302Z"
   },
   {
    "duration": 25,
    "start_time": "2024-07-04T19:22:12.314Z"
   },
   {
    "duration": 716,
    "start_time": "2024-07-04T19:23:01.976Z"
   },
   {
    "duration": 14,
    "start_time": "2024-07-04T19:23:02.694Z"
   },
   {
    "duration": 31,
    "start_time": "2024-07-04T19:23:02.709Z"
   },
   {
    "duration": 1761,
    "start_time": "2024-07-04T19:23:02.741Z"
   },
   {
    "duration": 64,
    "start_time": "2024-07-04T19:23:04.505Z"
   },
   {
    "duration": 8,
    "start_time": "2024-07-04T19:23:04.570Z"
   },
   {
    "duration": 4,
    "start_time": "2024-07-04T19:23:04.579Z"
   },
   {
    "duration": 28,
    "start_time": "2024-07-04T19:23:04.584Z"
   },
   {
    "duration": 5,
    "start_time": "2024-07-04T19:23:04.614Z"
   },
   {
    "duration": 3,
    "start_time": "2024-07-04T19:23:04.620Z"
   },
   {
    "duration": 25,
    "start_time": "2024-07-04T19:23:04.624Z"
   },
   {
    "duration": 6,
    "start_time": "2024-07-04T19:23:04.650Z"
   },
   {
    "duration": 4,
    "start_time": "2024-07-04T19:23:04.658Z"
   },
   {
    "duration": 4,
    "start_time": "2024-07-04T19:23:04.665Z"
   },
   {
    "duration": 22,
    "start_time": "2024-07-04T19:23:04.671Z"
   },
   {
    "duration": 16,
    "start_time": "2024-07-04T19:23:04.694Z"
   },
   {
    "duration": 19,
    "start_time": "2024-07-04T19:23:04.711Z"
   },
   {
    "duration": 25,
    "start_time": "2024-07-04T19:23:04.731Z"
   },
   {
    "duration": 12,
    "start_time": "2024-07-04T19:23:04.758Z"
   },
   {
    "duration": 1640,
    "start_time": "2024-07-04T19:23:04.772Z"
   },
   {
    "duration": 9,
    "start_time": "2024-07-04T19:23:06.414Z"
   },
   {
    "duration": 230,
    "start_time": "2024-07-04T19:23:06.425Z"
   },
   {
    "duration": 19,
    "start_time": "2024-07-04T19:23:06.657Z"
   },
   {
    "duration": 22,
    "start_time": "2024-07-04T19:23:06.677Z"
   },
   {
    "duration": 3002,
    "start_time": "2024-07-04T19:23:06.701Z"
   },
   {
    "duration": 9,
    "start_time": "2024-07-04T19:23:09.705Z"
   },
   {
    "duration": 36,
    "start_time": "2024-07-04T19:23:09.715Z"
   },
   {
    "duration": 27,
    "start_time": "2024-07-04T19:23:09.752Z"
   },
   {
    "duration": 665,
    "start_time": "2024-07-04T19:24:44.457Z"
   },
   {
    "duration": 15,
    "start_time": "2024-07-04T19:24:45.123Z"
   },
   {
    "duration": 33,
    "start_time": "2024-07-04T19:24:45.140Z"
   },
   {
    "duration": 1684,
    "start_time": "2024-07-04T19:24:45.174Z"
   },
   {
    "duration": 64,
    "start_time": "2024-07-04T19:24:46.860Z"
   },
   {
    "duration": 8,
    "start_time": "2024-07-04T19:24:46.926Z"
   },
   {
    "duration": 4,
    "start_time": "2024-07-04T19:24:46.935Z"
   },
   {
    "duration": 6,
    "start_time": "2024-07-04T19:24:46.940Z"
   },
   {
    "duration": 4,
    "start_time": "2024-07-04T19:24:46.947Z"
   },
   {
    "duration": 3,
    "start_time": "2024-07-04T19:24:46.952Z"
   },
   {
    "duration": 4,
    "start_time": "2024-07-04T19:24:46.956Z"
   },
   {
    "duration": 6,
    "start_time": "2024-07-04T19:24:46.961Z"
   },
   {
    "duration": 3,
    "start_time": "2024-07-04T19:24:46.968Z"
   },
   {
    "duration": 4,
    "start_time": "2024-07-04T19:24:46.973Z"
   },
   {
    "duration": 4,
    "start_time": "2024-07-04T19:24:47.011Z"
   },
   {
    "duration": 4,
    "start_time": "2024-07-04T19:24:47.017Z"
   },
   {
    "duration": 7,
    "start_time": "2024-07-04T19:24:47.022Z"
   },
   {
    "duration": 8,
    "start_time": "2024-07-04T19:24:47.030Z"
   },
   {
    "duration": 13,
    "start_time": "2024-07-04T19:24:47.039Z"
   },
   {
    "duration": 1654,
    "start_time": "2024-07-04T19:24:47.054Z"
   },
   {
    "duration": 9,
    "start_time": "2024-07-04T19:24:48.709Z"
   },
   {
    "duration": 5,
    "start_time": "2024-07-04T19:24:48.719Z"
   },
   {
    "duration": 0,
    "start_time": "2024-07-04T19:24:48.725Z"
   },
   {
    "duration": 0,
    "start_time": "2024-07-04T19:24:48.726Z"
   },
   {
    "duration": 0,
    "start_time": "2024-07-04T19:24:48.727Z"
   },
   {
    "duration": 0,
    "start_time": "2024-07-04T19:24:48.728Z"
   },
   {
    "duration": 0,
    "start_time": "2024-07-04T19:24:48.729Z"
   },
   {
    "duration": 0,
    "start_time": "2024-07-04T19:24:48.730Z"
   },
   {
    "duration": 247,
    "start_time": "2024-07-04T19:24:54.226Z"
   },
   {
    "duration": 694,
    "start_time": "2024-07-04T19:25:03.032Z"
   },
   {
    "duration": 15,
    "start_time": "2024-07-04T19:25:03.728Z"
   },
   {
    "duration": 29,
    "start_time": "2024-07-04T19:25:03.745Z"
   },
   {
    "duration": 1682,
    "start_time": "2024-07-04T19:25:03.776Z"
   },
   {
    "duration": 65,
    "start_time": "2024-07-04T19:25:05.460Z"
   },
   {
    "duration": 8,
    "start_time": "2024-07-04T19:25:05.526Z"
   },
   {
    "duration": 6,
    "start_time": "2024-07-04T19:25:05.536Z"
   },
   {
    "duration": 6,
    "start_time": "2024-07-04T19:25:05.543Z"
   },
   {
    "duration": 4,
    "start_time": "2024-07-04T19:25:05.550Z"
   },
   {
    "duration": 3,
    "start_time": "2024-07-04T19:25:05.555Z"
   },
   {
    "duration": 4,
    "start_time": "2024-07-04T19:25:05.560Z"
   },
   {
    "duration": 6,
    "start_time": "2024-07-04T19:25:05.566Z"
   },
   {
    "duration": 3,
    "start_time": "2024-07-04T19:25:05.573Z"
   },
   {
    "duration": 3,
    "start_time": "2024-07-04T19:25:05.579Z"
   },
   {
    "duration": 4,
    "start_time": "2024-07-04T19:25:05.612Z"
   },
   {
    "duration": 8,
    "start_time": "2024-07-04T19:25:05.618Z"
   },
   {
    "duration": 11,
    "start_time": "2024-07-04T19:25:05.627Z"
   },
   {
    "duration": 5,
    "start_time": "2024-07-04T19:25:05.640Z"
   },
   {
    "duration": 13,
    "start_time": "2024-07-04T19:25:05.647Z"
   },
   {
    "duration": 1632,
    "start_time": "2024-07-04T19:25:05.662Z"
   },
   {
    "duration": 17,
    "start_time": "2024-07-04T19:25:07.296Z"
   },
   {
    "duration": 210,
    "start_time": "2024-07-04T19:25:07.314Z"
   },
   {
    "duration": 17,
    "start_time": "2024-07-04T19:25:07.525Z"
   },
   {
    "duration": 16,
    "start_time": "2024-07-04T19:25:07.543Z"
   },
   {
    "duration": 2956,
    "start_time": "2024-07-04T19:25:07.561Z"
   },
   {
    "duration": 4,
    "start_time": "2024-07-04T19:25:10.519Z"
   },
   {
    "duration": 10,
    "start_time": "2024-07-04T19:25:10.525Z"
   },
   {
    "duration": 26,
    "start_time": "2024-07-04T19:25:10.537Z"
   },
   {
    "duration": 702,
    "start_time": "2024-07-04T19:25:34.339Z"
   },
   {
    "duration": 13,
    "start_time": "2024-07-04T19:25:35.043Z"
   },
   {
    "duration": 25,
    "start_time": "2024-07-04T19:25:35.060Z"
   },
   {
    "duration": 1704,
    "start_time": "2024-07-04T19:25:35.086Z"
   },
   {
    "duration": 63,
    "start_time": "2024-07-04T19:25:36.792Z"
   },
   {
    "duration": 8,
    "start_time": "2024-07-04T19:25:36.857Z"
   },
   {
    "duration": 7,
    "start_time": "2024-07-04T19:25:36.867Z"
   },
   {
    "duration": 9,
    "start_time": "2024-07-04T19:25:36.876Z"
   },
   {
    "duration": 7,
    "start_time": "2024-07-04T19:25:36.886Z"
   },
   {
    "duration": 9,
    "start_time": "2024-07-04T19:25:36.895Z"
   },
   {
    "duration": 7,
    "start_time": "2024-07-04T19:25:36.905Z"
   },
   {
    "duration": 6,
    "start_time": "2024-07-04T19:25:36.913Z"
   },
   {
    "duration": 10,
    "start_time": "2024-07-04T19:25:36.921Z"
   },
   {
    "duration": 11,
    "start_time": "2024-07-04T19:25:36.932Z"
   },
   {
    "duration": 7,
    "start_time": "2024-07-04T19:25:36.944Z"
   },
   {
    "duration": 14,
    "start_time": "2024-07-04T19:25:36.952Z"
   },
   {
    "duration": 7,
    "start_time": "2024-07-04T19:25:36.967Z"
   },
   {
    "duration": 17,
    "start_time": "2024-07-04T19:25:36.976Z"
   },
   {
    "duration": 21,
    "start_time": "2024-07-04T19:25:36.994Z"
   },
   {
    "duration": 1621,
    "start_time": "2024-07-04T19:25:37.016Z"
   },
   {
    "duration": 9,
    "start_time": "2024-07-04T19:25:38.638Z"
   },
   {
    "duration": 214,
    "start_time": "2024-07-04T19:25:38.649Z"
   },
   {
    "duration": 18,
    "start_time": "2024-07-04T19:25:38.864Z"
   },
   {
    "duration": 16,
    "start_time": "2024-07-04T19:25:38.883Z"
   },
   {
    "duration": 2963,
    "start_time": "2024-07-04T19:25:38.912Z"
   },
   {
    "duration": 5,
    "start_time": "2024-07-04T19:25:41.876Z"
   },
   {
    "duration": 10,
    "start_time": "2024-07-04T19:25:41.882Z"
   },
   {
    "duration": 34,
    "start_time": "2024-07-04T19:25:41.893Z"
   },
   {
    "duration": 687,
    "start_time": "2024-07-04T19:25:59.821Z"
   },
   {
    "duration": 13,
    "start_time": "2024-07-04T19:26:00.510Z"
   },
   {
    "duration": 44,
    "start_time": "2024-07-04T19:26:00.524Z"
   },
   {
    "duration": 1680,
    "start_time": "2024-07-04T19:26:00.570Z"
   },
   {
    "duration": 62,
    "start_time": "2024-07-04T19:26:02.252Z"
   },
   {
    "duration": 9,
    "start_time": "2024-07-04T19:26:02.316Z"
   },
   {
    "duration": 3,
    "start_time": "2024-07-04T19:26:02.327Z"
   },
   {
    "duration": 30,
    "start_time": "2024-07-04T19:26:02.332Z"
   },
   {
    "duration": 5,
    "start_time": "2024-07-04T19:26:02.364Z"
   },
   {
    "duration": 6,
    "start_time": "2024-07-04T19:26:02.370Z"
   },
   {
    "duration": 4,
    "start_time": "2024-07-04T19:26:02.378Z"
   },
   {
    "duration": 6,
    "start_time": "2024-07-04T19:26:02.383Z"
   },
   {
    "duration": 4,
    "start_time": "2024-07-04T19:26:02.391Z"
   },
   {
    "duration": 5,
    "start_time": "2024-07-04T19:26:02.413Z"
   },
   {
    "duration": 6,
    "start_time": "2024-07-04T19:26:02.419Z"
   },
   {
    "duration": 4,
    "start_time": "2024-07-04T19:26:02.426Z"
   },
   {
    "duration": 11,
    "start_time": "2024-07-04T19:26:02.432Z"
   },
   {
    "duration": 8,
    "start_time": "2024-07-04T19:26:02.444Z"
   },
   {
    "duration": 11,
    "start_time": "2024-07-04T19:26:02.453Z"
   },
   {
    "duration": 1705,
    "start_time": "2024-07-04T19:26:02.465Z"
   },
   {
    "duration": 8,
    "start_time": "2024-07-04T19:26:04.172Z"
   },
   {
    "duration": 193,
    "start_time": "2024-07-04T19:26:04.182Z"
   },
   {
    "duration": 18,
    "start_time": "2024-07-04T19:26:04.377Z"
   },
   {
    "duration": 33,
    "start_time": "2024-07-04T19:26:04.396Z"
   },
   {
    "duration": 3010,
    "start_time": "2024-07-04T19:26:04.431Z"
   },
   {
    "duration": 5,
    "start_time": "2024-07-04T19:26:07.442Z"
   },
   {
    "duration": 5,
    "start_time": "2024-07-04T19:26:07.448Z"
   },
   {
    "duration": 24,
    "start_time": "2024-07-04T19:26:07.454Z"
   },
   {
    "duration": 251,
    "start_time": "2024-07-04T19:27:25.716Z"
   },
   {
    "duration": 17,
    "start_time": "2024-07-04T19:27:27.626Z"
   },
   {
    "duration": 5,
    "start_time": "2024-07-04T19:27:37.924Z"
   },
   {
    "duration": 3009,
    "start_time": "2024-07-04T19:27:47.649Z"
   },
   {
    "duration": 267,
    "start_time": "2024-07-04T19:28:31.056Z"
   },
   {
    "duration": 26,
    "start_time": "2024-07-04T19:28:33.875Z"
   },
   {
    "duration": 7,
    "start_time": "2024-07-04T19:28:38.007Z"
   },
   {
    "duration": 3083,
    "start_time": "2024-07-04T19:28:40.429Z"
   },
   {
    "duration": 16,
    "start_time": "2024-07-04T19:30:30.685Z"
   },
   {
    "duration": 16,
    "start_time": "2024-07-04T19:30:36.620Z"
   },
   {
    "duration": 16,
    "start_time": "2024-07-04T19:31:02.761Z"
   },
   {
    "duration": 245,
    "start_time": "2024-07-04T19:31:05.032Z"
   },
   {
    "duration": 15,
    "start_time": "2024-07-04T19:31:07.333Z"
   },
   {
    "duration": 691,
    "start_time": "2024-07-04T19:31:11.245Z"
   },
   {
    "duration": 13,
    "start_time": "2024-07-04T19:31:11.938Z"
   },
   {
    "duration": 23,
    "start_time": "2024-07-04T19:31:11.953Z"
   },
   {
    "duration": 1701,
    "start_time": "2024-07-04T19:31:11.977Z"
   },
   {
    "duration": 65,
    "start_time": "2024-07-04T19:31:13.680Z"
   },
   {
    "duration": 7,
    "start_time": "2024-07-04T19:31:13.747Z"
   },
   {
    "duration": 54,
    "start_time": "2024-07-04T19:31:13.756Z"
   },
   {
    "duration": 14,
    "start_time": "2024-07-04T19:31:13.812Z"
   },
   {
    "duration": 13,
    "start_time": "2024-07-04T19:31:13.828Z"
   },
   {
    "duration": 3,
    "start_time": "2024-07-04T19:31:13.842Z"
   },
   {
    "duration": 12,
    "start_time": "2024-07-04T19:31:13.847Z"
   },
   {
    "duration": 6,
    "start_time": "2024-07-04T19:31:13.861Z"
   },
   {
    "duration": 5,
    "start_time": "2024-07-04T19:31:13.868Z"
   },
   {
    "duration": 4,
    "start_time": "2024-07-04T19:31:13.875Z"
   },
   {
    "duration": 21,
    "start_time": "2024-07-04T19:31:13.880Z"
   },
   {
    "duration": 5,
    "start_time": "2024-07-04T19:31:13.903Z"
   },
   {
    "duration": 10,
    "start_time": "2024-07-04T19:31:13.909Z"
   },
   {
    "duration": 6,
    "start_time": "2024-07-04T19:31:13.921Z"
   },
   {
    "duration": 11,
    "start_time": "2024-07-04T19:31:13.929Z"
   },
   {
    "duration": 1636,
    "start_time": "2024-07-04T19:31:13.941Z"
   },
   {
    "duration": 9,
    "start_time": "2024-07-04T19:31:15.578Z"
   },
   {
    "duration": 270,
    "start_time": "2024-07-04T19:31:15.588Z"
   },
   {
    "duration": 17,
    "start_time": "2024-07-04T19:31:15.860Z"
   },
   {
    "duration": 15,
    "start_time": "2024-07-04T19:31:15.878Z"
   },
   {
    "duration": 2971,
    "start_time": "2024-07-04T19:31:15.895Z"
   },
   {
    "duration": 5,
    "start_time": "2024-07-04T19:31:18.867Z"
   },
   {
    "duration": 17,
    "start_time": "2024-07-04T19:31:18.873Z"
   },
   {
    "duration": 29,
    "start_time": "2024-07-04T19:31:18.891Z"
   },
   {
    "duration": 300,
    "start_time": "2024-07-04T19:34:16.228Z"
   },
   {
    "duration": 17,
    "start_time": "2024-07-04T19:34:18.648Z"
   },
   {
    "duration": 16,
    "start_time": "2024-07-04T19:34:30.291Z"
   },
   {
    "duration": 16,
    "start_time": "2024-07-04T19:35:09.276Z"
   },
   {
    "duration": 16,
    "start_time": "2024-07-04T19:35:11.621Z"
   },
   {
    "duration": 8,
    "start_time": "2024-07-04T19:35:14.698Z"
   },
   {
    "duration": 283,
    "start_time": "2024-07-04T19:35:36.859Z"
   },
   {
    "duration": 17,
    "start_time": "2024-07-04T19:35:37.232Z"
   },
   {
    "duration": 16,
    "start_time": "2024-07-04T19:35:38.119Z"
   },
   {
    "duration": 2938,
    "start_time": "2024-07-04T19:35:39.663Z"
   },
   {
    "duration": 10,
    "start_time": "2024-07-04T19:35:42.603Z"
   },
   {
    "duration": 23,
    "start_time": "2024-07-04T19:35:52.489Z"
   },
   {
    "duration": 14,
    "start_time": "2024-07-04T19:35:58.779Z"
   },
   {
    "duration": 14,
    "start_time": "2024-07-04T19:36:09.442Z"
   },
   {
    "duration": 296,
    "start_time": "2024-07-04T19:36:26.225Z"
   },
   {
    "duration": 17,
    "start_time": "2024-07-04T19:36:26.625Z"
   },
   {
    "duration": 15,
    "start_time": "2024-07-04T19:36:27.521Z"
   },
   {
    "duration": 299,
    "start_time": "2024-07-04T19:36:35.388Z"
   },
   {
    "duration": 17,
    "start_time": "2024-07-04T19:36:35.753Z"
   },
   {
    "duration": 17,
    "start_time": "2024-07-04T19:36:36.115Z"
   },
   {
    "duration": 2903,
    "start_time": "2024-07-04T19:36:37.194Z"
   },
   {
    "duration": 5,
    "start_time": "2024-07-04T19:36:40.099Z"
   },
   {
    "duration": 18,
    "start_time": "2024-07-04T19:39:01.905Z"
   },
   {
    "duration": 720,
    "start_time": "2024-07-04T19:39:07.468Z"
   },
   {
    "duration": 19,
    "start_time": "2024-07-04T19:39:08.190Z"
   },
   {
    "duration": 33,
    "start_time": "2024-07-04T19:39:08.214Z"
   },
   {
    "duration": 1689,
    "start_time": "2024-07-04T19:39:08.249Z"
   },
   {
    "duration": 63,
    "start_time": "2024-07-04T19:39:09.940Z"
   },
   {
    "duration": 8,
    "start_time": "2024-07-04T19:39:10.004Z"
   },
   {
    "duration": 36,
    "start_time": "2024-07-04T19:39:10.014Z"
   },
   {
    "duration": 9,
    "start_time": "2024-07-04T19:39:10.051Z"
   },
   {
    "duration": 12,
    "start_time": "2024-07-04T19:39:10.061Z"
   },
   {
    "duration": 1605,
    "start_time": "2024-07-04T19:39:10.075Z"
   },
   {
    "duration": 12,
    "start_time": "2024-07-04T19:39:11.681Z"
   },
   {
    "duration": 383,
    "start_time": "2024-07-04T19:39:11.695Z"
   },
   {
    "duration": 16,
    "start_time": "2024-07-04T19:39:12.080Z"
   },
   {
    "duration": 16,
    "start_time": "2024-07-04T19:39:12.111Z"
   },
   {
    "duration": 2921,
    "start_time": "2024-07-04T19:39:12.128Z"
   },
   {
    "duration": 5,
    "start_time": "2024-07-04T19:39:15.050Z"
   },
   {
    "duration": 17,
    "start_time": "2024-07-04T19:39:15.056Z"
   },
   {
    "duration": 41,
    "start_time": "2024-07-04T19:39:15.074Z"
   },
   {
    "duration": 10,
    "start_time": "2024-07-04T20:20:14.123Z"
   },
   {
    "duration": 7,
    "start_time": "2024-07-04T20:21:39.177Z"
   },
   {
    "duration": 109,
    "start_time": "2024-07-04T20:21:50.926Z"
   },
   {
    "duration": 18219,
    "start_time": "2024-07-04T20:25:00.719Z"
   },
   {
    "duration": 18461,
    "start_time": "2024-07-04T20:34:07.112Z"
   },
   {
    "duration": 96,
    "start_time": "2024-07-04T20:34:34.327Z"
   },
   {
    "duration": 91,
    "start_time": "2024-07-04T20:34:45.346Z"
   },
   {
    "duration": 106,
    "start_time": "2024-07-04T20:40:19.211Z"
   },
   {
    "duration": 100,
    "start_time": "2024-07-04T20:40:27.374Z"
   },
   {
    "duration": 90,
    "start_time": "2024-07-04T20:40:33.165Z"
   },
   {
    "duration": 81,
    "start_time": "2024-07-04T20:40:37.553Z"
   },
   {
    "duration": 117,
    "start_time": "2024-07-04T20:40:40.677Z"
   },
   {
    "duration": 11,
    "start_time": "2024-07-04T20:42:35.623Z"
   },
   {
    "duration": 7,
    "start_time": "2024-07-04T20:42:49.488Z"
   },
   {
    "duration": 42,
    "start_time": "2024-07-04T20:44:02.485Z"
   },
   {
    "duration": 731,
    "start_time": "2024-07-04T20:44:50.176Z"
   },
   {
    "duration": 20,
    "start_time": "2024-07-04T20:44:50.909Z"
   },
   {
    "duration": 32,
    "start_time": "2024-07-04T20:44:50.931Z"
   },
   {
    "duration": 1837,
    "start_time": "2024-07-04T20:44:50.965Z"
   },
   {
    "duration": 67,
    "start_time": "2024-07-04T20:44:52.804Z"
   },
   {
    "duration": 8,
    "start_time": "2024-07-04T20:44:52.872Z"
   },
   {
    "duration": 39,
    "start_time": "2024-07-04T20:44:52.881Z"
   },
   {
    "duration": 5,
    "start_time": "2024-07-04T20:44:52.922Z"
   },
   {
    "duration": 20,
    "start_time": "2024-07-04T20:44:52.928Z"
   },
   {
    "duration": 1708,
    "start_time": "2024-07-04T20:44:52.950Z"
   },
   {
    "duration": 9,
    "start_time": "2024-07-04T20:44:54.660Z"
   },
   {
    "duration": 322,
    "start_time": "2024-07-04T20:44:54.671Z"
   },
   {
    "duration": 22,
    "start_time": "2024-07-04T20:44:54.995Z"
   },
   {
    "duration": 26,
    "start_time": "2024-07-04T20:44:55.020Z"
   },
   {
    "duration": 3139,
    "start_time": "2024-07-04T20:44:55.047Z"
   },
   {
    "duration": 5,
    "start_time": "2024-07-04T20:44:58.187Z"
   },
   {
    "duration": 9,
    "start_time": "2024-07-04T20:44:58.193Z"
   },
   {
    "duration": 28,
    "start_time": "2024-07-04T20:44:58.204Z"
   },
   {
    "duration": 7,
    "start_time": "2024-07-04T20:44:58.233Z"
   },
   {
    "duration": 10,
    "start_time": "2024-07-04T20:46:26.455Z"
   },
   {
    "duration": 4,
    "start_time": "2024-07-04T20:46:37.833Z"
   },
   {
    "duration": 4,
    "start_time": "2024-07-04T20:46:54.062Z"
   },
   {
    "duration": 49,
    "start_time": "2024-07-05T12:18:14.893Z"
   },
   {
    "duration": 1211,
    "start_time": "2024-07-05T12:18:19.276Z"
   },
   {
    "duration": 16,
    "start_time": "2024-07-05T12:18:20.490Z"
   },
   {
    "duration": 42,
    "start_time": "2024-07-05T12:18:20.508Z"
   },
   {
    "duration": 2059,
    "start_time": "2024-07-05T12:18:20.551Z"
   },
   {
    "duration": 73,
    "start_time": "2024-07-05T12:18:22.612Z"
   },
   {
    "duration": 12,
    "start_time": "2024-07-05T12:18:22.687Z"
   },
   {
    "duration": 31,
    "start_time": "2024-07-05T12:18:22.701Z"
   },
   {
    "duration": 6,
    "start_time": "2024-07-05T12:18:22.733Z"
   },
   {
    "duration": 32,
    "start_time": "2024-07-05T12:18:22.740Z"
   },
   {
    "duration": 1804,
    "start_time": "2024-07-05T12:18:22.775Z"
   },
   {
    "duration": 11,
    "start_time": "2024-07-05T12:18:24.581Z"
   },
   {
    "duration": 346,
    "start_time": "2024-07-05T12:18:24.594Z"
   },
   {
    "duration": 39,
    "start_time": "2024-07-05T12:18:24.943Z"
   },
   {
    "duration": 76,
    "start_time": "2024-07-05T12:18:24.984Z"
   },
   {
    "duration": 3607,
    "start_time": "2024-07-05T12:18:25.070Z"
   },
   {
    "duration": 7,
    "start_time": "2024-07-05T12:18:28.679Z"
   },
   {
    "duration": 5,
    "start_time": "2024-07-05T12:18:28.687Z"
   },
   {
    "duration": 7,
    "start_time": "2024-07-05T12:18:28.694Z"
   },
   {
    "duration": 25,
    "start_time": "2024-07-05T12:18:28.702Z"
   },
   {
    "duration": 42,
    "start_time": "2024-07-05T15:27:18.863Z"
   },
   {
    "duration": 913,
    "start_time": "2024-07-05T15:27:30.132Z"
   },
   {
    "duration": 13,
    "start_time": "2024-07-05T15:27:31.047Z"
   },
   {
    "duration": 135,
    "start_time": "2024-07-05T15:27:31.062Z"
   },
   {
    "duration": 1529,
    "start_time": "2024-07-05T15:27:31.199Z"
   },
   {
    "duration": 59,
    "start_time": "2024-07-05T15:27:32.730Z"
   },
   {
    "duration": 8,
    "start_time": "2024-07-05T15:27:32.790Z"
   },
   {
    "duration": 18,
    "start_time": "2024-07-05T15:27:32.799Z"
   },
   {
    "duration": 3,
    "start_time": "2024-07-05T15:27:32.819Z"
   },
   {
    "duration": 9,
    "start_time": "2024-07-05T15:27:32.823Z"
   },
   {
    "duration": 1455,
    "start_time": "2024-07-05T15:27:32.834Z"
   },
   {
    "duration": 14,
    "start_time": "2024-07-05T15:27:34.290Z"
   },
   {
    "duration": 282,
    "start_time": "2024-07-05T15:27:34.305Z"
   },
   {
    "duration": 20,
    "start_time": "2024-07-05T15:27:34.588Z"
   },
   {
    "duration": 36,
    "start_time": "2024-07-05T15:27:34.610Z"
   },
   {
    "duration": 2658,
    "start_time": "2024-07-05T15:27:34.647Z"
   },
   {
    "duration": 4,
    "start_time": "2024-07-05T15:27:37.306Z"
   },
   {
    "duration": 74,
    "start_time": "2024-07-05T15:27:37.311Z"
   },
   {
    "duration": 7,
    "start_time": "2024-07-05T15:27:37.386Z"
   },
   {
    "duration": 19,
    "start_time": "2024-07-05T15:27:37.394Z"
   },
   {
    "duration": 25,
    "start_time": "2024-07-05T15:30:35.805Z"
   },
   {
    "duration": 61,
    "start_time": "2024-07-05T15:39:12.799Z"
   },
   {
    "duration": 2,
    "start_time": "2024-07-05T15:39:19.870Z"
   },
   {
    "duration": 251,
    "start_time": "2024-07-05T15:39:20.863Z"
   },
   {
    "duration": 8,
    "start_time": "2024-07-05T15:42:56.196Z"
   },
   {
    "duration": 3,
    "start_time": "2024-07-05T15:44:31.856Z"
   },
   {
    "duration": 615,
    "start_time": "2024-07-05T15:44:36.939Z"
   },
   {
    "duration": 11,
    "start_time": "2024-07-05T15:44:37.556Z"
   },
   {
    "duration": 20,
    "start_time": "2024-07-05T15:44:37.568Z"
   },
   {
    "duration": 1547,
    "start_time": "2024-07-05T15:44:37.589Z"
   },
   {
    "duration": 59,
    "start_time": "2024-07-05T15:44:39.138Z"
   },
   {
    "duration": 3,
    "start_time": "2024-07-05T15:44:39.198Z"
   },
   {
    "duration": 16,
    "start_time": "2024-07-05T15:44:39.202Z"
   },
   {
    "duration": 1096,
    "start_time": "2024-07-05T15:44:39.220Z"
   },
   {
    "duration": 0,
    "start_time": "2024-07-05T15:44:40.317Z"
   },
   {
    "duration": 0,
    "start_time": "2024-07-05T15:44:40.319Z"
   },
   {
    "duration": 0,
    "start_time": "2024-07-05T15:44:40.320Z"
   },
   {
    "duration": 0,
    "start_time": "2024-07-05T15:44:40.321Z"
   },
   {
    "duration": 0,
    "start_time": "2024-07-05T15:44:40.322Z"
   },
   {
    "duration": 1,
    "start_time": "2024-07-05T15:44:40.323Z"
   },
   {
    "duration": 0,
    "start_time": "2024-07-05T15:44:40.325Z"
   },
   {
    "duration": 0,
    "start_time": "2024-07-05T15:44:40.327Z"
   },
   {
    "duration": 0,
    "start_time": "2024-07-05T15:44:40.328Z"
   },
   {
    "duration": 0,
    "start_time": "2024-07-05T15:44:40.329Z"
   },
   {
    "duration": 0,
    "start_time": "2024-07-05T15:44:40.330Z"
   },
   {
    "duration": 0,
    "start_time": "2024-07-05T15:44:40.332Z"
   },
   {
    "duration": 0,
    "start_time": "2024-07-05T15:44:40.333Z"
   },
   {
    "duration": 0,
    "start_time": "2024-07-05T15:44:40.334Z"
   },
   {
    "duration": 0,
    "start_time": "2024-07-05T15:44:40.336Z"
   },
   {
    "duration": 0,
    "start_time": "2024-07-05T15:44:40.337Z"
   },
   {
    "duration": 659,
    "start_time": "2024-07-05T15:45:07.678Z"
   },
   {
    "duration": 14,
    "start_time": "2024-07-05T15:45:08.339Z"
   },
   {
    "duration": 23,
    "start_time": "2024-07-05T15:45:08.354Z"
   },
   {
    "duration": 1602,
    "start_time": "2024-07-05T15:45:08.378Z"
   },
   {
    "duration": 64,
    "start_time": "2024-07-05T15:45:09.982Z"
   },
   {
    "duration": 3,
    "start_time": "2024-07-05T15:45:10.047Z"
   },
   {
    "duration": 12,
    "start_time": "2024-07-05T15:45:10.052Z"
   },
   {
    "duration": 53,
    "start_time": "2024-07-05T15:45:10.065Z"
   },
   {
    "duration": 5,
    "start_time": "2024-07-05T15:45:10.120Z"
   },
   {
    "duration": 10,
    "start_time": "2024-07-05T15:45:10.127Z"
   },
   {
    "duration": 1520,
    "start_time": "2024-07-05T15:45:10.139Z"
   },
   {
    "duration": 10,
    "start_time": "2024-07-05T15:45:11.660Z"
   },
   {
    "duration": 318,
    "start_time": "2024-07-05T15:45:11.671Z"
   },
   {
    "duration": 20,
    "start_time": "2024-07-05T15:45:11.992Z"
   },
   {
    "duration": 14,
    "start_time": "2024-07-05T15:45:12.014Z"
   },
   {
    "duration": 2713,
    "start_time": "2024-07-05T15:45:12.029Z"
   },
   {
    "duration": 4,
    "start_time": "2024-07-05T15:45:14.743Z"
   },
   {
    "duration": 17,
    "start_time": "2024-07-05T15:45:14.748Z"
   },
   {
    "duration": 33,
    "start_time": "2024-07-05T15:45:14.767Z"
   },
   {
    "duration": 92,
    "start_time": "2024-07-05T15:45:14.802Z"
   },
   {
    "duration": 3,
    "start_time": "2024-07-05T15:45:14.895Z"
   },
   {
    "duration": 284,
    "start_time": "2024-07-05T15:45:14.900Z"
   },
   {
    "duration": 1026,
    "start_time": "2024-07-05T15:45:15.185Z"
   },
   {
    "duration": 0,
    "start_time": "2024-07-05T15:45:16.212Z"
   },
   {
    "duration": 8,
    "start_time": "2024-07-05T15:45:21.063Z"
   },
   {
    "duration": 2,
    "start_time": "2024-07-05T15:45:52.368Z"
   },
   {
    "duration": 24,
    "start_time": "2024-07-05T15:46:21.796Z"
   },
   {
    "duration": 5,
    "start_time": "2024-07-05T23:26:10.374Z"
   },
   {
    "duration": 65,
    "start_time": "2024-07-05T23:27:35.114Z"
   },
   {
    "duration": 3,
    "start_time": "2024-07-05T23:31:20.866Z"
   },
   {
    "duration": 4,
    "start_time": "2024-07-05T23:31:38.277Z"
   },
   {
    "duration": 25,
    "start_time": "2024-07-05T23:31:42.540Z"
   },
   {
    "duration": 6,
    "start_time": "2024-07-05T23:31:48.980Z"
   },
   {
    "duration": 4,
    "start_time": "2024-07-05T23:32:33.605Z"
   },
   {
    "duration": 51,
    "start_time": "2024-07-05T23:32:33.972Z"
   },
   {
    "duration": 6,
    "start_time": "2024-07-05T23:32:40.639Z"
   },
   {
    "duration": 4,
    "start_time": "2024-07-05T23:33:04.574Z"
   },
   {
    "duration": 23,
    "start_time": "2024-07-05T23:33:04.979Z"
   },
   {
    "duration": 3,
    "start_time": "2024-07-05T23:33:05.964Z"
   },
   {
    "duration": 7,
    "start_time": "2024-07-05T23:33:06.459Z"
   },
   {
    "duration": 3,
    "start_time": "2024-07-05T23:33:18.866Z"
   },
   {
    "duration": 2,
    "start_time": "2024-07-05T23:33:22.851Z"
   },
   {
    "duration": 6,
    "start_time": "2024-07-05T23:33:28.416Z"
   },
   {
    "duration": 4,
    "start_time": "2024-07-05T23:33:38.576Z"
   },
   {
    "duration": 27,
    "start_time": "2024-07-05T23:33:39.705Z"
   },
   {
    "duration": 4,
    "start_time": "2024-07-05T23:33:40.077Z"
   },
   {
    "duration": 12,
    "start_time": "2024-07-05T23:33:40.427Z"
   },
   {
    "duration": 3,
    "start_time": "2024-07-05T23:33:55.416Z"
   },
   {
    "duration": 3,
    "start_time": "2024-07-05T23:34:22.392Z"
   },
   {
    "duration": 23,
    "start_time": "2024-07-05T23:34:23.137Z"
   },
   {
    "duration": 3,
    "start_time": "2024-07-05T23:34:32.042Z"
   },
   {
    "duration": 6,
    "start_time": "2024-07-05T23:34:34.605Z"
   },
   {
    "duration": 32,
    "start_time": "2024-07-05T23:34:34.777Z"
   },
   {
    "duration": 4,
    "start_time": "2024-07-05T23:34:35.183Z"
   },
   {
    "duration": 3,
    "start_time": "2024-07-05T23:37:51.454Z"
   },
   {
    "duration": 25,
    "start_time": "2024-07-05T23:37:53.992Z"
   },
   {
    "duration": 3,
    "start_time": "2024-07-05T23:37:54.754Z"
   },
   {
    "duration": 6,
    "start_time": "2024-07-05T23:37:58.677Z"
   },
   {
    "duration": 44,
    "start_time": "2024-07-06T13:42:53.505Z"
   },
   {
    "duration": 1093,
    "start_time": "2024-07-06T13:42:58.200Z"
   },
   {
    "duration": 17,
    "start_time": "2024-07-06T13:42:59.296Z"
   },
   {
    "duration": 28,
    "start_time": "2024-07-06T13:42:59.314Z"
   },
   {
    "duration": 2157,
    "start_time": "2024-07-06T13:42:59.343Z"
   },
   {
    "duration": 100,
    "start_time": "2024-07-06T13:43:01.504Z"
   },
   {
    "duration": 3,
    "start_time": "2024-07-06T13:43:01.606Z"
   },
   {
    "duration": 84,
    "start_time": "2024-07-06T13:43:01.611Z"
   },
   {
    "duration": 34,
    "start_time": "2024-07-06T13:43:01.697Z"
   },
   {
    "duration": 5,
    "start_time": "2024-07-06T13:43:01.732Z"
   },
   {
    "duration": 44,
    "start_time": "2024-07-06T13:43:01.738Z"
   },
   {
    "duration": 2003,
    "start_time": "2024-07-06T13:43:01.784Z"
   },
   {
    "duration": 16,
    "start_time": "2024-07-06T13:43:03.788Z"
   },
   {
    "duration": 415,
    "start_time": "2024-07-06T13:43:03.805Z"
   },
   {
    "duration": 31,
    "start_time": "2024-07-06T13:43:04.222Z"
   },
   {
    "duration": 33,
    "start_time": "2024-07-06T13:43:04.263Z"
   },
   {
    "duration": 4144,
    "start_time": "2024-07-06T13:43:04.298Z"
   },
   {
    "duration": 5,
    "start_time": "2024-07-06T13:43:08.443Z"
   },
   {
    "duration": 50,
    "start_time": "2024-07-06T13:43:08.450Z"
   },
   {
    "duration": 8,
    "start_time": "2024-07-06T13:43:08.504Z"
   },
   {
    "duration": 29,
    "start_time": "2024-07-06T13:43:08.514Z"
   },
   {
    "duration": 4,
    "start_time": "2024-07-06T13:43:08.545Z"
   },
   {
    "duration": 59,
    "start_time": "2024-07-06T13:43:08.551Z"
   },
   {
    "duration": 3,
    "start_time": "2024-07-06T13:43:08.612Z"
   },
   {
    "duration": 317,
    "start_time": "2024-07-06T13:43:08.616Z"
   },
   {
    "duration": 38,
    "start_time": "2024-07-06T13:43:08.935Z"
   },
   {
    "duration": 318,
    "start_time": "2024-07-06T13:43:08.974Z"
   },
   {
    "duration": 14,
    "start_time": "2024-07-06T13:45:25.959Z"
   },
   {
    "duration": 312,
    "start_time": "2024-07-06T14:15:46.114Z"
   },
   {
    "duration": 384,
    "start_time": "2024-07-06T14:15:56.833Z"
   },
   {
    "duration": 51,
    "start_time": "2024-07-06T18:25:39.836Z"
   },
   {
    "duration": 1118,
    "start_time": "2024-07-06T18:25:45.562Z"
   },
   {
    "duration": 17,
    "start_time": "2024-07-06T18:25:46.683Z"
   },
   {
    "duration": 28,
    "start_time": "2024-07-06T18:25:46.704Z"
   },
   {
    "duration": 2099,
    "start_time": "2024-07-06T18:25:46.734Z"
   },
   {
    "duration": 76,
    "start_time": "2024-07-06T18:25:48.835Z"
   },
   {
    "duration": 4,
    "start_time": "2024-07-06T18:25:48.912Z"
   },
   {
    "duration": 13,
    "start_time": "2024-07-06T18:25:48.918Z"
   },
   {
    "duration": 34,
    "start_time": "2024-07-06T18:25:48.933Z"
   },
   {
    "duration": 5,
    "start_time": "2024-07-06T18:25:48.969Z"
   },
   {
    "duration": 11,
    "start_time": "2024-07-06T18:25:48.976Z"
   },
   {
    "duration": 1793,
    "start_time": "2024-07-06T18:25:48.989Z"
   },
   {
    "duration": 11,
    "start_time": "2024-07-06T18:25:50.784Z"
   },
   {
    "duration": 336,
    "start_time": "2024-07-06T18:25:50.798Z"
   },
   {
    "duration": 22,
    "start_time": "2024-07-06T18:25:51.136Z"
   },
   {
    "duration": 17,
    "start_time": "2024-07-06T18:25:51.160Z"
   },
   {
    "duration": 3640,
    "start_time": "2024-07-06T18:25:51.179Z"
   },
   {
    "duration": 6,
    "start_time": "2024-07-06T18:25:54.820Z"
   },
   {
    "duration": 22,
    "start_time": "2024-07-06T18:25:54.828Z"
   },
   {
    "duration": 4,
    "start_time": "2024-07-06T18:25:54.852Z"
   },
   {
    "duration": 32,
    "start_time": "2024-07-06T18:25:54.858Z"
   },
   {
    "duration": 4,
    "start_time": "2024-07-06T18:25:54.892Z"
   },
   {
    "duration": 58,
    "start_time": "2024-07-06T18:25:54.897Z"
   },
   {
    "duration": 4,
    "start_time": "2024-07-06T18:25:54.956Z"
   },
   {
    "duration": 310,
    "start_time": "2024-07-06T18:25:54.962Z"
   },
   {
    "duration": 42,
    "start_time": "2024-07-06T18:25:55.274Z"
   },
   {
    "duration": 394,
    "start_time": "2024-07-06T18:25:55.318Z"
   },
   {
    "duration": 328,
    "start_time": "2024-07-06T18:26:29.136Z"
   },
   {
    "duration": 77,
    "start_time": "2024-07-06T20:20:59.264Z"
   },
   {
    "duration": 1115,
    "start_time": "2024-07-06T20:21:12.133Z"
   },
   {
    "duration": 18,
    "start_time": "2024-07-06T20:21:13.250Z"
   },
   {
    "duration": 30,
    "start_time": "2024-07-06T20:21:13.269Z"
   },
   {
    "duration": 2109,
    "start_time": "2024-07-06T20:21:13.300Z"
   },
   {
    "duration": 89,
    "start_time": "2024-07-06T20:21:15.412Z"
   },
   {
    "duration": 5,
    "start_time": "2024-07-06T20:21:15.503Z"
   },
   {
    "duration": 47,
    "start_time": "2024-07-06T20:21:15.510Z"
   },
   {
    "duration": 26,
    "start_time": "2024-07-06T20:21:15.559Z"
   },
   {
    "duration": 4,
    "start_time": "2024-07-06T20:21:15.587Z"
   },
   {
    "duration": 10,
    "start_time": "2024-07-06T20:21:15.593Z"
   },
   {
    "duration": 1864,
    "start_time": "2024-07-06T20:21:15.605Z"
   },
   {
    "duration": 10,
    "start_time": "2024-07-06T20:21:17.471Z"
   },
   {
    "duration": 397,
    "start_time": "2024-07-06T20:21:17.482Z"
   },
   {
    "duration": 21,
    "start_time": "2024-07-06T20:21:17.883Z"
   },
   {
    "duration": 37,
    "start_time": "2024-07-06T20:21:17.905Z"
   },
   {
    "duration": 3562,
    "start_time": "2024-07-06T20:21:17.943Z"
   },
   {
    "duration": 5,
    "start_time": "2024-07-06T20:21:21.507Z"
   },
   {
    "duration": 20,
    "start_time": "2024-07-06T20:21:21.513Z"
   },
   {
    "duration": 4,
    "start_time": "2024-07-06T20:21:21.534Z"
   },
   {
    "duration": 41,
    "start_time": "2024-07-06T20:21:21.540Z"
   },
   {
    "duration": 4,
    "start_time": "2024-07-06T20:21:21.582Z"
   },
   {
    "duration": 41,
    "start_time": "2024-07-06T20:21:21.587Z"
   },
   {
    "duration": 17,
    "start_time": "2024-07-06T20:21:21.629Z"
   },
   {
    "duration": 322,
    "start_time": "2024-07-06T20:21:21.647Z"
   },
   {
    "duration": 22,
    "start_time": "2024-07-06T20:21:21.970Z"
   },
   {
    "duration": 349,
    "start_time": "2024-07-06T20:21:21.993Z"
   },
   {
    "duration": 28890,
    "start_time": "2024-07-06T20:21:22.346Z"
   },
   {
    "duration": 17,
    "start_time": "2024-07-06T20:24:03.765Z"
   },
   {
    "duration": 10,
    "start_time": "2024-07-06T20:24:52.093Z"
   },
   {
    "duration": 6,
    "start_time": "2024-07-06T20:25:13.110Z"
   },
   {
    "duration": 5,
    "start_time": "2024-07-06T20:25:17.661Z"
   },
   {
    "duration": 7,
    "start_time": "2024-07-06T20:25:24.045Z"
   },
   {
    "duration": 6,
    "start_time": "2024-07-06T20:25:32.724Z"
   },
   {
    "duration": 52966,
    "start_time": "2024-07-06T20:27:14.863Z"
   },
   {
    "duration": 23,
    "start_time": "2024-07-06T20:32:23.831Z"
   },
   {
    "duration": 8494,
    "start_time": "2024-07-06T20:32:48.259Z"
   },
   {
    "duration": 8808,
    "start_time": "2024-07-06T20:33:04.102Z"
   },
   {
    "duration": 108,
    "start_time": "2024-07-06T20:33:23.256Z"
   },
   {
    "duration": 9500,
    "start_time": "2024-07-06T20:33:26.649Z"
   },
   {
    "duration": 11381,
    "start_time": "2024-07-06T23:38:09.270Z"
   },
   {
    "duration": 16,
    "start_time": "2024-07-07T00:10:01.737Z"
   },
   {
    "duration": 10,
    "start_time": "2024-07-07T00:10:14.885Z"
   },
   {
    "duration": 10,
    "start_time": "2024-07-07T00:10:25.575Z"
   },
   {
    "duration": 10,
    "start_time": "2024-07-07T00:10:49.420Z"
   },
   {
    "duration": 10,
    "start_time": "2024-07-07T00:11:09.473Z"
   },
   {
    "duration": 9,
    "start_time": "2024-07-07T00:11:21.949Z"
   },
   {
    "duration": 12,
    "start_time": "2024-07-07T00:11:34.399Z"
   },
   {
    "duration": 136,
    "start_time": "2024-07-07T00:12:02.998Z"
   },
   {
    "duration": 228,
    "start_time": "2024-07-07T00:12:08.174Z"
   },
   {
    "duration": 242,
    "start_time": "2024-07-07T00:12:16.212Z"
   },
   {
    "duration": 232,
    "start_time": "2024-07-07T00:12:21.774Z"
   },
   {
    "duration": 9,
    "start_time": "2024-07-07T00:12:46.328Z"
   },
   {
    "duration": 263,
    "start_time": "2024-07-07T00:13:39.841Z"
   },
   {
    "duration": 248,
    "start_time": "2024-07-07T00:13:44.748Z"
   },
   {
    "duration": 251,
    "start_time": "2024-07-07T00:13:48.119Z"
   },
   {
    "duration": 242,
    "start_time": "2024-07-07T00:14:01.734Z"
   },
   {
    "duration": 232,
    "start_time": "2024-07-07T00:14:04.903Z"
   },
   {
    "duration": 308,
    "start_time": "2024-07-07T00:14:22.520Z"
   },
   {
    "duration": 13,
    "start_time": "2024-07-07T00:15:35.441Z"
   },
   {
    "duration": 11,
    "start_time": "2024-07-07T00:15:54.944Z"
   },
   {
    "duration": 350,
    "start_time": "2024-07-07T00:16:56.377Z"
   },
   {
    "duration": 301,
    "start_time": "2024-07-07T00:17:05.983Z"
   },
   {
    "duration": 48,
    "start_time": "2024-07-07T13:33:56.640Z"
   },
   {
    "duration": 1020,
    "start_time": "2024-07-07T13:34:00.447Z"
   },
   {
    "duration": 15,
    "start_time": "2024-07-07T13:34:01.469Z"
   },
   {
    "duration": 64,
    "start_time": "2024-07-07T13:34:01.485Z"
   },
   {
    "duration": 1739,
    "start_time": "2024-07-07T13:34:01.551Z"
   },
   {
    "duration": 64,
    "start_time": "2024-07-07T13:34:03.291Z"
   },
   {
    "duration": 3,
    "start_time": "2024-07-07T13:34:03.357Z"
   },
   {
    "duration": 16,
    "start_time": "2024-07-07T13:34:03.361Z"
   },
   {
    "duration": 20,
    "start_time": "2024-07-07T13:34:03.378Z"
   },
   {
    "duration": 5,
    "start_time": "2024-07-07T13:34:03.409Z"
   },
   {
    "duration": 9,
    "start_time": "2024-07-07T13:34:03.416Z"
   },
   {
    "duration": 1606,
    "start_time": "2024-07-07T13:34:03.426Z"
   },
   {
    "duration": 8,
    "start_time": "2024-07-07T13:34:05.034Z"
   },
   {
    "duration": 319,
    "start_time": "2024-07-07T13:34:05.043Z"
   },
   {
    "duration": 17,
    "start_time": "2024-07-07T13:34:05.363Z"
   },
   {
    "duration": 29,
    "start_time": "2024-07-07T13:34:05.381Z"
   },
   {
    "duration": 2964,
    "start_time": "2024-07-07T13:34:05.411Z"
   },
   {
    "duration": 6,
    "start_time": "2024-07-07T13:34:08.376Z"
   },
   {
    "duration": 4,
    "start_time": "2024-07-07T13:34:08.383Z"
   },
   {
    "duration": 19,
    "start_time": "2024-07-07T13:34:08.389Z"
   },
   {
    "duration": 42,
    "start_time": "2024-07-07T13:34:08.410Z"
   },
   {
    "duration": 3,
    "start_time": "2024-07-07T13:34:08.454Z"
   },
   {
    "duration": 36,
    "start_time": "2024-07-07T13:34:08.459Z"
   },
   {
    "duration": 3,
    "start_time": "2024-07-07T13:34:08.497Z"
   },
   {
    "duration": 295,
    "start_time": "2024-07-07T13:34:08.502Z"
   },
   {
    "duration": 21,
    "start_time": "2024-07-07T13:34:08.799Z"
   },
   {
    "duration": 279,
    "start_time": "2024-07-07T13:34:08.821Z"
   },
   {
    "duration": 16,
    "start_time": "2024-07-07T13:35:21.617Z"
   },
   {
    "duration": 295,
    "start_time": "2024-07-07T13:44:43.419Z"
   },
   {
    "duration": 283,
    "start_time": "2024-07-07T13:46:29.088Z"
   },
   {
    "duration": 274,
    "start_time": "2024-07-07T13:48:44.337Z"
   },
   {
    "duration": 290,
    "start_time": "2024-07-07T13:49:01.230Z"
   },
   {
    "duration": 350,
    "start_time": "2024-07-07T14:06:36.175Z"
   },
   {
    "duration": 321,
    "start_time": "2024-07-07T14:06:45.428Z"
   },
   {
    "duration": 3,
    "start_time": "2024-07-07T14:08:08.243Z"
   },
   {
    "duration": 7,
    "start_time": "2024-07-07T14:08:37.511Z"
   },
   {
    "duration": 650,
    "start_time": "2024-07-07T14:08:51.839Z"
   },
   {
    "duration": 13,
    "start_time": "2024-07-07T14:08:52.491Z"
   },
   {
    "duration": 33,
    "start_time": "2024-07-07T14:08:52.506Z"
   },
   {
    "duration": 1714,
    "start_time": "2024-07-07T14:08:52.540Z"
   },
   {
    "duration": 61,
    "start_time": "2024-07-07T14:08:54.256Z"
   },
   {
    "duration": 3,
    "start_time": "2024-07-07T14:08:54.318Z"
   },
   {
    "duration": 9,
    "start_time": "2024-07-07T14:08:54.322Z"
   },
   {
    "duration": 21,
    "start_time": "2024-07-07T14:08:54.332Z"
   },
   {
    "duration": 5,
    "start_time": "2024-07-07T14:08:54.354Z"
   },
   {
    "duration": 11,
    "start_time": "2024-07-07T14:08:54.361Z"
   },
   {
    "duration": 1649,
    "start_time": "2024-07-07T14:08:54.373Z"
   },
   {
    "duration": 8,
    "start_time": "2024-07-07T14:08:56.024Z"
   },
   {
    "duration": 306,
    "start_time": "2024-07-07T14:08:56.034Z"
   },
   {
    "duration": 17,
    "start_time": "2024-07-07T14:08:56.343Z"
   },
   {
    "duration": 29,
    "start_time": "2024-07-07T14:08:56.361Z"
   },
   {
    "duration": 2952,
    "start_time": "2024-07-07T14:08:56.391Z"
   },
   {
    "duration": 4,
    "start_time": "2024-07-07T14:08:59.345Z"
   },
   {
    "duration": 12,
    "start_time": "2024-07-07T14:08:59.350Z"
   },
   {
    "duration": 11,
    "start_time": "2024-07-07T14:08:59.363Z"
   },
   {
    "duration": 4,
    "start_time": "2024-07-07T14:08:59.376Z"
   },
   {
    "duration": 33,
    "start_time": "2024-07-07T14:08:59.381Z"
   },
   {
    "duration": 7,
    "start_time": "2024-07-07T14:08:59.416Z"
   },
   {
    "duration": 28,
    "start_time": "2024-07-07T14:08:59.425Z"
   },
   {
    "duration": 34,
    "start_time": "2024-07-07T14:08:59.454Z"
   },
   {
    "duration": 4,
    "start_time": "2024-07-07T14:08:59.490Z"
   },
   {
    "duration": 315,
    "start_time": "2024-07-07T14:08:59.495Z"
   },
   {
    "duration": 18,
    "start_time": "2024-07-07T14:08:59.811Z"
   },
   {
    "duration": 300,
    "start_time": "2024-07-07T14:08:59.830Z"
   },
   {
    "duration": 303,
    "start_time": "2024-07-07T14:09:00.131Z"
   },
   {
    "duration": 299,
    "start_time": "2024-07-07T14:09:00.435Z"
   },
   {
    "duration": 300,
    "start_time": "2024-07-07T14:09:00.735Z"
   },
   {
    "duration": 296,
    "start_time": "2024-07-07T14:09:01.037Z"
   },
   {
    "duration": 313,
    "start_time": "2024-07-07T14:09:01.335Z"
   },
   {
    "duration": 85,
    "start_time": "2024-07-07T14:09:01.649Z"
   },
   {
    "duration": 0,
    "start_time": "2024-07-07T14:09:01.735Z"
   },
   {
    "duration": 0,
    "start_time": "2024-07-07T14:09:01.736Z"
   },
   {
    "duration": 0,
    "start_time": "2024-07-07T14:09:01.737Z"
   },
   {
    "duration": 0,
    "start_time": "2024-07-07T14:09:01.737Z"
   },
   {
    "duration": 16,
    "start_time": "2024-07-07T14:10:32.031Z"
   },
   {
    "duration": 9,
    "start_time": "2024-07-07T14:10:44.492Z"
   },
   {
    "duration": 9,
    "start_time": "2024-07-07T14:10:51.952Z"
   },
   {
    "duration": 9,
    "start_time": "2024-07-07T14:11:09.769Z"
   },
   {
    "duration": 9,
    "start_time": "2024-07-07T14:11:23.383Z"
   },
   {
    "duration": 665,
    "start_time": "2024-07-07T14:11:28.628Z"
   },
   {
    "duration": 13,
    "start_time": "2024-07-07T14:11:29.295Z"
   },
   {
    "duration": 24,
    "start_time": "2024-07-07T14:11:29.309Z"
   },
   {
    "duration": 1712,
    "start_time": "2024-07-07T14:11:29.334Z"
   },
   {
    "duration": 65,
    "start_time": "2024-07-07T14:11:31.048Z"
   },
   {
    "duration": 23,
    "start_time": "2024-07-07T14:11:31.114Z"
   },
   {
    "duration": 92,
    "start_time": "2024-07-07T14:11:31.139Z"
   },
   {
    "duration": 84,
    "start_time": "2024-07-07T14:11:31.233Z"
   },
   {
    "duration": 144,
    "start_time": "2024-07-07T14:11:31.318Z"
   },
   {
    "duration": 112,
    "start_time": "2024-07-07T14:11:31.464Z"
   },
   {
    "duration": 1887,
    "start_time": "2024-07-07T14:11:31.577Z"
   },
   {
    "duration": 8,
    "start_time": "2024-07-07T14:11:33.466Z"
   },
   {
    "duration": 309,
    "start_time": "2024-07-07T14:11:33.476Z"
   },
   {
    "duration": 25,
    "start_time": "2024-07-07T14:11:33.788Z"
   },
   {
    "duration": 16,
    "start_time": "2024-07-07T14:11:33.815Z"
   },
   {
    "duration": 2924,
    "start_time": "2024-07-07T14:11:33.832Z"
   },
   {
    "duration": 6,
    "start_time": "2024-07-07T14:11:36.758Z"
   },
   {
    "duration": 7,
    "start_time": "2024-07-07T14:11:36.765Z"
   },
   {
    "duration": 7,
    "start_time": "2024-07-07T14:11:36.774Z"
   },
   {
    "duration": 28,
    "start_time": "2024-07-07T14:11:36.782Z"
   },
   {
    "duration": 79,
    "start_time": "2024-07-07T14:11:36.811Z"
   },
   {
    "duration": 0,
    "start_time": "2024-07-07T14:11:36.892Z"
   },
   {
    "duration": 0,
    "start_time": "2024-07-07T14:11:36.893Z"
   },
   {
    "duration": 0,
    "start_time": "2024-07-07T14:11:36.895Z"
   },
   {
    "duration": 0,
    "start_time": "2024-07-07T14:11:36.896Z"
   },
   {
    "duration": 0,
    "start_time": "2024-07-07T14:11:36.897Z"
   },
   {
    "duration": 0,
    "start_time": "2024-07-07T14:11:36.898Z"
   },
   {
    "duration": 0,
    "start_time": "2024-07-07T14:11:36.898Z"
   },
   {
    "duration": 0,
    "start_time": "2024-07-07T14:11:36.898Z"
   },
   {
    "duration": 0,
    "start_time": "2024-07-07T14:11:36.899Z"
   },
   {
    "duration": 0,
    "start_time": "2024-07-07T14:11:36.899Z"
   },
   {
    "duration": 0,
    "start_time": "2024-07-07T14:11:36.900Z"
   },
   {
    "duration": 0,
    "start_time": "2024-07-07T14:11:36.900Z"
   },
   {
    "duration": 0,
    "start_time": "2024-07-07T14:11:36.900Z"
   },
   {
    "duration": 0,
    "start_time": "2024-07-07T14:11:36.901Z"
   },
   {
    "duration": 0,
    "start_time": "2024-07-07T14:11:36.910Z"
   },
   {
    "duration": 0,
    "start_time": "2024-07-07T14:11:36.911Z"
   },
   {
    "duration": 0,
    "start_time": "2024-07-07T14:11:36.912Z"
   },
   {
    "duration": 9,
    "start_time": "2024-07-07T14:12:25.418Z"
   },
   {
    "duration": 9,
    "start_time": "2024-07-07T14:12:34.158Z"
   },
   {
    "duration": 7,
    "start_time": "2024-07-07T14:12:34.344Z"
   },
   {
    "duration": 6,
    "start_time": "2024-07-07T14:12:34.491Z"
   },
   {
    "duration": 9,
    "start_time": "2024-07-07T14:12:52.578Z"
   },
   {
    "duration": 4,
    "start_time": "2024-07-07T14:49:28.572Z"
   },
   {
    "duration": 9,
    "start_time": "2024-07-07T14:49:40.692Z"
   },
   {
    "duration": 9,
    "start_time": "2024-07-07T14:49:45.083Z"
   },
   {
    "duration": 11,
    "start_time": "2024-07-07T14:49:48.878Z"
   },
   {
    "duration": 648,
    "start_time": "2024-07-07T14:56:28.774Z"
   },
   {
    "duration": 13,
    "start_time": "2024-07-07T14:56:29.424Z"
   },
   {
    "duration": 24,
    "start_time": "2024-07-07T14:56:29.439Z"
   },
   {
    "duration": 1734,
    "start_time": "2024-07-07T14:56:29.464Z"
   },
   {
    "duration": 63,
    "start_time": "2024-07-07T14:56:31.200Z"
   },
   {
    "duration": 3,
    "start_time": "2024-07-07T14:56:31.265Z"
   },
   {
    "duration": 36,
    "start_time": "2024-07-07T14:56:31.269Z"
   },
   {
    "duration": 86,
    "start_time": "2024-07-07T14:56:31.306Z"
   },
   {
    "duration": 259,
    "start_time": "2024-07-07T14:56:31.393Z"
   },
   {
    "duration": 126,
    "start_time": "2024-07-07T14:56:31.653Z"
   },
   {
    "duration": 1589,
    "start_time": "2024-07-07T14:56:31.781Z"
   },
   {
    "duration": 11,
    "start_time": "2024-07-07T14:56:33.371Z"
   },
   {
    "duration": 302,
    "start_time": "2024-07-07T14:56:33.384Z"
   },
   {
    "duration": 25,
    "start_time": "2024-07-07T14:56:33.689Z"
   },
   {
    "duration": 14,
    "start_time": "2024-07-07T14:56:33.715Z"
   },
   {
    "duration": 2869,
    "start_time": "2024-07-07T14:56:33.731Z"
   },
   {
    "duration": 8,
    "start_time": "2024-07-07T14:56:36.601Z"
   },
   {
    "duration": 3,
    "start_time": "2024-07-07T14:56:36.611Z"
   },
   {
    "duration": 7,
    "start_time": "2024-07-07T14:56:36.615Z"
   },
   {
    "duration": 4,
    "start_time": "2024-07-07T14:56:36.623Z"
   },
   {
    "duration": 11,
    "start_time": "2024-07-07T14:56:36.628Z"
   },
   {
    "duration": 6,
    "start_time": "2024-07-07T14:56:36.641Z"
   },
   {
    "duration": 3,
    "start_time": "2024-07-07T14:56:36.648Z"
   },
   {
    "duration": 66,
    "start_time": "2024-07-07T14:56:36.652Z"
   },
   {
    "duration": 2,
    "start_time": "2024-07-07T14:56:36.720Z"
   },
   {
    "duration": 288,
    "start_time": "2024-07-07T14:56:36.724Z"
   },
   {
    "duration": 19,
    "start_time": "2024-07-07T14:56:37.013Z"
   },
   {
    "duration": 308,
    "start_time": "2024-07-07T14:56:37.034Z"
   },
   {
    "duration": 311,
    "start_time": "2024-07-07T14:56:37.344Z"
   },
   {
    "duration": 283,
    "start_time": "2024-07-07T14:56:37.656Z"
   },
   {
    "duration": 301,
    "start_time": "2024-07-07T14:56:37.940Z"
   },
   {
    "duration": 297,
    "start_time": "2024-07-07T14:56:38.242Z"
   },
   {
    "duration": 290,
    "start_time": "2024-07-07T14:56:38.540Z"
   },
   {
    "duration": 81,
    "start_time": "2024-07-07T14:56:38.832Z"
   },
   {
    "duration": 0,
    "start_time": "2024-07-07T14:56:38.915Z"
   },
   {
    "duration": 0,
    "start_time": "2024-07-07T14:56:38.916Z"
   },
   {
    "duration": 0,
    "start_time": "2024-07-07T14:56:38.917Z"
   },
   {
    "duration": 0,
    "start_time": "2024-07-07T14:56:38.918Z"
   },
   {
    "duration": 29,
    "start_time": "2024-07-07T14:57:15.123Z"
   },
   {
    "duration": 4,
    "start_time": "2024-07-07T14:57:20.683Z"
   },
   {
    "duration": 696,
    "start_time": "2024-07-07T15:06:16.535Z"
   },
   {
    "duration": 13,
    "start_time": "2024-07-07T15:06:17.233Z"
   },
   {
    "duration": 27,
    "start_time": "2024-07-07T15:06:17.250Z"
   },
   {
    "duration": 1751,
    "start_time": "2024-07-07T15:06:17.279Z"
   },
   {
    "duration": 63,
    "start_time": "2024-07-07T15:06:19.031Z"
   },
   {
    "duration": 2,
    "start_time": "2024-07-07T15:06:19.096Z"
   },
   {
    "duration": 10,
    "start_time": "2024-07-07T15:06:19.100Z"
   },
   {
    "duration": 20,
    "start_time": "2024-07-07T15:06:19.111Z"
   },
   {
    "duration": 4,
    "start_time": "2024-07-07T15:06:19.132Z"
   },
   {
    "duration": 8,
    "start_time": "2024-07-07T15:06:19.138Z"
   },
   {
    "duration": 1646,
    "start_time": "2024-07-07T15:06:19.147Z"
   },
   {
    "duration": 15,
    "start_time": "2024-07-07T15:06:20.794Z"
   },
   {
    "duration": 291,
    "start_time": "2024-07-07T15:06:20.811Z"
   },
   {
    "duration": 18,
    "start_time": "2024-07-07T15:06:21.104Z"
   },
   {
    "duration": 33,
    "start_time": "2024-07-07T15:06:21.124Z"
   },
   {
    "duration": 3023,
    "start_time": "2024-07-07T15:06:21.159Z"
   },
   {
    "duration": 5,
    "start_time": "2024-07-07T15:06:24.183Z"
   },
   {
    "duration": 25,
    "start_time": "2024-07-07T15:06:24.189Z"
   },
   {
    "duration": 7,
    "start_time": "2024-07-07T15:06:24.216Z"
   },
   {
    "duration": 27,
    "start_time": "2024-07-07T15:06:24.225Z"
   },
   {
    "duration": 30,
    "start_time": "2024-07-07T15:06:24.253Z"
   },
   {
    "duration": 45,
    "start_time": "2024-07-07T15:06:24.284Z"
   },
   {
    "duration": 3,
    "start_time": "2024-07-07T15:06:24.331Z"
   },
   {
    "duration": 282,
    "start_time": "2024-07-07T15:06:24.336Z"
   },
   {
    "duration": 18,
    "start_time": "2024-07-07T15:06:24.619Z"
   },
   {
    "duration": 307,
    "start_time": "2024-07-07T15:06:24.638Z"
   },
   {
    "duration": 320,
    "start_time": "2024-07-07T15:06:24.946Z"
   },
   {
    "duration": 309,
    "start_time": "2024-07-07T15:06:25.268Z"
   },
   {
    "duration": 307,
    "start_time": "2024-07-07T15:06:25.578Z"
   },
   {
    "duration": 294,
    "start_time": "2024-07-07T15:06:25.886Z"
   },
   {
    "duration": 284,
    "start_time": "2024-07-07T15:06:26.182Z"
   },
   {
    "duration": 80,
    "start_time": "2024-07-07T15:06:26.468Z"
   },
   {
    "duration": 0,
    "start_time": "2024-07-07T15:06:26.549Z"
   },
   {
    "duration": 0,
    "start_time": "2024-07-07T15:06:26.550Z"
   },
   {
    "duration": 0,
    "start_time": "2024-07-07T15:06:26.551Z"
   },
   {
    "duration": 0,
    "start_time": "2024-07-07T15:06:26.552Z"
   },
   {
    "duration": 703,
    "start_time": "2024-07-07T15:10:57.794Z"
   },
   {
    "duration": 14,
    "start_time": "2024-07-07T15:10:58.498Z"
   },
   {
    "duration": 24,
    "start_time": "2024-07-07T15:10:58.513Z"
   },
   {
    "duration": 1725,
    "start_time": "2024-07-07T15:10:58.538Z"
   },
   {
    "duration": 63,
    "start_time": "2024-07-07T15:11:00.265Z"
   },
   {
    "duration": 21,
    "start_time": "2024-07-07T15:11:00.329Z"
   },
   {
    "duration": 120,
    "start_time": "2024-07-07T15:11:00.351Z"
   },
   {
    "duration": 48,
    "start_time": "2024-07-07T15:11:00.473Z"
   },
   {
    "duration": 25,
    "start_time": "2024-07-07T15:11:00.522Z"
   },
   {
    "duration": 19,
    "start_time": "2024-07-07T15:11:00.549Z"
   },
   {
    "duration": 1663,
    "start_time": "2024-07-07T15:11:00.570Z"
   },
   {
    "duration": 8,
    "start_time": "2024-07-07T15:11:02.235Z"
   },
   {
    "duration": 412,
    "start_time": "2024-07-07T15:11:02.244Z"
   },
   {
    "duration": 17,
    "start_time": "2024-07-07T15:11:02.658Z"
   },
   {
    "duration": 33,
    "start_time": "2024-07-07T15:11:02.677Z"
   },
   {
    "duration": 3007,
    "start_time": "2024-07-07T15:11:02.711Z"
   },
   {
    "duration": 6,
    "start_time": "2024-07-07T15:11:05.720Z"
   },
   {
    "duration": 9,
    "start_time": "2024-07-07T15:11:05.728Z"
   },
   {
    "duration": 7,
    "start_time": "2024-07-07T15:11:05.739Z"
   },
   {
    "duration": 31,
    "start_time": "2024-07-07T15:11:05.748Z"
   },
   {
    "duration": 28,
    "start_time": "2024-07-07T15:11:05.781Z"
   },
   {
    "duration": 30,
    "start_time": "2024-07-07T15:11:05.811Z"
   },
   {
    "duration": 4,
    "start_time": "2024-07-07T15:11:05.842Z"
   },
   {
    "duration": 300,
    "start_time": "2024-07-07T15:11:05.848Z"
   },
   {
    "duration": 19,
    "start_time": "2024-07-07T15:11:06.149Z"
   },
   {
    "duration": 289,
    "start_time": "2024-07-07T15:11:06.169Z"
   },
   {
    "duration": 296,
    "start_time": "2024-07-07T15:11:06.459Z"
   },
   {
    "duration": 280,
    "start_time": "2024-07-07T15:11:06.756Z"
   },
   {
    "duration": 294,
    "start_time": "2024-07-07T15:11:07.037Z"
   },
   {
    "duration": 294,
    "start_time": "2024-07-07T15:11:07.332Z"
   },
   {
    "duration": 282,
    "start_time": "2024-07-07T15:11:07.627Z"
   },
   {
    "duration": 73,
    "start_time": "2024-07-07T15:11:07.910Z"
   },
   {
    "duration": 0,
    "start_time": "2024-07-07T15:11:07.985Z"
   },
   {
    "duration": 0,
    "start_time": "2024-07-07T15:11:07.985Z"
   },
   {
    "duration": 0,
    "start_time": "2024-07-07T15:11:07.986Z"
   },
   {
    "duration": 0,
    "start_time": "2024-07-07T15:11:07.987Z"
   },
   {
    "duration": 8,
    "start_time": "2024-07-07T15:11:45.576Z"
   },
   {
    "duration": 312,
    "start_time": "2024-07-07T15:16:17.608Z"
   },
   {
    "duration": 364,
    "start_time": "2024-07-07T15:16:54.292Z"
   },
   {
    "duration": 285,
    "start_time": "2024-07-07T15:32:23.655Z"
   },
   {
    "duration": 33,
    "start_time": "2024-07-07T15:35:50.444Z"
   },
   {
    "duration": 3,
    "start_time": "2024-07-07T15:35:51.069Z"
   },
   {
    "duration": 314,
    "start_time": "2024-07-07T15:36:02.496Z"
   },
   {
    "duration": 286,
    "start_time": "2024-07-07T15:36:39.584Z"
   },
   {
    "duration": 47,
    "start_time": "2024-07-07T22:19:42.355Z"
   },
   {
    "duration": 1011,
    "start_time": "2024-07-07T22:19:48.424Z"
   },
   {
    "duration": 15,
    "start_time": "2024-07-07T22:19:49.437Z"
   },
   {
    "duration": 30,
    "start_time": "2024-07-07T22:19:49.453Z"
   },
   {
    "duration": 1770,
    "start_time": "2024-07-07T22:19:49.484Z"
   },
   {
    "duration": 65,
    "start_time": "2024-07-07T22:19:51.256Z"
   },
   {
    "duration": 4,
    "start_time": "2024-07-07T22:19:51.322Z"
   },
   {
    "duration": 33,
    "start_time": "2024-07-07T22:19:51.328Z"
   },
   {
    "duration": 32,
    "start_time": "2024-07-07T22:19:51.363Z"
   },
   {
    "duration": 4,
    "start_time": "2024-07-07T22:19:51.396Z"
   },
   {
    "duration": 16,
    "start_time": "2024-07-07T22:19:51.402Z"
   },
   {
    "duration": 1722,
    "start_time": "2024-07-07T22:19:51.420Z"
   },
   {
    "duration": 9,
    "start_time": "2024-07-07T22:19:53.144Z"
   },
   {
    "duration": 323,
    "start_time": "2024-07-07T22:19:53.154Z"
   },
   {
    "duration": 18,
    "start_time": "2024-07-07T22:19:53.479Z"
   },
   {
    "duration": 57,
    "start_time": "2024-07-07T22:19:53.498Z"
   },
   {
    "duration": 3119,
    "start_time": "2024-07-07T22:19:53.556Z"
   },
   {
    "duration": 5,
    "start_time": "2024-07-07T22:19:56.676Z"
   },
   {
    "duration": 8,
    "start_time": "2024-07-07T22:19:56.683Z"
   },
   {
    "duration": 7,
    "start_time": "2024-07-07T22:19:56.692Z"
   },
   {
    "duration": 37,
    "start_time": "2024-07-07T22:19:56.700Z"
   },
   {
    "duration": 3,
    "start_time": "2024-07-07T22:19:56.738Z"
   },
   {
    "duration": 37,
    "start_time": "2024-07-07T22:19:56.742Z"
   },
   {
    "duration": 2,
    "start_time": "2024-07-07T22:19:56.789Z"
   },
   {
    "duration": 289,
    "start_time": "2024-07-07T22:19:56.793Z"
   },
   {
    "duration": 22,
    "start_time": "2024-07-07T22:19:57.083Z"
   },
   {
    "duration": 301,
    "start_time": "2024-07-07T22:19:57.106Z"
   },
   {
    "duration": 318,
    "start_time": "2024-07-07T22:19:57.409Z"
   },
   {
    "duration": 300,
    "start_time": "2024-07-07T22:19:57.729Z"
   },
   {
    "duration": 307,
    "start_time": "2024-07-07T22:19:58.030Z"
   },
   {
    "duration": 301,
    "start_time": "2024-07-07T22:19:58.339Z"
   },
   {
    "duration": 294,
    "start_time": "2024-07-07T22:19:58.642Z"
   },
   {
    "duration": 87,
    "start_time": "2024-07-07T22:19:58.938Z"
   },
   {
    "duration": 0,
    "start_time": "2024-07-07T22:19:59.026Z"
   },
   {
    "duration": 0,
    "start_time": "2024-07-07T22:19:59.028Z"
   },
   {
    "duration": 0,
    "start_time": "2024-07-07T22:19:59.029Z"
   },
   {
    "duration": 0,
    "start_time": "2024-07-07T22:19:59.030Z"
   },
   {
    "duration": 319,
    "start_time": "2024-07-07T22:24:15.964Z"
   },
   {
    "duration": 368,
    "start_time": "2024-07-07T22:25:47.999Z"
   },
   {
    "duration": 292,
    "start_time": "2024-07-07T22:30:02.498Z"
   },
   {
    "duration": 290,
    "start_time": "2024-07-07T22:30:14.035Z"
   },
   {
    "duration": 302,
    "start_time": "2024-07-07T22:30:35.869Z"
   },
   {
    "duration": 290,
    "start_time": "2024-07-07T22:31:54.212Z"
   },
   {
    "duration": 8,
    "start_time": "2024-07-07T22:32:58.321Z"
   },
   {
    "duration": 636,
    "start_time": "2024-07-07T22:36:27.450Z"
   },
   {
    "duration": 13,
    "start_time": "2024-07-07T22:36:28.088Z"
   },
   {
    "duration": 26,
    "start_time": "2024-07-07T22:36:28.102Z"
   },
   {
    "duration": 1752,
    "start_time": "2024-07-07T22:36:28.130Z"
   },
   {
    "duration": 67,
    "start_time": "2024-07-07T22:36:29.884Z"
   },
   {
    "duration": 3,
    "start_time": "2024-07-07T22:36:29.952Z"
   },
   {
    "duration": 17,
    "start_time": "2024-07-07T22:36:29.957Z"
   },
   {
    "duration": 32,
    "start_time": "2024-07-07T22:36:29.975Z"
   },
   {
    "duration": 4,
    "start_time": "2024-07-07T22:36:30.008Z"
   },
   {
    "duration": 47,
    "start_time": "2024-07-07T22:36:30.013Z"
   },
   {
    "duration": 1650,
    "start_time": "2024-07-07T22:36:30.061Z"
   },
   {
    "duration": 8,
    "start_time": "2024-07-07T22:36:31.713Z"
   },
   {
    "duration": 342,
    "start_time": "2024-07-07T22:36:31.722Z"
   },
   {
    "duration": 23,
    "start_time": "2024-07-07T22:36:32.067Z"
   },
   {
    "duration": 37,
    "start_time": "2024-07-07T22:36:32.092Z"
   },
   {
    "duration": 2991,
    "start_time": "2024-07-07T22:36:32.130Z"
   },
   {
    "duration": 4,
    "start_time": "2024-07-07T22:36:35.123Z"
   },
   {
    "duration": 21,
    "start_time": "2024-07-07T22:36:35.128Z"
   },
   {
    "duration": 8,
    "start_time": "2024-07-07T22:36:35.150Z"
   },
   {
    "duration": 6,
    "start_time": "2024-07-07T22:36:35.160Z"
   },
   {
    "duration": 4,
    "start_time": "2024-07-07T22:36:35.168Z"
   },
   {
    "duration": 31,
    "start_time": "2024-07-07T22:36:35.173Z"
   },
   {
    "duration": 22,
    "start_time": "2024-07-07T22:36:35.206Z"
   },
   {
    "duration": 10,
    "start_time": "2024-07-07T22:36:35.230Z"
   },
   {
    "duration": 35,
    "start_time": "2024-07-07T22:36:35.241Z"
   },
   {
    "duration": 3,
    "start_time": "2024-07-07T22:36:35.277Z"
   },
   {
    "duration": 300,
    "start_time": "2024-07-07T22:36:35.281Z"
   },
   {
    "duration": 18,
    "start_time": "2024-07-07T22:36:35.582Z"
   },
   {
    "duration": 298,
    "start_time": "2024-07-07T22:36:35.602Z"
   },
   {
    "duration": 312,
    "start_time": "2024-07-07T22:36:35.901Z"
   },
   {
    "duration": 318,
    "start_time": "2024-07-07T22:36:36.215Z"
   },
   {
    "duration": 301,
    "start_time": "2024-07-07T22:36:36.535Z"
   },
   {
    "duration": 304,
    "start_time": "2024-07-07T22:36:36.838Z"
   },
   {
    "duration": 283,
    "start_time": "2024-07-07T22:36:37.143Z"
   },
   {
    "duration": 79,
    "start_time": "2024-07-07T22:36:37.427Z"
   },
   {
    "duration": 0,
    "start_time": "2024-07-07T22:36:37.508Z"
   },
   {
    "duration": 0,
    "start_time": "2024-07-07T22:36:37.508Z"
   },
   {
    "duration": 0,
    "start_time": "2024-07-07T22:36:37.510Z"
   },
   {
    "duration": 0,
    "start_time": "2024-07-07T22:36:37.511Z"
   },
   {
    "duration": 35,
    "start_time": "2024-07-07T22:37:08.634Z"
   },
   {
    "duration": 8,
    "start_time": "2024-07-07T22:37:11.017Z"
   },
   {
    "duration": 664,
    "start_time": "2024-07-07T22:38:54.603Z"
   },
   {
    "duration": 14,
    "start_time": "2024-07-07T22:38:55.269Z"
   },
   {
    "duration": 23,
    "start_time": "2024-07-07T22:38:55.284Z"
   },
   {
    "duration": 1698,
    "start_time": "2024-07-07T22:38:55.308Z"
   },
   {
    "duration": 64,
    "start_time": "2024-07-07T22:38:57.008Z"
   },
   {
    "duration": 3,
    "start_time": "2024-07-07T22:38:57.073Z"
   },
   {
    "duration": 15,
    "start_time": "2024-07-07T22:38:57.077Z"
   },
   {
    "duration": 29,
    "start_time": "2024-07-07T22:38:57.093Z"
   },
   {
    "duration": 4,
    "start_time": "2024-07-07T22:38:57.123Z"
   },
   {
    "duration": 8,
    "start_time": "2024-07-07T22:38:57.129Z"
   },
   {
    "duration": 1624,
    "start_time": "2024-07-07T22:38:57.139Z"
   },
   {
    "duration": 8,
    "start_time": "2024-07-07T22:38:58.765Z"
   },
   {
    "duration": 332,
    "start_time": "2024-07-07T22:38:58.774Z"
   },
   {
    "duration": 16,
    "start_time": "2024-07-07T22:38:59.109Z"
   },
   {
    "duration": 24,
    "start_time": "2024-07-07T22:38:59.126Z"
   },
   {
    "duration": 3031,
    "start_time": "2024-07-07T22:38:59.151Z"
   },
   {
    "duration": 7,
    "start_time": "2024-07-07T22:39:02.183Z"
   },
   {
    "duration": 25,
    "start_time": "2024-07-07T22:39:02.191Z"
   },
   {
    "duration": 28,
    "start_time": "2024-07-07T22:39:02.218Z"
   },
   {
    "duration": 15,
    "start_time": "2024-07-07T22:39:02.247Z"
   },
   {
    "duration": 8,
    "start_time": "2024-07-07T22:39:02.263Z"
   },
   {
    "duration": 35,
    "start_time": "2024-07-07T22:39:02.272Z"
   },
   {
    "duration": 30,
    "start_time": "2024-07-07T22:39:02.309Z"
   },
   {
    "duration": 4,
    "start_time": "2024-07-07T22:39:02.340Z"
   },
   {
    "duration": 37,
    "start_time": "2024-07-07T22:39:02.345Z"
   },
   {
    "duration": 3,
    "start_time": "2024-07-07T22:39:02.383Z"
   },
   {
    "duration": 327,
    "start_time": "2024-07-07T22:39:02.387Z"
   },
   {
    "duration": 17,
    "start_time": "2024-07-07T22:39:02.716Z"
   },
   {
    "duration": 322,
    "start_time": "2024-07-07T22:39:02.735Z"
   },
   {
    "duration": 294,
    "start_time": "2024-07-07T22:39:03.059Z"
   },
   {
    "duration": 316,
    "start_time": "2024-07-07T22:39:03.354Z"
   },
   {
    "duration": 335,
    "start_time": "2024-07-07T22:39:03.672Z"
   },
   {
    "duration": 346,
    "start_time": "2024-07-07T22:39:04.009Z"
   },
   {
    "duration": 285,
    "start_time": "2024-07-07T22:39:04.357Z"
   },
   {
    "duration": 79,
    "start_time": "2024-07-07T22:39:04.644Z"
   },
   {
    "duration": 0,
    "start_time": "2024-07-07T22:39:04.724Z"
   },
   {
    "duration": 0,
    "start_time": "2024-07-07T22:39:04.725Z"
   },
   {
    "duration": 0,
    "start_time": "2024-07-07T22:39:04.726Z"
   },
   {
    "duration": 0,
    "start_time": "2024-07-07T22:39:04.726Z"
   },
   {
    "duration": 314,
    "start_time": "2024-07-07T22:40:17.112Z"
   },
   {
    "duration": 392,
    "start_time": "2024-07-07T22:40:26.778Z"
   },
   {
    "duration": 9,
    "start_time": "2024-07-07T22:41:52.584Z"
   },
   {
    "duration": 112,
    "start_time": "2024-07-07T22:42:08.908Z"
   },
   {
    "duration": 117,
    "start_time": "2024-07-07T22:42:30.057Z"
   },
   {
    "duration": 3,
    "start_time": "2024-07-07T22:42:57.329Z"
   },
   {
    "duration": 112,
    "start_time": "2024-07-07T22:43:04.874Z"
   },
   {
    "duration": 288,
    "start_time": "2024-07-07T22:43:07.309Z"
   },
   {
    "duration": 113,
    "start_time": "2024-07-07T22:43:11.632Z"
   },
   {
    "duration": 357,
    "start_time": "2024-07-07T22:43:26.256Z"
   },
   {
    "duration": 125,
    "start_time": "2024-07-07T22:43:38.884Z"
   },
   {
    "duration": 182,
    "start_time": "2024-07-07T22:44:17.792Z"
   },
   {
    "duration": 144,
    "start_time": "2024-07-07T22:44:27.633Z"
   },
   {
    "duration": 143,
    "start_time": "2024-07-07T22:45:19.693Z"
   },
   {
    "duration": 136,
    "start_time": "2024-07-07T22:45:37.594Z"
   },
   {
    "duration": 131,
    "start_time": "2024-07-07T22:46:11.410Z"
   },
   {
    "duration": 133,
    "start_time": "2024-07-07T22:46:14.983Z"
   },
   {
    "duration": 151,
    "start_time": "2024-07-07T22:46:30.577Z"
   },
   {
    "duration": 352,
    "start_time": "2024-07-07T22:49:17.692Z"
   },
   {
    "duration": 345,
    "start_time": "2024-07-07T22:50:39.360Z"
   },
   {
    "duration": 346,
    "start_time": "2024-07-07T22:52:28.374Z"
   },
   {
    "duration": 310,
    "start_time": "2024-07-07T22:52:35.299Z"
   },
   {
    "duration": 286,
    "start_time": "2024-07-07T22:54:21.751Z"
   },
   {
    "duration": 285,
    "start_time": "2024-07-07T22:54:26.758Z"
   },
   {
    "duration": 272,
    "start_time": "2024-07-07T22:55:29.753Z"
   },
   {
    "duration": 364,
    "start_time": "2024-07-07T22:56:21.650Z"
   },
   {
    "duration": 61,
    "start_time": "2024-07-08T17:26:35.102Z"
   },
   {
    "duration": 1011,
    "start_time": "2024-07-08T17:26:40.737Z"
   },
   {
    "duration": 16,
    "start_time": "2024-07-08T17:26:41.750Z"
   },
   {
    "duration": 31,
    "start_time": "2024-07-08T17:26:41.769Z"
   },
   {
    "duration": 1777,
    "start_time": "2024-07-08T17:26:41.801Z"
   },
   {
    "duration": 118,
    "start_time": "2024-07-08T17:26:43.581Z"
   },
   {
    "duration": 3,
    "start_time": "2024-07-08T17:26:43.700Z"
   },
   {
    "duration": 17,
    "start_time": "2024-07-08T17:26:43.705Z"
   },
   {
    "duration": 25,
    "start_time": "2024-07-08T17:26:43.724Z"
   },
   {
    "duration": 4,
    "start_time": "2024-07-08T17:26:43.751Z"
   },
   {
    "duration": 19,
    "start_time": "2024-07-08T17:26:43.756Z"
   },
   {
    "duration": 1688,
    "start_time": "2024-07-08T17:26:43.776Z"
   },
   {
    "duration": 8,
    "start_time": "2024-07-08T17:26:45.466Z"
   },
   {
    "duration": 362,
    "start_time": "2024-07-08T17:26:45.475Z"
   },
   {
    "duration": 16,
    "start_time": "2024-07-08T17:26:45.839Z"
   },
   {
    "duration": 15,
    "start_time": "2024-07-08T17:26:45.857Z"
   },
   {
    "duration": 3182,
    "start_time": "2024-07-08T17:26:45.873Z"
   },
   {
    "duration": 5,
    "start_time": "2024-07-08T17:26:49.057Z"
   },
   {
    "duration": 4,
    "start_time": "2024-07-08T17:26:49.063Z"
   },
   {
    "duration": 8,
    "start_time": "2024-07-08T17:26:49.069Z"
   },
   {
    "duration": 4,
    "start_time": "2024-07-08T17:26:49.078Z"
   },
   {
    "duration": 27,
    "start_time": "2024-07-08T17:26:49.084Z"
   },
   {
    "duration": 76,
    "start_time": "2024-07-08T17:26:49.113Z"
   },
   {
    "duration": 8,
    "start_time": "2024-07-08T17:26:49.190Z"
   },
   {
    "duration": 13,
    "start_time": "2024-07-08T17:26:49.199Z"
   },
   {
    "duration": 35,
    "start_time": "2024-07-08T17:26:49.213Z"
   },
   {
    "duration": 4,
    "start_time": "2024-07-08T17:26:49.249Z"
   },
   {
    "duration": 299,
    "start_time": "2024-07-08T17:26:49.254Z"
   },
   {
    "duration": 19,
    "start_time": "2024-07-08T17:26:49.555Z"
   },
   {
    "duration": 314,
    "start_time": "2024-07-08T17:26:49.576Z"
   },
   {
    "duration": 305,
    "start_time": "2024-07-08T17:26:49.891Z"
   },
   {
    "duration": 308,
    "start_time": "2024-07-08T17:26:50.197Z"
   },
   {
    "duration": 343,
    "start_time": "2024-07-08T17:26:50.506Z"
   },
   {
    "duration": 321,
    "start_time": "2024-07-08T17:26:50.850Z"
   },
   {
    "duration": 324,
    "start_time": "2024-07-08T17:26:51.173Z"
   },
   {
    "duration": 166,
    "start_time": "2024-07-08T17:26:51.499Z"
   },
   {
    "duration": 287,
    "start_time": "2024-07-08T17:26:51.667Z"
   },
   {
    "duration": 369,
    "start_time": "2024-07-08T17:26:51.956Z"
   },
   {
    "duration": 304,
    "start_time": "2024-07-08T17:26:52.327Z"
   },
   {
    "duration": 274,
    "start_time": "2024-07-08T17:37:06.748Z"
   },
   {
    "duration": 6,
    "start_time": "2024-07-08T17:38:00.161Z"
   },
   {
    "duration": 8,
    "start_time": "2024-07-08T17:41:30.682Z"
   },
   {
    "duration": 177,
    "start_time": "2024-07-08T18:05:24.246Z"
   },
   {
    "duration": 500,
    "start_time": "2024-07-08T18:06:38.118Z"
   },
   {
    "duration": 537,
    "start_time": "2024-07-08T18:07:45.551Z"
   },
   {
    "duration": 74,
    "start_time": "2024-07-08T18:08:04.993Z"
   },
   {
    "duration": 451,
    "start_time": "2024-07-08T18:08:09.950Z"
   },
   {
    "duration": 473,
    "start_time": "2024-07-08T18:08:25.497Z"
   },
   {
    "duration": 560,
    "start_time": "2024-07-08T18:08:44.070Z"
   },
   {
    "duration": 447,
    "start_time": "2024-07-08T18:08:53.895Z"
   },
   {
    "duration": 479,
    "start_time": "2024-07-08T18:09:21.126Z"
   },
   {
    "duration": 502,
    "start_time": "2024-07-08T18:09:26.153Z"
   },
   {
    "duration": 621,
    "start_time": "2024-07-08T18:09:33.168Z"
   },
   {
    "duration": 12,
    "start_time": "2024-07-08T18:22:55.283Z"
   },
   {
    "duration": 39,
    "start_time": "2024-07-08T18:24:20.002Z"
   },
   {
    "duration": 27,
    "start_time": "2024-07-08T18:24:27.449Z"
   },
   {
    "duration": 35,
    "start_time": "2024-07-08T18:24:42.930Z"
   },
   {
    "duration": 32,
    "start_time": "2024-07-08T18:26:21.904Z"
   },
   {
    "duration": 29,
    "start_time": "2024-07-08T18:27:01.403Z"
   },
   {
    "duration": 17,
    "start_time": "2024-07-08T18:27:04.993Z"
   },
   {
    "duration": 229,
    "start_time": "2024-07-08T18:27:17.272Z"
   },
   {
    "duration": 19,
    "start_time": "2024-07-08T18:27:28.730Z"
   },
   {
    "duration": 19,
    "start_time": "2024-07-08T18:27:33.383Z"
   },
   {
    "duration": 5,
    "start_time": "2024-07-08T18:27:35.368Z"
   },
   {
    "duration": 153,
    "start_time": "2024-07-08T18:28:05.370Z"
   },
   {
    "duration": 195,
    "start_time": "2024-07-08T18:28:55.300Z"
   },
   {
    "duration": 187,
    "start_time": "2024-07-08T18:29:05.054Z"
   },
   {
    "duration": 204,
    "start_time": "2024-07-08T18:29:25.806Z"
   },
   {
    "duration": 175,
    "start_time": "2024-07-08T18:29:33.886Z"
   },
   {
    "duration": 189,
    "start_time": "2024-07-08T18:29:38.946Z"
   },
   {
    "duration": 164,
    "start_time": "2024-07-08T18:29:44.813Z"
   },
   {
    "duration": 180,
    "start_time": "2024-07-08T18:29:48.769Z"
   },
   {
    "duration": 149,
    "start_time": "2024-07-08T18:29:54.942Z"
   },
   {
    "duration": 381,
    "start_time": "2024-07-08T18:30:38.886Z"
   },
   {
    "duration": 146,
    "start_time": "2024-07-08T18:30:47.545Z"
   },
   {
    "duration": 239,
    "start_time": "2024-07-08T18:31:00.025Z"
   },
   {
    "duration": 4,
    "start_time": "2024-07-08T18:31:18.461Z"
   },
   {
    "duration": 147,
    "start_time": "2024-07-08T18:31:31.538Z"
   },
   {
    "duration": 146,
    "start_time": "2024-07-08T18:38:46.824Z"
   },
   {
    "duration": 144,
    "start_time": "2024-07-08T18:39:09.671Z"
   },
   {
    "duration": 156,
    "start_time": "2024-07-08T18:42:04.439Z"
   },
   {
    "duration": 1008,
    "start_time": "2024-07-08T18:45:26.475Z"
   },
   {
    "duration": 1080,
    "start_time": "2024-07-08T18:45:30.646Z"
   },
   {
    "duration": 158,
    "start_time": "2024-07-08T18:46:17.693Z"
   },
   {
    "duration": 173,
    "start_time": "2024-07-08T18:46:41.673Z"
   },
   {
    "duration": 173,
    "start_time": "2024-07-08T18:47:01.015Z"
   },
   {
    "duration": 1077,
    "start_time": "2024-07-08T18:47:53.033Z"
   },
   {
    "duration": 1623,
    "start_time": "2024-07-08T18:48:01.187Z"
   },
   {
    "duration": 761,
    "start_time": "2024-07-08T18:48:06.366Z"
   },
   {
    "duration": 19,
    "start_time": "2024-07-08T18:48:07.130Z"
   },
   {
    "duration": 26,
    "start_time": "2024-07-08T18:48:07.151Z"
   },
   {
    "duration": 1876,
    "start_time": "2024-07-08T18:48:07.178Z"
   },
   {
    "duration": 81,
    "start_time": "2024-07-08T18:48:09.056Z"
   },
   {
    "duration": 3,
    "start_time": "2024-07-08T18:48:09.139Z"
   },
   {
    "duration": 15,
    "start_time": "2024-07-08T18:48:09.144Z"
   },
   {
    "duration": 24,
    "start_time": "2024-07-08T18:48:09.160Z"
   },
   {
    "duration": 4,
    "start_time": "2024-07-08T18:48:09.185Z"
   },
   {
    "duration": 40,
    "start_time": "2024-07-08T18:48:09.190Z"
   },
   {
    "duration": 1855,
    "start_time": "2024-07-08T18:48:09.232Z"
   },
   {
    "duration": 9,
    "start_time": "2024-07-08T18:48:11.089Z"
   },
   {
    "duration": 357,
    "start_time": "2024-07-08T18:48:11.099Z"
   },
   {
    "duration": 16,
    "start_time": "2024-07-08T18:48:11.459Z"
   },
   {
    "duration": 98,
    "start_time": "2024-07-08T18:48:11.477Z"
   },
   {
    "duration": 3478,
    "start_time": "2024-07-08T18:48:11.577Z"
   },
   {
    "duration": 5,
    "start_time": "2024-07-08T18:48:15.056Z"
   },
   {
    "duration": 15,
    "start_time": "2024-07-08T18:48:15.063Z"
   },
   {
    "duration": 23,
    "start_time": "2024-07-08T18:48:15.079Z"
   },
   {
    "duration": 15,
    "start_time": "2024-07-08T18:48:15.104Z"
   },
   {
    "duration": 9,
    "start_time": "2024-07-08T18:48:15.121Z"
   },
   {
    "duration": 66,
    "start_time": "2024-07-08T18:48:15.132Z"
   },
   {
    "duration": 8,
    "start_time": "2024-07-08T18:48:15.199Z"
   },
   {
    "duration": 32,
    "start_time": "2024-07-08T18:48:15.211Z"
   },
   {
    "duration": 47,
    "start_time": "2024-07-08T18:48:15.244Z"
   },
   {
    "duration": 3,
    "start_time": "2024-07-08T18:48:15.292Z"
   },
   {
    "duration": 306,
    "start_time": "2024-07-08T18:48:15.296Z"
   },
   {
    "duration": 27,
    "start_time": "2024-07-08T18:48:15.603Z"
   },
   {
    "duration": 332,
    "start_time": "2024-07-08T18:48:15.631Z"
   },
   {
    "duration": 315,
    "start_time": "2024-07-08T18:48:15.964Z"
   },
   {
    "duration": 312,
    "start_time": "2024-07-08T18:48:16.280Z"
   },
   {
    "duration": 367,
    "start_time": "2024-07-08T18:48:16.593Z"
   },
   {
    "duration": 376,
    "start_time": "2024-07-08T18:48:16.961Z"
   },
   {
    "duration": 348,
    "start_time": "2024-07-08T18:48:17.339Z"
   },
   {
    "duration": 166,
    "start_time": "2024-07-08T18:48:17.688Z"
   },
   {
    "duration": 309,
    "start_time": "2024-07-08T18:48:17.855Z"
   },
   {
    "duration": 386,
    "start_time": "2024-07-08T18:48:18.165Z"
   },
   {
    "duration": 301,
    "start_time": "2024-07-08T18:48:18.552Z"
   },
   {
    "duration": 7,
    "start_time": "2024-07-08T18:48:18.854Z"
   },
   {
    "duration": 475,
    "start_time": "2024-07-08T18:48:18.862Z"
   },
   {
    "duration": 141,
    "start_time": "2024-07-08T18:48:19.341Z"
   },
   {
    "duration": 4,
    "start_time": "2024-07-08T18:48:19.484Z"
   },
   {
    "duration": 265,
    "start_time": "2024-07-08T18:48:19.489Z"
   },
   {
    "duration": 147,
    "start_time": "2024-07-08T18:48:19.756Z"
   },
   {
    "duration": 1091,
    "start_time": "2024-07-08T18:48:19.905Z"
   },
   {
    "duration": 1012,
    "start_time": "2024-07-08T18:49:04.189Z"
   },
   {
    "duration": 14,
    "start_time": "2024-07-08T18:49:07.518Z"
   },
   {
    "duration": 164,
    "start_time": "2024-07-08T18:50:57.761Z"
   },
   {
    "duration": 392,
    "start_time": "2024-07-08T18:53:40.043Z"
   },
   {
    "duration": 50,
    "start_time": "2024-07-08T18:53:55.599Z"
   },
   {
    "duration": 367,
    "start_time": "2024-07-08T18:54:35.632Z"
   },
   {
    "duration": 225,
    "start_time": "2024-07-08T18:54:40.742Z"
   },
   {
    "duration": 170,
    "start_time": "2024-07-08T18:56:21.227Z"
   },
   {
    "duration": 159,
    "start_time": "2024-07-08T18:59:14.642Z"
   },
   {
    "duration": 154,
    "start_time": "2024-07-08T18:59:19.781Z"
   },
   {
    "duration": 12,
    "start_time": "2024-07-08T19:00:45.063Z"
   },
   {
    "duration": 146,
    "start_time": "2024-07-08T19:01:48.540Z"
   },
   {
    "duration": 18,
    "start_time": "2024-07-08T19:02:07.286Z"
   },
   {
    "duration": 153,
    "start_time": "2024-07-08T19:02:15.126Z"
   },
   {
    "duration": 160,
    "start_time": "2024-07-08T19:02:34.306Z"
   },
   {
    "duration": 148,
    "start_time": "2024-07-08T19:02:49.901Z"
   },
   {
    "duration": 171,
    "start_time": "2024-07-08T19:03:37.773Z"
   },
   {
    "duration": 149,
    "start_time": "2024-07-08T19:03:38.385Z"
   },
   {
    "duration": 143,
    "start_time": "2024-07-08T19:04:54.498Z"
   },
   {
    "duration": 170,
    "start_time": "2024-07-08T19:04:55.081Z"
   },
   {
    "duration": 135,
    "start_time": "2024-07-08T19:04:57.138Z"
   },
   {
    "duration": 61,
    "start_time": "2024-07-08T19:11:01.585Z"
   },
   {
    "duration": 21,
    "start_time": "2024-07-08T19:12:00.865Z"
   },
   {
    "duration": 33,
    "start_time": "2024-07-08T19:12:07.272Z"
   },
   {
    "duration": 34,
    "start_time": "2024-07-08T19:12:25.271Z"
   },
   {
    "duration": 28,
    "start_time": "2024-07-08T19:12:54.969Z"
   },
   {
    "duration": 285,
    "start_time": "2024-07-08T19:13:14.981Z"
   },
   {
    "duration": 314,
    "start_time": "2024-07-08T19:13:32.344Z"
   },
   {
    "duration": 16,
    "start_time": "2024-07-08T19:13:47.168Z"
   },
   {
    "duration": 27,
    "start_time": "2024-07-08T19:13:51.399Z"
   },
   {
    "duration": 20,
    "start_time": "2024-07-08T19:14:05.439Z"
   },
   {
    "duration": 24,
    "start_time": "2024-07-08T19:15:11.571Z"
   },
   {
    "duration": 19,
    "start_time": "2024-07-08T19:15:36.930Z"
   },
   {
    "duration": 21,
    "start_time": "2024-07-08T19:15:46.156Z"
   },
   {
    "duration": 24,
    "start_time": "2024-07-08T19:16:05.666Z"
   },
   {
    "duration": 42,
    "start_time": "2024-07-08T19:16:22.684Z"
   },
   {
    "duration": 18,
    "start_time": "2024-07-08T19:19:11.247Z"
   },
   {
    "duration": 28,
    "start_time": "2024-07-08T19:36:45.453Z"
   },
   {
    "duration": 16,
    "start_time": "2024-07-08T19:36:53.753Z"
   },
   {
    "duration": 23,
    "start_time": "2024-07-08T19:37:00.919Z"
   },
   {
    "duration": 990,
    "start_time": "2024-07-08T19:37:17.994Z"
   },
   {
    "duration": 1044,
    "start_time": "2024-07-08T19:38:34.149Z"
   },
   {
    "duration": 7,
    "start_time": "2024-07-08T19:41:10.705Z"
   },
   {
    "duration": 45,
    "start_time": "2024-07-08T19:41:22.405Z"
   },
   {
    "duration": 57,
    "start_time": "2024-07-08T19:41:37.339Z"
   },
   {
    "duration": 54,
    "start_time": "2024-07-08T19:41:40.815Z"
   },
   {
    "duration": 59,
    "start_time": "2024-07-08T19:41:46.618Z"
   },
   {
    "duration": 56,
    "start_time": "2024-07-08T19:41:54.687Z"
   },
   {
    "duration": 9,
    "start_time": "2024-07-08T19:42:14.336Z"
   },
   {
    "duration": 12,
    "start_time": "2024-07-08T19:42:23.805Z"
   },
   {
    "duration": 8,
    "start_time": "2024-07-08T19:42:28.834Z"
   },
   {
    "duration": 97,
    "start_time": "2024-07-08T19:42:38.775Z"
   },
   {
    "duration": 1032,
    "start_time": "2024-07-08T19:42:59.396Z"
   },
   {
    "duration": 8,
    "start_time": "2024-07-08T19:43:01.871Z"
   },
   {
    "duration": 122,
    "start_time": "2024-07-08T19:43:05.232Z"
   },
   {
    "duration": 10,
    "start_time": "2024-07-08T19:43:08.744Z"
   },
   {
    "duration": 13,
    "start_time": "2024-07-08T19:43:15.524Z"
   },
   {
    "duration": 14,
    "start_time": "2024-07-08T19:46:58.270Z"
   },
   {
    "duration": 15,
    "start_time": "2024-07-08T19:47:29.189Z"
   },
   {
    "duration": 33,
    "start_time": "2024-07-08T19:50:15.006Z"
   },
   {
    "duration": 25,
    "start_time": "2024-07-08T19:51:15.420Z"
   },
   {
    "duration": 23,
    "start_time": "2024-07-08T19:51:21.823Z"
   },
   {
    "duration": 142,
    "start_time": "2024-07-08T19:52:02.845Z"
   },
   {
    "duration": 217,
    "start_time": "2024-07-08T19:52:06.927Z"
   },
   {
    "duration": 10,
    "start_time": "2024-07-08T19:52:29.072Z"
   },
   {
    "duration": 10,
    "start_time": "2024-07-08T19:52:31.428Z"
   },
   {
    "duration": 143,
    "start_time": "2024-07-08T19:52:36.870Z"
   },
   {
    "duration": 161,
    "start_time": "2024-07-08T19:52:46.418Z"
   },
   {
    "duration": 4,
    "start_time": "2024-07-08T21:16:54.648Z"
   },
   {
    "duration": 1072,
    "start_time": "2024-07-08T22:14:37.144Z"
   },
   {
    "duration": 25,
    "start_time": "2024-07-08T22:14:38.219Z"
   },
   {
    "duration": 35,
    "start_time": "2024-07-08T22:14:38.246Z"
   },
   {
    "duration": 2099,
    "start_time": "2024-07-08T22:14:38.283Z"
   },
   {
    "duration": 75,
    "start_time": "2024-07-08T22:14:40.384Z"
   },
   {
    "duration": 2,
    "start_time": "2024-07-08T22:14:40.461Z"
   },
   {
    "duration": 22,
    "start_time": "2024-07-08T22:14:40.464Z"
   },
   {
    "duration": 26,
    "start_time": "2024-07-08T22:14:40.487Z"
   },
   {
    "duration": 4,
    "start_time": "2024-07-08T22:14:40.515Z"
   },
   {
    "duration": 35,
    "start_time": "2024-07-08T22:14:40.522Z"
   },
   {
    "duration": 1840,
    "start_time": "2024-07-08T22:14:40.558Z"
   },
   {
    "duration": 9,
    "start_time": "2024-07-08T22:14:42.400Z"
   },
   {
    "duration": 359,
    "start_time": "2024-07-08T22:14:42.411Z"
   },
   {
    "duration": 23,
    "start_time": "2024-07-08T22:14:42.772Z"
   },
   {
    "duration": 18,
    "start_time": "2024-07-08T22:14:42.797Z"
   },
   {
    "duration": 3607,
    "start_time": "2024-07-08T22:14:42.817Z"
   },
   {
    "duration": 6,
    "start_time": "2024-07-08T22:14:46.425Z"
   },
   {
    "duration": 4,
    "start_time": "2024-07-08T22:14:46.433Z"
   },
   {
    "duration": 9,
    "start_time": "2024-07-08T22:14:46.439Z"
   },
   {
    "duration": 32,
    "start_time": "2024-07-08T22:14:46.450Z"
   },
   {
    "duration": 6,
    "start_time": "2024-07-08T22:14:46.485Z"
   },
   {
    "duration": 95,
    "start_time": "2024-07-08T22:14:46.493Z"
   },
   {
    "duration": 8,
    "start_time": "2024-07-08T22:14:46.590Z"
   },
   {
    "duration": 25,
    "start_time": "2024-07-08T22:14:46.599Z"
   },
   {
    "duration": 47,
    "start_time": "2024-07-08T22:14:46.626Z"
   },
   {
    "duration": 3,
    "start_time": "2024-07-08T22:14:46.675Z"
   },
   {
    "duration": 314,
    "start_time": "2024-07-08T22:14:46.681Z"
   },
   {
    "duration": 23,
    "start_time": "2024-07-08T22:14:46.999Z"
   },
   {
    "duration": 385,
    "start_time": "2024-07-08T22:14:47.024Z"
   },
   {
    "duration": 369,
    "start_time": "2024-07-08T22:14:47.410Z"
   },
   {
    "duration": 373,
    "start_time": "2024-07-08T22:14:47.782Z"
   },
   {
    "duration": 372,
    "start_time": "2024-07-08T22:14:48.157Z"
   },
   {
    "duration": 370,
    "start_time": "2024-07-08T22:14:48.530Z"
   },
   {
    "duration": 403,
    "start_time": "2024-07-08T22:14:48.902Z"
   },
   {
    "duration": 175,
    "start_time": "2024-07-08T22:14:49.307Z"
   },
   {
    "duration": 325,
    "start_time": "2024-07-08T22:14:49.483Z"
   },
   {
    "duration": 455,
    "start_time": "2024-07-08T22:14:49.809Z"
   },
   {
    "duration": 352,
    "start_time": "2024-07-08T22:14:50.265Z"
   },
   {
    "duration": 9,
    "start_time": "2024-07-08T22:14:50.619Z"
   },
   {
    "duration": 579,
    "start_time": "2024-07-08T22:14:50.630Z"
   },
   {
    "duration": 171,
    "start_time": "2024-07-08T22:14:51.211Z"
   },
   {
    "duration": 6,
    "start_time": "2024-07-08T22:14:51.383Z"
   },
   {
    "duration": 179,
    "start_time": "2024-07-08T22:14:51.391Z"
   },
   {
    "duration": 186,
    "start_time": "2024-07-08T22:14:51.571Z"
   },
   {
    "duration": 165,
    "start_time": "2024-07-08T22:14:51.759Z"
   },
   {
    "duration": 288,
    "start_time": "2024-07-08T22:14:51.926Z"
   },
   {
    "duration": 180,
    "start_time": "2024-07-08T22:14:52.216Z"
   },
   {
    "duration": 191,
    "start_time": "2024-07-08T22:14:52.397Z"
   },
   {
    "duration": 165,
    "start_time": "2024-07-08T22:14:52.590Z"
   },
   {
    "duration": 51,
    "start_time": "2024-07-08T22:14:52.757Z"
   },
   {
    "duration": 181,
    "start_time": "2024-07-08T22:14:52.810Z"
   },
   {
    "duration": 52,
    "start_time": "2024-07-09T11:23:38.511Z"
   },
   {
    "duration": 50,
    "start_time": "2024-07-09T18:15:28.638Z"
   },
   {
    "duration": 1049,
    "start_time": "2024-07-09T18:15:36.254Z"
   },
   {
    "duration": 16,
    "start_time": "2024-07-09T18:15:37.305Z"
   },
   {
    "duration": 25,
    "start_time": "2024-07-09T18:15:39.073Z"
   },
   {
    "duration": 1773,
    "start_time": "2024-07-09T18:15:39.233Z"
   },
   {
    "duration": 71,
    "start_time": "2024-07-09T18:15:41.008Z"
   },
   {
    "duration": 5,
    "start_time": "2024-07-09T18:15:56.790Z"
   },
   {
    "duration": 744,
    "start_time": "2024-07-09T18:15:59.199Z"
   },
   {
    "duration": 699,
    "start_time": "2024-07-09T18:16:07.297Z"
   },
   {
    "duration": 3,
    "start_time": "2024-07-09T18:16:27.316Z"
   },
   {
    "duration": 9,
    "start_time": "2024-07-09T18:16:29.003Z"
   },
   {
    "duration": 17,
    "start_time": "2024-07-09T18:16:38.318Z"
   },
   {
    "duration": 14,
    "start_time": "2024-07-09T18:16:42.174Z"
   },
   {
    "duration": 15,
    "start_time": "2024-07-09T18:17:25.259Z"
   },
   {
    "duration": 17,
    "start_time": "2024-07-09T18:17:45.434Z"
   },
   {
    "duration": 16,
    "start_time": "2024-07-09T18:17:54.116Z"
   },
   {
    "duration": 16,
    "start_time": "2024-07-09T18:17:59.309Z"
   },
   {
    "duration": 10,
    "start_time": "2024-07-09T18:18:51.049Z"
   },
   {
    "duration": 7,
    "start_time": "2024-07-09T18:18:54.086Z"
   },
   {
    "duration": 11,
    "start_time": "2024-07-09T18:24:08.201Z"
   },
   {
    "duration": 7,
    "start_time": "2024-07-09T18:24:15.042Z"
   },
   {
    "duration": 57,
    "start_time": "2024-07-09T18:24:24.829Z"
   },
   {
    "duration": 8,
    "start_time": "2024-07-09T18:24:33.706Z"
   },
   {
    "duration": 7,
    "start_time": "2024-07-09T18:24:39.639Z"
   },
   {
    "duration": 6,
    "start_time": "2024-07-09T18:25:54.795Z"
   },
   {
    "duration": 6,
    "start_time": "2024-07-09T18:26:00.262Z"
   },
   {
    "duration": 62,
    "start_time": "2024-07-09T18:26:05.875Z"
   },
   {
    "duration": 5,
    "start_time": "2024-07-09T18:26:41.245Z"
   },
   {
    "duration": 5,
    "start_time": "2024-07-09T18:27:19.118Z"
   },
   {
    "duration": 9,
    "start_time": "2024-07-09T18:27:35.481Z"
   },
   {
    "duration": 8,
    "start_time": "2024-07-09T18:28:08.714Z"
   },
   {
    "duration": 10,
    "start_time": "2024-07-09T18:30:18.593Z"
   },
   {
    "duration": 9,
    "start_time": "2024-07-09T18:33:03.390Z"
   },
   {
    "duration": 8,
    "start_time": "2024-07-09T18:33:07.874Z"
   },
   {
    "duration": 7,
    "start_time": "2024-07-09T18:33:11.097Z"
   },
   {
    "duration": 50,
    "start_time": "2024-07-09T18:33:40.696Z"
   },
   {
    "duration": 9,
    "start_time": "2024-07-09T18:36:26.166Z"
   },
   {
    "duration": 14,
    "start_time": "2024-07-09T18:36:36.884Z"
   },
   {
    "duration": 7,
    "start_time": "2024-07-09T18:36:57.919Z"
   },
   {
    "duration": 8,
    "start_time": "2024-07-09T18:37:01.834Z"
   },
   {
    "duration": 14,
    "start_time": "2024-07-09T18:37:18.519Z"
   },
   {
    "duration": 18,
    "start_time": "2024-07-09T18:37:36.955Z"
   },
   {
    "duration": 16,
    "start_time": "2024-07-09T18:38:18.046Z"
   },
   {
    "duration": 17,
    "start_time": "2024-07-09T18:38:53.968Z"
   },
   {
    "duration": 13,
    "start_time": "2024-07-09T18:39:44.585Z"
   },
   {
    "duration": 13,
    "start_time": "2024-07-09T18:39:52.949Z"
   },
   {
    "duration": 14,
    "start_time": "2024-07-09T18:39:55.736Z"
   },
   {
    "duration": 13,
    "start_time": "2024-07-09T18:39:58.327Z"
   },
   {
    "duration": 15,
    "start_time": "2024-07-09T18:40:02.902Z"
   },
   {
    "duration": 14,
    "start_time": "2024-07-09T18:40:06.650Z"
   },
   {
    "duration": 14,
    "start_time": "2024-07-09T18:40:11.382Z"
   },
   {
    "duration": 18,
    "start_time": "2024-07-09T18:40:17.772Z"
   },
   {
    "duration": 11,
    "start_time": "2024-07-09T18:40:34.045Z"
   },
   {
    "duration": 10,
    "start_time": "2024-07-09T18:40:41.584Z"
   },
   {
    "duration": 14,
    "start_time": "2024-07-09T18:41:48.536Z"
   },
   {
    "duration": 13,
    "start_time": "2024-07-09T18:41:53.688Z"
   },
   {
    "duration": 11,
    "start_time": "2024-07-09T18:42:01.547Z"
   },
   {
    "duration": 6,
    "start_time": "2024-07-09T18:44:07.882Z"
   },
   {
    "duration": 7,
    "start_time": "2024-07-09T18:44:10.053Z"
   },
   {
    "duration": 4,
    "start_time": "2024-07-09T18:44:11.701Z"
   },
   {
    "duration": 8,
    "start_time": "2024-07-09T18:44:22.355Z"
   },
   {
    "duration": 4,
    "start_time": "2024-07-09T18:44:29.498Z"
   },
   {
    "duration": 8,
    "start_time": "2024-07-09T18:44:34.684Z"
   },
   {
    "duration": 8,
    "start_time": "2024-07-09T18:44:40.895Z"
   },
   {
    "duration": 8,
    "start_time": "2024-07-09T18:44:48.187Z"
   },
   {
    "duration": 53,
    "start_time": "2024-07-09T18:45:12.139Z"
   },
   {
    "duration": 8,
    "start_time": "2024-07-09T18:45:17.131Z"
   },
   {
    "duration": 96,
    "start_time": "2024-07-09T18:46:29.158Z"
   },
   {
    "duration": 8,
    "start_time": "2024-07-09T18:46:49.547Z"
   },
   {
    "duration": 4,
    "start_time": "2024-07-09T18:47:03.959Z"
   },
   {
    "duration": 26,
    "start_time": "2024-07-09T18:48:06.899Z"
   },
   {
    "duration": 6,
    "start_time": "2024-07-09T18:48:19.410Z"
   },
   {
    "duration": 11,
    "start_time": "2024-07-09T18:48:24.370Z"
   },
   {
    "duration": 10,
    "start_time": "2024-07-09T18:48:31.900Z"
   },
   {
    "duration": 7,
    "start_time": "2024-07-09T18:50:06.497Z"
   },
   {
    "duration": 9,
    "start_time": "2024-07-09T18:51:04.371Z"
   },
   {
    "duration": 16,
    "start_time": "2024-07-09T18:52:47.051Z"
   },
   {
    "duration": 13,
    "start_time": "2024-07-09T18:52:57.336Z"
   },
   {
    "duration": 14,
    "start_time": "2024-07-09T18:53:01.522Z"
   },
   {
    "duration": 5,
    "start_time": "2024-07-09T18:53:20.391Z"
   },
   {
    "duration": 5,
    "start_time": "2024-07-09T18:53:25.353Z"
   },
   {
    "duration": 22,
    "start_time": "2024-07-09T18:53:49.313Z"
   },
   {
    "duration": 15,
    "start_time": "2024-07-09T18:54:01.305Z"
   },
   {
    "duration": 21,
    "start_time": "2024-07-09T18:54:04.689Z"
   },
   {
    "duration": 15,
    "start_time": "2024-07-09T18:54:18.185Z"
   },
   {
    "duration": 22,
    "start_time": "2024-07-09T18:54:20.825Z"
   },
   {
    "duration": 15,
    "start_time": "2024-07-09T18:54:24.743Z"
   },
   {
    "duration": 16,
    "start_time": "2024-07-09T18:54:31.420Z"
   },
   {
    "duration": 15,
    "start_time": "2024-07-09T18:54:33.327Z"
   },
   {
    "duration": 15,
    "start_time": "2024-07-09T18:54:34.849Z"
   },
   {
    "duration": 15,
    "start_time": "2024-07-09T18:54:35.044Z"
   },
   {
    "duration": 9,
    "start_time": "2024-07-09T18:54:35.202Z"
   },
   {
    "duration": 8,
    "start_time": "2024-07-09T18:54:35.344Z"
   },
   {
    "duration": 675,
    "start_time": "2024-07-09T18:54:51.533Z"
   },
   {
    "duration": 17,
    "start_time": "2024-07-09T18:54:52.210Z"
   },
   {
    "duration": 31,
    "start_time": "2024-07-09T18:54:52.228Z"
   },
   {
    "duration": 1785,
    "start_time": "2024-07-09T18:54:52.261Z"
   },
   {
    "duration": 66,
    "start_time": "2024-07-09T18:54:54.049Z"
   },
   {
    "duration": 4,
    "start_time": "2024-07-09T18:54:54.117Z"
   },
   {
    "duration": 15,
    "start_time": "2024-07-09T18:54:54.122Z"
   },
   {
    "duration": 41,
    "start_time": "2024-07-09T18:54:54.139Z"
   },
   {
    "duration": 41,
    "start_time": "2024-07-09T18:54:54.182Z"
   },
   {
    "duration": 16,
    "start_time": "2024-07-09T18:54:54.225Z"
   },
   {
    "duration": 10,
    "start_time": "2024-07-09T18:54:54.243Z"
   },
   {
    "duration": 22,
    "start_time": "2024-07-09T18:54:54.254Z"
   },
   {
    "duration": 21,
    "start_time": "2024-07-09T18:54:54.277Z"
   },
   {
    "duration": 25,
    "start_time": "2024-07-09T18:54:54.300Z"
   },
   {
    "duration": 21,
    "start_time": "2024-07-09T18:54:54.326Z"
   },
   {
    "duration": 340,
    "start_time": "2024-07-09T18:54:54.349Z"
   },
   {
    "duration": 19,
    "start_time": "2024-07-09T18:54:54.690Z"
   },
   {
    "duration": 18,
    "start_time": "2024-07-09T18:54:54.710Z"
   },
   {
    "duration": 3061,
    "start_time": "2024-07-09T18:54:54.730Z"
   },
   {
    "duration": 5,
    "start_time": "2024-07-09T18:54:57.792Z"
   },
   {
    "duration": 33,
    "start_time": "2024-07-09T18:54:57.798Z"
   },
   {
    "duration": 9,
    "start_time": "2024-07-09T18:54:57.833Z"
   },
   {
    "duration": 5,
    "start_time": "2024-07-09T18:54:57.843Z"
   },
   {
    "duration": 7,
    "start_time": "2024-07-09T18:54:57.849Z"
   },
   {
    "duration": 73,
    "start_time": "2024-07-09T18:54:57.858Z"
   },
   {
    "duration": 7,
    "start_time": "2024-07-09T18:54:57.932Z"
   },
   {
    "duration": 3,
    "start_time": "2024-07-09T18:54:57.940Z"
   },
   {
    "duration": 27,
    "start_time": "2024-07-09T18:54:57.945Z"
   },
   {
    "duration": 19,
    "start_time": "2024-07-09T18:54:57.974Z"
   },
   {
    "duration": 292,
    "start_time": "2024-07-09T18:54:57.994Z"
   },
   {
    "duration": 19,
    "start_time": "2024-07-09T18:54:58.289Z"
   },
   {
    "duration": 340,
    "start_time": "2024-07-09T18:54:58.310Z"
   },
   {
    "duration": 355,
    "start_time": "2024-07-09T18:54:58.652Z"
   },
   {
    "duration": 308,
    "start_time": "2024-07-09T18:54:59.008Z"
   },
   {
    "duration": 345,
    "start_time": "2024-07-09T18:54:59.318Z"
   },
   {
    "duration": 327,
    "start_time": "2024-07-09T18:54:59.664Z"
   },
   {
    "duration": 316,
    "start_time": "2024-07-09T18:54:59.992Z"
   },
   {
    "duration": 163,
    "start_time": "2024-07-09T18:55:00.310Z"
   },
   {
    "duration": 347,
    "start_time": "2024-07-09T18:55:00.475Z"
   },
   {
    "duration": 296,
    "start_time": "2024-07-09T18:55:00.824Z"
   },
   {
    "duration": 292,
    "start_time": "2024-07-09T18:55:01.124Z"
   },
   {
    "duration": 7,
    "start_time": "2024-07-09T18:55:01.417Z"
   },
   {
    "duration": 676,
    "start_time": "2024-07-09T18:55:01.425Z"
   },
   {
    "duration": 146,
    "start_time": "2024-07-09T18:55:02.103Z"
   },
   {
    "duration": 4,
    "start_time": "2024-07-09T18:55:02.251Z"
   },
   {
    "duration": 189,
    "start_time": "2024-07-09T18:55:02.256Z"
   },
   {
    "duration": 156,
    "start_time": "2024-07-09T18:55:02.446Z"
   },
   {
    "duration": 243,
    "start_time": "2024-07-09T18:55:02.604Z"
   },
   {
    "duration": 158,
    "start_time": "2024-07-09T18:55:02.848Z"
   },
   {
    "duration": 145,
    "start_time": "2024-07-09T18:55:03.007Z"
   },
   {
    "duration": 143,
    "start_time": "2024-07-09T18:55:03.153Z"
   },
   {
    "duration": 142,
    "start_time": "2024-07-09T18:55:03.297Z"
   },
   {
    "duration": 29,
    "start_time": "2024-07-09T18:55:03.441Z"
   },
   {
    "duration": 152,
    "start_time": "2024-07-09T18:55:03.472Z"
   },
   {
    "duration": 36,
    "start_time": "2024-07-09T18:55:33.307Z"
   },
   {
    "duration": 8,
    "start_time": "2024-07-09T18:55:42.578Z"
   },
   {
    "duration": 5,
    "start_time": "2024-07-09T18:58:16.474Z"
   },
   {
    "duration": 5,
    "start_time": "2024-07-09T18:58:28.939Z"
   },
   {
    "duration": 4,
    "start_time": "2024-07-09T18:58:57.651Z"
   },
   {
    "duration": 4,
    "start_time": "2024-07-09T18:59:01.290Z"
   },
   {
    "duration": 73,
    "start_time": "2024-07-09T18:59:03.753Z"
   },
   {
    "duration": 4,
    "start_time": "2024-07-09T18:59:07.313Z"
   },
   {
    "duration": 5,
    "start_time": "2024-07-09T18:59:19.321Z"
   },
   {
    "duration": 4,
    "start_time": "2024-07-09T18:59:24.056Z"
   },
   {
    "duration": 53,
    "start_time": "2024-07-09T18:59:30.506Z"
   },
   {
    "duration": 6,
    "start_time": "2024-07-09T18:59:37.443Z"
   },
   {
    "duration": 4,
    "start_time": "2024-07-09T19:15:29.504Z"
   },
   {
    "duration": 4,
    "start_time": "2024-07-09T19:15:46.671Z"
   },
   {
    "duration": 7,
    "start_time": "2024-07-09T19:15:51.686Z"
   },
   {
    "duration": 5,
    "start_time": "2024-07-09T19:15:56.526Z"
   },
   {
    "duration": 4,
    "start_time": "2024-07-09T19:16:12.500Z"
   },
   {
    "duration": 7,
    "start_time": "2024-07-09T19:17:19.332Z"
   },
   {
    "duration": 6,
    "start_time": "2024-07-09T19:17:24.874Z"
   },
   {
    "duration": 5,
    "start_time": "2024-07-09T19:17:29.894Z"
   },
   {
    "duration": 30,
    "start_time": "2024-07-09T19:19:25.830Z"
   },
   {
    "duration": 23,
    "start_time": "2024-07-09T19:20:00.625Z"
   },
   {
    "duration": 216,
    "start_time": "2024-07-09T19:20:31.865Z"
   },
   {
    "duration": 14,
    "start_time": "2024-07-09T19:21:09.827Z"
   },
   {
    "duration": 24,
    "start_time": "2024-07-09T19:21:32.449Z"
   },
   {
    "duration": 14,
    "start_time": "2024-07-09T19:22:21.591Z"
   },
   {
    "duration": 9,
    "start_time": "2024-07-09T19:22:30.194Z"
   },
   {
    "duration": 22,
    "start_time": "2024-07-09T19:22:33.231Z"
   },
   {
    "duration": 16,
    "start_time": "2024-07-09T19:23:25.744Z"
   },
   {
    "duration": 665,
    "start_time": "2024-07-09T19:24:30.336Z"
   },
   {
    "duration": 14,
    "start_time": "2024-07-09T19:24:31.003Z"
   },
   {
    "duration": 104,
    "start_time": "2024-07-09T19:24:31.018Z"
   },
   {
    "duration": 1847,
    "start_time": "2024-07-09T19:24:31.123Z"
   },
   {
    "duration": 78,
    "start_time": "2024-07-09T19:24:32.972Z"
   },
   {
    "duration": 3,
    "start_time": "2024-07-09T19:24:33.051Z"
   },
   {
    "duration": 25,
    "start_time": "2024-07-09T19:24:33.055Z"
   },
   {
    "duration": 19,
    "start_time": "2024-07-09T19:24:33.082Z"
   },
   {
    "duration": 12,
    "start_time": "2024-07-09T19:24:33.102Z"
   },
   {
    "duration": 5,
    "start_time": "2024-07-09T19:24:33.116Z"
   },
   {
    "duration": 16,
    "start_time": "2024-07-09T19:24:33.122Z"
   },
   {
    "duration": 8,
    "start_time": "2024-07-09T19:24:33.140Z"
   },
   {
    "duration": 8,
    "start_time": "2024-07-09T19:24:33.149Z"
   },
   {
    "duration": 31,
    "start_time": "2024-07-09T19:24:33.158Z"
   },
   {
    "duration": 7,
    "start_time": "2024-07-09T19:24:33.191Z"
   },
   {
    "duration": 348,
    "start_time": "2024-07-09T19:24:33.200Z"
   },
   {
    "duration": 22,
    "start_time": "2024-07-09T19:24:33.549Z"
   },
   {
    "duration": 40,
    "start_time": "2024-07-09T19:24:33.572Z"
   },
   {
    "duration": 3039,
    "start_time": "2024-07-09T19:24:33.614Z"
   },
   {
    "duration": 5,
    "start_time": "2024-07-09T19:24:36.655Z"
   },
   {
    "duration": 15,
    "start_time": "2024-07-09T19:24:36.661Z"
   },
   {
    "duration": 12,
    "start_time": "2024-07-09T19:24:36.677Z"
   },
   {
    "duration": 3,
    "start_time": "2024-07-09T19:24:36.691Z"
   },
   {
    "duration": 9,
    "start_time": "2024-07-09T19:24:36.695Z"
   },
   {
    "duration": 54,
    "start_time": "2024-07-09T19:24:36.706Z"
   },
   {
    "duration": 7,
    "start_time": "2024-07-09T19:24:36.761Z"
   },
   {
    "duration": 21,
    "start_time": "2024-07-09T19:24:36.769Z"
   },
   {
    "duration": 28,
    "start_time": "2024-07-09T19:24:36.793Z"
   },
   {
    "duration": 3,
    "start_time": "2024-07-09T19:24:36.822Z"
   },
   {
    "duration": 292,
    "start_time": "2024-07-09T19:24:36.826Z"
   },
   {
    "duration": 18,
    "start_time": "2024-07-09T19:24:37.119Z"
   },
   {
    "duration": 313,
    "start_time": "2024-07-09T19:24:37.139Z"
   },
   {
    "duration": 350,
    "start_time": "2024-07-09T19:24:37.454Z"
   },
   {
    "duration": 302,
    "start_time": "2024-07-09T19:24:37.806Z"
   },
   {
    "duration": 330,
    "start_time": "2024-07-09T19:24:38.110Z"
   },
   {
    "duration": 331,
    "start_time": "2024-07-09T19:24:38.441Z"
   },
   {
    "duration": 305,
    "start_time": "2024-07-09T19:24:38.774Z"
   },
   {
    "duration": 142,
    "start_time": "2024-07-09T19:24:39.081Z"
   },
   {
    "duration": 348,
    "start_time": "2024-07-09T19:24:39.224Z"
   },
   {
    "duration": 276,
    "start_time": "2024-07-09T19:24:39.573Z"
   },
   {
    "duration": 288,
    "start_time": "2024-07-09T19:24:39.850Z"
   },
   {
    "duration": 7,
    "start_time": "2024-07-09T19:24:40.140Z"
   },
   {
    "duration": 446,
    "start_time": "2024-07-09T19:24:40.148Z"
   },
   {
    "duration": 140,
    "start_time": "2024-07-09T19:24:40.596Z"
   },
   {
    "duration": 4,
    "start_time": "2024-07-09T19:24:40.738Z"
   },
   {
    "duration": 169,
    "start_time": "2024-07-09T19:24:40.744Z"
   },
   {
    "duration": 147,
    "start_time": "2024-07-09T19:24:40.915Z"
   },
   {
    "duration": 247,
    "start_time": "2024-07-09T19:24:41.064Z"
   },
   {
    "duration": 135,
    "start_time": "2024-07-09T19:24:41.313Z"
   },
   {
    "duration": 143,
    "start_time": "2024-07-09T19:24:41.449Z"
   },
   {
    "duration": 138,
    "start_time": "2024-07-09T19:24:41.593Z"
   },
   {
    "duration": 141,
    "start_time": "2024-07-09T19:24:41.732Z"
   },
   {
    "duration": 34,
    "start_time": "2024-07-09T19:24:41.874Z"
   },
   {
    "duration": 157,
    "start_time": "2024-07-09T19:24:41.909Z"
   },
   {
    "duration": 14,
    "start_time": "2024-07-09T19:25:22.220Z"
   },
   {
    "duration": 24,
    "start_time": "2024-07-09T19:25:31.110Z"
   },
   {
    "duration": 32,
    "start_time": "2024-07-09T19:26:03.219Z"
   },
   {
    "duration": 71,
    "start_time": "2024-07-09T19:26:23.230Z"
   },
   {
    "duration": 753,
    "start_time": "2024-07-09T19:26:30.437Z"
   },
   {
    "duration": 7,
    "start_time": "2024-07-09T19:26:38.167Z"
   },
   {
    "duration": 23,
    "start_time": "2024-07-09T19:26:45.509Z"
   },
   {
    "duration": 32,
    "start_time": "2024-07-09T19:26:47.913Z"
   },
   {
    "duration": 26,
    "start_time": "2024-07-09T19:26:51.231Z"
   },
   {
    "duration": 709,
    "start_time": "2024-07-09T19:28:13.586Z"
   },
   {
    "duration": 14,
    "start_time": "2024-07-09T19:28:14.297Z"
   },
   {
    "duration": 25,
    "start_time": "2024-07-09T19:28:14.312Z"
   },
   {
    "duration": 1803,
    "start_time": "2024-07-09T19:28:14.339Z"
   },
   {
    "duration": 65,
    "start_time": "2024-07-09T19:28:16.143Z"
   },
   {
    "duration": 3,
    "start_time": "2024-07-09T19:28:16.209Z"
   },
   {
    "duration": 13,
    "start_time": "2024-07-09T19:28:16.213Z"
   },
   {
    "duration": 19,
    "start_time": "2024-07-09T19:28:16.227Z"
   },
   {
    "duration": 12,
    "start_time": "2024-07-09T19:28:16.247Z"
   },
   {
    "duration": 4,
    "start_time": "2024-07-09T19:28:16.261Z"
   },
   {
    "duration": 47,
    "start_time": "2024-07-09T19:28:16.266Z"
   },
   {
    "duration": 32,
    "start_time": "2024-07-09T19:28:16.315Z"
   },
   {
    "duration": 24,
    "start_time": "2024-07-09T19:28:16.349Z"
   },
   {
    "duration": 20,
    "start_time": "2024-07-09T19:28:16.374Z"
   },
   {
    "duration": 19,
    "start_time": "2024-07-09T19:28:16.396Z"
   },
   {
    "duration": 7,
    "start_time": "2024-07-09T19:28:16.417Z"
   },
   {
    "duration": 9,
    "start_time": "2024-07-09T19:28:16.426Z"
   },
   {
    "duration": 329,
    "start_time": "2024-07-09T19:28:16.436Z"
   },
   {
    "duration": 23,
    "start_time": "2024-07-09T19:28:16.767Z"
   },
   {
    "duration": 16,
    "start_time": "2024-07-09T19:28:16.791Z"
   },
   {
    "duration": 2992,
    "start_time": "2024-07-09T19:28:16.809Z"
   },
   {
    "duration": 5,
    "start_time": "2024-07-09T19:28:19.803Z"
   },
   {
    "duration": 10,
    "start_time": "2024-07-09T19:28:19.809Z"
   },
   {
    "duration": 9,
    "start_time": "2024-07-09T19:28:19.821Z"
   },
   {
    "duration": 3,
    "start_time": "2024-07-09T19:28:19.831Z"
   },
   {
    "duration": 4,
    "start_time": "2024-07-09T19:28:19.836Z"
   },
   {
    "duration": 82,
    "start_time": "2024-07-09T19:28:19.841Z"
   },
   {
    "duration": 6,
    "start_time": "2024-07-09T19:28:19.927Z"
   },
   {
    "duration": 16,
    "start_time": "2024-07-09T19:28:19.935Z"
   },
   {
    "duration": 32,
    "start_time": "2024-07-09T19:28:19.953Z"
   },
   {
    "duration": 3,
    "start_time": "2024-07-09T19:28:19.987Z"
   },
   {
    "duration": 301,
    "start_time": "2024-07-09T19:28:19.991Z"
   },
   {
    "duration": 20,
    "start_time": "2024-07-09T19:28:20.293Z"
   },
   {
    "duration": 329,
    "start_time": "2024-07-09T19:28:20.314Z"
   },
   {
    "duration": 348,
    "start_time": "2024-07-09T19:28:20.644Z"
   },
   {
    "duration": 297,
    "start_time": "2024-07-09T19:28:20.994Z"
   },
   {
    "duration": 321,
    "start_time": "2024-07-09T19:28:21.292Z"
   },
   {
    "duration": 346,
    "start_time": "2024-07-09T19:28:21.615Z"
   },
   {
    "duration": 322,
    "start_time": "2024-07-09T19:28:21.962Z"
   },
   {
    "duration": 145,
    "start_time": "2024-07-09T19:28:22.286Z"
   },
   {
    "duration": 348,
    "start_time": "2024-07-09T19:28:22.433Z"
   },
   {
    "duration": 293,
    "start_time": "2024-07-09T19:28:22.782Z"
   },
   {
    "duration": 296,
    "start_time": "2024-07-09T19:28:23.077Z"
   },
   {
    "duration": 15,
    "start_time": "2024-07-09T19:28:23.375Z"
   },
   {
    "duration": 445,
    "start_time": "2024-07-09T19:28:23.392Z"
   },
   {
    "duration": 137,
    "start_time": "2024-07-09T19:28:23.838Z"
   },
   {
    "duration": 13,
    "start_time": "2024-07-09T19:28:23.976Z"
   },
   {
    "duration": 148,
    "start_time": "2024-07-09T19:28:23.990Z"
   },
   {
    "duration": 151,
    "start_time": "2024-07-09T19:28:24.140Z"
   },
   {
    "duration": 221,
    "start_time": "2024-07-09T19:28:24.292Z"
   },
   {
    "duration": 154,
    "start_time": "2024-07-09T19:28:24.514Z"
   },
   {
    "duration": 147,
    "start_time": "2024-07-09T19:28:24.670Z"
   },
   {
    "duration": 154,
    "start_time": "2024-07-09T19:28:24.819Z"
   },
   {
    "duration": 137,
    "start_time": "2024-07-09T19:28:24.975Z"
   },
   {
    "duration": 29,
    "start_time": "2024-07-09T19:28:25.113Z"
   },
   {
    "duration": 155,
    "start_time": "2024-07-09T19:28:25.143Z"
   },
   {
    "duration": 677,
    "start_time": "2024-07-09T19:29:25.443Z"
   },
   {
    "duration": 13,
    "start_time": "2024-07-09T19:29:26.122Z"
   },
   {
    "duration": 24,
    "start_time": "2024-07-09T19:29:26.136Z"
   },
   {
    "duration": 1777,
    "start_time": "2024-07-09T19:29:26.161Z"
   },
   {
    "duration": 67,
    "start_time": "2024-07-09T19:29:27.940Z"
   },
   {
    "duration": 3,
    "start_time": "2024-07-09T19:29:28.008Z"
   },
   {
    "duration": 9,
    "start_time": "2024-07-09T19:29:28.012Z"
   },
   {
    "duration": 21,
    "start_time": "2024-07-09T19:29:28.022Z"
   },
   {
    "duration": 26,
    "start_time": "2024-07-09T19:29:28.044Z"
   },
   {
    "duration": 37,
    "start_time": "2024-07-09T19:29:28.072Z"
   },
   {
    "duration": 9,
    "start_time": "2024-07-09T19:29:28.110Z"
   },
   {
    "duration": 9,
    "start_time": "2024-07-09T19:29:28.120Z"
   },
   {
    "duration": 7,
    "start_time": "2024-07-09T19:29:28.131Z"
   },
   {
    "duration": 9,
    "start_time": "2024-07-09T19:29:28.141Z"
   },
   {
    "duration": 329,
    "start_time": "2024-07-09T19:29:28.151Z"
   },
   {
    "duration": 22,
    "start_time": "2024-07-09T19:29:28.482Z"
   },
   {
    "duration": 17,
    "start_time": "2024-07-09T19:29:28.505Z"
   },
   {
    "duration": 3091,
    "start_time": "2024-07-09T19:29:28.523Z"
   },
   {
    "duration": 5,
    "start_time": "2024-07-09T19:29:31.615Z"
   },
   {
    "duration": 26,
    "start_time": "2024-07-09T19:29:31.622Z"
   },
   {
    "duration": 33,
    "start_time": "2024-07-09T19:29:31.649Z"
   },
   {
    "duration": 71,
    "start_time": "2024-07-09T19:29:31.683Z"
   },
   {
    "duration": 144,
    "start_time": "2024-07-09T19:29:31.755Z"
   },
   {
    "duration": 117,
    "start_time": "2024-07-09T19:29:31.901Z"
   },
   {
    "duration": 8,
    "start_time": "2024-07-09T19:29:32.020Z"
   },
   {
    "duration": 25,
    "start_time": "2024-07-09T19:29:32.030Z"
   },
   {
    "duration": 87,
    "start_time": "2024-07-09T19:29:32.057Z"
   },
   {
    "duration": 29,
    "start_time": "2024-07-09T19:29:32.146Z"
   },
   {
    "duration": 326,
    "start_time": "2024-07-09T19:29:32.176Z"
   },
   {
    "duration": 17,
    "start_time": "2024-07-09T19:29:32.503Z"
   },
   {
    "duration": 327,
    "start_time": "2024-07-09T19:29:32.522Z"
   },
   {
    "duration": 371,
    "start_time": "2024-07-09T19:29:32.851Z"
   },
   {
    "duration": 312,
    "start_time": "2024-07-09T19:29:33.224Z"
   },
   {
    "duration": 324,
    "start_time": "2024-07-09T19:29:33.537Z"
   },
   {
    "duration": 329,
    "start_time": "2024-07-09T19:29:33.863Z"
   },
   {
    "duration": 320,
    "start_time": "2024-07-09T19:29:34.194Z"
   },
   {
    "duration": 152,
    "start_time": "2024-07-09T19:29:34.515Z"
   },
   {
    "duration": 338,
    "start_time": "2024-07-09T19:29:34.669Z"
   },
   {
    "duration": 294,
    "start_time": "2024-07-09T19:29:35.008Z"
   },
   {
    "duration": 287,
    "start_time": "2024-07-09T19:29:35.303Z"
   },
   {
    "duration": 7,
    "start_time": "2024-07-09T19:29:35.593Z"
   },
   {
    "duration": 449,
    "start_time": "2024-07-09T19:29:35.601Z"
   },
   {
    "duration": 166,
    "start_time": "2024-07-09T19:29:36.051Z"
   },
   {
    "duration": 5,
    "start_time": "2024-07-09T19:29:36.219Z"
   },
   {
    "duration": 152,
    "start_time": "2024-07-09T19:29:36.225Z"
   },
   {
    "duration": 170,
    "start_time": "2024-07-09T19:29:36.378Z"
   },
   {
    "duration": 226,
    "start_time": "2024-07-09T19:29:36.550Z"
   },
   {
    "duration": 138,
    "start_time": "2024-07-09T19:29:36.778Z"
   },
   {
    "duration": 141,
    "start_time": "2024-07-09T19:29:36.918Z"
   },
   {
    "duration": 141,
    "start_time": "2024-07-09T19:29:37.060Z"
   },
   {
    "duration": 141,
    "start_time": "2024-07-09T19:29:37.203Z"
   },
   {
    "duration": 30,
    "start_time": "2024-07-09T19:29:37.345Z"
   },
   {
    "duration": 152,
    "start_time": "2024-07-09T19:29:37.376Z"
   },
   {
    "duration": 77,
    "start_time": "2024-07-09T19:30:00.192Z"
   },
   {
    "duration": 10,
    "start_time": "2024-07-09T19:30:07.624Z"
   },
   {
    "duration": 5,
    "start_time": "2024-07-09T19:30:09.634Z"
   },
   {
    "duration": 25,
    "start_time": "2024-07-09T19:30:28.022Z"
   },
   {
    "duration": 693,
    "start_time": "2024-07-09T19:31:00.600Z"
   },
   {
    "duration": 14,
    "start_time": "2024-07-09T19:31:01.295Z"
   },
   {
    "duration": 28,
    "start_time": "2024-07-09T19:31:01.310Z"
   },
   {
    "duration": 1814,
    "start_time": "2024-07-09T19:31:01.340Z"
   },
   {
    "duration": 68,
    "start_time": "2024-07-09T19:31:03.155Z"
   },
   {
    "duration": 3,
    "start_time": "2024-07-09T19:31:03.224Z"
   },
   {
    "duration": 11,
    "start_time": "2024-07-09T19:31:03.228Z"
   },
   {
    "duration": 19,
    "start_time": "2024-07-09T19:31:03.240Z"
   },
   {
    "duration": 38,
    "start_time": "2024-07-09T19:31:03.261Z"
   },
   {
    "duration": 41,
    "start_time": "2024-07-09T19:31:03.302Z"
   },
   {
    "duration": 49,
    "start_time": "2024-07-09T19:31:03.345Z"
   },
   {
    "duration": 0,
    "start_time": "2024-07-09T19:31:03.396Z"
   },
   {
    "duration": 0,
    "start_time": "2024-07-09T19:31:03.397Z"
   },
   {
    "duration": 0,
    "start_time": "2024-07-09T19:31:03.398Z"
   },
   {
    "duration": 0,
    "start_time": "2024-07-09T19:31:03.399Z"
   },
   {
    "duration": 1,
    "start_time": "2024-07-09T19:31:03.399Z"
   },
   {
    "duration": 0,
    "start_time": "2024-07-09T19:31:03.401Z"
   },
   {
    "duration": 0,
    "start_time": "2024-07-09T19:31:03.401Z"
   },
   {
    "duration": 0,
    "start_time": "2024-07-09T19:31:03.402Z"
   },
   {
    "duration": 0,
    "start_time": "2024-07-09T19:31:03.403Z"
   },
   {
    "duration": 0,
    "start_time": "2024-07-09T19:31:03.404Z"
   },
   {
    "duration": 0,
    "start_time": "2024-07-09T19:31:03.405Z"
   },
   {
    "duration": 0,
    "start_time": "2024-07-09T19:31:03.406Z"
   },
   {
    "duration": 0,
    "start_time": "2024-07-09T19:31:03.408Z"
   },
   {
    "duration": 0,
    "start_time": "2024-07-09T19:31:03.408Z"
   },
   {
    "duration": 0,
    "start_time": "2024-07-09T19:31:03.410Z"
   },
   {
    "duration": 0,
    "start_time": "2024-07-09T19:31:03.410Z"
   },
   {
    "duration": 0,
    "start_time": "2024-07-09T19:31:03.411Z"
   },
   {
    "duration": 0,
    "start_time": "2024-07-09T19:31:03.412Z"
   },
   {
    "duration": 0,
    "start_time": "2024-07-09T19:31:03.413Z"
   },
   {
    "duration": 0,
    "start_time": "2024-07-09T19:31:03.414Z"
   },
   {
    "duration": 0,
    "start_time": "2024-07-09T19:31:03.415Z"
   },
   {
    "duration": 0,
    "start_time": "2024-07-09T19:31:03.416Z"
   },
   {
    "duration": 0,
    "start_time": "2024-07-09T19:31:03.417Z"
   },
   {
    "duration": 0,
    "start_time": "2024-07-09T19:31:03.418Z"
   },
   {
    "duration": 0,
    "start_time": "2024-07-09T19:31:03.419Z"
   },
   {
    "duration": 0,
    "start_time": "2024-07-09T19:31:03.420Z"
   },
   {
    "duration": 0,
    "start_time": "2024-07-09T19:31:03.420Z"
   },
   {
    "duration": 0,
    "start_time": "2024-07-09T19:31:03.421Z"
   },
   {
    "duration": 0,
    "start_time": "2024-07-09T19:31:03.422Z"
   },
   {
    "duration": 0,
    "start_time": "2024-07-09T19:31:03.423Z"
   },
   {
    "duration": 0,
    "start_time": "2024-07-09T19:31:03.424Z"
   },
   {
    "duration": 0,
    "start_time": "2024-07-09T19:31:03.425Z"
   },
   {
    "duration": 0,
    "start_time": "2024-07-09T19:31:03.425Z"
   },
   {
    "duration": 0,
    "start_time": "2024-07-09T19:31:03.426Z"
   },
   {
    "duration": 0,
    "start_time": "2024-07-09T19:31:03.427Z"
   },
   {
    "duration": 0,
    "start_time": "2024-07-09T19:31:03.428Z"
   },
   {
    "duration": 0,
    "start_time": "2024-07-09T19:31:03.429Z"
   },
   {
    "duration": 0,
    "start_time": "2024-07-09T19:31:03.430Z"
   },
   {
    "duration": 0,
    "start_time": "2024-07-09T19:31:03.430Z"
   },
   {
    "duration": 0,
    "start_time": "2024-07-09T19:31:03.431Z"
   },
   {
    "duration": 0,
    "start_time": "2024-07-09T19:31:03.432Z"
   },
   {
    "duration": 0,
    "start_time": "2024-07-09T19:31:03.433Z"
   },
   {
    "duration": 0,
    "start_time": "2024-07-09T19:31:03.434Z"
   },
   {
    "duration": 24,
    "start_time": "2024-07-09T19:31:33.206Z"
   },
   {
    "duration": 20,
    "start_time": "2024-07-09T19:32:42.986Z"
   },
   {
    "duration": 24,
    "start_time": "2024-07-09T19:32:52.637Z"
   },
   {
    "duration": 644,
    "start_time": "2024-07-09T19:33:17.648Z"
   },
   {
    "duration": 14,
    "start_time": "2024-07-09T19:33:18.294Z"
   },
   {
    "duration": 32,
    "start_time": "2024-07-09T19:33:18.310Z"
   },
   {
    "duration": 1735,
    "start_time": "2024-07-09T19:33:18.343Z"
   },
   {
    "duration": 64,
    "start_time": "2024-07-09T19:33:20.080Z"
   },
   {
    "duration": 3,
    "start_time": "2024-07-09T19:33:20.145Z"
   },
   {
    "duration": 28,
    "start_time": "2024-07-09T19:33:20.149Z"
   },
   {
    "duration": 26,
    "start_time": "2024-07-09T19:33:20.178Z"
   },
   {
    "duration": 32,
    "start_time": "2024-07-09T19:33:20.205Z"
   },
   {
    "duration": 40,
    "start_time": "2024-07-09T19:33:20.238Z"
   },
   {
    "duration": 31,
    "start_time": "2024-07-09T19:33:20.279Z"
   },
   {
    "duration": 7,
    "start_time": "2024-07-09T19:33:20.312Z"
   },
   {
    "duration": 22,
    "start_time": "2024-07-09T19:33:20.321Z"
   },
   {
    "duration": 17,
    "start_time": "2024-07-09T19:33:20.347Z"
   },
   {
    "duration": 13,
    "start_time": "2024-07-09T19:33:20.365Z"
   },
   {
    "duration": 346,
    "start_time": "2024-07-09T19:33:20.380Z"
   },
   {
    "duration": 19,
    "start_time": "2024-07-09T19:33:20.728Z"
   },
   {
    "duration": 19,
    "start_time": "2024-07-09T19:33:20.749Z"
   },
   {
    "duration": 3042,
    "start_time": "2024-07-09T19:33:20.769Z"
   },
   {
    "duration": 6,
    "start_time": "2024-07-09T19:33:23.813Z"
   },
   {
    "duration": 10,
    "start_time": "2024-07-09T19:33:23.821Z"
   },
   {
    "duration": 9,
    "start_time": "2024-07-09T19:33:23.832Z"
   },
   {
    "duration": 4,
    "start_time": "2024-07-09T19:33:23.842Z"
   },
   {
    "duration": 4,
    "start_time": "2024-07-09T19:33:23.848Z"
   },
   {
    "duration": 80,
    "start_time": "2024-07-09T19:33:23.854Z"
   },
   {
    "duration": 7,
    "start_time": "2024-07-09T19:33:23.935Z"
   },
   {
    "duration": 45,
    "start_time": "2024-07-09T19:33:23.943Z"
   },
   {
    "duration": 35,
    "start_time": "2024-07-09T19:33:23.990Z"
   },
   {
    "duration": 3,
    "start_time": "2024-07-09T19:33:24.026Z"
   },
   {
    "duration": 288,
    "start_time": "2024-07-09T19:33:24.030Z"
   },
   {
    "duration": 19,
    "start_time": "2024-07-09T19:33:24.319Z"
   },
   {
    "duration": 309,
    "start_time": "2024-07-09T19:33:24.339Z"
   },
   {
    "duration": 357,
    "start_time": "2024-07-09T19:33:24.650Z"
   },
   {
    "duration": 328,
    "start_time": "2024-07-09T19:33:25.008Z"
   },
   {
    "duration": 314,
    "start_time": "2024-07-09T19:33:25.338Z"
   },
   {
    "duration": 325,
    "start_time": "2024-07-09T19:33:25.653Z"
   },
   {
    "duration": 316,
    "start_time": "2024-07-09T19:33:25.979Z"
   },
   {
    "duration": 149,
    "start_time": "2024-07-09T19:33:26.297Z"
   },
   {
    "duration": 349,
    "start_time": "2024-07-09T19:33:26.448Z"
   },
   {
    "duration": 286,
    "start_time": "2024-07-09T19:33:26.799Z"
   },
   {
    "duration": 284,
    "start_time": "2024-07-09T19:33:27.091Z"
   },
   {
    "duration": 15,
    "start_time": "2024-07-09T19:33:27.376Z"
   },
   {
    "duration": 443,
    "start_time": "2024-07-09T19:33:27.393Z"
   },
   {
    "duration": 144,
    "start_time": "2024-07-09T19:33:27.837Z"
   },
   {
    "duration": 10,
    "start_time": "2024-07-09T19:33:27.983Z"
   },
   {
    "duration": 153,
    "start_time": "2024-07-09T19:33:27.994Z"
   },
   {
    "duration": 165,
    "start_time": "2024-07-09T19:33:28.148Z"
   },
   {
    "duration": 250,
    "start_time": "2024-07-09T19:33:28.314Z"
   },
   {
    "duration": 142,
    "start_time": "2024-07-09T19:33:28.565Z"
   },
   {
    "duration": 148,
    "start_time": "2024-07-09T19:33:28.708Z"
   },
   {
    "duration": 140,
    "start_time": "2024-07-09T19:33:28.858Z"
   },
   {
    "duration": 137,
    "start_time": "2024-07-09T19:33:29.000Z"
   },
   {
    "duration": 28,
    "start_time": "2024-07-09T19:33:29.139Z"
   },
   {
    "duration": 152,
    "start_time": "2024-07-09T19:33:29.169Z"
   },
   {
    "duration": 704,
    "start_time": "2024-07-09T19:35:53.787Z"
   },
   {
    "duration": 13,
    "start_time": "2024-07-09T19:35:54.493Z"
   },
   {
    "duration": 26,
    "start_time": "2024-07-09T19:35:54.507Z"
   },
   {
    "duration": 1719,
    "start_time": "2024-07-09T19:35:54.535Z"
   },
   {
    "duration": 64,
    "start_time": "2024-07-09T19:35:56.255Z"
   },
   {
    "duration": 3,
    "start_time": "2024-07-09T19:35:56.320Z"
   },
   {
    "duration": 11,
    "start_time": "2024-07-09T19:35:56.324Z"
   },
   {
    "duration": 19,
    "start_time": "2024-07-09T19:35:56.336Z"
   },
   {
    "duration": 44,
    "start_time": "2024-07-09T19:35:56.356Z"
   },
   {
    "duration": 857,
    "start_time": "2024-07-09T19:35:56.403Z"
   },
   {
    "duration": 29,
    "start_time": "2024-07-09T19:35:57.261Z"
   },
   {
    "duration": 6,
    "start_time": "2024-07-09T19:35:57.292Z"
   },
   {
    "duration": 8,
    "start_time": "2024-07-09T19:35:57.299Z"
   },
   {
    "duration": 7,
    "start_time": "2024-07-09T19:35:57.308Z"
   },
   {
    "duration": 7,
    "start_time": "2024-07-09T19:35:57.316Z"
   },
   {
    "duration": 322,
    "start_time": "2024-07-09T19:35:57.324Z"
   },
   {
    "duration": 17,
    "start_time": "2024-07-09T19:35:57.647Z"
   },
   {
    "duration": 27,
    "start_time": "2024-07-09T19:35:57.665Z"
   },
   {
    "duration": 3032,
    "start_time": "2024-07-09T19:35:57.693Z"
   },
   {
    "duration": 5,
    "start_time": "2024-07-09T19:36:00.726Z"
   },
   {
    "duration": 128,
    "start_time": "2024-07-09T19:36:00.732Z"
   },
   {
    "duration": 146,
    "start_time": "2024-07-09T19:36:00.861Z"
   },
   {
    "duration": 260,
    "start_time": "2024-07-09T19:36:01.009Z"
   },
   {
    "duration": 437,
    "start_time": "2024-07-09T19:36:01.270Z"
   },
   {
    "duration": 60,
    "start_time": "2024-07-09T19:36:01.709Z"
   },
   {
    "duration": 14,
    "start_time": "2024-07-09T19:36:01.770Z"
   },
   {
    "duration": 31,
    "start_time": "2024-07-09T19:36:01.785Z"
   },
   {
    "duration": 85,
    "start_time": "2024-07-09T19:36:01.820Z"
   },
   {
    "duration": 94,
    "start_time": "2024-07-09T19:36:01.906Z"
   },
   {
    "duration": 336,
    "start_time": "2024-07-09T19:36:02.001Z"
   },
   {
    "duration": 19,
    "start_time": "2024-07-09T19:36:02.338Z"
   },
   {
    "duration": 335,
    "start_time": "2024-07-09T19:36:02.358Z"
   },
   {
    "duration": 399,
    "start_time": "2024-07-09T19:36:02.694Z"
   },
   {
    "duration": 312,
    "start_time": "2024-07-09T19:36:03.094Z"
   },
   {
    "duration": 317,
    "start_time": "2024-07-09T19:36:03.408Z"
   },
   {
    "duration": 332,
    "start_time": "2024-07-09T19:36:03.726Z"
   },
   {
    "duration": 322,
    "start_time": "2024-07-09T19:36:04.059Z"
   },
   {
    "duration": 171,
    "start_time": "2024-07-09T19:36:04.383Z"
   },
   {
    "duration": 346,
    "start_time": "2024-07-09T19:36:04.556Z"
   },
   {
    "duration": 286,
    "start_time": "2024-07-09T19:36:04.904Z"
   },
   {
    "duration": 286,
    "start_time": "2024-07-09T19:36:05.192Z"
   },
   {
    "duration": 16,
    "start_time": "2024-07-09T19:36:05.480Z"
   },
   {
    "duration": 458,
    "start_time": "2024-07-09T19:36:05.498Z"
   },
   {
    "duration": 155,
    "start_time": "2024-07-09T19:36:05.958Z"
   },
   {
    "duration": 5,
    "start_time": "2024-07-09T19:36:06.114Z"
   },
   {
    "duration": 149,
    "start_time": "2024-07-09T19:36:06.120Z"
   },
   {
    "duration": 146,
    "start_time": "2024-07-09T19:36:06.270Z"
   },
   {
    "duration": 223,
    "start_time": "2024-07-09T19:36:06.417Z"
   },
   {
    "duration": 132,
    "start_time": "2024-07-09T19:36:06.642Z"
   },
   {
    "duration": 148,
    "start_time": "2024-07-09T19:36:06.775Z"
   },
   {
    "duration": 140,
    "start_time": "2024-07-09T19:36:06.924Z"
   },
   {
    "duration": 147,
    "start_time": "2024-07-09T19:36:07.066Z"
   },
   {
    "duration": 29,
    "start_time": "2024-07-09T19:36:07.215Z"
   },
   {
    "duration": 155,
    "start_time": "2024-07-09T19:36:07.246Z"
   },
   {
    "duration": 7,
    "start_time": "2024-07-09T19:38:08.499Z"
   },
   {
    "duration": 703,
    "start_time": "2024-07-09T19:40:09.288Z"
   },
   {
    "duration": 14,
    "start_time": "2024-07-09T19:40:09.993Z"
   },
   {
    "duration": 34,
    "start_time": "2024-07-09T19:40:10.008Z"
   },
   {
    "duration": 1753,
    "start_time": "2024-07-09T19:40:10.045Z"
   },
   {
    "duration": 64,
    "start_time": "2024-07-09T19:40:11.799Z"
   },
   {
    "duration": 2,
    "start_time": "2024-07-09T19:40:11.865Z"
   },
   {
    "duration": 15,
    "start_time": "2024-07-09T19:40:11.869Z"
   },
   {
    "duration": 18,
    "start_time": "2024-07-09T19:40:11.886Z"
   },
   {
    "duration": 9,
    "start_time": "2024-07-09T19:40:11.905Z"
   },
   {
    "duration": 69,
    "start_time": "2024-07-09T19:40:11.918Z"
   },
   {
    "duration": 36,
    "start_time": "2024-07-09T19:40:11.988Z"
   },
   {
    "duration": 7,
    "start_time": "2024-07-09T19:40:12.026Z"
   },
   {
    "duration": 44,
    "start_time": "2024-07-09T19:40:12.034Z"
   },
   {
    "duration": 11,
    "start_time": "2024-07-09T19:40:12.080Z"
   },
   {
    "duration": 7,
    "start_time": "2024-07-09T19:40:12.092Z"
   },
   {
    "duration": 10,
    "start_time": "2024-07-09T19:40:12.100Z"
   },
   {
    "duration": 7,
    "start_time": "2024-07-09T19:40:12.112Z"
   },
   {
    "duration": 341,
    "start_time": "2024-07-09T19:40:12.121Z"
   },
   {
    "duration": 17,
    "start_time": "2024-07-09T19:40:12.464Z"
   },
   {
    "duration": 23,
    "start_time": "2024-07-09T19:40:12.483Z"
   },
   {
    "duration": 3119,
    "start_time": "2024-07-09T19:40:12.507Z"
   },
   {
    "duration": 4,
    "start_time": "2024-07-09T19:40:15.628Z"
   },
   {
    "duration": 17,
    "start_time": "2024-07-09T19:40:15.633Z"
   },
   {
    "duration": 15,
    "start_time": "2024-07-09T19:40:15.652Z"
   },
   {
    "duration": 8,
    "start_time": "2024-07-09T19:40:15.668Z"
   },
   {
    "duration": 16,
    "start_time": "2024-07-09T19:40:15.678Z"
   },
   {
    "duration": 59,
    "start_time": "2024-07-09T19:40:15.695Z"
   },
   {
    "duration": 7,
    "start_time": "2024-07-09T19:40:15.757Z"
   },
   {
    "duration": 36,
    "start_time": "2024-07-09T19:40:15.765Z"
   },
   {
    "duration": 28,
    "start_time": "2024-07-09T19:40:15.803Z"
   },
   {
    "duration": 3,
    "start_time": "2024-07-09T19:40:15.833Z"
   },
   {
    "duration": 290,
    "start_time": "2024-07-09T19:40:15.837Z"
   },
   {
    "duration": 24,
    "start_time": "2024-07-09T19:40:16.129Z"
   },
   {
    "duration": 337,
    "start_time": "2024-07-09T19:40:16.155Z"
   },
   {
    "duration": 354,
    "start_time": "2024-07-09T19:40:16.494Z"
   },
   {
    "duration": 307,
    "start_time": "2024-07-09T19:40:16.850Z"
   },
   {
    "duration": 316,
    "start_time": "2024-07-09T19:40:17.158Z"
   },
   {
    "duration": 336,
    "start_time": "2024-07-09T19:40:17.475Z"
   },
   {
    "duration": 314,
    "start_time": "2024-07-09T19:40:17.812Z"
   },
   {
    "duration": 143,
    "start_time": "2024-07-09T19:40:18.127Z"
   },
   {
    "duration": 350,
    "start_time": "2024-07-09T19:40:18.271Z"
   },
   {
    "duration": 280,
    "start_time": "2024-07-09T19:40:18.623Z"
   },
   {
    "duration": 290,
    "start_time": "2024-07-09T19:40:18.905Z"
   },
   {
    "duration": 7,
    "start_time": "2024-07-09T19:40:19.197Z"
   },
   {
    "duration": 445,
    "start_time": "2024-07-09T19:40:19.205Z"
   },
   {
    "duration": 144,
    "start_time": "2024-07-09T19:40:19.651Z"
   },
   {
    "duration": 5,
    "start_time": "2024-07-09T19:40:19.796Z"
   },
   {
    "duration": 155,
    "start_time": "2024-07-09T19:40:19.802Z"
   },
   {
    "duration": 149,
    "start_time": "2024-07-09T19:40:19.958Z"
   },
   {
    "duration": 227,
    "start_time": "2024-07-09T19:40:20.108Z"
   },
   {
    "duration": 145,
    "start_time": "2024-07-09T19:40:20.336Z"
   },
   {
    "duration": 142,
    "start_time": "2024-07-09T19:40:20.489Z"
   },
   {
    "duration": 155,
    "start_time": "2024-07-09T19:40:20.632Z"
   },
   {
    "duration": 152,
    "start_time": "2024-07-09T19:40:20.789Z"
   },
   {
    "duration": 28,
    "start_time": "2024-07-09T19:40:20.942Z"
   },
   {
    "duration": 152,
    "start_time": "2024-07-09T19:40:20.972Z"
   },
   {
    "duration": 4,
    "start_time": "2024-07-09T19:40:55.127Z"
   },
   {
    "duration": 6,
    "start_time": "2024-07-09T19:40:57.453Z"
   },
   {
    "duration": 6,
    "start_time": "2024-07-09T19:42:46.026Z"
   },
   {
    "duration": 4,
    "start_time": "2024-07-09T19:42:57.632Z"
   },
   {
    "duration": 6,
    "start_time": "2024-07-09T19:43:01.890Z"
   },
   {
    "duration": 5,
    "start_time": "2024-07-09T19:47:34.743Z"
   },
   {
    "duration": 704,
    "start_time": "2024-07-09T19:47:39.060Z"
   },
   {
    "duration": 13,
    "start_time": "2024-07-09T19:47:39.766Z"
   },
   {
    "duration": 59,
    "start_time": "2024-07-09T19:47:39.780Z"
   },
   {
    "duration": 1733,
    "start_time": "2024-07-09T19:47:39.841Z"
   },
   {
    "duration": 70,
    "start_time": "2024-07-09T19:47:41.577Z"
   },
   {
    "duration": 4,
    "start_time": "2024-07-09T19:47:41.648Z"
   },
   {
    "duration": 66,
    "start_time": "2024-07-09T19:47:41.653Z"
   },
   {
    "duration": 22,
    "start_time": "2024-07-09T19:47:41.720Z"
   },
   {
    "duration": 6,
    "start_time": "2024-07-09T19:47:41.743Z"
   },
   {
    "duration": 17,
    "start_time": "2024-07-09T19:47:41.750Z"
   },
   {
    "duration": 55,
    "start_time": "2024-07-09T19:47:41.769Z"
   },
   {
    "duration": 25,
    "start_time": "2024-07-09T19:47:41.825Z"
   },
   {
    "duration": 5,
    "start_time": "2024-07-09T19:47:41.852Z"
   },
   {
    "duration": 30,
    "start_time": "2024-07-09T19:47:41.859Z"
   },
   {
    "duration": 9,
    "start_time": "2024-07-09T19:47:41.890Z"
   },
   {
    "duration": 12,
    "start_time": "2024-07-09T19:47:41.900Z"
   },
   {
    "duration": 18,
    "start_time": "2024-07-09T19:47:41.913Z"
   },
   {
    "duration": 10,
    "start_time": "2024-07-09T19:47:41.933Z"
   },
   {
    "duration": 365,
    "start_time": "2024-07-09T19:47:41.945Z"
   },
   {
    "duration": 17,
    "start_time": "2024-07-09T19:47:42.311Z"
   },
   {
    "duration": 22,
    "start_time": "2024-07-09T19:47:42.329Z"
   },
   {
    "duration": 2998,
    "start_time": "2024-07-09T19:47:42.352Z"
   },
   {
    "duration": 5,
    "start_time": "2024-07-09T19:47:45.351Z"
   },
   {
    "duration": 22,
    "start_time": "2024-07-09T19:47:45.357Z"
   },
   {
    "duration": 19,
    "start_time": "2024-07-09T19:47:45.380Z"
   },
   {
    "duration": 11,
    "start_time": "2024-07-09T19:47:45.400Z"
   },
   {
    "duration": 17,
    "start_time": "2024-07-09T19:47:45.412Z"
   },
   {
    "duration": 52,
    "start_time": "2024-07-09T19:47:45.431Z"
   },
   {
    "duration": 7,
    "start_time": "2024-07-09T19:47:45.484Z"
   },
   {
    "duration": 6,
    "start_time": "2024-07-09T19:47:45.492Z"
   },
   {
    "duration": 39,
    "start_time": "2024-07-09T19:47:45.500Z"
   },
   {
    "duration": 3,
    "start_time": "2024-07-09T19:47:45.540Z"
   },
   {
    "duration": 301,
    "start_time": "2024-07-09T19:47:45.545Z"
   },
   {
    "duration": 19,
    "start_time": "2024-07-09T19:47:45.847Z"
   },
   {
    "duration": 327,
    "start_time": "2024-07-09T19:47:45.867Z"
   },
   {
    "duration": 372,
    "start_time": "2024-07-09T19:47:46.196Z"
   },
   {
    "duration": 297,
    "start_time": "2024-07-09T19:47:46.569Z"
   },
   {
    "duration": 323,
    "start_time": "2024-07-09T19:47:46.867Z"
   },
   {
    "duration": 317,
    "start_time": "2024-07-09T19:47:47.191Z"
   },
   {
    "duration": 321,
    "start_time": "2024-07-09T19:47:47.510Z"
   },
   {
    "duration": 143,
    "start_time": "2024-07-09T19:47:47.835Z"
   },
   {
    "duration": 338,
    "start_time": "2024-07-09T19:47:47.979Z"
   },
   {
    "duration": 286,
    "start_time": "2024-07-09T19:47:48.319Z"
   },
   {
    "duration": 293,
    "start_time": "2024-07-09T19:47:48.606Z"
   },
   {
    "duration": 8,
    "start_time": "2024-07-09T19:47:48.900Z"
   },
   {
    "duration": 443,
    "start_time": "2024-07-09T19:47:48.909Z"
   },
   {
    "duration": 139,
    "start_time": "2024-07-09T19:47:49.353Z"
   },
   {
    "duration": 4,
    "start_time": "2024-07-09T19:47:49.493Z"
   },
   {
    "duration": 150,
    "start_time": "2024-07-09T19:47:49.499Z"
   },
   {
    "duration": 153,
    "start_time": "2024-07-09T19:47:49.650Z"
   },
   {
    "duration": 218,
    "start_time": "2024-07-09T19:47:49.805Z"
   },
   {
    "duration": 138,
    "start_time": "2024-07-09T19:47:50.024Z"
   },
   {
    "duration": 151,
    "start_time": "2024-07-09T19:47:50.164Z"
   },
   {
    "duration": 151,
    "start_time": "2024-07-09T19:47:50.317Z"
   },
   {
    "duration": 138,
    "start_time": "2024-07-09T19:47:50.470Z"
   },
   {
    "duration": 29,
    "start_time": "2024-07-09T19:47:50.610Z"
   },
   {
    "duration": 163,
    "start_time": "2024-07-09T19:47:50.641Z"
   },
   {
    "duration": 4,
    "start_time": "2024-07-09T19:47:58.359Z"
   },
   {
    "duration": 7,
    "start_time": "2024-07-09T19:48:29.344Z"
   },
   {
    "duration": 4,
    "start_time": "2024-07-09T19:48:38.180Z"
   },
   {
    "duration": 46,
    "start_time": "2024-07-09T19:49:08.664Z"
   },
   {
    "duration": 711,
    "start_time": "2024-07-09T19:49:14.162Z"
   },
   {
    "duration": 14,
    "start_time": "2024-07-09T19:49:14.875Z"
   },
   {
    "duration": 4,
    "start_time": "2024-07-09T19:49:22.361Z"
   },
   {
    "duration": 18,
    "start_time": "2024-07-09T19:49:24.872Z"
   },
   {
    "duration": 6,
    "start_time": "2024-07-09T19:49:28.345Z"
   },
   {
    "duration": 10,
    "start_time": "2024-07-09T19:49:32.814Z"
   },
   {
    "duration": 5,
    "start_time": "2024-07-09T19:51:06.015Z"
   },
   {
    "duration": 27,
    "start_time": "2024-07-09T19:51:08.013Z"
   },
   {
    "duration": 6,
    "start_time": "2024-07-09T19:51:18.087Z"
   },
   {
    "duration": 6,
    "start_time": "2024-07-09T19:51:30.541Z"
   },
   {
    "duration": 24,
    "start_time": "2024-07-09T19:51:43.656Z"
   },
   {
    "duration": 4,
    "start_time": "2024-07-09T19:52:03.021Z"
   },
   {
    "duration": 8,
    "start_time": "2024-07-09T19:52:38.559Z"
   },
   {
    "duration": 4,
    "start_time": "2024-07-09T19:52:41.638Z"
   },
   {
    "duration": 5,
    "start_time": "2024-07-09T19:52:53.503Z"
   },
   {
    "duration": 684,
    "start_time": "2024-07-09T19:53:22.320Z"
   },
   {
    "duration": 3,
    "start_time": "2024-07-09T19:53:28.847Z"
   },
   {
    "duration": 10,
    "start_time": "2024-07-09T19:53:29.789Z"
   },
   {
    "duration": 21,
    "start_time": "2024-07-09T19:53:32.454Z"
   },
   {
    "duration": 4,
    "start_time": "2024-07-09T19:53:34.251Z"
   },
   {
    "duration": 4,
    "start_time": "2024-07-09T19:53:38.154Z"
   },
   {
    "duration": 8,
    "start_time": "2024-07-09T19:53:40.237Z"
   },
   {
    "duration": 5,
    "start_time": "2024-07-09T19:53:46.345Z"
   },
   {
    "duration": 714,
    "start_time": "2024-07-09T19:53:53.686Z"
   },
   {
    "duration": 16,
    "start_time": "2024-07-09T19:53:54.403Z"
   },
   {
    "duration": 62,
    "start_time": "2024-07-09T19:53:54.423Z"
   },
   {
    "duration": 1756,
    "start_time": "2024-07-09T19:53:54.486Z"
   },
   {
    "duration": 65,
    "start_time": "2024-07-09T19:53:56.243Z"
   },
   {
    "duration": 2,
    "start_time": "2024-07-09T19:53:56.310Z"
   },
   {
    "duration": 8,
    "start_time": "2024-07-09T19:53:56.314Z"
   },
   {
    "duration": 17,
    "start_time": "2024-07-09T19:53:56.323Z"
   },
   {
    "duration": 4,
    "start_time": "2024-07-09T19:53:56.342Z"
   },
   {
    "duration": 12,
    "start_time": "2024-07-09T19:53:56.347Z"
   },
   {
    "duration": 5,
    "start_time": "2024-07-09T19:53:56.360Z"
   },
   {
    "duration": 57,
    "start_time": "2024-07-09T19:53:56.366Z"
   },
   {
    "duration": 5,
    "start_time": "2024-07-09T19:53:56.425Z"
   },
   {
    "duration": 26,
    "start_time": "2024-07-09T19:53:56.432Z"
   },
   {
    "duration": 5,
    "start_time": "2024-07-09T19:53:56.459Z"
   },
   {
    "duration": 9,
    "start_time": "2024-07-09T19:53:56.488Z"
   },
   {
    "duration": 8,
    "start_time": "2024-07-09T19:53:56.499Z"
   },
   {
    "duration": 8,
    "start_time": "2024-07-09T19:53:56.508Z"
   },
   {
    "duration": 7,
    "start_time": "2024-07-09T19:53:56.517Z"
   },
   {
    "duration": 334,
    "start_time": "2024-07-09T19:53:56.525Z"
   },
   {
    "duration": 18,
    "start_time": "2024-07-09T19:53:56.861Z"
   },
   {
    "duration": 18,
    "start_time": "2024-07-09T19:53:56.889Z"
   },
   {
    "duration": 3050,
    "start_time": "2024-07-09T19:53:56.908Z"
   },
   {
    "duration": 5,
    "start_time": "2024-07-09T19:53:59.959Z"
   },
   {
    "duration": 74,
    "start_time": "2024-07-09T19:53:59.965Z"
   },
   {
    "duration": 22,
    "start_time": "2024-07-09T19:54:00.040Z"
   },
   {
    "duration": 22,
    "start_time": "2024-07-09T19:54:00.065Z"
   },
   {
    "duration": 51,
    "start_time": "2024-07-09T19:54:00.089Z"
   },
   {
    "duration": 141,
    "start_time": "2024-07-09T19:54:00.142Z"
   },
   {
    "duration": 12,
    "start_time": "2024-07-09T19:54:00.285Z"
   },
   {
    "duration": 70,
    "start_time": "2024-07-09T19:54:00.298Z"
   },
   {
    "duration": 85,
    "start_time": "2024-07-09T19:54:00.370Z"
   },
   {
    "duration": 39,
    "start_time": "2024-07-09T19:54:00.456Z"
   },
   {
    "duration": 324,
    "start_time": "2024-07-09T19:54:00.497Z"
   },
   {
    "duration": 19,
    "start_time": "2024-07-09T19:54:00.823Z"
   },
   {
    "duration": 325,
    "start_time": "2024-07-09T19:54:00.844Z"
   },
   {
    "duration": 507,
    "start_time": "2024-07-09T19:54:01.171Z"
   },
   {
    "duration": 323,
    "start_time": "2024-07-09T19:54:01.680Z"
   },
   {
    "duration": 340,
    "start_time": "2024-07-09T19:54:02.005Z"
   },
   {
    "duration": 331,
    "start_time": "2024-07-09T19:54:02.346Z"
   },
   {
    "duration": 398,
    "start_time": "2024-07-09T19:54:02.679Z"
   },
   {
    "duration": 143,
    "start_time": "2024-07-09T19:54:03.079Z"
   },
   {
    "duration": 358,
    "start_time": "2024-07-09T19:54:03.223Z"
   },
   {
    "duration": 271,
    "start_time": "2024-07-09T19:54:03.582Z"
   },
   {
    "duration": 288,
    "start_time": "2024-07-09T19:54:03.854Z"
   },
   {
    "duration": 8,
    "start_time": "2024-07-09T19:54:04.143Z"
   },
   {
    "duration": 466,
    "start_time": "2024-07-09T19:54:04.152Z"
   },
   {
    "duration": 146,
    "start_time": "2024-07-09T19:54:04.619Z"
   },
   {
    "duration": 5,
    "start_time": "2024-07-09T19:54:04.767Z"
   },
   {
    "duration": 158,
    "start_time": "2024-07-09T19:54:04.774Z"
   },
   {
    "duration": 149,
    "start_time": "2024-07-09T19:54:04.933Z"
   },
   {
    "duration": 209,
    "start_time": "2024-07-09T19:54:05.089Z"
   },
   {
    "duration": 138,
    "start_time": "2024-07-09T19:54:05.299Z"
   },
   {
    "duration": 143,
    "start_time": "2024-07-09T19:54:05.439Z"
   },
   {
    "duration": 146,
    "start_time": "2024-07-09T19:54:05.583Z"
   },
   {
    "duration": 140,
    "start_time": "2024-07-09T19:54:05.730Z"
   },
   {
    "duration": 33,
    "start_time": "2024-07-09T19:54:05.871Z"
   },
   {
    "duration": 150,
    "start_time": "2024-07-09T19:54:05.905Z"
   },
   {
    "duration": 81,
    "start_time": "2024-07-09T19:54:27.879Z"
   },
   {
    "duration": 4,
    "start_time": "2024-07-09T19:54:30.425Z"
   },
   {
    "duration": 5,
    "start_time": "2024-07-09T19:54:32.600Z"
   },
   {
    "duration": 7,
    "start_time": "2024-07-09T19:54:32.948Z"
   },
   {
    "duration": 7,
    "start_time": "2024-07-09T19:54:33.097Z"
   },
   {
    "duration": 7,
    "start_time": "2024-07-09T19:54:33.832Z"
   },
   {
    "duration": 8,
    "start_time": "2024-07-09T19:54:35.902Z"
   },
   {
    "duration": 719,
    "start_time": "2024-07-09T19:54:53.970Z"
   },
   {
    "duration": 14,
    "start_time": "2024-07-09T19:54:54.691Z"
   },
   {
    "duration": 77,
    "start_time": "2024-07-09T19:54:54.706Z"
   },
   {
    "duration": 1777,
    "start_time": "2024-07-09T19:54:54.785Z"
   },
   {
    "duration": 65,
    "start_time": "2024-07-09T19:54:56.563Z"
   },
   {
    "duration": 3,
    "start_time": "2024-07-09T19:54:56.629Z"
   },
   {
    "duration": 18,
    "start_time": "2024-07-09T19:54:56.633Z"
   },
   {
    "duration": 18,
    "start_time": "2024-07-09T19:54:56.652Z"
   },
   {
    "duration": 4,
    "start_time": "2024-07-09T19:54:56.671Z"
   },
   {
    "duration": 13,
    "start_time": "2024-07-09T19:54:56.689Z"
   },
   {
    "duration": 50,
    "start_time": "2024-07-09T19:54:56.704Z"
   },
   {
    "duration": 39,
    "start_time": "2024-07-09T19:54:56.755Z"
   },
   {
    "duration": 6,
    "start_time": "2024-07-09T19:54:56.796Z"
   },
   {
    "duration": 58,
    "start_time": "2024-07-09T19:54:56.803Z"
   },
   {
    "duration": 5,
    "start_time": "2024-07-09T19:54:56.862Z"
   },
   {
    "duration": 17,
    "start_time": "2024-07-09T19:54:56.869Z"
   },
   {
    "duration": 10,
    "start_time": "2024-07-09T19:54:56.888Z"
   },
   {
    "duration": 11,
    "start_time": "2024-07-09T19:54:56.899Z"
   },
   {
    "duration": 15,
    "start_time": "2024-07-09T19:54:56.912Z"
   },
   {
    "duration": 309,
    "start_time": "2024-07-09T19:54:56.929Z"
   },
   {
    "duration": 17,
    "start_time": "2024-07-09T19:54:57.240Z"
   },
   {
    "duration": 17,
    "start_time": "2024-07-09T19:54:57.259Z"
   },
   {
    "duration": 3002,
    "start_time": "2024-07-09T19:54:57.290Z"
   },
   {
    "duration": 6,
    "start_time": "2024-07-09T19:55:00.294Z"
   },
   {
    "duration": 55,
    "start_time": "2024-07-09T19:55:00.301Z"
   },
   {
    "duration": 92,
    "start_time": "2024-07-09T19:55:00.358Z"
   },
   {
    "duration": 174,
    "start_time": "2024-07-09T19:55:00.452Z"
   },
   {
    "duration": 87,
    "start_time": "2024-07-09T19:55:00.631Z"
   },
   {
    "duration": 196,
    "start_time": "2024-07-09T19:55:00.720Z"
   },
   {
    "duration": 42,
    "start_time": "2024-07-09T19:55:00.918Z"
   },
   {
    "duration": 40,
    "start_time": "2024-07-09T19:55:00.962Z"
   },
   {
    "duration": 99,
    "start_time": "2024-07-09T19:55:01.004Z"
   },
   {
    "duration": 12,
    "start_time": "2024-07-09T19:55:01.104Z"
   },
   {
    "duration": 482,
    "start_time": "2024-07-09T19:55:01.118Z"
   },
   {
    "duration": 18,
    "start_time": "2024-07-09T19:55:01.601Z"
   },
   {
    "duration": 414,
    "start_time": "2024-07-09T19:55:01.621Z"
   },
   {
    "duration": 363,
    "start_time": "2024-07-09T19:55:02.036Z"
   },
   {
    "duration": 411,
    "start_time": "2024-07-09T19:55:02.401Z"
   },
   {
    "duration": 549,
    "start_time": "2024-07-09T19:55:02.813Z"
   },
   {
    "duration": 317,
    "start_time": "2024-07-09T19:55:03.363Z"
   },
   {
    "duration": 311,
    "start_time": "2024-07-09T19:55:03.681Z"
   },
   {
    "duration": 147,
    "start_time": "2024-07-09T19:55:03.993Z"
   },
   {
    "duration": 340,
    "start_time": "2024-07-09T19:55:04.142Z"
   },
   {
    "duration": 287,
    "start_time": "2024-07-09T19:55:04.489Z"
   },
   {
    "duration": 281,
    "start_time": "2024-07-09T19:55:04.777Z"
   },
   {
    "duration": 8,
    "start_time": "2024-07-09T19:55:05.060Z"
   },
   {
    "duration": 451,
    "start_time": "2024-07-09T19:55:05.069Z"
   },
   {
    "duration": 152,
    "start_time": "2024-07-09T19:55:05.522Z"
   },
   {
    "duration": 4,
    "start_time": "2024-07-09T19:55:05.676Z"
   },
   {
    "duration": 171,
    "start_time": "2024-07-09T19:55:05.682Z"
   },
   {
    "duration": 163,
    "start_time": "2024-07-09T19:55:05.854Z"
   },
   {
    "duration": 225,
    "start_time": "2024-07-09T19:55:06.019Z"
   },
   {
    "duration": 136,
    "start_time": "2024-07-09T19:55:06.246Z"
   },
   {
    "duration": 146,
    "start_time": "2024-07-09T19:55:06.390Z"
   },
   {
    "duration": 135,
    "start_time": "2024-07-09T19:55:06.538Z"
   },
   {
    "duration": 144,
    "start_time": "2024-07-09T19:55:06.675Z"
   },
   {
    "duration": 30,
    "start_time": "2024-07-09T19:55:06.821Z"
   },
   {
    "duration": 150,
    "start_time": "2024-07-09T19:55:06.852Z"
   },
   {
    "duration": 4,
    "start_time": "2024-07-09T19:55:38.678Z"
   },
   {
    "duration": 4,
    "start_time": "2024-07-09T19:56:51.467Z"
   },
   {
    "duration": 4,
    "start_time": "2024-07-09T19:56:53.277Z"
   },
   {
    "duration": 8,
    "start_time": "2024-07-09T19:56:59.861Z"
   },
   {
    "duration": 6,
    "start_time": "2024-07-09T19:57:15.241Z"
   },
   {
    "duration": 707,
    "start_time": "2024-07-09T19:57:38.185Z"
   },
   {
    "duration": 13,
    "start_time": "2024-07-09T19:57:38.894Z"
   },
   {
    "duration": 23,
    "start_time": "2024-07-09T19:57:38.909Z"
   },
   {
    "duration": 1712,
    "start_time": "2024-07-09T19:57:39.006Z"
   },
   {
    "duration": 63,
    "start_time": "2024-07-09T19:57:40.719Z"
   },
   {
    "duration": 3,
    "start_time": "2024-07-09T19:57:42.059Z"
   },
   {
    "duration": 3,
    "start_time": "2024-07-09T19:57:47.582Z"
   },
   {
    "duration": 9,
    "start_time": "2024-07-09T19:57:49.267Z"
   },
   {
    "duration": 27,
    "start_time": "2024-07-09T19:57:58.319Z"
   },
   {
    "duration": 4,
    "start_time": "2024-07-09T19:58:00.466Z"
   },
   {
    "duration": 8,
    "start_time": "2024-07-09T19:58:03.411Z"
   },
   {
    "duration": 5,
    "start_time": "2024-07-09T19:58:06.876Z"
   },
   {
    "duration": 25,
    "start_time": "2024-07-09T19:58:08.119Z"
   },
   {
    "duration": 7,
    "start_time": "2024-07-09T19:58:23.387Z"
   },
   {
    "duration": 25,
    "start_time": "2024-07-09T19:58:27.585Z"
   },
   {
    "duration": 5,
    "start_time": "2024-07-09T19:58:34.859Z"
   },
   {
    "duration": 7,
    "start_time": "2024-07-09T19:58:42.985Z"
   },
   {
    "duration": 4,
    "start_time": "2024-07-09T19:58:46.105Z"
   },
   {
    "duration": 4,
    "start_time": "2024-07-09T19:58:48.104Z"
   },
   {
    "duration": 8,
    "start_time": "2024-07-09T19:58:48.639Z"
   },
   {
    "duration": 9,
    "start_time": "2024-07-09T19:58:52.319Z"
   },
   {
    "duration": 4,
    "start_time": "2024-07-09T19:58:56.139Z"
   },
   {
    "duration": 6,
    "start_time": "2024-07-09T19:58:58.765Z"
   },
   {
    "duration": 7,
    "start_time": "2024-07-09T19:59:02.486Z"
   },
   {
    "duration": 5,
    "start_time": "2024-07-09T19:59:05.406Z"
   },
   {
    "duration": 4,
    "start_time": "2024-07-09T19:59:18.266Z"
   },
   {
    "duration": 8,
    "start_time": "2024-07-09T19:59:25.522Z"
   },
   {
    "duration": 4,
    "start_time": "2024-07-09T19:59:28.324Z"
   },
   {
    "duration": 3,
    "start_time": "2024-07-09T19:59:31.223Z"
   },
   {
    "duration": 25,
    "start_time": "2024-07-09T19:59:36.039Z"
   },
   {
    "duration": 5,
    "start_time": "2024-07-09T19:59:39.130Z"
   },
   {
    "duration": 8,
    "start_time": "2024-07-09T19:59:41.449Z"
   },
   {
    "duration": 4,
    "start_time": "2024-07-09T19:59:42.340Z"
   },
   {
    "duration": 4,
    "start_time": "2024-07-09T19:59:46.633Z"
   },
   {
    "duration": 685,
    "start_time": "2024-07-09T19:59:51.518Z"
   },
   {
    "duration": 15,
    "start_time": "2024-07-09T19:59:52.204Z"
   },
   {
    "duration": 25,
    "start_time": "2024-07-09T19:59:52.220Z"
   },
   {
    "duration": 1895,
    "start_time": "2024-07-09T19:59:52.247Z"
   },
   {
    "duration": 64,
    "start_time": "2024-07-09T19:59:54.174Z"
   },
   {
    "duration": 2,
    "start_time": "2024-07-09T19:59:54.240Z"
   },
   {
    "duration": 20,
    "start_time": "2024-07-09T19:59:54.243Z"
   },
   {
    "duration": 17,
    "start_time": "2024-07-09T19:59:54.264Z"
   },
   {
    "duration": 16,
    "start_time": "2024-07-09T19:59:54.282Z"
   },
   {
    "duration": 15,
    "start_time": "2024-07-09T19:59:54.300Z"
   },
   {
    "duration": 24,
    "start_time": "2024-07-09T19:59:54.316Z"
   },
   {
    "duration": 26,
    "start_time": "2024-07-09T19:59:54.342Z"
   },
   {
    "duration": 5,
    "start_time": "2024-07-09T19:59:54.369Z"
   },
   {
    "duration": 24,
    "start_time": "2024-07-09T19:59:54.376Z"
   },
   {
    "duration": 4,
    "start_time": "2024-07-09T19:59:54.401Z"
   },
   {
    "duration": 27,
    "start_time": "2024-07-09T19:59:54.406Z"
   },
   {
    "duration": 16,
    "start_time": "2024-07-09T19:59:54.434Z"
   },
   {
    "duration": 26,
    "start_time": "2024-07-09T19:59:54.451Z"
   },
   {
    "duration": 26,
    "start_time": "2024-07-09T19:59:54.478Z"
   },
   {
    "duration": 10,
    "start_time": "2024-07-09T19:59:54.505Z"
   },
   {
    "duration": 308,
    "start_time": "2024-07-09T19:59:54.516Z"
   },
   {
    "duration": 16,
    "start_time": "2024-07-09T19:59:54.825Z"
   },
   {
    "duration": 45,
    "start_time": "2024-07-09T19:59:54.843Z"
   },
   {
    "duration": 3064,
    "start_time": "2024-07-09T19:59:54.889Z"
   },
   {
    "duration": 5,
    "start_time": "2024-07-09T19:59:57.954Z"
   },
   {
    "duration": 19,
    "start_time": "2024-07-09T19:59:57.960Z"
   },
   {
    "duration": 81,
    "start_time": "2024-07-09T19:59:57.980Z"
   },
   {
    "duration": 3,
    "start_time": "2024-07-09T19:59:58.064Z"
   },
   {
    "duration": 13,
    "start_time": "2024-07-09T19:59:58.069Z"
   },
   {
    "duration": 75,
    "start_time": "2024-07-09T19:59:58.083Z"
   },
   {
    "duration": 7,
    "start_time": "2024-07-09T19:59:58.159Z"
   },
   {
    "duration": 3,
    "start_time": "2024-07-09T19:59:58.167Z"
   },
   {
    "duration": 29,
    "start_time": "2024-07-09T19:59:58.172Z"
   },
   {
    "duration": 3,
    "start_time": "2024-07-09T19:59:58.202Z"
   },
   {
    "duration": 298,
    "start_time": "2024-07-09T19:59:58.206Z"
   },
   {
    "duration": 20,
    "start_time": "2024-07-09T19:59:58.505Z"
   },
   {
    "duration": 335,
    "start_time": "2024-07-09T19:59:58.527Z"
   },
   {
    "duration": 351,
    "start_time": "2024-07-09T19:59:58.863Z"
   },
   {
    "duration": 307,
    "start_time": "2024-07-09T19:59:59.215Z"
   },
   {
    "duration": 320,
    "start_time": "2024-07-09T19:59:59.523Z"
   },
   {
    "duration": 336,
    "start_time": "2024-07-09T19:59:59.844Z"
   },
   {
    "duration": 409,
    "start_time": "2024-07-09T20:00:00.184Z"
   },
   {
    "duration": 148,
    "start_time": "2024-07-09T20:00:00.594Z"
   },
   {
    "duration": 353,
    "start_time": "2024-07-09T20:00:00.743Z"
   },
   {
    "duration": 281,
    "start_time": "2024-07-09T20:00:01.097Z"
   },
   {
    "duration": 321,
    "start_time": "2024-07-09T20:00:01.380Z"
   },
   {
    "duration": 10,
    "start_time": "2024-07-09T20:00:01.702Z"
   },
   {
    "duration": 643,
    "start_time": "2024-07-09T20:00:01.714Z"
   },
   {
    "duration": 159,
    "start_time": "2024-07-09T20:00:02.358Z"
   },
   {
    "duration": 5,
    "start_time": "2024-07-09T20:00:02.519Z"
   },
   {
    "duration": 155,
    "start_time": "2024-07-09T20:00:02.525Z"
   },
   {
    "duration": 154,
    "start_time": "2024-07-09T20:00:02.681Z"
   },
   {
    "duration": 232,
    "start_time": "2024-07-09T20:00:02.837Z"
   },
   {
    "duration": 153,
    "start_time": "2024-07-09T20:00:03.071Z"
   },
   {
    "duration": 152,
    "start_time": "2024-07-09T20:00:03.226Z"
   },
   {
    "duration": 148,
    "start_time": "2024-07-09T20:00:03.380Z"
   },
   {
    "duration": 151,
    "start_time": "2024-07-09T20:00:03.530Z"
   },
   {
    "duration": 28,
    "start_time": "2024-07-09T20:00:03.689Z"
   },
   {
    "duration": 154,
    "start_time": "2024-07-09T20:00:03.719Z"
   },
   {
    "duration": 4,
    "start_time": "2024-07-09T20:01:39.513Z"
   },
   {
    "duration": 4,
    "start_time": "2024-07-09T20:01:41.972Z"
   },
   {
    "duration": 704,
    "start_time": "2024-07-09T20:04:13.760Z"
   },
   {
    "duration": 14,
    "start_time": "2024-07-09T20:04:14.465Z"
   },
   {
    "duration": 24,
    "start_time": "2024-07-09T20:04:14.480Z"
   },
   {
    "duration": 1739,
    "start_time": "2024-07-09T20:04:14.507Z"
   },
   {
    "duration": 74,
    "start_time": "2024-07-09T20:04:16.247Z"
   },
   {
    "duration": 3,
    "start_time": "2024-07-09T20:04:16.323Z"
   },
   {
    "duration": 15,
    "start_time": "2024-07-09T20:04:16.327Z"
   },
   {
    "duration": 18,
    "start_time": "2024-07-09T20:04:16.343Z"
   },
   {
    "duration": 4,
    "start_time": "2024-07-09T20:04:16.363Z"
   },
   {
    "duration": 29,
    "start_time": "2024-07-09T20:04:16.369Z"
   },
   {
    "duration": 6,
    "start_time": "2024-07-09T20:04:16.399Z"
   },
   {
    "duration": 6,
    "start_time": "2024-07-09T20:04:16.407Z"
   },
   {
    "duration": 4,
    "start_time": "2024-07-09T20:04:16.415Z"
   },
   {
    "duration": 6,
    "start_time": "2024-07-09T20:04:16.420Z"
   },
   {
    "duration": 9,
    "start_time": "2024-07-09T20:04:16.427Z"
   },
   {
    "duration": 22,
    "start_time": "2024-07-09T20:04:16.437Z"
   },
   {
    "duration": 8,
    "start_time": "2024-07-09T20:04:16.490Z"
   },
   {
    "duration": 7,
    "start_time": "2024-07-09T20:04:16.500Z"
   },
   {
    "duration": 323,
    "start_time": "2024-07-09T20:04:16.509Z"
   },
   {
    "duration": 20,
    "start_time": "2024-07-09T20:04:16.833Z"
   },
   {
    "duration": 19,
    "start_time": "2024-07-09T20:04:16.854Z"
   },
   {
    "duration": 2991,
    "start_time": "2024-07-09T20:04:16.889Z"
   },
   {
    "duration": 9,
    "start_time": "2024-07-09T20:04:19.882Z"
   },
   {
    "duration": 16,
    "start_time": "2024-07-09T20:04:19.893Z"
   },
   {
    "duration": 9,
    "start_time": "2024-07-09T20:04:19.910Z"
   },
   {
    "duration": 3,
    "start_time": "2024-07-09T20:04:19.921Z"
   },
   {
    "duration": 4,
    "start_time": "2024-07-09T20:04:19.926Z"
   },
   {
    "duration": 69,
    "start_time": "2024-07-09T20:04:19.934Z"
   },
   {
    "duration": 8,
    "start_time": "2024-07-09T20:04:20.004Z"
   },
   {
    "duration": 41,
    "start_time": "2024-07-09T20:04:20.014Z"
   },
   {
    "duration": 28,
    "start_time": "2024-07-09T20:04:20.057Z"
   },
   {
    "duration": 4,
    "start_time": "2024-07-09T20:04:20.086Z"
   },
   {
    "duration": 286,
    "start_time": "2024-07-09T20:04:20.092Z"
   },
   {
    "duration": 24,
    "start_time": "2024-07-09T20:04:20.380Z"
   },
   {
    "duration": 331,
    "start_time": "2024-07-09T20:04:20.406Z"
   },
   {
    "duration": 373,
    "start_time": "2024-07-09T20:04:20.738Z"
   },
   {
    "duration": 304,
    "start_time": "2024-07-09T20:04:21.112Z"
   },
   {
    "duration": 309,
    "start_time": "2024-07-09T20:04:21.417Z"
   },
   {
    "duration": 319,
    "start_time": "2024-07-09T20:04:21.727Z"
   },
   {
    "duration": 335,
    "start_time": "2024-07-09T20:04:22.048Z"
   },
   {
    "duration": 171,
    "start_time": "2024-07-09T20:04:22.389Z"
   },
   {
    "duration": 338,
    "start_time": "2024-07-09T20:04:22.562Z"
   },
   {
    "duration": 275,
    "start_time": "2024-07-09T20:04:22.901Z"
   },
   {
    "duration": 290,
    "start_time": "2024-07-09T20:04:23.178Z"
   },
   {
    "duration": 20,
    "start_time": "2024-07-09T20:04:23.470Z"
   },
   {
    "duration": 443,
    "start_time": "2024-07-09T20:04:23.491Z"
   },
   {
    "duration": 158,
    "start_time": "2024-07-09T20:04:23.936Z"
   },
   {
    "duration": 4,
    "start_time": "2024-07-09T20:04:24.096Z"
   },
   {
    "duration": 151,
    "start_time": "2024-07-09T20:04:24.101Z"
   },
   {
    "duration": 154,
    "start_time": "2024-07-09T20:04:24.253Z"
   },
   {
    "duration": 210,
    "start_time": "2024-07-09T20:04:24.409Z"
   },
   {
    "duration": 134,
    "start_time": "2024-07-09T20:04:24.621Z"
   },
   {
    "duration": 138,
    "start_time": "2024-07-09T20:04:24.757Z"
   },
   {
    "duration": 141,
    "start_time": "2024-07-09T20:04:24.896Z"
   },
   {
    "duration": 140,
    "start_time": "2024-07-09T20:04:25.039Z"
   },
   {
    "duration": 33,
    "start_time": "2024-07-09T20:04:25.181Z"
   },
   {
    "duration": 152,
    "start_time": "2024-07-09T20:04:25.215Z"
   },
   {
    "duration": 4,
    "start_time": "2024-07-09T20:04:56.128Z"
   },
   {
    "duration": 7,
    "start_time": "2024-07-09T20:04:58.332Z"
   },
   {
    "duration": 437,
    "start_time": "2024-07-09T20:08:14.523Z"
   },
   {
    "duration": 527,
    "start_time": "2024-07-09T20:08:21.841Z"
   },
   {
    "duration": 6,
    "start_time": "2024-07-09T20:09:03.490Z"
   },
   {
    "duration": 8,
    "start_time": "2024-07-09T20:09:07.287Z"
   },
   {
    "duration": 426,
    "start_time": "2024-07-09T20:09:15.895Z"
   },
   {
    "duration": 677,
    "start_time": "2024-07-09T20:23:16.120Z"
   },
   {
    "duration": 13,
    "start_time": "2024-07-09T20:23:16.799Z"
   },
   {
    "duration": 37,
    "start_time": "2024-07-09T20:23:16.814Z"
   },
   {
    "duration": 1754,
    "start_time": "2024-07-09T20:23:16.852Z"
   },
   {
    "duration": 65,
    "start_time": "2024-07-09T20:23:18.608Z"
   },
   {
    "duration": 3,
    "start_time": "2024-07-09T20:23:18.674Z"
   },
   {
    "duration": 18,
    "start_time": "2024-07-09T20:23:18.678Z"
   },
   {
    "duration": 18,
    "start_time": "2024-07-09T20:23:18.698Z"
   },
   {
    "duration": 5,
    "start_time": "2024-07-09T20:23:18.717Z"
   },
   {
    "duration": 14,
    "start_time": "2024-07-09T20:23:18.723Z"
   },
   {
    "duration": 6,
    "start_time": "2024-07-09T20:23:18.739Z"
   },
   {
    "duration": 7,
    "start_time": "2024-07-09T20:23:18.746Z"
   },
   {
    "duration": 35,
    "start_time": "2024-07-09T20:23:18.755Z"
   },
   {
    "duration": 5,
    "start_time": "2024-07-09T20:23:18.795Z"
   },
   {
    "duration": 57,
    "start_time": "2024-07-09T20:23:18.802Z"
   },
   {
    "duration": 11,
    "start_time": "2024-07-09T20:23:18.861Z"
   },
   {
    "duration": 16,
    "start_time": "2024-07-09T20:23:18.873Z"
   },
   {
    "duration": 7,
    "start_time": "2024-07-09T20:23:18.890Z"
   },
   {
    "duration": 305,
    "start_time": "2024-07-09T20:23:18.898Z"
   },
   {
    "duration": 17,
    "start_time": "2024-07-09T20:23:19.204Z"
   },
   {
    "duration": 26,
    "start_time": "2024-07-09T20:23:19.222Z"
   },
   {
    "duration": 3083,
    "start_time": "2024-07-09T20:23:19.249Z"
   },
   {
    "duration": 5,
    "start_time": "2024-07-09T20:23:22.333Z"
   },
   {
    "duration": 9,
    "start_time": "2024-07-09T20:23:22.340Z"
   },
   {
    "duration": 7,
    "start_time": "2024-07-09T20:23:22.351Z"
   },
   {
    "duration": 3,
    "start_time": "2024-07-09T20:23:22.359Z"
   },
   {
    "duration": 25,
    "start_time": "2024-07-09T20:23:22.364Z"
   },
   {
    "duration": 62,
    "start_time": "2024-07-09T20:23:22.391Z"
   },
   {
    "duration": 7,
    "start_time": "2024-07-09T20:23:22.455Z"
   },
   {
    "duration": 3,
    "start_time": "2024-07-09T20:23:22.464Z"
   },
   {
    "duration": 28,
    "start_time": "2024-07-09T20:23:22.489Z"
   },
   {
    "duration": 3,
    "start_time": "2024-07-09T20:23:22.519Z"
   },
   {
    "duration": 308,
    "start_time": "2024-07-09T20:23:22.524Z"
   },
   {
    "duration": 24,
    "start_time": "2024-07-09T20:23:22.834Z"
   },
   {
    "duration": 346,
    "start_time": "2024-07-09T20:23:22.860Z"
   },
   {
    "duration": 349,
    "start_time": "2024-07-09T20:23:23.208Z"
   },
   {
    "duration": 311,
    "start_time": "2024-07-09T20:23:23.559Z"
   },
   {
    "duration": 319,
    "start_time": "2024-07-09T20:23:23.872Z"
   },
   {
    "duration": 350,
    "start_time": "2024-07-09T20:23:24.192Z"
   },
   {
    "duration": 333,
    "start_time": "2024-07-09T20:23:24.543Z"
   },
   {
    "duration": 152,
    "start_time": "2024-07-09T20:23:24.880Z"
   },
   {
    "duration": 345,
    "start_time": "2024-07-09T20:23:25.033Z"
   },
   {
    "duration": 279,
    "start_time": "2024-07-09T20:23:25.379Z"
   },
   {
    "duration": 304,
    "start_time": "2024-07-09T20:23:25.659Z"
   },
   {
    "duration": 10,
    "start_time": "2024-07-09T20:23:25.965Z"
   },
   {
    "duration": 17,
    "start_time": "2024-07-09T20:23:25.976Z"
   },
   {
    "duration": 466,
    "start_time": "2024-07-09T20:23:25.994Z"
   },
   {
    "duration": 146,
    "start_time": "2024-07-09T20:23:26.462Z"
   },
   {
    "duration": 5,
    "start_time": "2024-07-09T20:23:26.610Z"
   },
   {
    "duration": 155,
    "start_time": "2024-07-09T20:23:26.616Z"
   },
   {
    "duration": 153,
    "start_time": "2024-07-09T20:23:26.773Z"
   },
   {
    "duration": 216,
    "start_time": "2024-07-09T20:23:26.927Z"
   },
   {
    "duration": 145,
    "start_time": "2024-07-09T20:23:27.144Z"
   },
   {
    "duration": 144,
    "start_time": "2024-07-09T20:23:27.291Z"
   },
   {
    "duration": 144,
    "start_time": "2024-07-09T20:23:27.437Z"
   },
   {
    "duration": 140,
    "start_time": "2024-07-09T20:23:27.583Z"
   },
   {
    "duration": 36,
    "start_time": "2024-07-09T20:23:27.725Z"
   },
   {
    "duration": 159,
    "start_time": "2024-07-09T20:23:27.762Z"
   },
   {
    "duration": 56,
    "start_time": "2024-07-09T20:29:21.797Z"
   },
   {
    "duration": 57,
    "start_time": "2024-07-09T20:40:14.421Z"
   },
   {
    "duration": 8,
    "start_time": "2024-07-09T20:41:41.905Z"
   },
   {
    "duration": 556,
    "start_time": "2024-07-09T20:43:23.174Z"
   },
   {
    "duration": 131,
    "start_time": "2024-07-09T20:59:54.011Z"
   },
   {
    "duration": 75,
    "start_time": "2024-07-09T21:03:39.942Z"
   },
   {
    "duration": 684,
    "start_time": "2024-07-09T21:05:15.747Z"
   },
   {
    "duration": 22,
    "start_time": "2024-07-09T21:05:16.433Z"
   },
   {
    "duration": 49,
    "start_time": "2024-07-09T21:05:16.456Z"
   },
   {
    "duration": 1787,
    "start_time": "2024-07-09T21:05:16.507Z"
   },
   {
    "duration": 68,
    "start_time": "2024-07-09T21:05:18.296Z"
   },
   {
    "duration": 6,
    "start_time": "2024-07-09T21:05:18.366Z"
   },
   {
    "duration": 53,
    "start_time": "2024-07-09T21:05:18.373Z"
   },
   {
    "duration": 28,
    "start_time": "2024-07-09T21:05:18.428Z"
   },
   {
    "duration": 5,
    "start_time": "2024-07-09T21:05:18.458Z"
   },
   {
    "duration": 23,
    "start_time": "2024-07-09T21:05:18.464Z"
   },
   {
    "duration": 10,
    "start_time": "2024-07-09T21:05:18.489Z"
   },
   {
    "duration": 22,
    "start_time": "2024-07-09T21:05:18.501Z"
   },
   {
    "duration": 19,
    "start_time": "2024-07-09T21:05:18.524Z"
   },
   {
    "duration": 10,
    "start_time": "2024-07-09T21:05:18.547Z"
   },
   {
    "duration": 22,
    "start_time": "2024-07-09T21:05:18.559Z"
   },
   {
    "duration": 28,
    "start_time": "2024-07-09T21:05:18.583Z"
   },
   {
    "duration": 30,
    "start_time": "2024-07-09T21:05:18.612Z"
   },
   {
    "duration": 41,
    "start_time": "2024-07-09T21:05:18.644Z"
   },
   {
    "duration": 355,
    "start_time": "2024-07-09T21:05:18.686Z"
   },
   {
    "duration": 18,
    "start_time": "2024-07-09T21:05:19.042Z"
   },
   {
    "duration": 32,
    "start_time": "2024-07-09T21:05:19.061Z"
   },
   {
    "duration": 3248,
    "start_time": "2024-07-09T21:05:19.095Z"
   },
   {
    "duration": 5,
    "start_time": "2024-07-09T21:05:22.345Z"
   },
   {
    "duration": 25,
    "start_time": "2024-07-09T21:05:22.352Z"
   },
   {
    "duration": 10,
    "start_time": "2024-07-09T21:05:22.378Z"
   },
   {
    "duration": 4,
    "start_time": "2024-07-09T21:05:22.389Z"
   },
   {
    "duration": 10,
    "start_time": "2024-07-09T21:05:22.395Z"
   },
   {
    "duration": 62,
    "start_time": "2024-07-09T21:05:22.407Z"
   },
   {
    "duration": 20,
    "start_time": "2024-07-09T21:05:22.470Z"
   },
   {
    "duration": 3,
    "start_time": "2024-07-09T21:05:22.492Z"
   },
   {
    "duration": 28,
    "start_time": "2024-07-09T21:05:22.497Z"
   },
   {
    "duration": 3,
    "start_time": "2024-07-09T21:05:22.527Z"
   },
   {
    "duration": 307,
    "start_time": "2024-07-09T21:05:22.532Z"
   },
   {
    "duration": 29,
    "start_time": "2024-07-09T21:05:22.841Z"
   },
   {
    "duration": 457,
    "start_time": "2024-07-09T21:05:22.871Z"
   },
   {
    "duration": 401,
    "start_time": "2024-07-09T21:05:23.329Z"
   },
   {
    "duration": 313,
    "start_time": "2024-07-09T21:05:23.732Z"
   },
   {
    "duration": 322,
    "start_time": "2024-07-09T21:05:24.046Z"
   },
   {
    "duration": 366,
    "start_time": "2024-07-09T21:05:24.369Z"
   },
   {
    "duration": 336,
    "start_time": "2024-07-09T21:05:24.737Z"
   },
   {
    "duration": 170,
    "start_time": "2024-07-09T21:05:25.079Z"
   },
   {
    "duration": 344,
    "start_time": "2024-07-09T21:05:25.251Z"
   },
   {
    "duration": 277,
    "start_time": "2024-07-09T21:05:25.596Z"
   },
   {
    "duration": 318,
    "start_time": "2024-07-09T21:05:25.874Z"
   },
   {
    "duration": 12,
    "start_time": "2024-07-09T21:05:26.194Z"
   },
   {
    "duration": 8,
    "start_time": "2024-07-09T21:05:26.207Z"
   },
   {
    "duration": 520,
    "start_time": "2024-07-09T21:05:26.217Z"
   },
   {
    "duration": 150,
    "start_time": "2024-07-09T21:05:26.739Z"
   },
   {
    "duration": 6,
    "start_time": "2024-07-09T21:05:26.891Z"
   },
   {
    "duration": 172,
    "start_time": "2024-07-09T21:05:26.899Z"
   },
   {
    "duration": 158,
    "start_time": "2024-07-09T21:05:27.073Z"
   },
   {
    "duration": 219,
    "start_time": "2024-07-09T21:05:27.232Z"
   },
   {
    "duration": 152,
    "start_time": "2024-07-09T21:05:27.453Z"
   },
   {
    "duration": 143,
    "start_time": "2024-07-09T21:05:27.606Z"
   },
   {
    "duration": 141,
    "start_time": "2024-07-09T21:05:27.751Z"
   },
   {
    "duration": 146,
    "start_time": "2024-07-09T21:05:27.893Z"
   },
   {
    "duration": 157,
    "start_time": "2024-07-09T21:05:28.040Z"
   },
   {
    "duration": 33,
    "start_time": "2024-07-09T21:05:28.199Z"
   },
   {
    "duration": 222,
    "start_time": "2024-07-09T21:05:28.234Z"
   },
   {
    "duration": 64,
    "start_time": "2024-07-09T21:07:50.456Z"
   },
   {
    "duration": 1668,
    "start_time": "2024-07-09T21:31:37.747Z"
   },
   {
    "duration": 2349,
    "start_time": "2024-07-09T21:31:54.431Z"
   },
   {
    "duration": 53,
    "start_time": "2024-07-09T21:32:06.648Z"
   },
   {
    "duration": 2597,
    "start_time": "2024-07-09T21:32:11.365Z"
   },
   {
    "duration": 2213,
    "start_time": "2024-07-09T21:32:34.497Z"
   },
   {
    "duration": 665,
    "start_time": "2024-07-09T21:32:59.454Z"
   },
   {
    "duration": 15,
    "start_time": "2024-07-09T21:33:00.121Z"
   },
   {
    "duration": 82,
    "start_time": "2024-07-09T21:33:00.137Z"
   },
   {
    "duration": 1813,
    "start_time": "2024-07-09T21:33:00.221Z"
   },
   {
    "duration": 66,
    "start_time": "2024-07-09T21:33:02.035Z"
   },
   {
    "duration": 179,
    "start_time": "2024-07-09T21:33:02.102Z"
   },
   {
    "duration": 13,
    "start_time": "2024-07-09T21:33:02.283Z"
   },
   {
    "duration": 20,
    "start_time": "2024-07-09T21:33:02.298Z"
   },
   {
    "duration": 4,
    "start_time": "2024-07-09T21:33:02.320Z"
   },
   {
    "duration": 9,
    "start_time": "2024-07-09T21:33:02.327Z"
   },
   {
    "duration": 6,
    "start_time": "2024-07-09T21:33:02.337Z"
   },
   {
    "duration": 7,
    "start_time": "2024-07-09T21:33:02.344Z"
   },
   {
    "duration": 37,
    "start_time": "2024-07-09T21:33:02.352Z"
   },
   {
    "duration": 86,
    "start_time": "2024-07-09T21:33:02.391Z"
   },
   {
    "duration": 13,
    "start_time": "2024-07-09T21:33:02.479Z"
   },
   {
    "duration": 17,
    "start_time": "2024-07-09T21:33:02.493Z"
   },
   {
    "duration": 10,
    "start_time": "2024-07-09T21:33:02.512Z"
   },
   {
    "duration": 6,
    "start_time": "2024-07-09T21:33:02.524Z"
   },
   {
    "duration": 325,
    "start_time": "2024-07-09T21:33:02.532Z"
   },
   {
    "duration": 16,
    "start_time": "2024-07-09T21:33:02.859Z"
   },
   {
    "duration": 37,
    "start_time": "2024-07-09T21:33:02.877Z"
   },
   {
    "duration": 2950,
    "start_time": "2024-07-09T21:33:02.916Z"
   },
   {
    "duration": 5,
    "start_time": "2024-07-09T21:33:05.867Z"
   },
   {
    "duration": 12,
    "start_time": "2024-07-09T21:33:05.873Z"
   },
   {
    "duration": 8,
    "start_time": "2024-07-09T21:33:05.885Z"
   },
   {
    "duration": 7,
    "start_time": "2024-07-09T21:33:05.894Z"
   },
   {
    "duration": 4,
    "start_time": "2024-07-09T21:33:05.902Z"
   },
   {
    "duration": 50,
    "start_time": "2024-07-09T21:33:05.909Z"
   },
   {
    "duration": 7,
    "start_time": "2024-07-09T21:33:05.961Z"
   },
   {
    "duration": 20,
    "start_time": "2024-07-09T21:33:05.969Z"
   },
   {
    "duration": 35,
    "start_time": "2024-07-09T21:33:05.991Z"
   },
   {
    "duration": 43,
    "start_time": "2024-07-09T21:33:06.027Z"
   },
   {
    "duration": 282,
    "start_time": "2024-07-09T21:33:06.072Z"
   },
   {
    "duration": 18,
    "start_time": "2024-07-09T21:33:06.356Z"
   },
   {
    "duration": 324,
    "start_time": "2024-07-09T21:33:06.375Z"
   },
   {
    "duration": 345,
    "start_time": "2024-07-09T21:33:06.700Z"
   },
   {
    "duration": 327,
    "start_time": "2024-07-09T21:33:07.046Z"
   },
   {
    "duration": 316,
    "start_time": "2024-07-09T21:33:07.374Z"
   },
   {
    "duration": 326,
    "start_time": "2024-07-09T21:33:07.691Z"
   },
   {
    "duration": 312,
    "start_time": "2024-07-09T21:33:08.018Z"
   },
   {
    "duration": 150,
    "start_time": "2024-07-09T21:33:08.331Z"
   },
   {
    "duration": 341,
    "start_time": "2024-07-09T21:33:08.489Z"
   },
   {
    "duration": 284,
    "start_time": "2024-07-09T21:33:08.832Z"
   },
   {
    "duration": 289,
    "start_time": "2024-07-09T21:33:09.117Z"
   },
   {
    "duration": 7,
    "start_time": "2024-07-09T21:33:09.408Z"
   },
   {
    "duration": 6,
    "start_time": "2024-07-09T21:33:09.417Z"
   },
   {
    "duration": 441,
    "start_time": "2024-07-09T21:33:09.424Z"
   },
   {
    "duration": 148,
    "start_time": "2024-07-09T21:33:09.866Z"
   },
   {
    "duration": 5,
    "start_time": "2024-07-09T21:33:10.015Z"
   },
   {
    "duration": 200,
    "start_time": "2024-07-09T21:33:10.021Z"
   },
   {
    "duration": 158,
    "start_time": "2024-07-09T21:33:10.222Z"
   },
   {
    "duration": 227,
    "start_time": "2024-07-09T21:33:10.381Z"
   },
   {
    "duration": 136,
    "start_time": "2024-07-09T21:33:10.610Z"
   },
   {
    "duration": 136,
    "start_time": "2024-07-09T21:33:10.747Z"
   },
   {
    "duration": 135,
    "start_time": "2024-07-09T21:33:10.889Z"
   },
   {
    "duration": 130,
    "start_time": "2024-07-09T21:33:11.025Z"
   },
   {
    "duration": 136,
    "start_time": "2024-07-09T21:33:11.156Z"
   },
   {
    "duration": 27,
    "start_time": "2024-07-09T21:33:11.294Z"
   },
   {
    "duration": 148,
    "start_time": "2024-07-09T21:33:11.323Z"
   },
   {
    "duration": 697,
    "start_time": "2024-07-09T21:59:58.573Z"
   },
   {
    "duration": 14,
    "start_time": "2024-07-09T21:59:59.271Z"
   },
   {
    "duration": 24,
    "start_time": "2024-07-09T21:59:59.286Z"
   },
   {
    "duration": 1771,
    "start_time": "2024-07-09T21:59:59.311Z"
   },
   {
    "duration": 63,
    "start_time": "2024-07-09T22:00:01.084Z"
   },
   {
    "duration": 91,
    "start_time": "2024-07-09T22:00:01.149Z"
   },
   {
    "duration": 221,
    "start_time": "2024-07-09T22:00:01.242Z"
   },
   {
    "duration": 83,
    "start_time": "2024-07-09T22:00:01.464Z"
   },
   {
    "duration": 328,
    "start_time": "2024-07-09T22:00:01.548Z"
   },
   {
    "duration": 211,
    "start_time": "2024-07-09T22:00:01.877Z"
   },
   {
    "duration": 173,
    "start_time": "2024-07-09T22:00:02.090Z"
   },
   {
    "duration": 67,
    "start_time": "2024-07-09T22:00:02.264Z"
   },
   {
    "duration": 96,
    "start_time": "2024-07-09T22:00:02.333Z"
   },
   {
    "duration": 58,
    "start_time": "2024-07-09T22:00:02.433Z"
   },
   {
    "duration": 55,
    "start_time": "2024-07-09T22:00:02.492Z"
   },
   {
    "duration": 101,
    "start_time": "2024-07-09T22:00:02.549Z"
   },
   {
    "duration": 37,
    "start_time": "2024-07-09T22:00:02.651Z"
   },
   {
    "duration": 83,
    "start_time": "2024-07-09T22:00:02.689Z"
   },
   {
    "duration": 365,
    "start_time": "2024-07-09T22:00:02.773Z"
   },
   {
    "duration": 16,
    "start_time": "2024-07-09T22:00:03.139Z"
   },
   {
    "duration": 40,
    "start_time": "2024-07-09T22:00:03.156Z"
   },
   {
    "duration": 2961,
    "start_time": "2024-07-09T22:00:03.198Z"
   },
   {
    "duration": 5,
    "start_time": "2024-07-09T22:00:06.160Z"
   },
   {
    "duration": 49,
    "start_time": "2024-07-09T22:00:06.166Z"
   },
   {
    "duration": 12,
    "start_time": "2024-07-09T22:00:06.216Z"
   },
   {
    "duration": 7,
    "start_time": "2024-07-09T22:00:06.230Z"
   },
   {
    "duration": 28,
    "start_time": "2024-07-09T22:00:06.238Z"
   },
   {
    "duration": 60,
    "start_time": "2024-07-09T22:00:06.267Z"
   },
   {
    "duration": 6,
    "start_time": "2024-07-09T22:00:06.328Z"
   },
   {
    "duration": 23,
    "start_time": "2024-07-09T22:00:06.336Z"
   },
   {
    "duration": 42,
    "start_time": "2024-07-09T22:00:06.360Z"
   },
   {
    "duration": 3,
    "start_time": "2024-07-09T22:00:06.403Z"
   },
   {
    "duration": 323,
    "start_time": "2024-07-09T22:00:06.407Z"
   },
   {
    "duration": 19,
    "start_time": "2024-07-09T22:00:06.731Z"
   },
   {
    "duration": 338,
    "start_time": "2024-07-09T22:00:06.751Z"
   },
   {
    "duration": 341,
    "start_time": "2024-07-09T22:00:07.091Z"
   },
   {
    "duration": 295,
    "start_time": "2024-07-09T22:00:07.433Z"
   },
   {
    "duration": 310,
    "start_time": "2024-07-09T22:00:07.729Z"
   },
   {
    "duration": 322,
    "start_time": "2024-07-09T22:00:08.040Z"
   },
   {
    "duration": 317,
    "start_time": "2024-07-09T22:00:08.364Z"
   },
   {
    "duration": 141,
    "start_time": "2024-07-09T22:00:08.689Z"
   },
   {
    "duration": 324,
    "start_time": "2024-07-09T22:00:08.831Z"
   },
   {
    "duration": 271,
    "start_time": "2024-07-09T22:00:09.156Z"
   },
   {
    "duration": 285,
    "start_time": "2024-07-09T22:00:09.428Z"
   },
   {
    "duration": 8,
    "start_time": "2024-07-09T22:00:09.714Z"
   },
   {
    "duration": 102,
    "start_time": "2024-07-09T22:00:09.724Z"
   },
   {
    "duration": 446,
    "start_time": "2024-07-09T22:00:09.827Z"
   },
   {
    "duration": 140,
    "start_time": "2024-07-09T22:00:10.275Z"
   },
   {
    "duration": 4,
    "start_time": "2024-07-09T22:00:10.417Z"
   },
   {
    "duration": 155,
    "start_time": "2024-07-09T22:00:10.423Z"
   },
   {
    "duration": 149,
    "start_time": "2024-07-09T22:00:10.579Z"
   },
   {
    "duration": 203,
    "start_time": "2024-07-09T22:00:10.730Z"
   },
   {
    "duration": 131,
    "start_time": "2024-07-09T22:00:10.935Z"
   },
   {
    "duration": 147,
    "start_time": "2024-07-09T22:00:11.068Z"
   },
   {
    "duration": 134,
    "start_time": "2024-07-09T22:00:11.217Z"
   },
   {
    "duration": 136,
    "start_time": "2024-07-09T22:00:11.353Z"
   },
   {
    "duration": 147,
    "start_time": "2024-07-09T22:00:11.490Z"
   },
   {
    "duration": 29,
    "start_time": "2024-07-09T22:00:11.638Z"
   },
   {
    "duration": 147,
    "start_time": "2024-07-09T22:00:11.668Z"
   },
   {
    "duration": 47,
    "start_time": "2024-07-10T07:59:10.286Z"
   },
   {
    "duration": 1061,
    "start_time": "2024-07-10T08:02:46.607Z"
   },
   {
    "duration": 18,
    "start_time": "2024-07-10T08:02:47.671Z"
   },
   {
    "duration": 35,
    "start_time": "2024-07-10T08:02:47.691Z"
   },
   {
    "duration": 1912,
    "start_time": "2024-07-10T08:02:47.727Z"
   },
   {
    "duration": 80,
    "start_time": "2024-07-10T08:02:49.641Z"
   },
   {
    "duration": 14,
    "start_time": "2024-07-10T08:02:49.723Z"
   },
   {
    "duration": 10,
    "start_time": "2024-07-10T08:02:49.739Z"
   },
   {
    "duration": 31,
    "start_time": "2024-07-10T08:02:49.750Z"
   },
   {
    "duration": 5,
    "start_time": "2024-07-10T08:02:49.783Z"
   },
   {
    "duration": 18,
    "start_time": "2024-07-10T08:02:49.789Z"
   },
   {
    "duration": 19,
    "start_time": "2024-07-10T08:02:49.808Z"
   },
   {
    "duration": 10,
    "start_time": "2024-07-10T08:02:49.828Z"
   },
   {
    "duration": 6,
    "start_time": "2024-07-10T08:02:49.840Z"
   },
   {
    "duration": 6,
    "start_time": "2024-07-10T08:02:49.850Z"
   },
   {
    "duration": 26,
    "start_time": "2024-07-10T08:02:49.857Z"
   },
   {
    "duration": 8,
    "start_time": "2024-07-10T08:02:49.884Z"
   },
   {
    "duration": 8,
    "start_time": "2024-07-10T08:02:49.894Z"
   },
   {
    "duration": 9,
    "start_time": "2024-07-10T08:02:49.937Z"
   },
   {
    "duration": 7,
    "start_time": "2024-07-10T08:02:49.948Z"
   },
   {
    "duration": 336,
    "start_time": "2024-07-10T08:02:49.956Z"
   },
   {
    "duration": 21,
    "start_time": "2024-07-10T08:02:50.294Z"
   },
   {
    "duration": 80,
    "start_time": "2024-07-10T08:02:50.317Z"
   },
   {
    "duration": 3347,
    "start_time": "2024-07-10T08:02:50.399Z"
   },
   {
    "duration": 5,
    "start_time": "2024-07-10T08:02:53.748Z"
   },
   {
    "duration": 5,
    "start_time": "2024-07-10T08:02:53.755Z"
   },
   {
    "duration": 14,
    "start_time": "2024-07-10T08:02:53.761Z"
   },
   {
    "duration": 4,
    "start_time": "2024-07-10T08:02:53.776Z"
   },
   {
    "duration": 6,
    "start_time": "2024-07-10T08:02:53.781Z"
   },
   {
    "duration": 84,
    "start_time": "2024-07-10T08:02:53.788Z"
   },
   {
    "duration": 9,
    "start_time": "2024-07-10T08:02:53.873Z"
   },
   {
    "duration": 3,
    "start_time": "2024-07-10T08:02:53.884Z"
   },
   {
    "duration": 36,
    "start_time": "2024-07-10T08:02:53.889Z"
   },
   {
    "duration": 3,
    "start_time": "2024-07-10T08:02:53.938Z"
   },
   {
    "duration": 281,
    "start_time": "2024-07-10T08:02:53.942Z"
   },
   {
    "duration": 34,
    "start_time": "2024-07-10T08:02:54.225Z"
   },
   {
    "duration": 382,
    "start_time": "2024-07-10T08:02:54.261Z"
   },
   {
    "duration": 397,
    "start_time": "2024-07-10T08:02:54.644Z"
   },
   {
    "duration": 314,
    "start_time": "2024-07-10T08:02:55.043Z"
   },
   {
    "duration": 349,
    "start_time": "2024-07-10T08:02:55.359Z"
   },
   {
    "duration": 338,
    "start_time": "2024-07-10T08:02:55.710Z"
   },
   {
    "duration": 343,
    "start_time": "2024-07-10T08:02:56.051Z"
   },
   {
    "duration": 153,
    "start_time": "2024-07-10T08:02:56.395Z"
   },
   {
    "duration": 388,
    "start_time": "2024-07-10T08:02:56.549Z"
   },
   {
    "duration": 302,
    "start_time": "2024-07-10T08:02:56.939Z"
   },
   {
    "duration": 309,
    "start_time": "2024-07-10T08:02:57.242Z"
   },
   {
    "duration": 8,
    "start_time": "2024-07-10T08:02:57.553Z"
   },
   {
    "duration": 9,
    "start_time": "2024-07-10T08:02:57.563Z"
   },
   {
    "duration": 515,
    "start_time": "2024-07-10T08:02:57.574Z"
   },
   {
    "duration": 149,
    "start_time": "2024-07-10T08:02:58.090Z"
   },
   {
    "duration": 4,
    "start_time": "2024-07-10T08:02:58.241Z"
   },
   {
    "duration": 157,
    "start_time": "2024-07-10T08:02:58.247Z"
   },
   {
    "duration": 239,
    "start_time": "2024-07-10T08:02:58.406Z"
   },
   {
    "duration": 153,
    "start_time": "2024-07-10T08:02:58.647Z"
   },
   {
    "duration": 158,
    "start_time": "2024-07-10T08:02:58.802Z"
   },
   {
    "duration": 159,
    "start_time": "2024-07-10T08:02:58.962Z"
   },
   {
    "duration": 155,
    "start_time": "2024-07-10T08:02:59.123Z"
   },
   {
    "duration": 160,
    "start_time": "2024-07-10T08:02:59.279Z"
   },
   {
    "duration": 150,
    "start_time": "2024-07-10T08:02:59.440Z"
   },
   {
    "duration": 29,
    "start_time": "2024-07-10T08:02:59.592Z"
   },
   {
    "duration": 147,
    "start_time": "2024-07-10T08:02:59.638Z"
   },
   {
    "duration": 729,
    "start_time": "2024-07-10T08:03:08.190Z"
   },
   {
    "duration": 15,
    "start_time": "2024-07-10T08:03:08.922Z"
   },
   {
    "duration": 28,
    "start_time": "2024-07-10T08:03:08.939Z"
   },
   {
    "duration": 1858,
    "start_time": "2024-07-10T08:03:08.969Z"
   },
   {
    "duration": 71,
    "start_time": "2024-07-10T08:03:10.828Z"
   },
   {
    "duration": 3,
    "start_time": "2024-07-10T08:03:10.901Z"
   },
   {
    "duration": 10,
    "start_time": "2024-07-10T08:03:10.905Z"
   },
   {
    "duration": 34,
    "start_time": "2024-07-10T08:03:10.916Z"
   },
   {
    "duration": 5,
    "start_time": "2024-07-10T08:03:10.951Z"
   },
   {
    "duration": 8,
    "start_time": "2024-07-10T08:03:10.958Z"
   },
   {
    "duration": 6,
    "start_time": "2024-07-10T08:03:10.967Z"
   },
   {
    "duration": 12,
    "start_time": "2024-07-10T08:03:10.974Z"
   },
   {
    "duration": 6,
    "start_time": "2024-07-10T08:03:10.988Z"
   },
   {
    "duration": 48,
    "start_time": "2024-07-10T08:03:10.995Z"
   },
   {
    "duration": 4,
    "start_time": "2024-07-10T08:03:11.044Z"
   },
   {
    "duration": 10,
    "start_time": "2024-07-10T08:03:11.050Z"
   },
   {
    "duration": 8,
    "start_time": "2024-07-10T08:03:11.062Z"
   },
   {
    "duration": 8,
    "start_time": "2024-07-10T08:03:11.071Z"
   },
   {
    "duration": 18,
    "start_time": "2024-07-10T08:03:11.081Z"
   },
   {
    "duration": 315,
    "start_time": "2024-07-10T08:03:11.100Z"
   },
   {
    "duration": 21,
    "start_time": "2024-07-10T08:03:11.417Z"
   },
   {
    "duration": 35,
    "start_time": "2024-07-10T08:03:11.439Z"
   },
   {
    "duration": 3189,
    "start_time": "2024-07-10T08:03:11.475Z"
   },
   {
    "duration": 5,
    "start_time": "2024-07-10T08:03:14.665Z"
   },
   {
    "duration": 11,
    "start_time": "2024-07-10T08:03:14.672Z"
   },
   {
    "duration": 10,
    "start_time": "2024-07-10T08:03:14.684Z"
   },
   {
    "duration": 3,
    "start_time": "2024-07-10T08:03:14.696Z"
   },
   {
    "duration": 4,
    "start_time": "2024-07-10T08:03:14.702Z"
   },
   {
    "duration": 87,
    "start_time": "2024-07-10T08:03:14.708Z"
   },
   {
    "duration": 8,
    "start_time": "2024-07-10T08:03:14.796Z"
   },
   {
    "duration": 4,
    "start_time": "2024-07-10T08:03:14.805Z"
   },
   {
    "duration": 49,
    "start_time": "2024-07-10T08:03:14.810Z"
   },
   {
    "duration": 3,
    "start_time": "2024-07-10T08:03:14.861Z"
   },
   {
    "duration": 268,
    "start_time": "2024-07-10T08:03:14.866Z"
   },
   {
    "duration": 20,
    "start_time": "2024-07-10T08:03:15.138Z"
   },
   {
    "duration": 366,
    "start_time": "2024-07-10T08:03:15.160Z"
   },
   {
    "duration": 406,
    "start_time": "2024-07-10T08:03:15.528Z"
   },
   {
    "duration": 321,
    "start_time": "2024-07-10T08:03:15.937Z"
   },
   {
    "duration": 359,
    "start_time": "2024-07-10T08:03:16.259Z"
   },
   {
    "duration": 361,
    "start_time": "2024-07-10T08:03:16.619Z"
   },
   {
    "duration": 367,
    "start_time": "2024-07-10T08:03:16.982Z"
   },
   {
    "duration": 180,
    "start_time": "2024-07-10T08:03:17.352Z"
   },
   {
    "duration": 431,
    "start_time": "2024-07-10T08:03:17.534Z"
   },
   {
    "duration": 305,
    "start_time": "2024-07-10T08:03:17.967Z"
   },
   {
    "duration": 324,
    "start_time": "2024-07-10T08:03:18.274Z"
   },
   {
    "duration": 9,
    "start_time": "2024-07-10T08:03:18.599Z"
   },
   {
    "duration": 9,
    "start_time": "2024-07-10T08:03:18.609Z"
   },
   {
    "duration": 495,
    "start_time": "2024-07-10T08:03:18.620Z"
   },
   {
    "duration": 151,
    "start_time": "2024-07-10T08:03:19.116Z"
   },
   {
    "duration": 6,
    "start_time": "2024-07-10T08:03:19.268Z"
   },
   {
    "duration": 174,
    "start_time": "2024-07-10T08:03:19.275Z"
   },
   {
    "duration": 264,
    "start_time": "2024-07-10T08:03:19.451Z"
   },
   {
    "duration": 158,
    "start_time": "2024-07-10T08:03:19.716Z"
   },
   {
    "duration": 151,
    "start_time": "2024-07-10T08:03:19.876Z"
   },
   {
    "duration": 156,
    "start_time": "2024-07-10T08:03:20.028Z"
   },
   {
    "duration": 152,
    "start_time": "2024-07-10T08:03:20.186Z"
   },
   {
    "duration": 141,
    "start_time": "2024-07-10T08:03:20.339Z"
   },
   {
    "duration": 146,
    "start_time": "2024-07-10T08:03:20.482Z"
   },
   {
    "duration": 35,
    "start_time": "2024-07-10T08:03:20.630Z"
   },
   {
    "duration": 179,
    "start_time": "2024-07-10T08:03:20.667Z"
   },
   {
    "duration": 1088,
    "start_time": "2024-07-10T08:48:06.661Z"
   },
   {
    "duration": 17,
    "start_time": "2024-07-10T08:48:07.751Z"
   },
   {
    "duration": 48,
    "start_time": "2024-07-10T08:48:07.769Z"
   },
   {
    "duration": 2121,
    "start_time": "2024-07-10T08:48:07.819Z"
   },
   {
    "duration": 91,
    "start_time": "2024-07-10T08:48:09.942Z"
   },
   {
    "duration": 3,
    "start_time": "2024-07-10T08:48:10.035Z"
   },
   {
    "duration": 45,
    "start_time": "2024-07-10T08:48:10.040Z"
   },
   {
    "duration": 36,
    "start_time": "2024-07-10T08:48:10.087Z"
   },
   {
    "duration": 3,
    "start_time": "2024-07-10T08:48:10.125Z"
   },
   {
    "duration": 19,
    "start_time": "2024-07-10T08:48:10.131Z"
   },
   {
    "duration": 7,
    "start_time": "2024-07-10T08:48:10.152Z"
   },
   {
    "duration": 27,
    "start_time": "2024-07-10T08:48:10.160Z"
   },
   {
    "duration": 37,
    "start_time": "2024-07-10T08:48:10.189Z"
   },
   {
    "duration": 56,
    "start_time": "2024-07-10T08:48:10.228Z"
   },
   {
    "duration": 27,
    "start_time": "2024-07-10T08:48:10.285Z"
   },
   {
    "duration": 42,
    "start_time": "2024-07-10T08:48:10.313Z"
   },
   {
    "duration": 24,
    "start_time": "2024-07-10T08:48:10.356Z"
   },
   {
    "duration": 14,
    "start_time": "2024-07-10T08:48:10.381Z"
   },
   {
    "duration": 33,
    "start_time": "2024-07-10T08:48:10.397Z"
   },
   {
    "duration": 343,
    "start_time": "2024-07-10T08:48:10.432Z"
   },
   {
    "duration": 22,
    "start_time": "2024-07-10T08:48:10.777Z"
   },
   {
    "duration": 70,
    "start_time": "2024-07-10T08:48:10.801Z"
   },
   {
    "duration": 3708,
    "start_time": "2024-07-10T08:48:10.873Z"
   },
   {
    "duration": 5,
    "start_time": "2024-07-10T08:48:14.583Z"
   },
   {
    "duration": 24,
    "start_time": "2024-07-10T08:48:14.589Z"
   },
   {
    "duration": 10,
    "start_time": "2024-07-10T08:48:14.615Z"
   },
   {
    "duration": 6,
    "start_time": "2024-07-10T08:48:14.626Z"
   },
   {
    "duration": 6,
    "start_time": "2024-07-10T08:48:14.637Z"
   },
   {
    "duration": 69,
    "start_time": "2024-07-10T08:48:14.645Z"
   },
   {
    "duration": 8,
    "start_time": "2024-07-10T08:48:14.715Z"
   },
   {
    "duration": 37,
    "start_time": "2024-07-10T08:48:14.725Z"
   },
   {
    "duration": 68,
    "start_time": "2024-07-10T08:48:14.764Z"
   },
   {
    "duration": 3,
    "start_time": "2024-07-10T08:48:14.834Z"
   },
   {
    "duration": 293,
    "start_time": "2024-07-10T08:48:14.839Z"
   },
   {
    "duration": 32,
    "start_time": "2024-07-10T08:48:15.133Z"
   },
   {
    "duration": 417,
    "start_time": "2024-07-10T08:48:15.168Z"
   },
   {
    "duration": 417,
    "start_time": "2024-07-10T08:48:15.587Z"
   },
   {
    "duration": 343,
    "start_time": "2024-07-10T08:48:16.006Z"
   },
   {
    "duration": 359,
    "start_time": "2024-07-10T08:48:16.350Z"
   },
   {
    "duration": 413,
    "start_time": "2024-07-10T08:48:16.711Z"
   },
   {
    "duration": 340,
    "start_time": "2024-07-10T08:48:17.125Z"
   },
   {
    "duration": 160,
    "start_time": "2024-07-10T08:48:17.466Z"
   },
   {
    "duration": 417,
    "start_time": "2024-07-10T08:48:17.628Z"
   },
   {
    "duration": 334,
    "start_time": "2024-07-10T08:48:18.048Z"
   },
   {
    "duration": 363,
    "start_time": "2024-07-10T08:48:18.384Z"
   },
   {
    "duration": 11,
    "start_time": "2024-07-10T08:48:18.749Z"
   },
   {
    "duration": 12,
    "start_time": "2024-07-10T08:48:18.762Z"
   },
   {
    "duration": 575,
    "start_time": "2024-07-10T08:48:18.775Z"
   },
   {
    "duration": 175,
    "start_time": "2024-07-10T08:48:19.352Z"
   },
   {
    "duration": 5,
    "start_time": "2024-07-10T08:48:19.528Z"
   },
   {
    "duration": 176,
    "start_time": "2024-07-10T08:48:19.535Z"
   },
   {
    "duration": 274,
    "start_time": "2024-07-10T08:48:19.713Z"
   },
   {
    "duration": 171,
    "start_time": "2024-07-10T08:48:19.989Z"
   },
   {
    "duration": 181,
    "start_time": "2024-07-10T08:48:20.161Z"
   },
   {
    "duration": 176,
    "start_time": "2024-07-10T08:48:20.344Z"
   },
   {
    "duration": 168,
    "start_time": "2024-07-10T08:48:20.522Z"
   },
   {
    "duration": 162,
    "start_time": "2024-07-10T08:48:20.692Z"
   },
   {
    "duration": 153,
    "start_time": "2024-07-10T08:48:20.856Z"
   },
   {
    "duration": 33,
    "start_time": "2024-07-10T08:48:21.011Z"
   },
   {
    "duration": 163,
    "start_time": "2024-07-10T08:48:21.045Z"
   },
   {
    "duration": 17,
    "start_time": "2024-07-10T08:48:39.557Z"
   },
   {
    "duration": 15,
    "start_time": "2024-07-10T08:48:43.989Z"
   },
   {
    "duration": 704,
    "start_time": "2024-07-10T08:49:03.027Z"
   },
   {
    "duration": 17,
    "start_time": "2024-07-10T08:49:03.733Z"
   },
   {
    "duration": 29,
    "start_time": "2024-07-10T08:49:05.016Z"
   },
   {
    "duration": 1977,
    "start_time": "2024-07-10T08:49:05.927Z"
   },
   {
    "duration": 3,
    "start_time": "2024-07-10T08:49:11.130Z"
   },
   {
    "duration": 9,
    "start_time": "2024-07-10T08:49:11.433Z"
   },
   {
    "duration": 93,
    "start_time": "2024-07-10T08:49:14.116Z"
   },
   {
    "duration": 14,
    "start_time": "2024-07-10T08:49:27.091Z"
   },
   {
    "duration": 739,
    "start_time": "2024-07-10T09:00:39.289Z"
   },
   {
    "duration": 16,
    "start_time": "2024-07-10T09:00:40.030Z"
   },
   {
    "duration": 46,
    "start_time": "2024-07-10T09:00:40.048Z"
   },
   {
    "duration": 1936,
    "start_time": "2024-07-10T09:00:40.096Z"
   },
   {
    "duration": 81,
    "start_time": "2024-07-10T09:00:42.035Z"
   },
   {
    "duration": 3,
    "start_time": "2024-07-10T09:00:42.117Z"
   },
   {
    "duration": 11,
    "start_time": "2024-07-10T09:00:42.121Z"
   },
   {
    "duration": 15,
    "start_time": "2024-07-10T09:00:42.134Z"
   },
   {
    "duration": 29,
    "start_time": "2024-07-10T09:00:42.165Z"
   },
   {
    "duration": 10,
    "start_time": "2024-07-10T09:00:42.195Z"
   },
   {
    "duration": 10,
    "start_time": "2024-07-10T09:00:42.206Z"
   },
   {
    "duration": 9,
    "start_time": "2024-07-10T09:00:42.217Z"
   },
   {
    "duration": 9,
    "start_time": "2024-07-10T09:00:42.227Z"
   },
   {
    "duration": 326,
    "start_time": "2024-07-10T09:00:42.265Z"
   },
   {
    "duration": 20,
    "start_time": "2024-07-10T09:00:42.593Z"
   },
   {
    "duration": 66,
    "start_time": "2024-07-10T09:00:42.614Z"
   },
   {
    "duration": 3328,
    "start_time": "2024-07-10T09:00:42.681Z"
   },
   {
    "duration": 5,
    "start_time": "2024-07-10T09:00:46.011Z"
   },
   {
    "duration": 37,
    "start_time": "2024-07-10T09:00:46.017Z"
   },
   {
    "duration": 46,
    "start_time": "2024-07-10T09:00:46.056Z"
   },
   {
    "duration": 16,
    "start_time": "2024-07-10T09:00:46.104Z"
   },
   {
    "duration": 5,
    "start_time": "2024-07-10T09:00:46.122Z"
   },
   {
    "duration": 69,
    "start_time": "2024-07-10T09:00:46.128Z"
   },
   {
    "duration": 9,
    "start_time": "2024-07-10T09:00:46.200Z"
   },
   {
    "duration": 6,
    "start_time": "2024-07-10T09:00:46.211Z"
   },
   {
    "duration": 59,
    "start_time": "2024-07-10T09:00:46.218Z"
   },
   {
    "duration": 4,
    "start_time": "2024-07-10T09:00:46.279Z"
   },
   {
    "duration": 310,
    "start_time": "2024-07-10T09:00:46.285Z"
   },
   {
    "duration": 23,
    "start_time": "2024-07-10T09:00:46.596Z"
   },
   {
    "duration": 407,
    "start_time": "2024-07-10T09:00:46.621Z"
   },
   {
    "duration": 416,
    "start_time": "2024-07-10T09:00:47.030Z"
   },
   {
    "duration": 344,
    "start_time": "2024-07-10T09:00:47.447Z"
   },
   {
    "duration": 339,
    "start_time": "2024-07-10T09:00:47.793Z"
   },
   {
    "duration": 382,
    "start_time": "2024-07-10T09:00:48.133Z"
   },
   {
    "duration": 380,
    "start_time": "2024-07-10T09:00:48.516Z"
   },
   {
    "duration": 163,
    "start_time": "2024-07-10T09:00:48.897Z"
   },
   {
    "duration": 370,
    "start_time": "2024-07-10T09:00:49.065Z"
   },
   {
    "duration": 309,
    "start_time": "2024-07-10T09:00:49.436Z"
   },
   {
    "duration": 339,
    "start_time": "2024-07-10T09:00:49.746Z"
   },
   {
    "duration": 10,
    "start_time": "2024-07-10T09:00:50.086Z"
   },
   {
    "duration": 10,
    "start_time": "2024-07-10T09:00:50.100Z"
   },
   {
    "duration": 520,
    "start_time": "2024-07-10T09:00:50.112Z"
   },
   {
    "duration": 156,
    "start_time": "2024-07-10T09:00:50.633Z"
   },
   {
    "duration": 5,
    "start_time": "2024-07-10T09:00:50.791Z"
   },
   {
    "duration": 170,
    "start_time": "2024-07-10T09:00:50.798Z"
   },
   {
    "duration": 260,
    "start_time": "2024-07-10T09:00:50.969Z"
   },
   {
    "duration": 169,
    "start_time": "2024-07-10T09:00:51.230Z"
   },
   {
    "duration": 155,
    "start_time": "2024-07-10T09:00:51.401Z"
   },
   {
    "duration": 174,
    "start_time": "2024-07-10T09:00:51.557Z"
   },
   {
    "duration": 174,
    "start_time": "2024-07-10T09:00:51.732Z"
   },
   {
    "duration": 164,
    "start_time": "2024-07-10T09:00:51.908Z"
   },
   {
    "duration": 162,
    "start_time": "2024-07-10T09:00:52.073Z"
   },
   {
    "duration": 38,
    "start_time": "2024-07-10T09:00:52.236Z"
   },
   {
    "duration": 168,
    "start_time": "2024-07-10T09:00:52.276Z"
   },
   {
    "duration": 11,
    "start_time": "2024-07-10T09:02:45.529Z"
   },
   {
    "duration": 505,
    "start_time": "2024-07-10T09:02:46.334Z"
   }
  ],
  "colab": {
   "provenance": []
  },
  "kernelspec": {
   "display_name": "Python 3 (ipykernel)",
   "language": "python",
   "name": "python3"
  },
  "language_info": {
   "codemirror_mode": {
    "name": "ipython",
    "version": 3
   },
   "file_extension": ".py",
   "mimetype": "text/x-python",
   "name": "python",
   "nbconvert_exporter": "python",
   "pygments_lexer": "ipython3",
   "version": "3.12.6"
  },
  "toc": {
   "base_numbering": 1,
   "nav_menu": {},
   "number_sections": true,
   "sideBar": true,
   "skip_h1_title": true,
   "title_cell": "Table of Contents",
   "title_sidebar": "Contents",
   "toc_cell": false,
   "toc_position": {},
   "toc_section_display": true,
   "toc_window_display": false
  }
 },
 "nbformat": 4,
 "nbformat_minor": 4
}
